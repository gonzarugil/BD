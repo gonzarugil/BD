{
 "cells": [
  {
   "cell_type": "markdown",
   "metadata": {
    "slideshow": {
     "slide_type": "slide"
    }
   },
   "source": [
    "<h1 align=\"center\"> Emotion Analysis in RSS News <h1>"
   ]
  },
  {
   "cell_type": "code",
   "execution_count": 1,
   "metadata": {
    "collapsed": false,
    "hide_input": false,
    "scrolled": true,
    "slideshow": {
     "slide_type": "skip"
    }
   },
   "outputs": [
    {
     "data": {
      "text/html": [
       "<script>\n",
       "code_show=true; \n",
       "function code_toggle() {\n",
       " if (code_show){\n",
       " $('div.input').hide();\n",
       " } else {\n",
       " $('div.input').show();\n",
       " }\n",
       " code_show = !code_show\n",
       "} \n",
       "$( document ).ready(code_toggle);\n",
       "</script>\n",
       "The raw code for this IPython notebook is by default hidden for easier reading.\n",
       "To toggle on/off the raw code, click <a href=\"javascript:code_toggle()\">here</a>."
      ],
      "text/plain": [
       "<IPython.core.display.HTML object>"
      ]
     },
     "execution_count": 1,
     "metadata": {},
     "output_type": "execute_result"
    }
   ],
   "source": [
    "%matplotlib notebook\n",
    "%config InlineBackend.close_figures = False\n",
    "import nb_interface\n",
    "import ipywidgets as widgets\n",
    "from ipywidgets import *\n",
    "from IPython.display import display\n",
    "from IPython.display import clear_output\n",
    "from IPython.display import Javascript\n",
    "import matplotlib.pyplot as plt\n",
    "from IPython.core.display import HTML\n",
    "\n",
    "fig_size = []\n",
    "fig_size.append(9)\n",
    "fig_size.append(5)\n",
    "plt.rcParams[\"figure.figsize\"] = fig_size\n",
    "\n",
    "def css_styling():\n",
    "    styles = open(\"custom.css\", \"r\").read() #or edit path to custom.css\n",
    "    return HTML(styles)\n",
    "css_styling()\n",
    "\n",
    "HTML('''<script>\n",
    "code_show=true; \n",
    "function code_toggle() {\n",
    " if (code_show){\n",
    " $('div.input').hide();\n",
    " } else {\n",
    " $('div.input').show();\n",
    " }\n",
    " code_show = !code_show\n",
    "} \n",
    "$( document ).ready(code_toggle);\n",
    "</script>\n",
    "The raw code for this IPython notebook is by default hidden for easier reading.\n",
    "To toggle on/off the raw code, click <a href=\"javascript:code_toggle()\">here</a>.''')"
   ]
  },
  {
   "cell_type": "markdown",
   "metadata": {},
   "source": [
    "<h2 align=\"center\"> Selection of the days interval for the analysis <h2>"
   ]
  },
  {
   "cell_type": "code",
   "execution_count": 2,
   "metadata": {
    "collapsed": false
   },
   "outputs": [],
   "source": [
    "daystart = None\n",
    "dayend = None\n",
    "dayinterval = nb_interface.makelast30days(nb_interface.dayslist)\n",
    "\n",
    "def setstart(start):\n",
    "    global daystart\n",
    "    daystart = start\n",
    "\n",
    "def setend(end):\n",
    "    global dayend\n",
    "    dayend = end\n",
    "\n",
    "choosestart = widgets.Select(options=nb_interface.dayslist,value=nb_interface.dayslist[len(nb_interface.dayslist)-31])\n",
    "chooseend = widgets.Select(options=nb_interface.dayslist,value=nb_interface.dayslist[len(nb_interface.dayslist)-1])\n",
    "choosestart.layout.width='100%'\n",
    "chooseend.layout.width='100%'\n",
    "\n",
    "i = widgets.interactive(setstart,start=choosestart)\n",
    "j = widgets.interactive(setend,end=chooseend)\n",
    "\n",
    "n = HBox([VBox([i]),VBox([j])])\n",
    "display(n)\n",
    "\n",
    "\n"
   ]
  },
  {
   "cell_type": "code",
   "execution_count": 29,
   "metadata": {
    "collapsed": false
   },
   "outputs": [
    {
     "name": "stdout",
     "output_type": "stream",
     "text": [
      "Selected interval: 2017 - 04 - 26 to 2017 - 05 - 15\n"
     ]
    }
   ],
   "source": [
    "def set_interval(sender):\n",
    "    global daystart,dayend,dayinterval\n",
    "    dayinterval = nb_interface.makedayinterval(daystart,dayend)\n",
    "    nb_interface.setdayinterval(dayinterval)\n",
    "    display(Javascript('IPython.notebook.execute_cells_below()'))\n",
    "    clear_output()\n",
    "    print(\"Selected interval: \"+ daystart +\" to \"+dayend)\n",
    "\n",
    "intervalbutton = widgets.Button(description='Save Interval')\n",
    "intervalbutton.layout.width='90%'\n",
    "intervalbutton.on_click(set_interval)\n",
    "display(intervalbutton)"
   ]
  },
  {
   "cell_type": "markdown",
   "metadata": {
    "slideshow": {
     "slide_type": "slide"
    }
   },
   "source": [
    "<h2 align=\"center\"> Selection of the terms of the search <h2>"
   ]
  },
  {
   "cell_type": "code",
   "execution_count": 36,
   "metadata": {
    "collapsed": false,
    "slideshow": {
     "slide_type": "subslide"
    }
   },
   "outputs": [
    {
     "data": {
      "application/javascript": [
       "IPython.notebook.execute_cells_below()"
      ],
      "text/plain": [
       "<IPython.core.display.Javascript object>"
      ]
     },
     "metadata": {},
     "output_type": "display_data"
    }
   ],
   "source": [
    "text = widgets.Text(placeholder=\"Insert the CED words separated by commas\")\n",
    "text.layout.width='100%'\n",
    "display(text)\n",
    "def handle_submit(sender):\n",
    "    clear_output()\n",
    "    newced = nb_interface.parseinput(text.value)\n",
    "    nb_interface.setcedwords(newced)\n",
    "    print (\"the new CED is: \"+ str(newced))\n",
    "    display(Javascript('IPython.notebook.execute_cells_below()'))\n",
    "\n",
    "text.on_submit(handle_submit)"
   ]
  },
  {
   "cell_type": "markdown",
   "metadata": {
    "slideshow": {
     "slide_type": "slide"
    }
   },
   "source": [
    "<h2 align=\"center\"> Emotion Graph <h2>"
   ]
  },
  {
   "cell_type": "code",
   "execution_count": 37,
   "metadata": {
    "collapsed": false,
    "hide_input": true,
    "scrolled": false,
    "slideshow": {
     "slide_type": "subslide"
    }
   },
   "outputs": [
    {
     "data": {
      "application/javascript": [
       "/* Put everything inside the global mpl namespace */\n",
       "window.mpl = {};\n",
       "\n",
       "mpl.get_websocket_type = function() {\n",
       "    if (typeof(WebSocket) !== 'undefined') {\n",
       "        return WebSocket;\n",
       "    } else if (typeof(MozWebSocket) !== 'undefined') {\n",
       "        return MozWebSocket;\n",
       "    } else {\n",
       "        alert('Your browser does not have WebSocket support.' +\n",
       "              'Please try Chrome, Safari or Firefox ≥ 6. ' +\n",
       "              'Firefox 4 and 5 are also supported but you ' +\n",
       "              'have to enable WebSockets in about:config.');\n",
       "    };\n",
       "}\n",
       "\n",
       "mpl.figure = function(figure_id, websocket, ondownload, parent_element) {\n",
       "    this.id = figure_id;\n",
       "\n",
       "    this.ws = websocket;\n",
       "\n",
       "    this.supports_binary = (this.ws.binaryType != undefined);\n",
       "\n",
       "    if (!this.supports_binary) {\n",
       "        var warnings = document.getElementById(\"mpl-warnings\");\n",
       "        if (warnings) {\n",
       "            warnings.style.display = 'block';\n",
       "            warnings.textContent = (\n",
       "                \"This browser does not support binary websocket messages. \" +\n",
       "                    \"Performance may be slow.\");\n",
       "        }\n",
       "    }\n",
       "\n",
       "    this.imageObj = new Image();\n",
       "\n",
       "    this.context = undefined;\n",
       "    this.message = undefined;\n",
       "    this.canvas = undefined;\n",
       "    this.rubberband_canvas = undefined;\n",
       "    this.rubberband_context = undefined;\n",
       "    this.format_dropdown = undefined;\n",
       "\n",
       "    this.image_mode = 'full';\n",
       "\n",
       "    this.root = $('<div/>');\n",
       "    this._root_extra_style(this.root)\n",
       "    this.root.attr('style', 'display: inline-block');\n",
       "\n",
       "    $(parent_element).append(this.root);\n",
       "\n",
       "    this._init_header(this);\n",
       "    this._init_canvas(this);\n",
       "    this._init_toolbar(this);\n",
       "\n",
       "    var fig = this;\n",
       "\n",
       "    this.waiting = false;\n",
       "\n",
       "    this.ws.onopen =  function () {\n",
       "            fig.send_message(\"supports_binary\", {value: fig.supports_binary});\n",
       "            fig.send_message(\"send_image_mode\", {});\n",
       "            fig.send_message(\"refresh\", {});\n",
       "        }\n",
       "\n",
       "    this.imageObj.onload = function() {\n",
       "            if (fig.image_mode == 'full') {\n",
       "                // Full images could contain transparency (where diff images\n",
       "                // almost always do), so we need to clear the canvas so that\n",
       "                // there is no ghosting.\n",
       "                fig.context.clearRect(0, 0, fig.canvas.width, fig.canvas.height);\n",
       "            }\n",
       "            fig.context.drawImage(fig.imageObj, 0, 0);\n",
       "        };\n",
       "\n",
       "    this.imageObj.onunload = function() {\n",
       "        this.ws.close();\n",
       "    }\n",
       "\n",
       "    this.ws.onmessage = this._make_on_message_function(this);\n",
       "\n",
       "    this.ondownload = ondownload;\n",
       "}\n",
       "\n",
       "mpl.figure.prototype._init_header = function() {\n",
       "    var titlebar = $(\n",
       "        '<div class=\"ui-dialog-titlebar ui-widget-header ui-corner-all ' +\n",
       "        'ui-helper-clearfix\"/>');\n",
       "    var titletext = $(\n",
       "        '<div class=\"ui-dialog-title\" style=\"width: 100%; ' +\n",
       "        'text-align: center; padding: 3px;\"/>');\n",
       "    titlebar.append(titletext)\n",
       "    this.root.append(titlebar);\n",
       "    this.header = titletext[0];\n",
       "}\n",
       "\n",
       "\n",
       "\n",
       "mpl.figure.prototype._canvas_extra_style = function(canvas_div) {\n",
       "\n",
       "}\n",
       "\n",
       "\n",
       "mpl.figure.prototype._root_extra_style = function(canvas_div) {\n",
       "\n",
       "}\n",
       "\n",
       "mpl.figure.prototype._init_canvas = function() {\n",
       "    var fig = this;\n",
       "\n",
       "    var canvas_div = $('<div/>');\n",
       "\n",
       "    canvas_div.attr('style', 'position: relative; clear: both; outline: 0');\n",
       "\n",
       "    function canvas_keyboard_event(event) {\n",
       "        return fig.key_event(event, event['data']);\n",
       "    }\n",
       "\n",
       "    canvas_div.keydown('key_press', canvas_keyboard_event);\n",
       "    canvas_div.keyup('key_release', canvas_keyboard_event);\n",
       "    this.canvas_div = canvas_div\n",
       "    this._canvas_extra_style(canvas_div)\n",
       "    this.root.append(canvas_div);\n",
       "\n",
       "    var canvas = $('<canvas/>');\n",
       "    canvas.addClass('mpl-canvas');\n",
       "    canvas.attr('style', \"left: 0; top: 0; z-index: 0; outline: 0\")\n",
       "\n",
       "    this.canvas = canvas[0];\n",
       "    this.context = canvas[0].getContext(\"2d\");\n",
       "\n",
       "    var rubberband = $('<canvas/>');\n",
       "    rubberband.attr('style', \"position: absolute; left: 0; top: 0; z-index: 1;\")\n",
       "\n",
       "    var pass_mouse_events = true;\n",
       "\n",
       "    canvas_div.resizable({\n",
       "        start: function(event, ui) {\n",
       "            pass_mouse_events = false;\n",
       "        },\n",
       "        resize: function(event, ui) {\n",
       "            fig.request_resize(ui.size.width, ui.size.height);\n",
       "        },\n",
       "        stop: function(event, ui) {\n",
       "            pass_mouse_events = true;\n",
       "            fig.request_resize(ui.size.width, ui.size.height);\n",
       "        },\n",
       "    });\n",
       "\n",
       "    function mouse_event_fn(event) {\n",
       "        if (pass_mouse_events)\n",
       "            return fig.mouse_event(event, event['data']);\n",
       "    }\n",
       "\n",
       "    rubberband.mousedown('button_press', mouse_event_fn);\n",
       "    rubberband.mouseup('button_release', mouse_event_fn);\n",
       "    // Throttle sequential mouse events to 1 every 20ms.\n",
       "    rubberband.mousemove('motion_notify', mouse_event_fn);\n",
       "\n",
       "    rubberband.mouseenter('figure_enter', mouse_event_fn);\n",
       "    rubberband.mouseleave('figure_leave', mouse_event_fn);\n",
       "\n",
       "    canvas_div.on(\"wheel\", function (event) {\n",
       "        event = event.originalEvent;\n",
       "        event['data'] = 'scroll'\n",
       "        if (event.deltaY < 0) {\n",
       "            event.step = 1;\n",
       "        } else {\n",
       "            event.step = -1;\n",
       "        }\n",
       "        mouse_event_fn(event);\n",
       "    });\n",
       "\n",
       "    canvas_div.append(canvas);\n",
       "    canvas_div.append(rubberband);\n",
       "\n",
       "    this.rubberband = rubberband;\n",
       "    this.rubberband_canvas = rubberband[0];\n",
       "    this.rubberband_context = rubberband[0].getContext(\"2d\");\n",
       "    this.rubberband_context.strokeStyle = \"#000000\";\n",
       "\n",
       "    this._resize_canvas = function(width, height) {\n",
       "        // Keep the size of the canvas, canvas container, and rubber band\n",
       "        // canvas in synch.\n",
       "        canvas_div.css('width', width)\n",
       "        canvas_div.css('height', height)\n",
       "\n",
       "        canvas.attr('width', width);\n",
       "        canvas.attr('height', height);\n",
       "\n",
       "        rubberband.attr('width', width);\n",
       "        rubberband.attr('height', height);\n",
       "    }\n",
       "\n",
       "    // Set the figure to an initial 600x600px, this will subsequently be updated\n",
       "    // upon first draw.\n",
       "    this._resize_canvas(600, 600);\n",
       "\n",
       "    // Disable right mouse context menu.\n",
       "    $(this.rubberband_canvas).bind(\"contextmenu\",function(e){\n",
       "        return false;\n",
       "    });\n",
       "\n",
       "    function set_focus () {\n",
       "        canvas.focus();\n",
       "        canvas_div.focus();\n",
       "    }\n",
       "\n",
       "    window.setTimeout(set_focus, 100);\n",
       "}\n",
       "\n",
       "mpl.figure.prototype._init_toolbar = function() {\n",
       "    var fig = this;\n",
       "\n",
       "    var nav_element = $('<div/>')\n",
       "    nav_element.attr('style', 'width: 100%');\n",
       "    this.root.append(nav_element);\n",
       "\n",
       "    // Define a callback function for later on.\n",
       "    function toolbar_event(event) {\n",
       "        return fig.toolbar_button_onclick(event['data']);\n",
       "    }\n",
       "    function toolbar_mouse_event(event) {\n",
       "        return fig.toolbar_button_onmouseover(event['data']);\n",
       "    }\n",
       "\n",
       "    for(var toolbar_ind in mpl.toolbar_items) {\n",
       "        var name = mpl.toolbar_items[toolbar_ind][0];\n",
       "        var tooltip = mpl.toolbar_items[toolbar_ind][1];\n",
       "        var image = mpl.toolbar_items[toolbar_ind][2];\n",
       "        var method_name = mpl.toolbar_items[toolbar_ind][3];\n",
       "\n",
       "        if (!name) {\n",
       "            // put a spacer in here.\n",
       "            continue;\n",
       "        }\n",
       "        var button = $('<button/>');\n",
       "        button.addClass('ui-button ui-widget ui-state-default ui-corner-all ' +\n",
       "                        'ui-button-icon-only');\n",
       "        button.attr('role', 'button');\n",
       "        button.attr('aria-disabled', 'false');\n",
       "        button.click(method_name, toolbar_event);\n",
       "        button.mouseover(tooltip, toolbar_mouse_event);\n",
       "\n",
       "        var icon_img = $('<span/>');\n",
       "        icon_img.addClass('ui-button-icon-primary ui-icon');\n",
       "        icon_img.addClass(image);\n",
       "        icon_img.addClass('ui-corner-all');\n",
       "\n",
       "        var tooltip_span = $('<span/>');\n",
       "        tooltip_span.addClass('ui-button-text');\n",
       "        tooltip_span.html(tooltip);\n",
       "\n",
       "        button.append(icon_img);\n",
       "        button.append(tooltip_span);\n",
       "\n",
       "        nav_element.append(button);\n",
       "    }\n",
       "\n",
       "    var fmt_picker_span = $('<span/>');\n",
       "\n",
       "    var fmt_picker = $('<select/>');\n",
       "    fmt_picker.addClass('mpl-toolbar-option ui-widget ui-widget-content');\n",
       "    fmt_picker_span.append(fmt_picker);\n",
       "    nav_element.append(fmt_picker_span);\n",
       "    this.format_dropdown = fmt_picker[0];\n",
       "\n",
       "    for (var ind in mpl.extensions) {\n",
       "        var fmt = mpl.extensions[ind];\n",
       "        var option = $(\n",
       "            '<option/>', {selected: fmt === mpl.default_extension}).html(fmt);\n",
       "        fmt_picker.append(option)\n",
       "    }\n",
       "\n",
       "    // Add hover states to the ui-buttons\n",
       "    $( \".ui-button\" ).hover(\n",
       "        function() { $(this).addClass(\"ui-state-hover\");},\n",
       "        function() { $(this).removeClass(\"ui-state-hover\");}\n",
       "    );\n",
       "\n",
       "    var status_bar = $('<span class=\"mpl-message\"/>');\n",
       "    nav_element.append(status_bar);\n",
       "    this.message = status_bar[0];\n",
       "}\n",
       "\n",
       "mpl.figure.prototype.request_resize = function(x_pixels, y_pixels) {\n",
       "    // Request matplotlib to resize the figure. Matplotlib will then trigger a resize in the client,\n",
       "    // which will in turn request a refresh of the image.\n",
       "    this.send_message('resize', {'width': x_pixels, 'height': y_pixels});\n",
       "}\n",
       "\n",
       "mpl.figure.prototype.send_message = function(type, properties) {\n",
       "    properties['type'] = type;\n",
       "    properties['figure_id'] = this.id;\n",
       "    this.ws.send(JSON.stringify(properties));\n",
       "}\n",
       "\n",
       "mpl.figure.prototype.send_draw_message = function() {\n",
       "    if (!this.waiting) {\n",
       "        this.waiting = true;\n",
       "        this.ws.send(JSON.stringify({type: \"draw\", figure_id: this.id}));\n",
       "    }\n",
       "}\n",
       "\n",
       "\n",
       "mpl.figure.prototype.handle_save = function(fig, msg) {\n",
       "    var format_dropdown = fig.format_dropdown;\n",
       "    var format = format_dropdown.options[format_dropdown.selectedIndex].value;\n",
       "    fig.ondownload(fig, format);\n",
       "}\n",
       "\n",
       "\n",
       "mpl.figure.prototype.handle_resize = function(fig, msg) {\n",
       "    var size = msg['size'];\n",
       "    if (size[0] != fig.canvas.width || size[1] != fig.canvas.height) {\n",
       "        fig._resize_canvas(size[0], size[1]);\n",
       "        fig.send_message(\"refresh\", {});\n",
       "    };\n",
       "}\n",
       "\n",
       "mpl.figure.prototype.handle_rubberband = function(fig, msg) {\n",
       "    var x0 = msg['x0'];\n",
       "    var y0 = fig.canvas.height - msg['y0'];\n",
       "    var x1 = msg['x1'];\n",
       "    var y1 = fig.canvas.height - msg['y1'];\n",
       "    x0 = Math.floor(x0) + 0.5;\n",
       "    y0 = Math.floor(y0) + 0.5;\n",
       "    x1 = Math.floor(x1) + 0.5;\n",
       "    y1 = Math.floor(y1) + 0.5;\n",
       "    var min_x = Math.min(x0, x1);\n",
       "    var min_y = Math.min(y0, y1);\n",
       "    var width = Math.abs(x1 - x0);\n",
       "    var height = Math.abs(y1 - y0);\n",
       "\n",
       "    fig.rubberband_context.clearRect(\n",
       "        0, 0, fig.canvas.width, fig.canvas.height);\n",
       "\n",
       "    fig.rubberband_context.strokeRect(min_x, min_y, width, height);\n",
       "}\n",
       "\n",
       "mpl.figure.prototype.handle_figure_label = function(fig, msg) {\n",
       "    // Updates the figure title.\n",
       "    fig.header.textContent = msg['label'];\n",
       "}\n",
       "\n",
       "mpl.figure.prototype.handle_cursor = function(fig, msg) {\n",
       "    var cursor = msg['cursor'];\n",
       "    switch(cursor)\n",
       "    {\n",
       "    case 0:\n",
       "        cursor = 'pointer';\n",
       "        break;\n",
       "    case 1:\n",
       "        cursor = 'default';\n",
       "        break;\n",
       "    case 2:\n",
       "        cursor = 'crosshair';\n",
       "        break;\n",
       "    case 3:\n",
       "        cursor = 'move';\n",
       "        break;\n",
       "    }\n",
       "    fig.rubberband_canvas.style.cursor = cursor;\n",
       "}\n",
       "\n",
       "mpl.figure.prototype.handle_message = function(fig, msg) {\n",
       "    fig.message.textContent = msg['message'];\n",
       "}\n",
       "\n",
       "mpl.figure.prototype.handle_draw = function(fig, msg) {\n",
       "    // Request the server to send over a new figure.\n",
       "    fig.send_draw_message();\n",
       "}\n",
       "\n",
       "mpl.figure.prototype.handle_image_mode = function(fig, msg) {\n",
       "    fig.image_mode = msg['mode'];\n",
       "}\n",
       "\n",
       "mpl.figure.prototype.updated_canvas_event = function() {\n",
       "    // Called whenever the canvas gets updated.\n",
       "    this.send_message(\"ack\", {});\n",
       "}\n",
       "\n",
       "// A function to construct a web socket function for onmessage handling.\n",
       "// Called in the figure constructor.\n",
       "mpl.figure.prototype._make_on_message_function = function(fig) {\n",
       "    return function socket_on_message(evt) {\n",
       "        if (evt.data instanceof Blob) {\n",
       "            /* FIXME: We get \"Resource interpreted as Image but\n",
       "             * transferred with MIME type text/plain:\" errors on\n",
       "             * Chrome.  But how to set the MIME type?  It doesn't seem\n",
       "             * to be part of the websocket stream */\n",
       "            evt.data.type = \"image/png\";\n",
       "\n",
       "            /* Free the memory for the previous frames */\n",
       "            if (fig.imageObj.src) {\n",
       "                (window.URL || window.webkitURL).revokeObjectURL(\n",
       "                    fig.imageObj.src);\n",
       "            }\n",
       "\n",
       "            fig.imageObj.src = (window.URL || window.webkitURL).createObjectURL(\n",
       "                evt.data);\n",
       "            fig.updated_canvas_event();\n",
       "            fig.waiting = false;\n",
       "            return;\n",
       "        }\n",
       "        else if (typeof evt.data === 'string' && evt.data.slice(0, 21) == \"data:image/png;base64\") {\n",
       "            fig.imageObj.src = evt.data;\n",
       "            fig.updated_canvas_event();\n",
       "            fig.waiting = false;\n",
       "            return;\n",
       "        }\n",
       "\n",
       "        var msg = JSON.parse(evt.data);\n",
       "        var msg_type = msg['type'];\n",
       "\n",
       "        // Call the  \"handle_{type}\" callback, which takes\n",
       "        // the figure and JSON message as its only arguments.\n",
       "        try {\n",
       "            var callback = fig[\"handle_\" + msg_type];\n",
       "        } catch (e) {\n",
       "            console.log(\"No handler for the '\" + msg_type + \"' message type: \", msg);\n",
       "            return;\n",
       "        }\n",
       "\n",
       "        if (callback) {\n",
       "            try {\n",
       "                // console.log(\"Handling '\" + msg_type + \"' message: \", msg);\n",
       "                callback(fig, msg);\n",
       "            } catch (e) {\n",
       "                console.log(\"Exception inside the 'handler_\" + msg_type + \"' callback:\", e, e.stack, msg);\n",
       "            }\n",
       "        }\n",
       "    };\n",
       "}\n",
       "\n",
       "// from http://stackoverflow.com/questions/1114465/getting-mouse-location-in-canvas\n",
       "mpl.findpos = function(e) {\n",
       "    //this section is from http://www.quirksmode.org/js/events_properties.html\n",
       "    var targ;\n",
       "    if (!e)\n",
       "        e = window.event;\n",
       "    if (e.target)\n",
       "        targ = e.target;\n",
       "    else if (e.srcElement)\n",
       "        targ = e.srcElement;\n",
       "    if (targ.nodeType == 3) // defeat Safari bug\n",
       "        targ = targ.parentNode;\n",
       "\n",
       "    // jQuery normalizes the pageX and pageY\n",
       "    // pageX,Y are the mouse positions relative to the document\n",
       "    // offset() returns the position of the element relative to the document\n",
       "    var x = e.pageX - $(targ).offset().left;\n",
       "    var y = e.pageY - $(targ).offset().top;\n",
       "\n",
       "    return {\"x\": x, \"y\": y};\n",
       "};\n",
       "\n",
       "/*\n",
       " * return a copy of an object with only non-object keys\n",
       " * we need this to avoid circular references\n",
       " * http://stackoverflow.com/a/24161582/3208463\n",
       " */\n",
       "function simpleKeys (original) {\n",
       "  return Object.keys(original).reduce(function (obj, key) {\n",
       "    if (typeof original[key] !== 'object')\n",
       "        obj[key] = original[key]\n",
       "    return obj;\n",
       "  }, {});\n",
       "}\n",
       "\n",
       "mpl.figure.prototype.mouse_event = function(event, name) {\n",
       "    var canvas_pos = mpl.findpos(event)\n",
       "\n",
       "    if (name === 'button_press')\n",
       "    {\n",
       "        this.canvas.focus();\n",
       "        this.canvas_div.focus();\n",
       "    }\n",
       "\n",
       "    var x = canvas_pos.x;\n",
       "    var y = canvas_pos.y;\n",
       "\n",
       "    this.send_message(name, {x: x, y: y, button: event.button,\n",
       "                             step: event.step,\n",
       "                             guiEvent: simpleKeys(event)});\n",
       "\n",
       "    /* This prevents the web browser from automatically changing to\n",
       "     * the text insertion cursor when the button is pressed.  We want\n",
       "     * to control all of the cursor setting manually through the\n",
       "     * 'cursor' event from matplotlib */\n",
       "    event.preventDefault();\n",
       "    return false;\n",
       "}\n",
       "\n",
       "mpl.figure.prototype._key_event_extra = function(event, name) {\n",
       "    // Handle any extra behaviour associated with a key event\n",
       "}\n",
       "\n",
       "mpl.figure.prototype.key_event = function(event, name) {\n",
       "\n",
       "    // Prevent repeat events\n",
       "    if (name == 'key_press')\n",
       "    {\n",
       "        if (event.which === this._key)\n",
       "            return;\n",
       "        else\n",
       "            this._key = event.which;\n",
       "    }\n",
       "    if (name == 'key_release')\n",
       "        this._key = null;\n",
       "\n",
       "    var value = '';\n",
       "    if (event.ctrlKey && event.which != 17)\n",
       "        value += \"ctrl+\";\n",
       "    if (event.altKey && event.which != 18)\n",
       "        value += \"alt+\";\n",
       "    if (event.shiftKey && event.which != 16)\n",
       "        value += \"shift+\";\n",
       "\n",
       "    value += 'k';\n",
       "    value += event.which.toString();\n",
       "\n",
       "    this._key_event_extra(event, name);\n",
       "\n",
       "    this.send_message(name, {key: value,\n",
       "                             guiEvent: simpleKeys(event)});\n",
       "    return false;\n",
       "}\n",
       "\n",
       "mpl.figure.prototype.toolbar_button_onclick = function(name) {\n",
       "    if (name == 'download') {\n",
       "        this.handle_save(this, null);\n",
       "    } else {\n",
       "        this.send_message(\"toolbar_button\", {name: name});\n",
       "    }\n",
       "};\n",
       "\n",
       "mpl.figure.prototype.toolbar_button_onmouseover = function(tooltip) {\n",
       "    this.message.textContent = tooltip;\n",
       "};\n",
       "mpl.toolbar_items = [[\"Home\", \"Reset original view\", \"fa fa-home icon-home\", \"home\"], [\"Back\", \"Back to  previous view\", \"fa fa-arrow-left icon-arrow-left\", \"back\"], [\"Forward\", \"Forward to next view\", \"fa fa-arrow-right icon-arrow-right\", \"forward\"], [\"\", \"\", \"\", \"\"], [\"Pan\", \"Pan axes with left mouse, zoom with right\", \"fa fa-arrows icon-move\", \"pan\"], [\"Zoom\", \"Zoom to rectangle\", \"fa fa-square-o icon-check-empty\", \"zoom\"], [\"\", \"\", \"\", \"\"], [\"Download\", \"Download plot\", \"fa fa-floppy-o icon-save\", \"download\"]];\n",
       "\n",
       "mpl.extensions = [\"eps\", \"pdf\", \"png\", \"ps\", \"raw\", \"svg\"];\n",
       "\n",
       "mpl.default_extension = \"png\";var comm_websocket_adapter = function(comm) {\n",
       "    // Create a \"websocket\"-like object which calls the given IPython comm\n",
       "    // object with the appropriate methods. Currently this is a non binary\n",
       "    // socket, so there is still some room for performance tuning.\n",
       "    var ws = {};\n",
       "\n",
       "    ws.close = function() {\n",
       "        comm.close()\n",
       "    };\n",
       "    ws.send = function(m) {\n",
       "        //console.log('sending', m);\n",
       "        comm.send(m);\n",
       "    };\n",
       "    // Register the callback with on_msg.\n",
       "    comm.on_msg(function(msg) {\n",
       "        //console.log('receiving', msg['content']['data'], msg);\n",
       "        // Pass the mpl event to the overriden (by mpl) onmessage function.\n",
       "        ws.onmessage(msg['content']['data'])\n",
       "    });\n",
       "    return ws;\n",
       "}\n",
       "\n",
       "mpl.mpl_figure_comm = function(comm, msg) {\n",
       "    // This is the function which gets called when the mpl process\n",
       "    // starts-up an IPython Comm through the \"matplotlib\" channel.\n",
       "\n",
       "    var id = msg.content.data.id;\n",
       "    // Get hold of the div created by the display call when the Comm\n",
       "    // socket was opened in Python.\n",
       "    var element = $(\"#\" + id);\n",
       "    var ws_proxy = comm_websocket_adapter(comm)\n",
       "\n",
       "    function ondownload(figure, format) {\n",
       "        window.open(figure.imageObj.src);\n",
       "    }\n",
       "\n",
       "    var fig = new mpl.figure(id, ws_proxy,\n",
       "                           ondownload,\n",
       "                           element.get(0));\n",
       "\n",
       "    // Call onopen now - mpl needs it, as it is assuming we've passed it a real\n",
       "    // web socket which is closed, not our websocket->open comm proxy.\n",
       "    ws_proxy.onopen();\n",
       "\n",
       "    fig.parent_element = element.get(0);\n",
       "    fig.cell_info = mpl.find_output_cell(\"<div id='\" + id + \"'></div>\");\n",
       "    if (!fig.cell_info) {\n",
       "        console.error(\"Failed to find cell for figure\", id, fig);\n",
       "        return;\n",
       "    }\n",
       "\n",
       "    var output_index = fig.cell_info[2]\n",
       "    var cell = fig.cell_info[0];\n",
       "\n",
       "};\n",
       "\n",
       "mpl.figure.prototype.handle_close = function(fig, msg) {\n",
       "    fig.root.unbind('remove')\n",
       "\n",
       "    // Update the output cell to use the data from the current canvas.\n",
       "    fig.push_to_output();\n",
       "    var dataURL = fig.canvas.toDataURL();\n",
       "    // Re-enable the keyboard manager in IPython - without this line, in FF,\n",
       "    // the notebook keyboard shortcuts fail.\n",
       "    IPython.keyboard_manager.enable()\n",
       "    $(fig.parent_element).html('<img src=\"' + dataURL + '\">');\n",
       "    fig.close_ws(fig, msg);\n",
       "}\n",
       "\n",
       "mpl.figure.prototype.close_ws = function(fig, msg){\n",
       "    fig.send_message('closing', msg);\n",
       "    // fig.ws.close()\n",
       "}\n",
       "\n",
       "mpl.figure.prototype.push_to_output = function(remove_interactive) {\n",
       "    // Turn the data on the canvas into data in the output cell.\n",
       "    var dataURL = this.canvas.toDataURL();\n",
       "    this.cell_info[1]['text/html'] = '<img src=\"' + dataURL + '\">';\n",
       "}\n",
       "\n",
       "mpl.figure.prototype.updated_canvas_event = function() {\n",
       "    // Tell IPython that the notebook contents must change.\n",
       "    IPython.notebook.set_dirty(true);\n",
       "    this.send_message(\"ack\", {});\n",
       "    var fig = this;\n",
       "    // Wait a second, then push the new image to the DOM so\n",
       "    // that it is saved nicely (might be nice to debounce this).\n",
       "    setTimeout(function () { fig.push_to_output() }, 1000);\n",
       "}\n",
       "\n",
       "mpl.figure.prototype._init_toolbar = function() {\n",
       "    var fig = this;\n",
       "\n",
       "    var nav_element = $('<div/>')\n",
       "    nav_element.attr('style', 'width: 100%');\n",
       "    this.root.append(nav_element);\n",
       "\n",
       "    // Define a callback function for later on.\n",
       "    function toolbar_event(event) {\n",
       "        return fig.toolbar_button_onclick(event['data']);\n",
       "    }\n",
       "    function toolbar_mouse_event(event) {\n",
       "        return fig.toolbar_button_onmouseover(event['data']);\n",
       "    }\n",
       "\n",
       "    for(var toolbar_ind in mpl.toolbar_items){\n",
       "        var name = mpl.toolbar_items[toolbar_ind][0];\n",
       "        var tooltip = mpl.toolbar_items[toolbar_ind][1];\n",
       "        var image = mpl.toolbar_items[toolbar_ind][2];\n",
       "        var method_name = mpl.toolbar_items[toolbar_ind][3];\n",
       "\n",
       "        if (!name) { continue; };\n",
       "\n",
       "        var button = $('<button class=\"btn btn-default\" href=\"#\" title=\"' + name + '\"><i class=\"fa ' + image + ' fa-lg\"></i></button>');\n",
       "        button.click(method_name, toolbar_event);\n",
       "        button.mouseover(tooltip, toolbar_mouse_event);\n",
       "        nav_element.append(button);\n",
       "    }\n",
       "\n",
       "    // Add the status bar.\n",
       "    var status_bar = $('<span class=\"mpl-message\" style=\"text-align:right; float: right;\"/>');\n",
       "    nav_element.append(status_bar);\n",
       "    this.message = status_bar[0];\n",
       "\n",
       "    // Add the close button to the window.\n",
       "    var buttongrp = $('<div class=\"btn-group inline pull-right\"></div>');\n",
       "    var button = $('<button class=\"btn btn-mini btn-primary\" href=\"#\" title=\"Stop Interaction\"><i class=\"fa fa-power-off icon-remove icon-large\"></i></button>');\n",
       "    button.click(function (evt) { fig.handle_close(fig, {}); } );\n",
       "    button.mouseover('Stop Interaction', toolbar_mouse_event);\n",
       "    buttongrp.append(button);\n",
       "    var titlebar = this.root.find($('.ui-dialog-titlebar'));\n",
       "    titlebar.prepend(buttongrp);\n",
       "}\n",
       "\n",
       "mpl.figure.prototype._root_extra_style = function(el){\n",
       "    var fig = this\n",
       "    el.on(\"remove\", function(){\n",
       "\tfig.close_ws(fig, {});\n",
       "    });\n",
       "}\n",
       "\n",
       "mpl.figure.prototype._canvas_extra_style = function(el){\n",
       "    // this is important to make the div 'focusable\n",
       "    el.attr('tabindex', 0)\n",
       "    // reach out to IPython and tell the keyboard manager to turn it's self\n",
       "    // off when our div gets focus\n",
       "\n",
       "    // location in version 3\n",
       "    if (IPython.notebook.keyboard_manager) {\n",
       "        IPython.notebook.keyboard_manager.register_events(el);\n",
       "    }\n",
       "    else {\n",
       "        // location in version 2\n",
       "        IPython.keyboard_manager.register_events(el);\n",
       "    }\n",
       "\n",
       "}\n",
       "\n",
       "mpl.figure.prototype._key_event_extra = function(event, name) {\n",
       "    var manager = IPython.notebook.keyboard_manager;\n",
       "    if (!manager)\n",
       "        manager = IPython.keyboard_manager;\n",
       "\n",
       "    // Check for shift+enter\n",
       "    if (event.shiftKey && event.which == 13) {\n",
       "        this.canvas_div.blur();\n",
       "        event.shiftKey = false;\n",
       "        // Send a \"J\" for go to next cell\n",
       "        event.which = 74;\n",
       "        event.keyCode = 74;\n",
       "        manager.command_mode();\n",
       "        manager.handle_keydown(event);\n",
       "    }\n",
       "}\n",
       "\n",
       "mpl.figure.prototype.handle_save = function(fig, msg) {\n",
       "    fig.ondownload(fig, null);\n",
       "}\n",
       "\n",
       "\n",
       "mpl.find_output_cell = function(html_output) {\n",
       "    // Return the cell and output element which can be found *uniquely* in the notebook.\n",
       "    // Note - this is a bit hacky, but it is done because the \"notebook_saving.Notebook\"\n",
       "    // IPython event is triggered only after the cells have been serialised, which for\n",
       "    // our purposes (turning an active figure into a static one), is too late.\n",
       "    var cells = IPython.notebook.get_cells();\n",
       "    var ncells = cells.length;\n",
       "    for (var i=0; i<ncells; i++) {\n",
       "        var cell = cells[i];\n",
       "        if (cell.cell_type === 'code'){\n",
       "            for (var j=0; j<cell.output_area.outputs.length; j++) {\n",
       "                var data = cell.output_area.outputs[j];\n",
       "                if (data.data) {\n",
       "                    // IPython >= 3 moved mimebundle to data attribute of output\n",
       "                    data = data.data;\n",
       "                }\n",
       "                if (data['text/html'] == html_output) {\n",
       "                    return [cell, data, j];\n",
       "                }\n",
       "            }\n",
       "        }\n",
       "    }\n",
       "}\n",
       "\n",
       "// Register the function which deals with the matplotlib target/channel.\n",
       "// The kernel may be null if the page has been refreshed.\n",
       "if (IPython.notebook.kernel != null) {\n",
       "    IPython.notebook.kernel.comm_manager.register_target('matplotlib', mpl.mpl_figure_comm);\n",
       "}\n"
      ],
      "text/plain": [
       "<IPython.core.display.Javascript object>"
      ]
     },
     "metadata": {},
     "output_type": "display_data"
    },
    {
     "data": {
      "text/html": [
       "<img src=\"data:image/png;base64,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\">"
      ],
      "text/plain": [
       "<IPython.core.display.HTML object>"
      ]
     },
     "metadata": {},
     "output_type": "display_data"
    }
   ],
   "source": [
    "e = 0.5\n",
    "emfig = plt.figure(\"Emotions\")\n",
    "\n",
    "def g(Epsilon):\n",
    "    global e\n",
    "    e = Epsilon\n",
    "    \n",
    "def on_button_clicked(b):\n",
    "    global e\n",
    "    nb_interface.EmotionAnalysis(e,emfig)"
   ]
  },
  {
   "cell_type": "code",
   "execution_count": 38,
   "metadata": {
    "collapsed": false,
    "slideshow": {
     "slide_type": "slide"
    }
   },
   "outputs": [],
   "source": [
    "b = interact(g,Epsilon = FloatSlider(min=0,max=1,step=0.001,width='100%',value=0.5))\n",
    "button = widgets.Button(description = \"DRAW!\")\n",
    "display(button)\n",
    "button.on_click(on_button_clicked)"
   ]
  },
  {
   "cell_type": "markdown",
   "metadata": {
    "hide_input": true,
    "slideshow": {
     "slide_type": "slide"
    }
   },
   "source": [
    "<h2 align=\"center\"> Relationship Graph <h2>"
   ]
  },
  {
   "cell_type": "code",
   "execution_count": 39,
   "metadata": {
    "collapsed": false,
    "hide_input": false,
    "slideshow": {
     "slide_type": "slide"
    }
   },
   "outputs": [
    {
     "data": {
      "application/javascript": [
       "/* Put everything inside the global mpl namespace */\n",
       "window.mpl = {};\n",
       "\n",
       "mpl.get_websocket_type = function() {\n",
       "    if (typeof(WebSocket) !== 'undefined') {\n",
       "        return WebSocket;\n",
       "    } else if (typeof(MozWebSocket) !== 'undefined') {\n",
       "        return MozWebSocket;\n",
       "    } else {\n",
       "        alert('Your browser does not have WebSocket support.' +\n",
       "              'Please try Chrome, Safari or Firefox ≥ 6. ' +\n",
       "              'Firefox 4 and 5 are also supported but you ' +\n",
       "              'have to enable WebSockets in about:config.');\n",
       "    };\n",
       "}\n",
       "\n",
       "mpl.figure = function(figure_id, websocket, ondownload, parent_element) {\n",
       "    this.id = figure_id;\n",
       "\n",
       "    this.ws = websocket;\n",
       "\n",
       "    this.supports_binary = (this.ws.binaryType != undefined);\n",
       "\n",
       "    if (!this.supports_binary) {\n",
       "        var warnings = document.getElementById(\"mpl-warnings\");\n",
       "        if (warnings) {\n",
       "            warnings.style.display = 'block';\n",
       "            warnings.textContent = (\n",
       "                \"This browser does not support binary websocket messages. \" +\n",
       "                    \"Performance may be slow.\");\n",
       "        }\n",
       "    }\n",
       "\n",
       "    this.imageObj = new Image();\n",
       "\n",
       "    this.context = undefined;\n",
       "    this.message = undefined;\n",
       "    this.canvas = undefined;\n",
       "    this.rubberband_canvas = undefined;\n",
       "    this.rubberband_context = undefined;\n",
       "    this.format_dropdown = undefined;\n",
       "\n",
       "    this.image_mode = 'full';\n",
       "\n",
       "    this.root = $('<div/>');\n",
       "    this._root_extra_style(this.root)\n",
       "    this.root.attr('style', 'display: inline-block');\n",
       "\n",
       "    $(parent_element).append(this.root);\n",
       "\n",
       "    this._init_header(this);\n",
       "    this._init_canvas(this);\n",
       "    this._init_toolbar(this);\n",
       "\n",
       "    var fig = this;\n",
       "\n",
       "    this.waiting = false;\n",
       "\n",
       "    this.ws.onopen =  function () {\n",
       "            fig.send_message(\"supports_binary\", {value: fig.supports_binary});\n",
       "            fig.send_message(\"send_image_mode\", {});\n",
       "            fig.send_message(\"refresh\", {});\n",
       "        }\n",
       "\n",
       "    this.imageObj.onload = function() {\n",
       "            if (fig.image_mode == 'full') {\n",
       "                // Full images could contain transparency (where diff images\n",
       "                // almost always do), so we need to clear the canvas so that\n",
       "                // there is no ghosting.\n",
       "                fig.context.clearRect(0, 0, fig.canvas.width, fig.canvas.height);\n",
       "            }\n",
       "            fig.context.drawImage(fig.imageObj, 0, 0);\n",
       "        };\n",
       "\n",
       "    this.imageObj.onunload = function() {\n",
       "        this.ws.close();\n",
       "    }\n",
       "\n",
       "    this.ws.onmessage = this._make_on_message_function(this);\n",
       "\n",
       "    this.ondownload = ondownload;\n",
       "}\n",
       "\n",
       "mpl.figure.prototype._init_header = function() {\n",
       "    var titlebar = $(\n",
       "        '<div class=\"ui-dialog-titlebar ui-widget-header ui-corner-all ' +\n",
       "        'ui-helper-clearfix\"/>');\n",
       "    var titletext = $(\n",
       "        '<div class=\"ui-dialog-title\" style=\"width: 100%; ' +\n",
       "        'text-align: center; padding: 3px;\"/>');\n",
       "    titlebar.append(titletext)\n",
       "    this.root.append(titlebar);\n",
       "    this.header = titletext[0];\n",
       "}\n",
       "\n",
       "\n",
       "\n",
       "mpl.figure.prototype._canvas_extra_style = function(canvas_div) {\n",
       "\n",
       "}\n",
       "\n",
       "\n",
       "mpl.figure.prototype._root_extra_style = function(canvas_div) {\n",
       "\n",
       "}\n",
       "\n",
       "mpl.figure.prototype._init_canvas = function() {\n",
       "    var fig = this;\n",
       "\n",
       "    var canvas_div = $('<div/>');\n",
       "\n",
       "    canvas_div.attr('style', 'position: relative; clear: both; outline: 0');\n",
       "\n",
       "    function canvas_keyboard_event(event) {\n",
       "        return fig.key_event(event, event['data']);\n",
       "    }\n",
       "\n",
       "    canvas_div.keydown('key_press', canvas_keyboard_event);\n",
       "    canvas_div.keyup('key_release', canvas_keyboard_event);\n",
       "    this.canvas_div = canvas_div\n",
       "    this._canvas_extra_style(canvas_div)\n",
       "    this.root.append(canvas_div);\n",
       "\n",
       "    var canvas = $('<canvas/>');\n",
       "    canvas.addClass('mpl-canvas');\n",
       "    canvas.attr('style', \"left: 0; top: 0; z-index: 0; outline: 0\")\n",
       "\n",
       "    this.canvas = canvas[0];\n",
       "    this.context = canvas[0].getContext(\"2d\");\n",
       "\n",
       "    var rubberband = $('<canvas/>');\n",
       "    rubberband.attr('style', \"position: absolute; left: 0; top: 0; z-index: 1;\")\n",
       "\n",
       "    var pass_mouse_events = true;\n",
       "\n",
       "    canvas_div.resizable({\n",
       "        start: function(event, ui) {\n",
       "            pass_mouse_events = false;\n",
       "        },\n",
       "        resize: function(event, ui) {\n",
       "            fig.request_resize(ui.size.width, ui.size.height);\n",
       "        },\n",
       "        stop: function(event, ui) {\n",
       "            pass_mouse_events = true;\n",
       "            fig.request_resize(ui.size.width, ui.size.height);\n",
       "        },\n",
       "    });\n",
       "\n",
       "    function mouse_event_fn(event) {\n",
       "        if (pass_mouse_events)\n",
       "            return fig.mouse_event(event, event['data']);\n",
       "    }\n",
       "\n",
       "    rubberband.mousedown('button_press', mouse_event_fn);\n",
       "    rubberband.mouseup('button_release', mouse_event_fn);\n",
       "    // Throttle sequential mouse events to 1 every 20ms.\n",
       "    rubberband.mousemove('motion_notify', mouse_event_fn);\n",
       "\n",
       "    rubberband.mouseenter('figure_enter', mouse_event_fn);\n",
       "    rubberband.mouseleave('figure_leave', mouse_event_fn);\n",
       "\n",
       "    canvas_div.on(\"wheel\", function (event) {\n",
       "        event = event.originalEvent;\n",
       "        event['data'] = 'scroll'\n",
       "        if (event.deltaY < 0) {\n",
       "            event.step = 1;\n",
       "        } else {\n",
       "            event.step = -1;\n",
       "        }\n",
       "        mouse_event_fn(event);\n",
       "    });\n",
       "\n",
       "    canvas_div.append(canvas);\n",
       "    canvas_div.append(rubberband);\n",
       "\n",
       "    this.rubberband = rubberband;\n",
       "    this.rubberband_canvas = rubberband[0];\n",
       "    this.rubberband_context = rubberband[0].getContext(\"2d\");\n",
       "    this.rubberband_context.strokeStyle = \"#000000\";\n",
       "\n",
       "    this._resize_canvas = function(width, height) {\n",
       "        // Keep the size of the canvas, canvas container, and rubber band\n",
       "        // canvas in synch.\n",
       "        canvas_div.css('width', width)\n",
       "        canvas_div.css('height', height)\n",
       "\n",
       "        canvas.attr('width', width);\n",
       "        canvas.attr('height', height);\n",
       "\n",
       "        rubberband.attr('width', width);\n",
       "        rubberband.attr('height', height);\n",
       "    }\n",
       "\n",
       "    // Set the figure to an initial 600x600px, this will subsequently be updated\n",
       "    // upon first draw.\n",
       "    this._resize_canvas(600, 600);\n",
       "\n",
       "    // Disable right mouse context menu.\n",
       "    $(this.rubberband_canvas).bind(\"contextmenu\",function(e){\n",
       "        return false;\n",
       "    });\n",
       "\n",
       "    function set_focus () {\n",
       "        canvas.focus();\n",
       "        canvas_div.focus();\n",
       "    }\n",
       "\n",
       "    window.setTimeout(set_focus, 100);\n",
       "}\n",
       "\n",
       "mpl.figure.prototype._init_toolbar = function() {\n",
       "    var fig = this;\n",
       "\n",
       "    var nav_element = $('<div/>')\n",
       "    nav_element.attr('style', 'width: 100%');\n",
       "    this.root.append(nav_element);\n",
       "\n",
       "    // Define a callback function for later on.\n",
       "    function toolbar_event(event) {\n",
       "        return fig.toolbar_button_onclick(event['data']);\n",
       "    }\n",
       "    function toolbar_mouse_event(event) {\n",
       "        return fig.toolbar_button_onmouseover(event['data']);\n",
       "    }\n",
       "\n",
       "    for(var toolbar_ind in mpl.toolbar_items) {\n",
       "        var name = mpl.toolbar_items[toolbar_ind][0];\n",
       "        var tooltip = mpl.toolbar_items[toolbar_ind][1];\n",
       "        var image = mpl.toolbar_items[toolbar_ind][2];\n",
       "        var method_name = mpl.toolbar_items[toolbar_ind][3];\n",
       "\n",
       "        if (!name) {\n",
       "            // put a spacer in here.\n",
       "            continue;\n",
       "        }\n",
       "        var button = $('<button/>');\n",
       "        button.addClass('ui-button ui-widget ui-state-default ui-corner-all ' +\n",
       "                        'ui-button-icon-only');\n",
       "        button.attr('role', 'button');\n",
       "        button.attr('aria-disabled', 'false');\n",
       "        button.click(method_name, toolbar_event);\n",
       "        button.mouseover(tooltip, toolbar_mouse_event);\n",
       "\n",
       "        var icon_img = $('<span/>');\n",
       "        icon_img.addClass('ui-button-icon-primary ui-icon');\n",
       "        icon_img.addClass(image);\n",
       "        icon_img.addClass('ui-corner-all');\n",
       "\n",
       "        var tooltip_span = $('<span/>');\n",
       "        tooltip_span.addClass('ui-button-text');\n",
       "        tooltip_span.html(tooltip);\n",
       "\n",
       "        button.append(icon_img);\n",
       "        button.append(tooltip_span);\n",
       "\n",
       "        nav_element.append(button);\n",
       "    }\n",
       "\n",
       "    var fmt_picker_span = $('<span/>');\n",
       "\n",
       "    var fmt_picker = $('<select/>');\n",
       "    fmt_picker.addClass('mpl-toolbar-option ui-widget ui-widget-content');\n",
       "    fmt_picker_span.append(fmt_picker);\n",
       "    nav_element.append(fmt_picker_span);\n",
       "    this.format_dropdown = fmt_picker[0];\n",
       "\n",
       "    for (var ind in mpl.extensions) {\n",
       "        var fmt = mpl.extensions[ind];\n",
       "        var option = $(\n",
       "            '<option/>', {selected: fmt === mpl.default_extension}).html(fmt);\n",
       "        fmt_picker.append(option)\n",
       "    }\n",
       "\n",
       "    // Add hover states to the ui-buttons\n",
       "    $( \".ui-button\" ).hover(\n",
       "        function() { $(this).addClass(\"ui-state-hover\");},\n",
       "        function() { $(this).removeClass(\"ui-state-hover\");}\n",
       "    );\n",
       "\n",
       "    var status_bar = $('<span class=\"mpl-message\"/>');\n",
       "    nav_element.append(status_bar);\n",
       "    this.message = status_bar[0];\n",
       "}\n",
       "\n",
       "mpl.figure.prototype.request_resize = function(x_pixels, y_pixels) {\n",
       "    // Request matplotlib to resize the figure. Matplotlib will then trigger a resize in the client,\n",
       "    // which will in turn request a refresh of the image.\n",
       "    this.send_message('resize', {'width': x_pixels, 'height': y_pixels});\n",
       "}\n",
       "\n",
       "mpl.figure.prototype.send_message = function(type, properties) {\n",
       "    properties['type'] = type;\n",
       "    properties['figure_id'] = this.id;\n",
       "    this.ws.send(JSON.stringify(properties));\n",
       "}\n",
       "\n",
       "mpl.figure.prototype.send_draw_message = function() {\n",
       "    if (!this.waiting) {\n",
       "        this.waiting = true;\n",
       "        this.ws.send(JSON.stringify({type: \"draw\", figure_id: this.id}));\n",
       "    }\n",
       "}\n",
       "\n",
       "\n",
       "mpl.figure.prototype.handle_save = function(fig, msg) {\n",
       "    var format_dropdown = fig.format_dropdown;\n",
       "    var format = format_dropdown.options[format_dropdown.selectedIndex].value;\n",
       "    fig.ondownload(fig, format);\n",
       "}\n",
       "\n",
       "\n",
       "mpl.figure.prototype.handle_resize = function(fig, msg) {\n",
       "    var size = msg['size'];\n",
       "    if (size[0] != fig.canvas.width || size[1] != fig.canvas.height) {\n",
       "        fig._resize_canvas(size[0], size[1]);\n",
       "        fig.send_message(\"refresh\", {});\n",
       "    };\n",
       "}\n",
       "\n",
       "mpl.figure.prototype.handle_rubberband = function(fig, msg) {\n",
       "    var x0 = msg['x0'];\n",
       "    var y0 = fig.canvas.height - msg['y0'];\n",
       "    var x1 = msg['x1'];\n",
       "    var y1 = fig.canvas.height - msg['y1'];\n",
       "    x0 = Math.floor(x0) + 0.5;\n",
       "    y0 = Math.floor(y0) + 0.5;\n",
       "    x1 = Math.floor(x1) + 0.5;\n",
       "    y1 = Math.floor(y1) + 0.5;\n",
       "    var min_x = Math.min(x0, x1);\n",
       "    var min_y = Math.min(y0, y1);\n",
       "    var width = Math.abs(x1 - x0);\n",
       "    var height = Math.abs(y1 - y0);\n",
       "\n",
       "    fig.rubberband_context.clearRect(\n",
       "        0, 0, fig.canvas.width, fig.canvas.height);\n",
       "\n",
       "    fig.rubberband_context.strokeRect(min_x, min_y, width, height);\n",
       "}\n",
       "\n",
       "mpl.figure.prototype.handle_figure_label = function(fig, msg) {\n",
       "    // Updates the figure title.\n",
       "    fig.header.textContent = msg['label'];\n",
       "}\n",
       "\n",
       "mpl.figure.prototype.handle_cursor = function(fig, msg) {\n",
       "    var cursor = msg['cursor'];\n",
       "    switch(cursor)\n",
       "    {\n",
       "    case 0:\n",
       "        cursor = 'pointer';\n",
       "        break;\n",
       "    case 1:\n",
       "        cursor = 'default';\n",
       "        break;\n",
       "    case 2:\n",
       "        cursor = 'crosshair';\n",
       "        break;\n",
       "    case 3:\n",
       "        cursor = 'move';\n",
       "        break;\n",
       "    }\n",
       "    fig.rubberband_canvas.style.cursor = cursor;\n",
       "}\n",
       "\n",
       "mpl.figure.prototype.handle_message = function(fig, msg) {\n",
       "    fig.message.textContent = msg['message'];\n",
       "}\n",
       "\n",
       "mpl.figure.prototype.handle_draw = function(fig, msg) {\n",
       "    // Request the server to send over a new figure.\n",
       "    fig.send_draw_message();\n",
       "}\n",
       "\n",
       "mpl.figure.prototype.handle_image_mode = function(fig, msg) {\n",
       "    fig.image_mode = msg['mode'];\n",
       "}\n",
       "\n",
       "mpl.figure.prototype.updated_canvas_event = function() {\n",
       "    // Called whenever the canvas gets updated.\n",
       "    this.send_message(\"ack\", {});\n",
       "}\n",
       "\n",
       "// A function to construct a web socket function for onmessage handling.\n",
       "// Called in the figure constructor.\n",
       "mpl.figure.prototype._make_on_message_function = function(fig) {\n",
       "    return function socket_on_message(evt) {\n",
       "        if (evt.data instanceof Blob) {\n",
       "            /* FIXME: We get \"Resource interpreted as Image but\n",
       "             * transferred with MIME type text/plain:\" errors on\n",
       "             * Chrome.  But how to set the MIME type?  It doesn't seem\n",
       "             * to be part of the websocket stream */\n",
       "            evt.data.type = \"image/png\";\n",
       "\n",
       "            /* Free the memory for the previous frames */\n",
       "            if (fig.imageObj.src) {\n",
       "                (window.URL || window.webkitURL).revokeObjectURL(\n",
       "                    fig.imageObj.src);\n",
       "            }\n",
       "\n",
       "            fig.imageObj.src = (window.URL || window.webkitURL).createObjectURL(\n",
       "                evt.data);\n",
       "            fig.updated_canvas_event();\n",
       "            fig.waiting = false;\n",
       "            return;\n",
       "        }\n",
       "        else if (typeof evt.data === 'string' && evt.data.slice(0, 21) == \"data:image/png;base64\") {\n",
       "            fig.imageObj.src = evt.data;\n",
       "            fig.updated_canvas_event();\n",
       "            fig.waiting = false;\n",
       "            return;\n",
       "        }\n",
       "\n",
       "        var msg = JSON.parse(evt.data);\n",
       "        var msg_type = msg['type'];\n",
       "\n",
       "        // Call the  \"handle_{type}\" callback, which takes\n",
       "        // the figure and JSON message as its only arguments.\n",
       "        try {\n",
       "            var callback = fig[\"handle_\" + msg_type];\n",
       "        } catch (e) {\n",
       "            console.log(\"No handler for the '\" + msg_type + \"' message type: \", msg);\n",
       "            return;\n",
       "        }\n",
       "\n",
       "        if (callback) {\n",
       "            try {\n",
       "                // console.log(\"Handling '\" + msg_type + \"' message: \", msg);\n",
       "                callback(fig, msg);\n",
       "            } catch (e) {\n",
       "                console.log(\"Exception inside the 'handler_\" + msg_type + \"' callback:\", e, e.stack, msg);\n",
       "            }\n",
       "        }\n",
       "    };\n",
       "}\n",
       "\n",
       "// from http://stackoverflow.com/questions/1114465/getting-mouse-location-in-canvas\n",
       "mpl.findpos = function(e) {\n",
       "    //this section is from http://www.quirksmode.org/js/events_properties.html\n",
       "    var targ;\n",
       "    if (!e)\n",
       "        e = window.event;\n",
       "    if (e.target)\n",
       "        targ = e.target;\n",
       "    else if (e.srcElement)\n",
       "        targ = e.srcElement;\n",
       "    if (targ.nodeType == 3) // defeat Safari bug\n",
       "        targ = targ.parentNode;\n",
       "\n",
       "    // jQuery normalizes the pageX and pageY\n",
       "    // pageX,Y are the mouse positions relative to the document\n",
       "    // offset() returns the position of the element relative to the document\n",
       "    var x = e.pageX - $(targ).offset().left;\n",
       "    var y = e.pageY - $(targ).offset().top;\n",
       "\n",
       "    return {\"x\": x, \"y\": y};\n",
       "};\n",
       "\n",
       "/*\n",
       " * return a copy of an object with only non-object keys\n",
       " * we need this to avoid circular references\n",
       " * http://stackoverflow.com/a/24161582/3208463\n",
       " */\n",
       "function simpleKeys (original) {\n",
       "  return Object.keys(original).reduce(function (obj, key) {\n",
       "    if (typeof original[key] !== 'object')\n",
       "        obj[key] = original[key]\n",
       "    return obj;\n",
       "  }, {});\n",
       "}\n",
       "\n",
       "mpl.figure.prototype.mouse_event = function(event, name) {\n",
       "    var canvas_pos = mpl.findpos(event)\n",
       "\n",
       "    if (name === 'button_press')\n",
       "    {\n",
       "        this.canvas.focus();\n",
       "        this.canvas_div.focus();\n",
       "    }\n",
       "\n",
       "    var x = canvas_pos.x;\n",
       "    var y = canvas_pos.y;\n",
       "\n",
       "    this.send_message(name, {x: x, y: y, button: event.button,\n",
       "                             step: event.step,\n",
       "                             guiEvent: simpleKeys(event)});\n",
       "\n",
       "    /* This prevents the web browser from automatically changing to\n",
       "     * the text insertion cursor when the button is pressed.  We want\n",
       "     * to control all of the cursor setting manually through the\n",
       "     * 'cursor' event from matplotlib */\n",
       "    event.preventDefault();\n",
       "    return false;\n",
       "}\n",
       "\n",
       "mpl.figure.prototype._key_event_extra = function(event, name) {\n",
       "    // Handle any extra behaviour associated with a key event\n",
       "}\n",
       "\n",
       "mpl.figure.prototype.key_event = function(event, name) {\n",
       "\n",
       "    // Prevent repeat events\n",
       "    if (name == 'key_press')\n",
       "    {\n",
       "        if (event.which === this._key)\n",
       "            return;\n",
       "        else\n",
       "            this._key = event.which;\n",
       "    }\n",
       "    if (name == 'key_release')\n",
       "        this._key = null;\n",
       "\n",
       "    var value = '';\n",
       "    if (event.ctrlKey && event.which != 17)\n",
       "        value += \"ctrl+\";\n",
       "    if (event.altKey && event.which != 18)\n",
       "        value += \"alt+\";\n",
       "    if (event.shiftKey && event.which != 16)\n",
       "        value += \"shift+\";\n",
       "\n",
       "    value += 'k';\n",
       "    value += event.which.toString();\n",
       "\n",
       "    this._key_event_extra(event, name);\n",
       "\n",
       "    this.send_message(name, {key: value,\n",
       "                             guiEvent: simpleKeys(event)});\n",
       "    return false;\n",
       "}\n",
       "\n",
       "mpl.figure.prototype.toolbar_button_onclick = function(name) {\n",
       "    if (name == 'download') {\n",
       "        this.handle_save(this, null);\n",
       "    } else {\n",
       "        this.send_message(\"toolbar_button\", {name: name});\n",
       "    }\n",
       "};\n",
       "\n",
       "mpl.figure.prototype.toolbar_button_onmouseover = function(tooltip) {\n",
       "    this.message.textContent = tooltip;\n",
       "};\n",
       "mpl.toolbar_items = [[\"Home\", \"Reset original view\", \"fa fa-home icon-home\", \"home\"], [\"Back\", \"Back to  previous view\", \"fa fa-arrow-left icon-arrow-left\", \"back\"], [\"Forward\", \"Forward to next view\", \"fa fa-arrow-right icon-arrow-right\", \"forward\"], [\"\", \"\", \"\", \"\"], [\"Pan\", \"Pan axes with left mouse, zoom with right\", \"fa fa-arrows icon-move\", \"pan\"], [\"Zoom\", \"Zoom to rectangle\", \"fa fa-square-o icon-check-empty\", \"zoom\"], [\"\", \"\", \"\", \"\"], [\"Download\", \"Download plot\", \"fa fa-floppy-o icon-save\", \"download\"]];\n",
       "\n",
       "mpl.extensions = [\"eps\", \"pdf\", \"png\", \"ps\", \"raw\", \"svg\"];\n",
       "\n",
       "mpl.default_extension = \"png\";var comm_websocket_adapter = function(comm) {\n",
       "    // Create a \"websocket\"-like object which calls the given IPython comm\n",
       "    // object with the appropriate methods. Currently this is a non binary\n",
       "    // socket, so there is still some room for performance tuning.\n",
       "    var ws = {};\n",
       "\n",
       "    ws.close = function() {\n",
       "        comm.close()\n",
       "    };\n",
       "    ws.send = function(m) {\n",
       "        //console.log('sending', m);\n",
       "        comm.send(m);\n",
       "    };\n",
       "    // Register the callback with on_msg.\n",
       "    comm.on_msg(function(msg) {\n",
       "        //console.log('receiving', msg['content']['data'], msg);\n",
       "        // Pass the mpl event to the overriden (by mpl) onmessage function.\n",
       "        ws.onmessage(msg['content']['data'])\n",
       "    });\n",
       "    return ws;\n",
       "}\n",
       "\n",
       "mpl.mpl_figure_comm = function(comm, msg) {\n",
       "    // This is the function which gets called when the mpl process\n",
       "    // starts-up an IPython Comm through the \"matplotlib\" channel.\n",
       "\n",
       "    var id = msg.content.data.id;\n",
       "    // Get hold of the div created by the display call when the Comm\n",
       "    // socket was opened in Python.\n",
       "    var element = $(\"#\" + id);\n",
       "    var ws_proxy = comm_websocket_adapter(comm)\n",
       "\n",
       "    function ondownload(figure, format) {\n",
       "        window.open(figure.imageObj.src);\n",
       "    }\n",
       "\n",
       "    var fig = new mpl.figure(id, ws_proxy,\n",
       "                           ondownload,\n",
       "                           element.get(0));\n",
       "\n",
       "    // Call onopen now - mpl needs it, as it is assuming we've passed it a real\n",
       "    // web socket which is closed, not our websocket->open comm proxy.\n",
       "    ws_proxy.onopen();\n",
       "\n",
       "    fig.parent_element = element.get(0);\n",
       "    fig.cell_info = mpl.find_output_cell(\"<div id='\" + id + \"'></div>\");\n",
       "    if (!fig.cell_info) {\n",
       "        console.error(\"Failed to find cell for figure\", id, fig);\n",
       "        return;\n",
       "    }\n",
       "\n",
       "    var output_index = fig.cell_info[2]\n",
       "    var cell = fig.cell_info[0];\n",
       "\n",
       "};\n",
       "\n",
       "mpl.figure.prototype.handle_close = function(fig, msg) {\n",
       "    fig.root.unbind('remove')\n",
       "\n",
       "    // Update the output cell to use the data from the current canvas.\n",
       "    fig.push_to_output();\n",
       "    var dataURL = fig.canvas.toDataURL();\n",
       "    // Re-enable the keyboard manager in IPython - without this line, in FF,\n",
       "    // the notebook keyboard shortcuts fail.\n",
       "    IPython.keyboard_manager.enable()\n",
       "    $(fig.parent_element).html('<img src=\"' + dataURL + '\">');\n",
       "    fig.close_ws(fig, msg);\n",
       "}\n",
       "\n",
       "mpl.figure.prototype.close_ws = function(fig, msg){\n",
       "    fig.send_message('closing', msg);\n",
       "    // fig.ws.close()\n",
       "}\n",
       "\n",
       "mpl.figure.prototype.push_to_output = function(remove_interactive) {\n",
       "    // Turn the data on the canvas into data in the output cell.\n",
       "    var dataURL = this.canvas.toDataURL();\n",
       "    this.cell_info[1]['text/html'] = '<img src=\"' + dataURL + '\">';\n",
       "}\n",
       "\n",
       "mpl.figure.prototype.updated_canvas_event = function() {\n",
       "    // Tell IPython that the notebook contents must change.\n",
       "    IPython.notebook.set_dirty(true);\n",
       "    this.send_message(\"ack\", {});\n",
       "    var fig = this;\n",
       "    // Wait a second, then push the new image to the DOM so\n",
       "    // that it is saved nicely (might be nice to debounce this).\n",
       "    setTimeout(function () { fig.push_to_output() }, 1000);\n",
       "}\n",
       "\n",
       "mpl.figure.prototype._init_toolbar = function() {\n",
       "    var fig = this;\n",
       "\n",
       "    var nav_element = $('<div/>')\n",
       "    nav_element.attr('style', 'width: 100%');\n",
       "    this.root.append(nav_element);\n",
       "\n",
       "    // Define a callback function for later on.\n",
       "    function toolbar_event(event) {\n",
       "        return fig.toolbar_button_onclick(event['data']);\n",
       "    }\n",
       "    function toolbar_mouse_event(event) {\n",
       "        return fig.toolbar_button_onmouseover(event['data']);\n",
       "    }\n",
       "\n",
       "    for(var toolbar_ind in mpl.toolbar_items){\n",
       "        var name = mpl.toolbar_items[toolbar_ind][0];\n",
       "        var tooltip = mpl.toolbar_items[toolbar_ind][1];\n",
       "        var image = mpl.toolbar_items[toolbar_ind][2];\n",
       "        var method_name = mpl.toolbar_items[toolbar_ind][3];\n",
       "\n",
       "        if (!name) { continue; };\n",
       "\n",
       "        var button = $('<button class=\"btn btn-default\" href=\"#\" title=\"' + name + '\"><i class=\"fa ' + image + ' fa-lg\"></i></button>');\n",
       "        button.click(method_name, toolbar_event);\n",
       "        button.mouseover(tooltip, toolbar_mouse_event);\n",
       "        nav_element.append(button);\n",
       "    }\n",
       "\n",
       "    // Add the status bar.\n",
       "    var status_bar = $('<span class=\"mpl-message\" style=\"text-align:right; float: right;\"/>');\n",
       "    nav_element.append(status_bar);\n",
       "    this.message = status_bar[0];\n",
       "\n",
       "    // Add the close button to the window.\n",
       "    var buttongrp = $('<div class=\"btn-group inline pull-right\"></div>');\n",
       "    var button = $('<button class=\"btn btn-mini btn-primary\" href=\"#\" title=\"Stop Interaction\"><i class=\"fa fa-power-off icon-remove icon-large\"></i></button>');\n",
       "    button.click(function (evt) { fig.handle_close(fig, {}); } );\n",
       "    button.mouseover('Stop Interaction', toolbar_mouse_event);\n",
       "    buttongrp.append(button);\n",
       "    var titlebar = this.root.find($('.ui-dialog-titlebar'));\n",
       "    titlebar.prepend(buttongrp);\n",
       "}\n",
       "\n",
       "mpl.figure.prototype._root_extra_style = function(el){\n",
       "    var fig = this\n",
       "    el.on(\"remove\", function(){\n",
       "\tfig.close_ws(fig, {});\n",
       "    });\n",
       "}\n",
       "\n",
       "mpl.figure.prototype._canvas_extra_style = function(el){\n",
       "    // this is important to make the div 'focusable\n",
       "    el.attr('tabindex', 0)\n",
       "    // reach out to IPython and tell the keyboard manager to turn it's self\n",
       "    // off when our div gets focus\n",
       "\n",
       "    // location in version 3\n",
       "    if (IPython.notebook.keyboard_manager) {\n",
       "        IPython.notebook.keyboard_manager.register_events(el);\n",
       "    }\n",
       "    else {\n",
       "        // location in version 2\n",
       "        IPython.keyboard_manager.register_events(el);\n",
       "    }\n",
       "\n",
       "}\n",
       "\n",
       "mpl.figure.prototype._key_event_extra = function(event, name) {\n",
       "    var manager = IPython.notebook.keyboard_manager;\n",
       "    if (!manager)\n",
       "        manager = IPython.keyboard_manager;\n",
       "\n",
       "    // Check for shift+enter\n",
       "    if (event.shiftKey && event.which == 13) {\n",
       "        this.canvas_div.blur();\n",
       "        event.shiftKey = false;\n",
       "        // Send a \"J\" for go to next cell\n",
       "        event.which = 74;\n",
       "        event.keyCode = 74;\n",
       "        manager.command_mode();\n",
       "        manager.handle_keydown(event);\n",
       "    }\n",
       "}\n",
       "\n",
       "mpl.figure.prototype.handle_save = function(fig, msg) {\n",
       "    fig.ondownload(fig, null);\n",
       "}\n",
       "\n",
       "\n",
       "mpl.find_output_cell = function(html_output) {\n",
       "    // Return the cell and output element which can be found *uniquely* in the notebook.\n",
       "    // Note - this is a bit hacky, but it is done because the \"notebook_saving.Notebook\"\n",
       "    // IPython event is triggered only after the cells have been serialised, which for\n",
       "    // our purposes (turning an active figure into a static one), is too late.\n",
       "    var cells = IPython.notebook.get_cells();\n",
       "    var ncells = cells.length;\n",
       "    for (var i=0; i<ncells; i++) {\n",
       "        var cell = cells[i];\n",
       "        if (cell.cell_type === 'code'){\n",
       "            for (var j=0; j<cell.output_area.outputs.length; j++) {\n",
       "                var data = cell.output_area.outputs[j];\n",
       "                if (data.data) {\n",
       "                    // IPython >= 3 moved mimebundle to data attribute of output\n",
       "                    data = data.data;\n",
       "                }\n",
       "                if (data['text/html'] == html_output) {\n",
       "                    return [cell, data, j];\n",
       "                }\n",
       "            }\n",
       "        }\n",
       "    }\n",
       "}\n",
       "\n",
       "// Register the function which deals with the matplotlib target/channel.\n",
       "// The kernel may be null if the page has been refreshed.\n",
       "if (IPython.notebook.kernel != null) {\n",
       "    IPython.notebook.kernel.comm_manager.register_target('matplotlib', mpl.mpl_figure_comm);\n",
       "}\n"
      ],
      "text/plain": [
       "<IPython.core.display.Javascript object>"
      ]
     },
     "metadata": {},
     "output_type": "display_data"
    },
    {
     "data": {
      "text/html": [
       "<img src=\"data:image/png;base64,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\">"
      ],
      "text/plain": [
       "<IPython.core.display.HTML object>"
      ]
     },
     "metadata": {},
     "output_type": "display_data"
    }
   ],
   "source": [
    "def dayrel(day):\n",
    "    global relfig,dayinterval\n",
    "    nb_interface.RelationDay(day,relfig)\n",
    "    print(dayinterval[day])\n",
    "relfig = plt.figure(\"Relations\")"
   ]
  },
  {
   "cell_type": "code",
   "execution_count": 40,
   "metadata": {
    "collapsed": false,
    "slideshow": {
     "slide_type": "subslide"
    }
   },
   "outputs": [
    {
     "name": "stdout",
     "output_type": "stream",
     "text": [
      "2017 - 04 - 26\n"
     ]
    },
    {
     "data": {
      "text/plain": [
       "<function __main__.dayrel>"
      ]
     },
     "execution_count": 40,
     "metadata": {},
     "output_type": "execute_result"
    }
   ],
   "source": [
    "interact(dayrel,day=IntSlider(min=0,max=len(nb_interface.relationsmatrixes)-1,step=1,value=0,width='100%'))"
   ]
  },
  {
   "cell_type": "markdown",
   "metadata": {},
   "source": [
    "<h2 align=\"center\"> Summary of Relations<h2>"
   ]
  },
  {
   "cell_type": "code",
   "execution_count": 41,
   "metadata": {
    "collapsed": false,
    "slideshow": {
     "slide_type": "skip"
    }
   },
   "outputs": [],
   "source": [
    "sumfig = plt.figure(\"Summary of Relations\")\n",
    "nb_interface.RelationSummary(sumfig)"
   ]
  }
 ],
 "metadata": {
  "hide_input": true,
  "kernelspec": {
   "display_name": "Python 3",
   "language": "python",
   "name": "python3"
  },
  "language_info": {
   "codemirror_mode": {
    "name": "ipython",
    "version": 3
   },
   "file_extension": ".py",
   "mimetype": "text/x-python",
   "name": "python",
   "nbconvert_exporter": "python",
   "pygments_lexer": "ipython3",
   "version": "3.5.2"
  },
  "widgets": {
   "state": {
    "00ebe0c25df74a34b6484c82dde65141": {
     "views": []
    },
    "047e49792d8149c3b6674742f0e199a5": {
     "views": [
      {
       "cell_index": 3
      }
     ]
    },
    "065b3b5267e846968803886dc15753d3": {
     "views": []
    },
    "0b0c7cf7c6da4ee98b8dfefb06fb7cf8": {
     "views": []
    },
    "0b5529c666a94f489fae29a3b351e967": {
     "views": [
      {
       "cell_index": 9
      }
     ]
    },
    "0ba5ab591a8b4d28b10f3d1f3235f00d": {
     "views": []
    },
    "0eb2a42485f849bd9ea2b32e86b1deca": {
     "views": []
    },
    "0eed08e365034ef488824981b36a3759": {
     "views": []
    },
    "11a1cd86a37f4170995a3fed993a075d": {
     "views": []
    },
    "14c953df54e640e9ac957f2f44c5b1c9": {
     "views": []
    },
    "164ba60cfe144f50b1b5338c545ea44d": {
     "views": []
    },
    "16ad1841dab84b3db3728e73d1011234": {
     "views": []
    },
    "177189ba9cb14f41860004a7bc1daab9": {
     "views": []
    },
    "194385ef65ad4f16914a11750c7cc125": {
     "views": []
    },
    "1a2d323fcfdd4cc680b7b0253fbe0d76": {
     "views": []
    },
    "23676b8ece9f4d598a0e1d0981b29f56": {
     "views": []
    },
    "237caaeb47a14850ad50688e1f87ecce": {
     "views": [
      {
       "cell_index": 9
      }
     ]
    },
    "291febe76f5649869a998620d1654486": {
     "views": []
    },
    "2a531bd45f0c4e0098a0db4afbbb357a": {
     "views": []
    },
    "2b3a5a7cc6724b22a7e19000429380e8": {
     "views": []
    },
    "2b4a87a8e15c4a9696a8b95512dff2af": {
     "views": []
    },
    "31481d7bfac54a13b5916595eab18655": {
     "views": []
    },
    "33bcf4c218ab4bfb9a0b8b85e7d13002": {
     "views": []
    },
    "34aa8692a3b844a9865c3c0171bb94ec": {
     "views": []
    },
    "36c83c73c1914e6ebdd1c57bc65afcb3": {
     "views": []
    },
    "39b9d867bc3f40bbbf1dfdee9dcc6b29": {
     "views": []
    },
    "39d89a471a1849a68f508b67fae76d0c": {
     "views": []
    },
    "3c471fd6480e4bdba96128802bd14b20": {
     "views": []
    },
    "3e47ee2e9dca473598844850116fc58f": {
     "views": []
    },
    "3f9aab74acf44e9694c6c73bd3ad0392": {
     "views": []
    },
    "3feaf8546d0c404ea1972ac5128b7d7a": {
     "views": []
    },
    "3ffaf7b6c6eb427ab401e3926e6e762c": {
     "views": []
    },
    "434e016e7a4649ef9ea618d918205f3d": {
     "views": []
    },
    "43c04a7b9b2a4bb5bd4811be16f9e77a": {
     "views": []
    },
    "469cedad240c4c03b7094e589cf91813": {
     "views": []
    },
    "48b62d4d424545338c66fa9f6d715e83": {
     "views": []
    },
    "499413a355f84e3d948a3ace7d01d7d5": {
     "views": []
    },
    "49a27e33b8ed47b5905ca311eec2a012": {
     "views": []
    },
    "4ce7c467d3b746209e0fde17f63da56b": {
     "views": []
    },
    "4e748da0e004448eb5ec68b0d5254aa3": {
     "views": []
    },
    "4ec33ac308654323a1d68f141a93d78c": {
     "views": []
    },
    "549f0a355aae474d99f9468fd68d7cf6": {
     "views": []
    },
    "573d76371b8f40f4b2f8daadc0eba120": {
     "views": []
    },
    "57947b83fe234dd69f8c26359962921f": {
     "views": []
    },
    "584864db01524e339f0e045483708f84": {
     "views": []
    },
    "58da574477954ea18d915af9cdd07eb0": {
     "views": []
    },
    "591331a5ae204ea9a59e914447ad5f67": {
     "views": []
    },
    "593a55cbbc4a486883fbb1979841f894": {
     "views": []
    },
    "59e94d3c350a4514888bb9bd60b9a29a": {
     "views": []
    },
    "5a4469eb7368411687f525567efb7fff": {
     "views": []
    },
    "6217e1ae6ee1462785fc71dbdfda19ce": {
     "views": []
    },
    "62a267de1c3d437db744551251ca6714": {
     "views": []
    },
    "62ef08633c074c2fb4f6596c2b43479b": {
     "views": []
    },
    "68db568e6c6646548c53d6f8c665293a": {
     "views": []
    },
    "6bb384485e584450a630ab40c2283f75": {
     "views": []
    },
    "6c25ef26d8c04d5ab02024471f4e8869": {
     "views": []
    },
    "6e56fb36224040538d1c1fe1328ece7d": {
     "views": []
    },
    "6f24173aa7624e3b87d377d99ef9bee3": {
     "views": [
      {
       "cell_index": 9
      }
     ]
    },
    "6f41e32d5da14ad69a61377dbc0a66a4": {
     "views": []
    },
    "6fb55af8974e4904a438d76da50c3a04": {
     "views": []
    },
    "6fbc319aa1c14d12963cd2164753958d": {
     "views": []
    },
    "740a964f8fa440949d29539970629de4": {
     "views": []
    },
    "750a9720072749278926d04478f519c2": {
     "views": [
      {
       "cell_index": 12
      }
     ]
    },
    "78d5e275129048789949a7b8527b1639": {
     "views": []
    },
    "795ab4044b6444099ef0971ded1e944b": {
     "views": []
    },
    "7c11f0e6b7ec4975ad939305cd051e27": {
     "views": [
      {
       "cell_index": 9
      }
     ]
    },
    "7ca02f3e5e634febbbfb427c2f717578": {
     "views": []
    },
    "7d09cf0f99be475196cd59f3e1680356": {
     "views": []
    },
    "7d2a98f3571b4bd78831441a23f2f3f3": {
     "views": []
    },
    "7df3c44e29004eb0aac21ad831563447": {
     "views": [
      {
       "cell_index": 9
      }
     ]
    },
    "7fe2ffe4005f408ca8ef3928df4f2dc3": {
     "views": []
    },
    "8339f7d689a2477eb7a29def23c435fb": {
     "views": []
    },
    "86e2ba04e58241a4a8cf215c5b45c6f8": {
     "views": []
    },
    "88cfe7b74c89491b8daaadfd14adb33c": {
     "views": []
    },
    "8b928c7c54c049eda57aec944399e527": {
     "views": []
    },
    "8efed3cbc9f44eb4b142475600b9761b": {
     "views": [
      {
       "cell_index": 9
      }
     ]
    },
    "9103d551211a429b9cea215f471d0fbc": {
     "views": [
      {
       "cell_index": 6
      }
     ]
    },
    "914e725d082847beb991ea299e9fa900": {
     "views": []
    },
    "936f48a6c217410b9f16c10e58c77054": {
     "views": []
    },
    "951d04a1037f491ea87e3b2c56f25430": {
     "views": []
    },
    "9b55d909cdfa46698afcba95bc26121b": {
     "views": []
    },
    "9b8565de966f4a8091e9e9bc4acf138e": {
     "views": []
    },
    "9c843209a56647e9832733d4dc598fdf": {
     "views": [
      {
       "cell_index": 4
      }
     ]
    },
    "9e0ab3c3d6c8432c9d813f22c54feb77": {
     "views": []
    },
    "a3393297c4904f839b8b4784326eecca": {
     "views": []
    },
    "a3623987e62145b8b4f9a7d4922eccde": {
     "views": []
    },
    "a396dab2e4844355a4b7d06487047901": {
     "views": [
      {
       "cell_index": 9
      }
     ]
    },
    "a3a375a46c6544fbae2a81ba6b10cc6f": {
     "views": []
    },
    "a52444572f094d8baf8f160c88b81056": {
     "views": []
    },
    "a68a293e905347c58f6e72e9203cad91": {
     "views": []
    },
    "a76c4dcd8f7841c194359825f0bb6fe7": {
     "views": []
    },
    "a80fb46d5e294e7881fa83fd71d662c8": {
     "views": []
    },
    "aab5f548d8c945928bd894bb87a75c32": {
     "views": []
    },
    "ad577aa2a2a742af8bdb322a494b7082": {
     "views": []
    },
    "adff11d93f424f00852de3b47a46aba2": {
     "views": []
    },
    "b460a2a8183f4c23b76d187c87d123d1": {
     "views": []
    },
    "b6c0f5c144c140e78f7c29ad62240fb5": {
     "views": []
    },
    "b840677f426145f49e698b7739a7606b": {
     "views": []
    },
    "b943f8369e3741faa9d9d346d1536150": {
     "views": []
    },
    "b95dda0ee1374c1797aa8d0483c850e7": {
     "views": []
    },
    "bd56d0915198480ca92c60e063cc4aeb": {
     "views": []
    },
    "bdc715ef08074e6fb04db82ef626b402": {
     "views": []
    },
    "be0821aa9cd04be58a564d427e72e341": {
     "views": []
    },
    "bf5767aaaf7941838bac8014fc77b4a6": {
     "views": []
    },
    "c226c1976a08419cb8069eb793c965a6": {
     "views": []
    },
    "c7dfa19e16ba49c7882c126cee29d4ad": {
     "views": []
    },
    "c80d40331bb44b1982b19175e8cfd460": {
     "views": []
    },
    "ca837e9fbb334ebcb08432225256699e": {
     "views": []
    },
    "cdb90f3ad0964df9b9599c4642af264c": {
     "views": []
    },
    "cdd5d1e0750d478ca3a9adfe5dfc5952": {
     "views": []
    },
    "d48110b0644948d1a86d3e3e114ffbd9": {
     "views": []
    },
    "d4a18e32bc504695bd3fad9b51cd532a": {
     "views": []
    },
    "d6a834c5879b494785292e472d6bf831": {
     "views": []
    },
    "d86446ea3dad44c790435b53017d29b8": {
     "views": []
    },
    "d870690c73c34f5ea1a862b4d982427a": {
     "views": []
    },
    "d98ecadfd05743b7b36b1b1a3635562f": {
     "views": []
    },
    "dbd02a5b93904823ba43e5b02034c33c": {
     "views": []
    },
    "dbe29602ca5942ffbdf1b8c3a86ef3c0": {
     "views": []
    },
    "dde8e4f0c66e41e4ad29bca99801df34": {
     "views": [
      {
       "cell_index": 9
      }
     ]
    },
    "e0fc1afade994ac38be7d98548a02ca0": {
     "views": []
    },
    "e3386b28a17b43b4a3e42bf874cebb40": {
     "views": []
    },
    "e5c29e88b5ff430fa15d61be71195ba7": {
     "views": []
    },
    "e63a5a1876a849dd9e90982cba35ae38": {
     "views": []
    },
    "e68c5e4a928449279adcd1a73ca7fb56": {
     "views": []
    },
    "ea93233dada44039b3186faf51af5c42": {
     "views": [
      {
       "cell_index": 9
      }
     ]
    },
    "ec4f3ec65a6941728643e8fe1b9e7106": {
     "views": []
    },
    "ec812b8b8b8445a69fc9c690386f9930": {
     "views": []
    },
    "eceac4e18e31479ca1980be7933ab00d": {
     "views": []
    },
    "edeb11776bb2404086598144228f2426": {
     "views": []
    },
    "eebe914385ce410c9370e5ec41990db0": {
     "views": []
    },
    "eefb758963e946b4aa9c65e4b159689f": {
     "views": []
    },
    "f25340e7564c46daa1e64260c27aae7c": {
     "views": []
    },
    "f44550833c764522b35e2893ac312803": {
     "views": []
    },
    "f49157ace7b449f196bc880b87317af0": {
     "views": []
    },
    "f49dfd0c73744c3c87779f35da0c0d0e": {
     "views": []
    },
    "f65525c85eb34d63a3f98ed416880554": {
     "views": []
    },
    "f75c79db43da47a090f6949197d4e589": {
     "views": []
    },
    "f777f779f7324b0a96d7aee67eb17561": {
     "views": []
    },
    "f8b350789a68468198d03e1c356f5ae0": {
     "views": []
    },
    "fc05929e50504d9682074c9639850213": {
     "views": []
    },
    "fc41d971d7204a079c1b84ddfc21679b": {
     "views": []
    },
    "fce1d171def64c1c9e92211dea823f61": {
     "views": []
    },
    "fd6b9ea6dee2468f878479310f6d4198": {
     "views": []
    },
    "fe673244e06f45ca9e460ad0d2e12965": {
     "views": []
    },
    "ff292cf63ce04b5da07f6fb9dee174f7": {
     "views": []
    },
    "ff348f5e3d6848b0ab706d96dbc771e5": {
     "views": []
    }
   },
   "version": "1.1.2"
  }
 },
 "nbformat": 4,
 "nbformat_minor": 0
}
