{
 "cells": [
  {
   "cell_type": "markdown",
   "metadata": {
    "slideshow": {
     "slide_type": "slide"
    }
   },
   "source": [
    "<h1 align=\"center\"> Emotion Analysis in RSS News <h1>"
   ]
  },
  {
   "cell_type": "code",
   "execution_count": 8,
   "metadata": {
    "collapsed": false,
    "hide_input": false,
    "scrolled": true,
    "slideshow": {
     "slide_type": "skip"
    }
   },
   "outputs": [
    {
     "data": {
      "text/html": [
       "<script>\n",
       "code_show=true; \n",
       "function code_toggle() {\n",
       " if (code_show){\n",
       " $('div.input').hide();\n",
       " } else {\n",
       " $('div.input').show();\n",
       " }\n",
       " code_show = !code_show\n",
       "} \n",
       "$( document ).ready(code_toggle);\n",
       "</script>\n",
       "The raw code for this IPython notebook is by default hidden for easier reading.\n",
       "To toggle on/off the raw code, click <a href=\"javascript:code_toggle()\">here</a>."
      ],
      "text/plain": [
       "<IPython.core.display.HTML object>"
      ]
     },
     "execution_count": 8,
     "metadata": {},
     "output_type": "execute_result"
    }
   ],
   "source": [
    "%matplotlib notebook\n",
    "%config InlineBackend.close_figures = False\n",
    "import main\n",
    "import ipywidgets as widgets\n",
    "from ipywidgets import *\n",
    "from IPython.display import display\n",
    "from IPython.display import clear_output\n",
    "from IPython.display import Javascript\n",
    "import matplotlib.pyplot as plt\n",
    "from IPython.core.display import HTML\n",
    "\n",
    "fig_size = []\n",
    "fig_size.append(9)\n",
    "fig_size.append(5)\n",
    "plt.rcParams[\"figure.figsize\"] = fig_size\n",
    "\n",
    "def css_styling():\n",
    "    styles = open(\"custom.css\", \"r\").read() #or edit path to custom.css\n",
    "    return HTML(styles)\n",
    "css_styling()\n",
    "\n",
    "HTML('''<script>\n",
    "code_show=true; \n",
    "function code_toggle() {\n",
    " if (code_show){\n",
    " $('div.input').hide();\n",
    " } else {\n",
    " $('div.input').show();\n",
    " }\n",
    " code_show = !code_show\n",
    "} \n",
    "$( document ).ready(code_toggle);\n",
    "</script>\n",
    "The raw code for this IPython notebook is by default hidden for easier reading.\n",
    "To toggle on/off the raw code, click <a href=\"javascript:code_toggle()\">here</a>.''')\n",
    "\n"
   ]
  },
  {
   "cell_type": "markdown",
   "metadata": {
    "slideshow": {
     "slide_type": "slide"
    }
   },
   "source": [
    "<h2 align=\"center\"> Selection of the terms of the search <h2>"
   ]
  },
  {
   "cell_type": "code",
   "execution_count": 9,
   "metadata": {
    "collapsed": false,
    "slideshow": {
     "slide_type": "subslide"
    }
   },
   "outputs": [
    {
     "data": {
      "application/javascript": [
       "IPython.notebook.execute_cells_below()"
      ],
      "text/plain": [
       "<IPython.core.display.Javascript object>"
      ]
     },
     "metadata": {},
     "output_type": "display_data"
    }
   ],
   "source": [
    "text = widgets.Text(placeholder=\"Insert the CED words separated by commas\")\n",
    "text.layout.width='100%'\n",
    "display(text)\n",
    "def handle_submit(sender):\n",
    "    clear_output()\n",
    "    newced = main.parseinput(text.value)\n",
    "    main.setcedwords(newced)\n",
    "    print (\"the new CED is: \"+ str(newced))\n",
    "    display(Javascript('IPython.notebook.execute_cells_below()'))\n",
    "\n",
    "text.on_submit(handle_submit)"
   ]
  },
  {
   "cell_type": "markdown",
   "metadata": {
    "slideshow": {
     "slide_type": "slide"
    }
   },
   "source": [
    "<h2 align=\"center\"> Emotion Graph <h2>"
   ]
  },
  {
   "cell_type": "code",
   "execution_count": 10,
   "metadata": {
    "collapsed": false,
    "hide_input": true,
    "scrolled": false,
    "slideshow": {
     "slide_type": "subslide"
    }
   },
   "outputs": [
    {
     "data": {
      "application/javascript": [
       "/* Put everything inside the global mpl namespace */\n",
       "window.mpl = {};\n",
       "\n",
       "mpl.get_websocket_type = function() {\n",
       "    if (typeof(WebSocket) !== 'undefined') {\n",
       "        return WebSocket;\n",
       "    } else if (typeof(MozWebSocket) !== 'undefined') {\n",
       "        return MozWebSocket;\n",
       "    } else {\n",
       "        alert('Your browser does not have WebSocket support.' +\n",
       "              'Please try Chrome, Safari or Firefox ≥ 6. ' +\n",
       "              'Firefox 4 and 5 are also supported but you ' +\n",
       "              'have to enable WebSockets in about:config.');\n",
       "    };\n",
       "}\n",
       "\n",
       "mpl.figure = function(figure_id, websocket, ondownload, parent_element) {\n",
       "    this.id = figure_id;\n",
       "\n",
       "    this.ws = websocket;\n",
       "\n",
       "    this.supports_binary = (this.ws.binaryType != undefined);\n",
       "\n",
       "    if (!this.supports_binary) {\n",
       "        var warnings = document.getElementById(\"mpl-warnings\");\n",
       "        if (warnings) {\n",
       "            warnings.style.display = 'block';\n",
       "            warnings.textContent = (\n",
       "                \"This browser does not support binary websocket messages. \" +\n",
       "                    \"Performance may be slow.\");\n",
       "        }\n",
       "    }\n",
       "\n",
       "    this.imageObj = new Image();\n",
       "\n",
       "    this.context = undefined;\n",
       "    this.message = undefined;\n",
       "    this.canvas = undefined;\n",
       "    this.rubberband_canvas = undefined;\n",
       "    this.rubberband_context = undefined;\n",
       "    this.format_dropdown = undefined;\n",
       "\n",
       "    this.image_mode = 'full';\n",
       "\n",
       "    this.root = $('<div/>');\n",
       "    this._root_extra_style(this.root)\n",
       "    this.root.attr('style', 'display: inline-block');\n",
       "\n",
       "    $(parent_element).append(this.root);\n",
       "\n",
       "    this._init_header(this);\n",
       "    this._init_canvas(this);\n",
       "    this._init_toolbar(this);\n",
       "\n",
       "    var fig = this;\n",
       "\n",
       "    this.waiting = false;\n",
       "\n",
       "    this.ws.onopen =  function () {\n",
       "            fig.send_message(\"supports_binary\", {value: fig.supports_binary});\n",
       "            fig.send_message(\"send_image_mode\", {});\n",
       "            fig.send_message(\"refresh\", {});\n",
       "        }\n",
       "\n",
       "    this.imageObj.onload = function() {\n",
       "            if (fig.image_mode == 'full') {\n",
       "                // Full images could contain transparency (where diff images\n",
       "                // almost always do), so we need to clear the canvas so that\n",
       "                // there is no ghosting.\n",
       "                fig.context.clearRect(0, 0, fig.canvas.width, fig.canvas.height);\n",
       "            }\n",
       "            fig.context.drawImage(fig.imageObj, 0, 0);\n",
       "        };\n",
       "\n",
       "    this.imageObj.onunload = function() {\n",
       "        this.ws.close();\n",
       "    }\n",
       "\n",
       "    this.ws.onmessage = this._make_on_message_function(this);\n",
       "\n",
       "    this.ondownload = ondownload;\n",
       "}\n",
       "\n",
       "mpl.figure.prototype._init_header = function() {\n",
       "    var titlebar = $(\n",
       "        '<div class=\"ui-dialog-titlebar ui-widget-header ui-corner-all ' +\n",
       "        'ui-helper-clearfix\"/>');\n",
       "    var titletext = $(\n",
       "        '<div class=\"ui-dialog-title\" style=\"width: 100%; ' +\n",
       "        'text-align: center; padding: 3px;\"/>');\n",
       "    titlebar.append(titletext)\n",
       "    this.root.append(titlebar);\n",
       "    this.header = titletext[0];\n",
       "}\n",
       "\n",
       "\n",
       "\n",
       "mpl.figure.prototype._canvas_extra_style = function(canvas_div) {\n",
       "\n",
       "}\n",
       "\n",
       "\n",
       "mpl.figure.prototype._root_extra_style = function(canvas_div) {\n",
       "\n",
       "}\n",
       "\n",
       "mpl.figure.prototype._init_canvas = function() {\n",
       "    var fig = this;\n",
       "\n",
       "    var canvas_div = $('<div/>');\n",
       "\n",
       "    canvas_div.attr('style', 'position: relative; clear: both; outline: 0');\n",
       "\n",
       "    function canvas_keyboard_event(event) {\n",
       "        return fig.key_event(event, event['data']);\n",
       "    }\n",
       "\n",
       "    canvas_div.keydown('key_press', canvas_keyboard_event);\n",
       "    canvas_div.keyup('key_release', canvas_keyboard_event);\n",
       "    this.canvas_div = canvas_div\n",
       "    this._canvas_extra_style(canvas_div)\n",
       "    this.root.append(canvas_div);\n",
       "\n",
       "    var canvas = $('<canvas/>');\n",
       "    canvas.addClass('mpl-canvas');\n",
       "    canvas.attr('style', \"left: 0; top: 0; z-index: 0; outline: 0\")\n",
       "\n",
       "    this.canvas = canvas[0];\n",
       "    this.context = canvas[0].getContext(\"2d\");\n",
       "\n",
       "    var rubberband = $('<canvas/>');\n",
       "    rubberband.attr('style', \"position: absolute; left: 0; top: 0; z-index: 1;\")\n",
       "\n",
       "    var pass_mouse_events = true;\n",
       "\n",
       "    canvas_div.resizable({\n",
       "        start: function(event, ui) {\n",
       "            pass_mouse_events = false;\n",
       "        },\n",
       "        resize: function(event, ui) {\n",
       "            fig.request_resize(ui.size.width, ui.size.height);\n",
       "        },\n",
       "        stop: function(event, ui) {\n",
       "            pass_mouse_events = true;\n",
       "            fig.request_resize(ui.size.width, ui.size.height);\n",
       "        },\n",
       "    });\n",
       "\n",
       "    function mouse_event_fn(event) {\n",
       "        if (pass_mouse_events)\n",
       "            return fig.mouse_event(event, event['data']);\n",
       "    }\n",
       "\n",
       "    rubberband.mousedown('button_press', mouse_event_fn);\n",
       "    rubberband.mouseup('button_release', mouse_event_fn);\n",
       "    // Throttle sequential mouse events to 1 every 20ms.\n",
       "    rubberband.mousemove('motion_notify', mouse_event_fn);\n",
       "\n",
       "    rubberband.mouseenter('figure_enter', mouse_event_fn);\n",
       "    rubberband.mouseleave('figure_leave', mouse_event_fn);\n",
       "\n",
       "    canvas_div.on(\"wheel\", function (event) {\n",
       "        event = event.originalEvent;\n",
       "        event['data'] = 'scroll'\n",
       "        if (event.deltaY < 0) {\n",
       "            event.step = 1;\n",
       "        } else {\n",
       "            event.step = -1;\n",
       "        }\n",
       "        mouse_event_fn(event);\n",
       "    });\n",
       "\n",
       "    canvas_div.append(canvas);\n",
       "    canvas_div.append(rubberband);\n",
       "\n",
       "    this.rubberband = rubberband;\n",
       "    this.rubberband_canvas = rubberband[0];\n",
       "    this.rubberband_context = rubberband[0].getContext(\"2d\");\n",
       "    this.rubberband_context.strokeStyle = \"#000000\";\n",
       "\n",
       "    this._resize_canvas = function(width, height) {\n",
       "        // Keep the size of the canvas, canvas container, and rubber band\n",
       "        // canvas in synch.\n",
       "        canvas_div.css('width', width)\n",
       "        canvas_div.css('height', height)\n",
       "\n",
       "        canvas.attr('width', width);\n",
       "        canvas.attr('height', height);\n",
       "\n",
       "        rubberband.attr('width', width);\n",
       "        rubberband.attr('height', height);\n",
       "    }\n",
       "\n",
       "    // Set the figure to an initial 600x600px, this will subsequently be updated\n",
       "    // upon first draw.\n",
       "    this._resize_canvas(600, 600);\n",
       "\n",
       "    // Disable right mouse context menu.\n",
       "    $(this.rubberband_canvas).bind(\"contextmenu\",function(e){\n",
       "        return false;\n",
       "    });\n",
       "\n",
       "    function set_focus () {\n",
       "        canvas.focus();\n",
       "        canvas_div.focus();\n",
       "    }\n",
       "\n",
       "    window.setTimeout(set_focus, 100);\n",
       "}\n",
       "\n",
       "mpl.figure.prototype._init_toolbar = function() {\n",
       "    var fig = this;\n",
       "\n",
       "    var nav_element = $('<div/>')\n",
       "    nav_element.attr('style', 'width: 100%');\n",
       "    this.root.append(nav_element);\n",
       "\n",
       "    // Define a callback function for later on.\n",
       "    function toolbar_event(event) {\n",
       "        return fig.toolbar_button_onclick(event['data']);\n",
       "    }\n",
       "    function toolbar_mouse_event(event) {\n",
       "        return fig.toolbar_button_onmouseover(event['data']);\n",
       "    }\n",
       "\n",
       "    for(var toolbar_ind in mpl.toolbar_items) {\n",
       "        var name = mpl.toolbar_items[toolbar_ind][0];\n",
       "        var tooltip = mpl.toolbar_items[toolbar_ind][1];\n",
       "        var image = mpl.toolbar_items[toolbar_ind][2];\n",
       "        var method_name = mpl.toolbar_items[toolbar_ind][3];\n",
       "\n",
       "        if (!name) {\n",
       "            // put a spacer in here.\n",
       "            continue;\n",
       "        }\n",
       "        var button = $('<button/>');\n",
       "        button.addClass('ui-button ui-widget ui-state-default ui-corner-all ' +\n",
       "                        'ui-button-icon-only');\n",
       "        button.attr('role', 'button');\n",
       "        button.attr('aria-disabled', 'false');\n",
       "        button.click(method_name, toolbar_event);\n",
       "        button.mouseover(tooltip, toolbar_mouse_event);\n",
       "\n",
       "        var icon_img = $('<span/>');\n",
       "        icon_img.addClass('ui-button-icon-primary ui-icon');\n",
       "        icon_img.addClass(image);\n",
       "        icon_img.addClass('ui-corner-all');\n",
       "\n",
       "        var tooltip_span = $('<span/>');\n",
       "        tooltip_span.addClass('ui-button-text');\n",
       "        tooltip_span.html(tooltip);\n",
       "\n",
       "        button.append(icon_img);\n",
       "        button.append(tooltip_span);\n",
       "\n",
       "        nav_element.append(button);\n",
       "    }\n",
       "\n",
       "    var fmt_picker_span = $('<span/>');\n",
       "\n",
       "    var fmt_picker = $('<select/>');\n",
       "    fmt_picker.addClass('mpl-toolbar-option ui-widget ui-widget-content');\n",
       "    fmt_picker_span.append(fmt_picker);\n",
       "    nav_element.append(fmt_picker_span);\n",
       "    this.format_dropdown = fmt_picker[0];\n",
       "\n",
       "    for (var ind in mpl.extensions) {\n",
       "        var fmt = mpl.extensions[ind];\n",
       "        var option = $(\n",
       "            '<option/>', {selected: fmt === mpl.default_extension}).html(fmt);\n",
       "        fmt_picker.append(option)\n",
       "    }\n",
       "\n",
       "    // Add hover states to the ui-buttons\n",
       "    $( \".ui-button\" ).hover(\n",
       "        function() { $(this).addClass(\"ui-state-hover\");},\n",
       "        function() { $(this).removeClass(\"ui-state-hover\");}\n",
       "    );\n",
       "\n",
       "    var status_bar = $('<span class=\"mpl-message\"/>');\n",
       "    nav_element.append(status_bar);\n",
       "    this.message = status_bar[0];\n",
       "}\n",
       "\n",
       "mpl.figure.prototype.request_resize = function(x_pixels, y_pixels) {\n",
       "    // Request matplotlib to resize the figure. Matplotlib will then trigger a resize in the client,\n",
       "    // which will in turn request a refresh of the image.\n",
       "    this.send_message('resize', {'width': x_pixels, 'height': y_pixels});\n",
       "}\n",
       "\n",
       "mpl.figure.prototype.send_message = function(type, properties) {\n",
       "    properties['type'] = type;\n",
       "    properties['figure_id'] = this.id;\n",
       "    this.ws.send(JSON.stringify(properties));\n",
       "}\n",
       "\n",
       "mpl.figure.prototype.send_draw_message = function() {\n",
       "    if (!this.waiting) {\n",
       "        this.waiting = true;\n",
       "        this.ws.send(JSON.stringify({type: \"draw\", figure_id: this.id}));\n",
       "    }\n",
       "}\n",
       "\n",
       "\n",
       "mpl.figure.prototype.handle_save = function(fig, msg) {\n",
       "    var format_dropdown = fig.format_dropdown;\n",
       "    var format = format_dropdown.options[format_dropdown.selectedIndex].value;\n",
       "    fig.ondownload(fig, format);\n",
       "}\n",
       "\n",
       "\n",
       "mpl.figure.prototype.handle_resize = function(fig, msg) {\n",
       "    var size = msg['size'];\n",
       "    if (size[0] != fig.canvas.width || size[1] != fig.canvas.height) {\n",
       "        fig._resize_canvas(size[0], size[1]);\n",
       "        fig.send_message(\"refresh\", {});\n",
       "    };\n",
       "}\n",
       "\n",
       "mpl.figure.prototype.handle_rubberband = function(fig, msg) {\n",
       "    var x0 = msg['x0'];\n",
       "    var y0 = fig.canvas.height - msg['y0'];\n",
       "    var x1 = msg['x1'];\n",
       "    var y1 = fig.canvas.height - msg['y1'];\n",
       "    x0 = Math.floor(x0) + 0.5;\n",
       "    y0 = Math.floor(y0) + 0.5;\n",
       "    x1 = Math.floor(x1) + 0.5;\n",
       "    y1 = Math.floor(y1) + 0.5;\n",
       "    var min_x = Math.min(x0, x1);\n",
       "    var min_y = Math.min(y0, y1);\n",
       "    var width = Math.abs(x1 - x0);\n",
       "    var height = Math.abs(y1 - y0);\n",
       "\n",
       "    fig.rubberband_context.clearRect(\n",
       "        0, 0, fig.canvas.width, fig.canvas.height);\n",
       "\n",
       "    fig.rubberband_context.strokeRect(min_x, min_y, width, height);\n",
       "}\n",
       "\n",
       "mpl.figure.prototype.handle_figure_label = function(fig, msg) {\n",
       "    // Updates the figure title.\n",
       "    fig.header.textContent = msg['label'];\n",
       "}\n",
       "\n",
       "mpl.figure.prototype.handle_cursor = function(fig, msg) {\n",
       "    var cursor = msg['cursor'];\n",
       "    switch(cursor)\n",
       "    {\n",
       "    case 0:\n",
       "        cursor = 'pointer';\n",
       "        break;\n",
       "    case 1:\n",
       "        cursor = 'default';\n",
       "        break;\n",
       "    case 2:\n",
       "        cursor = 'crosshair';\n",
       "        break;\n",
       "    case 3:\n",
       "        cursor = 'move';\n",
       "        break;\n",
       "    }\n",
       "    fig.rubberband_canvas.style.cursor = cursor;\n",
       "}\n",
       "\n",
       "mpl.figure.prototype.handle_message = function(fig, msg) {\n",
       "    fig.message.textContent = msg['message'];\n",
       "}\n",
       "\n",
       "mpl.figure.prototype.handle_draw = function(fig, msg) {\n",
       "    // Request the server to send over a new figure.\n",
       "    fig.send_draw_message();\n",
       "}\n",
       "\n",
       "mpl.figure.prototype.handle_image_mode = function(fig, msg) {\n",
       "    fig.image_mode = msg['mode'];\n",
       "}\n",
       "\n",
       "mpl.figure.prototype.updated_canvas_event = function() {\n",
       "    // Called whenever the canvas gets updated.\n",
       "    this.send_message(\"ack\", {});\n",
       "}\n",
       "\n",
       "// A function to construct a web socket function for onmessage handling.\n",
       "// Called in the figure constructor.\n",
       "mpl.figure.prototype._make_on_message_function = function(fig) {\n",
       "    return function socket_on_message(evt) {\n",
       "        if (evt.data instanceof Blob) {\n",
       "            /* FIXME: We get \"Resource interpreted as Image but\n",
       "             * transferred with MIME type text/plain:\" errors on\n",
       "             * Chrome.  But how to set the MIME type?  It doesn't seem\n",
       "             * to be part of the websocket stream */\n",
       "            evt.data.type = \"image/png\";\n",
       "\n",
       "            /* Free the memory for the previous frames */\n",
       "            if (fig.imageObj.src) {\n",
       "                (window.URL || window.webkitURL).revokeObjectURL(\n",
       "                    fig.imageObj.src);\n",
       "            }\n",
       "\n",
       "            fig.imageObj.src = (window.URL || window.webkitURL).createObjectURL(\n",
       "                evt.data);\n",
       "            fig.updated_canvas_event();\n",
       "            fig.waiting = false;\n",
       "            return;\n",
       "        }\n",
       "        else if (typeof evt.data === 'string' && evt.data.slice(0, 21) == \"data:image/png;base64\") {\n",
       "            fig.imageObj.src = evt.data;\n",
       "            fig.updated_canvas_event();\n",
       "            fig.waiting = false;\n",
       "            return;\n",
       "        }\n",
       "\n",
       "        var msg = JSON.parse(evt.data);\n",
       "        var msg_type = msg['type'];\n",
       "\n",
       "        // Call the  \"handle_{type}\" callback, which takes\n",
       "        // the figure and JSON message as its only arguments.\n",
       "        try {\n",
       "            var callback = fig[\"handle_\" + msg_type];\n",
       "        } catch (e) {\n",
       "            console.log(\"No handler for the '\" + msg_type + \"' message type: \", msg);\n",
       "            return;\n",
       "        }\n",
       "\n",
       "        if (callback) {\n",
       "            try {\n",
       "                // console.log(\"Handling '\" + msg_type + \"' message: \", msg);\n",
       "                callback(fig, msg);\n",
       "            } catch (e) {\n",
       "                console.log(\"Exception inside the 'handler_\" + msg_type + \"' callback:\", e, e.stack, msg);\n",
       "            }\n",
       "        }\n",
       "    };\n",
       "}\n",
       "\n",
       "// from http://stackoverflow.com/questions/1114465/getting-mouse-location-in-canvas\n",
       "mpl.findpos = function(e) {\n",
       "    //this section is from http://www.quirksmode.org/js/events_properties.html\n",
       "    var targ;\n",
       "    if (!e)\n",
       "        e = window.event;\n",
       "    if (e.target)\n",
       "        targ = e.target;\n",
       "    else if (e.srcElement)\n",
       "        targ = e.srcElement;\n",
       "    if (targ.nodeType == 3) // defeat Safari bug\n",
       "        targ = targ.parentNode;\n",
       "\n",
       "    // jQuery normalizes the pageX and pageY\n",
       "    // pageX,Y are the mouse positions relative to the document\n",
       "    // offset() returns the position of the element relative to the document\n",
       "    var x = e.pageX - $(targ).offset().left;\n",
       "    var y = e.pageY - $(targ).offset().top;\n",
       "\n",
       "    return {\"x\": x, \"y\": y};\n",
       "};\n",
       "\n",
       "/*\n",
       " * return a copy of an object with only non-object keys\n",
       " * we need this to avoid circular references\n",
       " * http://stackoverflow.com/a/24161582/3208463\n",
       " */\n",
       "function simpleKeys (original) {\n",
       "  return Object.keys(original).reduce(function (obj, key) {\n",
       "    if (typeof original[key] !== 'object')\n",
       "        obj[key] = original[key]\n",
       "    return obj;\n",
       "  }, {});\n",
       "}\n",
       "\n",
       "mpl.figure.prototype.mouse_event = function(event, name) {\n",
       "    var canvas_pos = mpl.findpos(event)\n",
       "\n",
       "    if (name === 'button_press')\n",
       "    {\n",
       "        this.canvas.focus();\n",
       "        this.canvas_div.focus();\n",
       "    }\n",
       "\n",
       "    var x = canvas_pos.x;\n",
       "    var y = canvas_pos.y;\n",
       "\n",
       "    this.send_message(name, {x: x, y: y, button: event.button,\n",
       "                             step: event.step,\n",
       "                             guiEvent: simpleKeys(event)});\n",
       "\n",
       "    /* This prevents the web browser from automatically changing to\n",
       "     * the text insertion cursor when the button is pressed.  We want\n",
       "     * to control all of the cursor setting manually through the\n",
       "     * 'cursor' event from matplotlib */\n",
       "    event.preventDefault();\n",
       "    return false;\n",
       "}\n",
       "\n",
       "mpl.figure.prototype._key_event_extra = function(event, name) {\n",
       "    // Handle any extra behaviour associated with a key event\n",
       "}\n",
       "\n",
       "mpl.figure.prototype.key_event = function(event, name) {\n",
       "\n",
       "    // Prevent repeat events\n",
       "    if (name == 'key_press')\n",
       "    {\n",
       "        if (event.which === this._key)\n",
       "            return;\n",
       "        else\n",
       "            this._key = event.which;\n",
       "    }\n",
       "    if (name == 'key_release')\n",
       "        this._key = null;\n",
       "\n",
       "    var value = '';\n",
       "    if (event.ctrlKey && event.which != 17)\n",
       "        value += \"ctrl+\";\n",
       "    if (event.altKey && event.which != 18)\n",
       "        value += \"alt+\";\n",
       "    if (event.shiftKey && event.which != 16)\n",
       "        value += \"shift+\";\n",
       "\n",
       "    value += 'k';\n",
       "    value += event.which.toString();\n",
       "\n",
       "    this._key_event_extra(event, name);\n",
       "\n",
       "    this.send_message(name, {key: value,\n",
       "                             guiEvent: simpleKeys(event)});\n",
       "    return false;\n",
       "}\n",
       "\n",
       "mpl.figure.prototype.toolbar_button_onclick = function(name) {\n",
       "    if (name == 'download') {\n",
       "        this.handle_save(this, null);\n",
       "    } else {\n",
       "        this.send_message(\"toolbar_button\", {name: name});\n",
       "    }\n",
       "};\n",
       "\n",
       "mpl.figure.prototype.toolbar_button_onmouseover = function(tooltip) {\n",
       "    this.message.textContent = tooltip;\n",
       "};\n",
       "mpl.toolbar_items = [[\"Home\", \"Reset original view\", \"fa fa-home icon-home\", \"home\"], [\"Back\", \"Back to  previous view\", \"fa fa-arrow-left icon-arrow-left\", \"back\"], [\"Forward\", \"Forward to next view\", \"fa fa-arrow-right icon-arrow-right\", \"forward\"], [\"\", \"\", \"\", \"\"], [\"Pan\", \"Pan axes with left mouse, zoom with right\", \"fa fa-arrows icon-move\", \"pan\"], [\"Zoom\", \"Zoom to rectangle\", \"fa fa-square-o icon-check-empty\", \"zoom\"], [\"\", \"\", \"\", \"\"], [\"Download\", \"Download plot\", \"fa fa-floppy-o icon-save\", \"download\"]];\n",
       "\n",
       "mpl.extensions = [\"eps\", \"pdf\", \"png\", \"ps\", \"raw\", \"svg\"];\n",
       "\n",
       "mpl.default_extension = \"png\";var comm_websocket_adapter = function(comm) {\n",
       "    // Create a \"websocket\"-like object which calls the given IPython comm\n",
       "    // object with the appropriate methods. Currently this is a non binary\n",
       "    // socket, so there is still some room for performance tuning.\n",
       "    var ws = {};\n",
       "\n",
       "    ws.close = function() {\n",
       "        comm.close()\n",
       "    };\n",
       "    ws.send = function(m) {\n",
       "        //console.log('sending', m);\n",
       "        comm.send(m);\n",
       "    };\n",
       "    // Register the callback with on_msg.\n",
       "    comm.on_msg(function(msg) {\n",
       "        //console.log('receiving', msg['content']['data'], msg);\n",
       "        // Pass the mpl event to the overriden (by mpl) onmessage function.\n",
       "        ws.onmessage(msg['content']['data'])\n",
       "    });\n",
       "    return ws;\n",
       "}\n",
       "\n",
       "mpl.mpl_figure_comm = function(comm, msg) {\n",
       "    // This is the function which gets called when the mpl process\n",
       "    // starts-up an IPython Comm through the \"matplotlib\" channel.\n",
       "\n",
       "    var id = msg.content.data.id;\n",
       "    // Get hold of the div created by the display call when the Comm\n",
       "    // socket was opened in Python.\n",
       "    var element = $(\"#\" + id);\n",
       "    var ws_proxy = comm_websocket_adapter(comm)\n",
       "\n",
       "    function ondownload(figure, format) {\n",
       "        window.open(figure.imageObj.src);\n",
       "    }\n",
       "\n",
       "    var fig = new mpl.figure(id, ws_proxy,\n",
       "                           ondownload,\n",
       "                           element.get(0));\n",
       "\n",
       "    // Call onopen now - mpl needs it, as it is assuming we've passed it a real\n",
       "    // web socket which is closed, not our websocket->open comm proxy.\n",
       "    ws_proxy.onopen();\n",
       "\n",
       "    fig.parent_element = element.get(0);\n",
       "    fig.cell_info = mpl.find_output_cell(\"<div id='\" + id + \"'></div>\");\n",
       "    if (!fig.cell_info) {\n",
       "        console.error(\"Failed to find cell for figure\", id, fig);\n",
       "        return;\n",
       "    }\n",
       "\n",
       "    var output_index = fig.cell_info[2]\n",
       "    var cell = fig.cell_info[0];\n",
       "\n",
       "};\n",
       "\n",
       "mpl.figure.prototype.handle_close = function(fig, msg) {\n",
       "    fig.root.unbind('remove')\n",
       "\n",
       "    // Update the output cell to use the data from the current canvas.\n",
       "    fig.push_to_output();\n",
       "    var dataURL = fig.canvas.toDataURL();\n",
       "    // Re-enable the keyboard manager in IPython - without this line, in FF,\n",
       "    // the notebook keyboard shortcuts fail.\n",
       "    IPython.keyboard_manager.enable()\n",
       "    $(fig.parent_element).html('<img src=\"' + dataURL + '\">');\n",
       "    fig.close_ws(fig, msg);\n",
       "}\n",
       "\n",
       "mpl.figure.prototype.close_ws = function(fig, msg){\n",
       "    fig.send_message('closing', msg);\n",
       "    // fig.ws.close()\n",
       "}\n",
       "\n",
       "mpl.figure.prototype.push_to_output = function(remove_interactive) {\n",
       "    // Turn the data on the canvas into data in the output cell.\n",
       "    var dataURL = this.canvas.toDataURL();\n",
       "    this.cell_info[1]['text/html'] = '<img src=\"' + dataURL + '\">';\n",
       "}\n",
       "\n",
       "mpl.figure.prototype.updated_canvas_event = function() {\n",
       "    // Tell IPython that the notebook contents must change.\n",
       "    IPython.notebook.set_dirty(true);\n",
       "    this.send_message(\"ack\", {});\n",
       "    var fig = this;\n",
       "    // Wait a second, then push the new image to the DOM so\n",
       "    // that it is saved nicely (might be nice to debounce this).\n",
       "    setTimeout(function () { fig.push_to_output() }, 1000);\n",
       "}\n",
       "\n",
       "mpl.figure.prototype._init_toolbar = function() {\n",
       "    var fig = this;\n",
       "\n",
       "    var nav_element = $('<div/>')\n",
       "    nav_element.attr('style', 'width: 100%');\n",
       "    this.root.append(nav_element);\n",
       "\n",
       "    // Define a callback function for later on.\n",
       "    function toolbar_event(event) {\n",
       "        return fig.toolbar_button_onclick(event['data']);\n",
       "    }\n",
       "    function toolbar_mouse_event(event) {\n",
       "        return fig.toolbar_button_onmouseover(event['data']);\n",
       "    }\n",
       "\n",
       "    for(var toolbar_ind in mpl.toolbar_items){\n",
       "        var name = mpl.toolbar_items[toolbar_ind][0];\n",
       "        var tooltip = mpl.toolbar_items[toolbar_ind][1];\n",
       "        var image = mpl.toolbar_items[toolbar_ind][2];\n",
       "        var method_name = mpl.toolbar_items[toolbar_ind][3];\n",
       "\n",
       "        if (!name) { continue; };\n",
       "\n",
       "        var button = $('<button class=\"btn btn-default\" href=\"#\" title=\"' + name + '\"><i class=\"fa ' + image + ' fa-lg\"></i></button>');\n",
       "        button.click(method_name, toolbar_event);\n",
       "        button.mouseover(tooltip, toolbar_mouse_event);\n",
       "        nav_element.append(button);\n",
       "    }\n",
       "\n",
       "    // Add the status bar.\n",
       "    var status_bar = $('<span class=\"mpl-message\" style=\"text-align:right; float: right;\"/>');\n",
       "    nav_element.append(status_bar);\n",
       "    this.message = status_bar[0];\n",
       "\n",
       "    // Add the close button to the window.\n",
       "    var buttongrp = $('<div class=\"btn-group inline pull-right\"></div>');\n",
       "    var button = $('<button class=\"btn btn-mini btn-primary\" href=\"#\" title=\"Stop Interaction\"><i class=\"fa fa-power-off icon-remove icon-large\"></i></button>');\n",
       "    button.click(function (evt) { fig.handle_close(fig, {}); } );\n",
       "    button.mouseover('Stop Interaction', toolbar_mouse_event);\n",
       "    buttongrp.append(button);\n",
       "    var titlebar = this.root.find($('.ui-dialog-titlebar'));\n",
       "    titlebar.prepend(buttongrp);\n",
       "}\n",
       "\n",
       "mpl.figure.prototype._root_extra_style = function(el){\n",
       "    var fig = this\n",
       "    el.on(\"remove\", function(){\n",
       "\tfig.close_ws(fig, {});\n",
       "    });\n",
       "}\n",
       "\n",
       "mpl.figure.prototype._canvas_extra_style = function(el){\n",
       "    // this is important to make the div 'focusable\n",
       "    el.attr('tabindex', 0)\n",
       "    // reach out to IPython and tell the keyboard manager to turn it's self\n",
       "    // off when our div gets focus\n",
       "\n",
       "    // location in version 3\n",
       "    if (IPython.notebook.keyboard_manager) {\n",
       "        IPython.notebook.keyboard_manager.register_events(el);\n",
       "    }\n",
       "    else {\n",
       "        // location in version 2\n",
       "        IPython.keyboard_manager.register_events(el);\n",
       "    }\n",
       "\n",
       "}\n",
       "\n",
       "mpl.figure.prototype._key_event_extra = function(event, name) {\n",
       "    var manager = IPython.notebook.keyboard_manager;\n",
       "    if (!manager)\n",
       "        manager = IPython.keyboard_manager;\n",
       "\n",
       "    // Check for shift+enter\n",
       "    if (event.shiftKey && event.which == 13) {\n",
       "        this.canvas_div.blur();\n",
       "        event.shiftKey = false;\n",
       "        // Send a \"J\" for go to next cell\n",
       "        event.which = 74;\n",
       "        event.keyCode = 74;\n",
       "        manager.command_mode();\n",
       "        manager.handle_keydown(event);\n",
       "    }\n",
       "}\n",
       "\n",
       "mpl.figure.prototype.handle_save = function(fig, msg) {\n",
       "    fig.ondownload(fig, null);\n",
       "}\n",
       "\n",
       "\n",
       "mpl.find_output_cell = function(html_output) {\n",
       "    // Return the cell and output element which can be found *uniquely* in the notebook.\n",
       "    // Note - this is a bit hacky, but it is done because the \"notebook_saving.Notebook\"\n",
       "    // IPython event is triggered only after the cells have been serialised, which for\n",
       "    // our purposes (turning an active figure into a static one), is too late.\n",
       "    var cells = IPython.notebook.get_cells();\n",
       "    var ncells = cells.length;\n",
       "    for (var i=0; i<ncells; i++) {\n",
       "        var cell = cells[i];\n",
       "        if (cell.cell_type === 'code'){\n",
       "            for (var j=0; j<cell.output_area.outputs.length; j++) {\n",
       "                var data = cell.output_area.outputs[j];\n",
       "                if (data.data) {\n",
       "                    // IPython >= 3 moved mimebundle to data attribute of output\n",
       "                    data = data.data;\n",
       "                }\n",
       "                if (data['text/html'] == html_output) {\n",
       "                    return [cell, data, j];\n",
       "                }\n",
       "            }\n",
       "        }\n",
       "    }\n",
       "}\n",
       "\n",
       "// Register the function which deals with the matplotlib target/channel.\n",
       "// The kernel may be null if the page has been refreshed.\n",
       "if (IPython.notebook.kernel != null) {\n",
       "    IPython.notebook.kernel.comm_manager.register_target('matplotlib', mpl.mpl_figure_comm);\n",
       "}\n"
      ],
      "text/plain": [
       "<IPython.core.display.Javascript object>"
      ]
     },
     "metadata": {},
     "output_type": "display_data"
    },
    {
     "data": {
      "text/html": [
       "<img src=\"data:image/png;base64,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\">"
      ],
      "text/plain": [
       "<IPython.core.display.HTML object>"
      ]
     },
     "metadata": {},
     "output_type": "display_data"
    }
   ],
   "source": [
    "d = 0.5\n",
    "e = 0.5\n",
    "emfig = plt.figure(\"Emotions\")\n",
    "\n",
    "\n",
    "def f(Delta):\n",
    "    global d\n",
    "    d = Delta\n",
    "    \n",
    "\n",
    "def g(Epsilon):\n",
    "    global e\n",
    "    e = Epsilon\n",
    "    \n",
    "def on_button_clicked(b):\n",
    "    global d\n",
    "    global e\n",
    "    main.EmotionAnalysis(d,e,emfig)\n",
    "    \n",
    "\n",
    "\n",
    "\n"
   ]
  },
  {
   "cell_type": "code",
   "execution_count": 11,
   "metadata": {
    "collapsed": false,
    "slideshow": {
     "slide_type": "slide"
    }
   },
   "outputs": [],
   "source": [
    "a = interact(f,Delta = FloatSlider(min=0,max=1,step=0.001,width='100%',value=0.5))\n",
    "b = interact(g,Epsilon = FloatSlider(min=0,max=1,step=0.001,width='100%',value=0.5))\n",
    "button = widgets.Button(description = \"DRAW!\")\n",
    "display(button)\n",
    "button.on_click(on_button_clicked)"
   ]
  },
  {
   "cell_type": "markdown",
   "metadata": {
    "hide_input": true,
    "slideshow": {
     "slide_type": "slide"
    }
   },
   "source": [
    "<h2 align=\"center\"> Relationship Graph <h2>"
   ]
  },
  {
   "cell_type": "code",
   "execution_count": 12,
   "metadata": {
    "collapsed": false,
    "hide_input": false,
    "slideshow": {
     "slide_type": "slide"
    }
   },
   "outputs": [
    {
     "data": {
      "application/javascript": [
       "/* Put everything inside the global mpl namespace */\n",
       "window.mpl = {};\n",
       "\n",
       "mpl.get_websocket_type = function() {\n",
       "    if (typeof(WebSocket) !== 'undefined') {\n",
       "        return WebSocket;\n",
       "    } else if (typeof(MozWebSocket) !== 'undefined') {\n",
       "        return MozWebSocket;\n",
       "    } else {\n",
       "        alert('Your browser does not have WebSocket support.' +\n",
       "              'Please try Chrome, Safari or Firefox ≥ 6. ' +\n",
       "              'Firefox 4 and 5 are also supported but you ' +\n",
       "              'have to enable WebSockets in about:config.');\n",
       "    };\n",
       "}\n",
       "\n",
       "mpl.figure = function(figure_id, websocket, ondownload, parent_element) {\n",
       "    this.id = figure_id;\n",
       "\n",
       "    this.ws = websocket;\n",
       "\n",
       "    this.supports_binary = (this.ws.binaryType != undefined);\n",
       "\n",
       "    if (!this.supports_binary) {\n",
       "        var warnings = document.getElementById(\"mpl-warnings\");\n",
       "        if (warnings) {\n",
       "            warnings.style.display = 'block';\n",
       "            warnings.textContent = (\n",
       "                \"This browser does not support binary websocket messages. \" +\n",
       "                    \"Performance may be slow.\");\n",
       "        }\n",
       "    }\n",
       "\n",
       "    this.imageObj = new Image();\n",
       "\n",
       "    this.context = undefined;\n",
       "    this.message = undefined;\n",
       "    this.canvas = undefined;\n",
       "    this.rubberband_canvas = undefined;\n",
       "    this.rubberband_context = undefined;\n",
       "    this.format_dropdown = undefined;\n",
       "\n",
       "    this.image_mode = 'full';\n",
       "\n",
       "    this.root = $('<div/>');\n",
       "    this._root_extra_style(this.root)\n",
       "    this.root.attr('style', 'display: inline-block');\n",
       "\n",
       "    $(parent_element).append(this.root);\n",
       "\n",
       "    this._init_header(this);\n",
       "    this._init_canvas(this);\n",
       "    this._init_toolbar(this);\n",
       "\n",
       "    var fig = this;\n",
       "\n",
       "    this.waiting = false;\n",
       "\n",
       "    this.ws.onopen =  function () {\n",
       "            fig.send_message(\"supports_binary\", {value: fig.supports_binary});\n",
       "            fig.send_message(\"send_image_mode\", {});\n",
       "            fig.send_message(\"refresh\", {});\n",
       "        }\n",
       "\n",
       "    this.imageObj.onload = function() {\n",
       "            if (fig.image_mode == 'full') {\n",
       "                // Full images could contain transparency (where diff images\n",
       "                // almost always do), so we need to clear the canvas so that\n",
       "                // there is no ghosting.\n",
       "                fig.context.clearRect(0, 0, fig.canvas.width, fig.canvas.height);\n",
       "            }\n",
       "            fig.context.drawImage(fig.imageObj, 0, 0);\n",
       "        };\n",
       "\n",
       "    this.imageObj.onunload = function() {\n",
       "        this.ws.close();\n",
       "    }\n",
       "\n",
       "    this.ws.onmessage = this._make_on_message_function(this);\n",
       "\n",
       "    this.ondownload = ondownload;\n",
       "}\n",
       "\n",
       "mpl.figure.prototype._init_header = function() {\n",
       "    var titlebar = $(\n",
       "        '<div class=\"ui-dialog-titlebar ui-widget-header ui-corner-all ' +\n",
       "        'ui-helper-clearfix\"/>');\n",
       "    var titletext = $(\n",
       "        '<div class=\"ui-dialog-title\" style=\"width: 100%; ' +\n",
       "        'text-align: center; padding: 3px;\"/>');\n",
       "    titlebar.append(titletext)\n",
       "    this.root.append(titlebar);\n",
       "    this.header = titletext[0];\n",
       "}\n",
       "\n",
       "\n",
       "\n",
       "mpl.figure.prototype._canvas_extra_style = function(canvas_div) {\n",
       "\n",
       "}\n",
       "\n",
       "\n",
       "mpl.figure.prototype._root_extra_style = function(canvas_div) {\n",
       "\n",
       "}\n",
       "\n",
       "mpl.figure.prototype._init_canvas = function() {\n",
       "    var fig = this;\n",
       "\n",
       "    var canvas_div = $('<div/>');\n",
       "\n",
       "    canvas_div.attr('style', 'position: relative; clear: both; outline: 0');\n",
       "\n",
       "    function canvas_keyboard_event(event) {\n",
       "        return fig.key_event(event, event['data']);\n",
       "    }\n",
       "\n",
       "    canvas_div.keydown('key_press', canvas_keyboard_event);\n",
       "    canvas_div.keyup('key_release', canvas_keyboard_event);\n",
       "    this.canvas_div = canvas_div\n",
       "    this._canvas_extra_style(canvas_div)\n",
       "    this.root.append(canvas_div);\n",
       "\n",
       "    var canvas = $('<canvas/>');\n",
       "    canvas.addClass('mpl-canvas');\n",
       "    canvas.attr('style', \"left: 0; top: 0; z-index: 0; outline: 0\")\n",
       "\n",
       "    this.canvas = canvas[0];\n",
       "    this.context = canvas[0].getContext(\"2d\");\n",
       "\n",
       "    var rubberband = $('<canvas/>');\n",
       "    rubberband.attr('style', \"position: absolute; left: 0; top: 0; z-index: 1;\")\n",
       "\n",
       "    var pass_mouse_events = true;\n",
       "\n",
       "    canvas_div.resizable({\n",
       "        start: function(event, ui) {\n",
       "            pass_mouse_events = false;\n",
       "        },\n",
       "        resize: function(event, ui) {\n",
       "            fig.request_resize(ui.size.width, ui.size.height);\n",
       "        },\n",
       "        stop: function(event, ui) {\n",
       "            pass_mouse_events = true;\n",
       "            fig.request_resize(ui.size.width, ui.size.height);\n",
       "        },\n",
       "    });\n",
       "\n",
       "    function mouse_event_fn(event) {\n",
       "        if (pass_mouse_events)\n",
       "            return fig.mouse_event(event, event['data']);\n",
       "    }\n",
       "\n",
       "    rubberband.mousedown('button_press', mouse_event_fn);\n",
       "    rubberband.mouseup('button_release', mouse_event_fn);\n",
       "    // Throttle sequential mouse events to 1 every 20ms.\n",
       "    rubberband.mousemove('motion_notify', mouse_event_fn);\n",
       "\n",
       "    rubberband.mouseenter('figure_enter', mouse_event_fn);\n",
       "    rubberband.mouseleave('figure_leave', mouse_event_fn);\n",
       "\n",
       "    canvas_div.on(\"wheel\", function (event) {\n",
       "        event = event.originalEvent;\n",
       "        event['data'] = 'scroll'\n",
       "        if (event.deltaY < 0) {\n",
       "            event.step = 1;\n",
       "        } else {\n",
       "            event.step = -1;\n",
       "        }\n",
       "        mouse_event_fn(event);\n",
       "    });\n",
       "\n",
       "    canvas_div.append(canvas);\n",
       "    canvas_div.append(rubberband);\n",
       "\n",
       "    this.rubberband = rubberband;\n",
       "    this.rubberband_canvas = rubberband[0];\n",
       "    this.rubberband_context = rubberband[0].getContext(\"2d\");\n",
       "    this.rubberband_context.strokeStyle = \"#000000\";\n",
       "\n",
       "    this._resize_canvas = function(width, height) {\n",
       "        // Keep the size of the canvas, canvas container, and rubber band\n",
       "        // canvas in synch.\n",
       "        canvas_div.css('width', width)\n",
       "        canvas_div.css('height', height)\n",
       "\n",
       "        canvas.attr('width', width);\n",
       "        canvas.attr('height', height);\n",
       "\n",
       "        rubberband.attr('width', width);\n",
       "        rubberband.attr('height', height);\n",
       "    }\n",
       "\n",
       "    // Set the figure to an initial 600x600px, this will subsequently be updated\n",
       "    // upon first draw.\n",
       "    this._resize_canvas(600, 600);\n",
       "\n",
       "    // Disable right mouse context menu.\n",
       "    $(this.rubberband_canvas).bind(\"contextmenu\",function(e){\n",
       "        return false;\n",
       "    });\n",
       "\n",
       "    function set_focus () {\n",
       "        canvas.focus();\n",
       "        canvas_div.focus();\n",
       "    }\n",
       "\n",
       "    window.setTimeout(set_focus, 100);\n",
       "}\n",
       "\n",
       "mpl.figure.prototype._init_toolbar = function() {\n",
       "    var fig = this;\n",
       "\n",
       "    var nav_element = $('<div/>')\n",
       "    nav_element.attr('style', 'width: 100%');\n",
       "    this.root.append(nav_element);\n",
       "\n",
       "    // Define a callback function for later on.\n",
       "    function toolbar_event(event) {\n",
       "        return fig.toolbar_button_onclick(event['data']);\n",
       "    }\n",
       "    function toolbar_mouse_event(event) {\n",
       "        return fig.toolbar_button_onmouseover(event['data']);\n",
       "    }\n",
       "\n",
       "    for(var toolbar_ind in mpl.toolbar_items) {\n",
       "        var name = mpl.toolbar_items[toolbar_ind][0];\n",
       "        var tooltip = mpl.toolbar_items[toolbar_ind][1];\n",
       "        var image = mpl.toolbar_items[toolbar_ind][2];\n",
       "        var method_name = mpl.toolbar_items[toolbar_ind][3];\n",
       "\n",
       "        if (!name) {\n",
       "            // put a spacer in here.\n",
       "            continue;\n",
       "        }\n",
       "        var button = $('<button/>');\n",
       "        button.addClass('ui-button ui-widget ui-state-default ui-corner-all ' +\n",
       "                        'ui-button-icon-only');\n",
       "        button.attr('role', 'button');\n",
       "        button.attr('aria-disabled', 'false');\n",
       "        button.click(method_name, toolbar_event);\n",
       "        button.mouseover(tooltip, toolbar_mouse_event);\n",
       "\n",
       "        var icon_img = $('<span/>');\n",
       "        icon_img.addClass('ui-button-icon-primary ui-icon');\n",
       "        icon_img.addClass(image);\n",
       "        icon_img.addClass('ui-corner-all');\n",
       "\n",
       "        var tooltip_span = $('<span/>');\n",
       "        tooltip_span.addClass('ui-button-text');\n",
       "        tooltip_span.html(tooltip);\n",
       "\n",
       "        button.append(icon_img);\n",
       "        button.append(tooltip_span);\n",
       "\n",
       "        nav_element.append(button);\n",
       "    }\n",
       "\n",
       "    var fmt_picker_span = $('<span/>');\n",
       "\n",
       "    var fmt_picker = $('<select/>');\n",
       "    fmt_picker.addClass('mpl-toolbar-option ui-widget ui-widget-content');\n",
       "    fmt_picker_span.append(fmt_picker);\n",
       "    nav_element.append(fmt_picker_span);\n",
       "    this.format_dropdown = fmt_picker[0];\n",
       "\n",
       "    for (var ind in mpl.extensions) {\n",
       "        var fmt = mpl.extensions[ind];\n",
       "        var option = $(\n",
       "            '<option/>', {selected: fmt === mpl.default_extension}).html(fmt);\n",
       "        fmt_picker.append(option)\n",
       "    }\n",
       "\n",
       "    // Add hover states to the ui-buttons\n",
       "    $( \".ui-button\" ).hover(\n",
       "        function() { $(this).addClass(\"ui-state-hover\");},\n",
       "        function() { $(this).removeClass(\"ui-state-hover\");}\n",
       "    );\n",
       "\n",
       "    var status_bar = $('<span class=\"mpl-message\"/>');\n",
       "    nav_element.append(status_bar);\n",
       "    this.message = status_bar[0];\n",
       "}\n",
       "\n",
       "mpl.figure.prototype.request_resize = function(x_pixels, y_pixels) {\n",
       "    // Request matplotlib to resize the figure. Matplotlib will then trigger a resize in the client,\n",
       "    // which will in turn request a refresh of the image.\n",
       "    this.send_message('resize', {'width': x_pixels, 'height': y_pixels});\n",
       "}\n",
       "\n",
       "mpl.figure.prototype.send_message = function(type, properties) {\n",
       "    properties['type'] = type;\n",
       "    properties['figure_id'] = this.id;\n",
       "    this.ws.send(JSON.stringify(properties));\n",
       "}\n",
       "\n",
       "mpl.figure.prototype.send_draw_message = function() {\n",
       "    if (!this.waiting) {\n",
       "        this.waiting = true;\n",
       "        this.ws.send(JSON.stringify({type: \"draw\", figure_id: this.id}));\n",
       "    }\n",
       "}\n",
       "\n",
       "\n",
       "mpl.figure.prototype.handle_save = function(fig, msg) {\n",
       "    var format_dropdown = fig.format_dropdown;\n",
       "    var format = format_dropdown.options[format_dropdown.selectedIndex].value;\n",
       "    fig.ondownload(fig, format);\n",
       "}\n",
       "\n",
       "\n",
       "mpl.figure.prototype.handle_resize = function(fig, msg) {\n",
       "    var size = msg['size'];\n",
       "    if (size[0] != fig.canvas.width || size[1] != fig.canvas.height) {\n",
       "        fig._resize_canvas(size[0], size[1]);\n",
       "        fig.send_message(\"refresh\", {});\n",
       "    };\n",
       "}\n",
       "\n",
       "mpl.figure.prototype.handle_rubberband = function(fig, msg) {\n",
       "    var x0 = msg['x0'];\n",
       "    var y0 = fig.canvas.height - msg['y0'];\n",
       "    var x1 = msg['x1'];\n",
       "    var y1 = fig.canvas.height - msg['y1'];\n",
       "    x0 = Math.floor(x0) + 0.5;\n",
       "    y0 = Math.floor(y0) + 0.5;\n",
       "    x1 = Math.floor(x1) + 0.5;\n",
       "    y1 = Math.floor(y1) + 0.5;\n",
       "    var min_x = Math.min(x0, x1);\n",
       "    var min_y = Math.min(y0, y1);\n",
       "    var width = Math.abs(x1 - x0);\n",
       "    var height = Math.abs(y1 - y0);\n",
       "\n",
       "    fig.rubberband_context.clearRect(\n",
       "        0, 0, fig.canvas.width, fig.canvas.height);\n",
       "\n",
       "    fig.rubberband_context.strokeRect(min_x, min_y, width, height);\n",
       "}\n",
       "\n",
       "mpl.figure.prototype.handle_figure_label = function(fig, msg) {\n",
       "    // Updates the figure title.\n",
       "    fig.header.textContent = msg['label'];\n",
       "}\n",
       "\n",
       "mpl.figure.prototype.handle_cursor = function(fig, msg) {\n",
       "    var cursor = msg['cursor'];\n",
       "    switch(cursor)\n",
       "    {\n",
       "    case 0:\n",
       "        cursor = 'pointer';\n",
       "        break;\n",
       "    case 1:\n",
       "        cursor = 'default';\n",
       "        break;\n",
       "    case 2:\n",
       "        cursor = 'crosshair';\n",
       "        break;\n",
       "    case 3:\n",
       "        cursor = 'move';\n",
       "        break;\n",
       "    }\n",
       "    fig.rubberband_canvas.style.cursor = cursor;\n",
       "}\n",
       "\n",
       "mpl.figure.prototype.handle_message = function(fig, msg) {\n",
       "    fig.message.textContent = msg['message'];\n",
       "}\n",
       "\n",
       "mpl.figure.prototype.handle_draw = function(fig, msg) {\n",
       "    // Request the server to send over a new figure.\n",
       "    fig.send_draw_message();\n",
       "}\n",
       "\n",
       "mpl.figure.prototype.handle_image_mode = function(fig, msg) {\n",
       "    fig.image_mode = msg['mode'];\n",
       "}\n",
       "\n",
       "mpl.figure.prototype.updated_canvas_event = function() {\n",
       "    // Called whenever the canvas gets updated.\n",
       "    this.send_message(\"ack\", {});\n",
       "}\n",
       "\n",
       "// A function to construct a web socket function for onmessage handling.\n",
       "// Called in the figure constructor.\n",
       "mpl.figure.prototype._make_on_message_function = function(fig) {\n",
       "    return function socket_on_message(evt) {\n",
       "        if (evt.data instanceof Blob) {\n",
       "            /* FIXME: We get \"Resource interpreted as Image but\n",
       "             * transferred with MIME type text/plain:\" errors on\n",
       "             * Chrome.  But how to set the MIME type?  It doesn't seem\n",
       "             * to be part of the websocket stream */\n",
       "            evt.data.type = \"image/png\";\n",
       "\n",
       "            /* Free the memory for the previous frames */\n",
       "            if (fig.imageObj.src) {\n",
       "                (window.URL || window.webkitURL).revokeObjectURL(\n",
       "                    fig.imageObj.src);\n",
       "            }\n",
       "\n",
       "            fig.imageObj.src = (window.URL || window.webkitURL).createObjectURL(\n",
       "                evt.data);\n",
       "            fig.updated_canvas_event();\n",
       "            fig.waiting = false;\n",
       "            return;\n",
       "        }\n",
       "        else if (typeof evt.data === 'string' && evt.data.slice(0, 21) == \"data:image/png;base64\") {\n",
       "            fig.imageObj.src = evt.data;\n",
       "            fig.updated_canvas_event();\n",
       "            fig.waiting = false;\n",
       "            return;\n",
       "        }\n",
       "\n",
       "        var msg = JSON.parse(evt.data);\n",
       "        var msg_type = msg['type'];\n",
       "\n",
       "        // Call the  \"handle_{type}\" callback, which takes\n",
       "        // the figure and JSON message as its only arguments.\n",
       "        try {\n",
       "            var callback = fig[\"handle_\" + msg_type];\n",
       "        } catch (e) {\n",
       "            console.log(\"No handler for the '\" + msg_type + \"' message type: \", msg);\n",
       "            return;\n",
       "        }\n",
       "\n",
       "        if (callback) {\n",
       "            try {\n",
       "                // console.log(\"Handling '\" + msg_type + \"' message: \", msg);\n",
       "                callback(fig, msg);\n",
       "            } catch (e) {\n",
       "                console.log(\"Exception inside the 'handler_\" + msg_type + \"' callback:\", e, e.stack, msg);\n",
       "            }\n",
       "        }\n",
       "    };\n",
       "}\n",
       "\n",
       "// from http://stackoverflow.com/questions/1114465/getting-mouse-location-in-canvas\n",
       "mpl.findpos = function(e) {\n",
       "    //this section is from http://www.quirksmode.org/js/events_properties.html\n",
       "    var targ;\n",
       "    if (!e)\n",
       "        e = window.event;\n",
       "    if (e.target)\n",
       "        targ = e.target;\n",
       "    else if (e.srcElement)\n",
       "        targ = e.srcElement;\n",
       "    if (targ.nodeType == 3) // defeat Safari bug\n",
       "        targ = targ.parentNode;\n",
       "\n",
       "    // jQuery normalizes the pageX and pageY\n",
       "    // pageX,Y are the mouse positions relative to the document\n",
       "    // offset() returns the position of the element relative to the document\n",
       "    var x = e.pageX - $(targ).offset().left;\n",
       "    var y = e.pageY - $(targ).offset().top;\n",
       "\n",
       "    return {\"x\": x, \"y\": y};\n",
       "};\n",
       "\n",
       "/*\n",
       " * return a copy of an object with only non-object keys\n",
       " * we need this to avoid circular references\n",
       " * http://stackoverflow.com/a/24161582/3208463\n",
       " */\n",
       "function simpleKeys (original) {\n",
       "  return Object.keys(original).reduce(function (obj, key) {\n",
       "    if (typeof original[key] !== 'object')\n",
       "        obj[key] = original[key]\n",
       "    return obj;\n",
       "  }, {});\n",
       "}\n",
       "\n",
       "mpl.figure.prototype.mouse_event = function(event, name) {\n",
       "    var canvas_pos = mpl.findpos(event)\n",
       "\n",
       "    if (name === 'button_press')\n",
       "    {\n",
       "        this.canvas.focus();\n",
       "        this.canvas_div.focus();\n",
       "    }\n",
       "\n",
       "    var x = canvas_pos.x;\n",
       "    var y = canvas_pos.y;\n",
       "\n",
       "    this.send_message(name, {x: x, y: y, button: event.button,\n",
       "                             step: event.step,\n",
       "                             guiEvent: simpleKeys(event)});\n",
       "\n",
       "    /* This prevents the web browser from automatically changing to\n",
       "     * the text insertion cursor when the button is pressed.  We want\n",
       "     * to control all of the cursor setting manually through the\n",
       "     * 'cursor' event from matplotlib */\n",
       "    event.preventDefault();\n",
       "    return false;\n",
       "}\n",
       "\n",
       "mpl.figure.prototype._key_event_extra = function(event, name) {\n",
       "    // Handle any extra behaviour associated with a key event\n",
       "}\n",
       "\n",
       "mpl.figure.prototype.key_event = function(event, name) {\n",
       "\n",
       "    // Prevent repeat events\n",
       "    if (name == 'key_press')\n",
       "    {\n",
       "        if (event.which === this._key)\n",
       "            return;\n",
       "        else\n",
       "            this._key = event.which;\n",
       "    }\n",
       "    if (name == 'key_release')\n",
       "        this._key = null;\n",
       "\n",
       "    var value = '';\n",
       "    if (event.ctrlKey && event.which != 17)\n",
       "        value += \"ctrl+\";\n",
       "    if (event.altKey && event.which != 18)\n",
       "        value += \"alt+\";\n",
       "    if (event.shiftKey && event.which != 16)\n",
       "        value += \"shift+\";\n",
       "\n",
       "    value += 'k';\n",
       "    value += event.which.toString();\n",
       "\n",
       "    this._key_event_extra(event, name);\n",
       "\n",
       "    this.send_message(name, {key: value,\n",
       "                             guiEvent: simpleKeys(event)});\n",
       "    return false;\n",
       "}\n",
       "\n",
       "mpl.figure.prototype.toolbar_button_onclick = function(name) {\n",
       "    if (name == 'download') {\n",
       "        this.handle_save(this, null);\n",
       "    } else {\n",
       "        this.send_message(\"toolbar_button\", {name: name});\n",
       "    }\n",
       "};\n",
       "\n",
       "mpl.figure.prototype.toolbar_button_onmouseover = function(tooltip) {\n",
       "    this.message.textContent = tooltip;\n",
       "};\n",
       "mpl.toolbar_items = [[\"Home\", \"Reset original view\", \"fa fa-home icon-home\", \"home\"], [\"Back\", \"Back to  previous view\", \"fa fa-arrow-left icon-arrow-left\", \"back\"], [\"Forward\", \"Forward to next view\", \"fa fa-arrow-right icon-arrow-right\", \"forward\"], [\"\", \"\", \"\", \"\"], [\"Pan\", \"Pan axes with left mouse, zoom with right\", \"fa fa-arrows icon-move\", \"pan\"], [\"Zoom\", \"Zoom to rectangle\", \"fa fa-square-o icon-check-empty\", \"zoom\"], [\"\", \"\", \"\", \"\"], [\"Download\", \"Download plot\", \"fa fa-floppy-o icon-save\", \"download\"]];\n",
       "\n",
       "mpl.extensions = [\"eps\", \"pdf\", \"png\", \"ps\", \"raw\", \"svg\"];\n",
       "\n",
       "mpl.default_extension = \"png\";var comm_websocket_adapter = function(comm) {\n",
       "    // Create a \"websocket\"-like object which calls the given IPython comm\n",
       "    // object with the appropriate methods. Currently this is a non binary\n",
       "    // socket, so there is still some room for performance tuning.\n",
       "    var ws = {};\n",
       "\n",
       "    ws.close = function() {\n",
       "        comm.close()\n",
       "    };\n",
       "    ws.send = function(m) {\n",
       "        //console.log('sending', m);\n",
       "        comm.send(m);\n",
       "    };\n",
       "    // Register the callback with on_msg.\n",
       "    comm.on_msg(function(msg) {\n",
       "        //console.log('receiving', msg['content']['data'], msg);\n",
       "        // Pass the mpl event to the overriden (by mpl) onmessage function.\n",
       "        ws.onmessage(msg['content']['data'])\n",
       "    });\n",
       "    return ws;\n",
       "}\n",
       "\n",
       "mpl.mpl_figure_comm = function(comm, msg) {\n",
       "    // This is the function which gets called when the mpl process\n",
       "    // starts-up an IPython Comm through the \"matplotlib\" channel.\n",
       "\n",
       "    var id = msg.content.data.id;\n",
       "    // Get hold of the div created by the display call when the Comm\n",
       "    // socket was opened in Python.\n",
       "    var element = $(\"#\" + id);\n",
       "    var ws_proxy = comm_websocket_adapter(comm)\n",
       "\n",
       "    function ondownload(figure, format) {\n",
       "        window.open(figure.imageObj.src);\n",
       "    }\n",
       "\n",
       "    var fig = new mpl.figure(id, ws_proxy,\n",
       "                           ondownload,\n",
       "                           element.get(0));\n",
       "\n",
       "    // Call onopen now - mpl needs it, as it is assuming we've passed it a real\n",
       "    // web socket which is closed, not our websocket->open comm proxy.\n",
       "    ws_proxy.onopen();\n",
       "\n",
       "    fig.parent_element = element.get(0);\n",
       "    fig.cell_info = mpl.find_output_cell(\"<div id='\" + id + \"'></div>\");\n",
       "    if (!fig.cell_info) {\n",
       "        console.error(\"Failed to find cell for figure\", id, fig);\n",
       "        return;\n",
       "    }\n",
       "\n",
       "    var output_index = fig.cell_info[2]\n",
       "    var cell = fig.cell_info[0];\n",
       "\n",
       "};\n",
       "\n",
       "mpl.figure.prototype.handle_close = function(fig, msg) {\n",
       "    fig.root.unbind('remove')\n",
       "\n",
       "    // Update the output cell to use the data from the current canvas.\n",
       "    fig.push_to_output();\n",
       "    var dataURL = fig.canvas.toDataURL();\n",
       "    // Re-enable the keyboard manager in IPython - without this line, in FF,\n",
       "    // the notebook keyboard shortcuts fail.\n",
       "    IPython.keyboard_manager.enable()\n",
       "    $(fig.parent_element).html('<img src=\"' + dataURL + '\">');\n",
       "    fig.close_ws(fig, msg);\n",
       "}\n",
       "\n",
       "mpl.figure.prototype.close_ws = function(fig, msg){\n",
       "    fig.send_message('closing', msg);\n",
       "    // fig.ws.close()\n",
       "}\n",
       "\n",
       "mpl.figure.prototype.push_to_output = function(remove_interactive) {\n",
       "    // Turn the data on the canvas into data in the output cell.\n",
       "    var dataURL = this.canvas.toDataURL();\n",
       "    this.cell_info[1]['text/html'] = '<img src=\"' + dataURL + '\">';\n",
       "}\n",
       "\n",
       "mpl.figure.prototype.updated_canvas_event = function() {\n",
       "    // Tell IPython that the notebook contents must change.\n",
       "    IPython.notebook.set_dirty(true);\n",
       "    this.send_message(\"ack\", {});\n",
       "    var fig = this;\n",
       "    // Wait a second, then push the new image to the DOM so\n",
       "    // that it is saved nicely (might be nice to debounce this).\n",
       "    setTimeout(function () { fig.push_to_output() }, 1000);\n",
       "}\n",
       "\n",
       "mpl.figure.prototype._init_toolbar = function() {\n",
       "    var fig = this;\n",
       "\n",
       "    var nav_element = $('<div/>')\n",
       "    nav_element.attr('style', 'width: 100%');\n",
       "    this.root.append(nav_element);\n",
       "\n",
       "    // Define a callback function for later on.\n",
       "    function toolbar_event(event) {\n",
       "        return fig.toolbar_button_onclick(event['data']);\n",
       "    }\n",
       "    function toolbar_mouse_event(event) {\n",
       "        return fig.toolbar_button_onmouseover(event['data']);\n",
       "    }\n",
       "\n",
       "    for(var toolbar_ind in mpl.toolbar_items){\n",
       "        var name = mpl.toolbar_items[toolbar_ind][0];\n",
       "        var tooltip = mpl.toolbar_items[toolbar_ind][1];\n",
       "        var image = mpl.toolbar_items[toolbar_ind][2];\n",
       "        var method_name = mpl.toolbar_items[toolbar_ind][3];\n",
       "\n",
       "        if (!name) { continue; };\n",
       "\n",
       "        var button = $('<button class=\"btn btn-default\" href=\"#\" title=\"' + name + '\"><i class=\"fa ' + image + ' fa-lg\"></i></button>');\n",
       "        button.click(method_name, toolbar_event);\n",
       "        button.mouseover(tooltip, toolbar_mouse_event);\n",
       "        nav_element.append(button);\n",
       "    }\n",
       "\n",
       "    // Add the status bar.\n",
       "    var status_bar = $('<span class=\"mpl-message\" style=\"text-align:right; float: right;\"/>');\n",
       "    nav_element.append(status_bar);\n",
       "    this.message = status_bar[0];\n",
       "\n",
       "    // Add the close button to the window.\n",
       "    var buttongrp = $('<div class=\"btn-group inline pull-right\"></div>');\n",
       "    var button = $('<button class=\"btn btn-mini btn-primary\" href=\"#\" title=\"Stop Interaction\"><i class=\"fa fa-power-off icon-remove icon-large\"></i></button>');\n",
       "    button.click(function (evt) { fig.handle_close(fig, {}); } );\n",
       "    button.mouseover('Stop Interaction', toolbar_mouse_event);\n",
       "    buttongrp.append(button);\n",
       "    var titlebar = this.root.find($('.ui-dialog-titlebar'));\n",
       "    titlebar.prepend(buttongrp);\n",
       "}\n",
       "\n",
       "mpl.figure.prototype._root_extra_style = function(el){\n",
       "    var fig = this\n",
       "    el.on(\"remove\", function(){\n",
       "\tfig.close_ws(fig, {});\n",
       "    });\n",
       "}\n",
       "\n",
       "mpl.figure.prototype._canvas_extra_style = function(el){\n",
       "    // this is important to make the div 'focusable\n",
       "    el.attr('tabindex', 0)\n",
       "    // reach out to IPython and tell the keyboard manager to turn it's self\n",
       "    // off when our div gets focus\n",
       "\n",
       "    // location in version 3\n",
       "    if (IPython.notebook.keyboard_manager) {\n",
       "        IPython.notebook.keyboard_manager.register_events(el);\n",
       "    }\n",
       "    else {\n",
       "        // location in version 2\n",
       "        IPython.keyboard_manager.register_events(el);\n",
       "    }\n",
       "\n",
       "}\n",
       "\n",
       "mpl.figure.prototype._key_event_extra = function(event, name) {\n",
       "    var manager = IPython.notebook.keyboard_manager;\n",
       "    if (!manager)\n",
       "        manager = IPython.keyboard_manager;\n",
       "\n",
       "    // Check for shift+enter\n",
       "    if (event.shiftKey && event.which == 13) {\n",
       "        this.canvas_div.blur();\n",
       "        event.shiftKey = false;\n",
       "        // Send a \"J\" for go to next cell\n",
       "        event.which = 74;\n",
       "        event.keyCode = 74;\n",
       "        manager.command_mode();\n",
       "        manager.handle_keydown(event);\n",
       "    }\n",
       "}\n",
       "\n",
       "mpl.figure.prototype.handle_save = function(fig, msg) {\n",
       "    fig.ondownload(fig, null);\n",
       "}\n",
       "\n",
       "\n",
       "mpl.find_output_cell = function(html_output) {\n",
       "    // Return the cell and output element which can be found *uniquely* in the notebook.\n",
       "    // Note - this is a bit hacky, but it is done because the \"notebook_saving.Notebook\"\n",
       "    // IPython event is triggered only after the cells have been serialised, which for\n",
       "    // our purposes (turning an active figure into a static one), is too late.\n",
       "    var cells = IPython.notebook.get_cells();\n",
       "    var ncells = cells.length;\n",
       "    for (var i=0; i<ncells; i++) {\n",
       "        var cell = cells[i];\n",
       "        if (cell.cell_type === 'code'){\n",
       "            for (var j=0; j<cell.output_area.outputs.length; j++) {\n",
       "                var data = cell.output_area.outputs[j];\n",
       "                if (data.data) {\n",
       "                    // IPython >= 3 moved mimebundle to data attribute of output\n",
       "                    data = data.data;\n",
       "                }\n",
       "                if (data['text/html'] == html_output) {\n",
       "                    return [cell, data, j];\n",
       "                }\n",
       "            }\n",
       "        }\n",
       "    }\n",
       "}\n",
       "\n",
       "// Register the function which deals with the matplotlib target/channel.\n",
       "// The kernel may be null if the page has been refreshed.\n",
       "if (IPython.notebook.kernel != null) {\n",
       "    IPython.notebook.kernel.comm_manager.register_target('matplotlib', mpl.mpl_figure_comm);\n",
       "}\n"
      ],
      "text/plain": [
       "<IPython.core.display.Javascript object>"
      ]
     },
     "metadata": {},
     "output_type": "display_data"
    },
    {
     "data": {
      "text/html": [
       "<img src=\"data:image/png;base64,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\">"
      ],
      "text/plain": [
       "<IPython.core.display.HTML object>"
      ]
     },
     "metadata": {},
     "output_type": "display_data"
    }
   ],
   "source": [
    "def dayrel(day):\n",
    "    global relfig\n",
    "    main.RelationDay(day,relfig)\n",
    "    print(main.dayslist[day])\n",
    "relfig = plt.figure(\"Relations\")"
   ]
  },
  {
   "cell_type": "code",
   "execution_count": 13,
   "metadata": {
    "collapsed": false,
    "slideshow": {
     "slide_type": "subslide"
    }
   },
   "outputs": [
    {
     "name": "stdout",
     "output_type": "stream",
     "text": [
      "2016 - 01 - 05\n"
     ]
    },
    {
     "name": "stderr",
     "output_type": "stream",
     "text": [
      "/home/gonzalo/BD/venv/lib/python3.4/site-packages/sklearn/manifold/mds.py:127: RuntimeWarning: invalid value encountered in double_scalars\n",
      "  old_stress = stress / dis\n",
      "/home/gonzalo/BD/venv/lib/python3.4/site-packages/sklearn/manifold/mds.py:122: RuntimeWarning: invalid value encountered in double_scalars\n",
      "  if(old_stress - stress / dis) < eps:\n"
     ]
    },
    {
     "data": {
      "text/plain": [
       "<function __main__.dayrel>"
      ]
     },
     "execution_count": 13,
     "metadata": {},
     "output_type": "execute_result"
    }
   ],
   "source": [
    "\n",
    "interact(dayrel,day=IntSlider(min=0,max=len(main.relationsmatrixes)-1,step=1,value=0,width='100%'))"
   ]
  },
  {
   "cell_type": "code",
   "execution_count": null,
   "metadata": {
    "collapsed": false,
    "slideshow": {
     "slide_type": "skip"
    }
   },
   "outputs": [],
   "source": []
  }
 ],
 "metadata": {
  "hide_input": true,
  "kernelspec": {
   "display_name": "Python 3",
   "language": "python",
   "name": "python3"
  },
  "language_info": {
   "codemirror_mode": {
    "name": "ipython",
    "version": 3
   },
   "file_extension": ".py",
   "mimetype": "text/x-python",
   "name": "python",
   "nbconvert_exporter": "python",
   "pygments_lexer": "ipython3",
   "version": "3.4.3"
  },
  "widgets": {
   "state": {
    "001b0d34586843c0b27dfb219f8ea836": {
     "views": []
    },
    "007e7ea7dd2c447cad493eab9499c666": {
     "views": []
    },
    "00fd73a6408f477d9d7b595a41ed92a1": {
     "views": []
    },
    "01457361c36547a0bfd21df02b9fea4d": {
     "views": []
    },
    "018386956852485597563668e2586198": {
     "views": []
    },
    "01c04c5682674b2f8d732a0372472a8e": {
     "views": []
    },
    "024c447623d1464a8f95cc9975de4077": {
     "views": []
    },
    "025251bcd4854af98fa368e86bbc72aa": {
     "views": []
    },
    "035b192f38ba4016b452e6f4303bc147": {
     "views": []
    },
    "04a9959f6c8b4aa1a55a3b37c4eca537": {
     "views": []
    },
    "04bdbc7350734c018d43d3dee527b35e": {
     "views": []
    },
    "06339fb17cbb4a22a07fb23205d48f82": {
     "views": []
    },
    "067d375cf5e0488ea981ae2e3a4bab6b": {
     "views": []
    },
    "07518305f3894888862b4edcebddc97a": {
     "views": []
    },
    "076dbaac4835433dadab3cd087771309": {
     "views": []
    },
    "07f7b28693394b739883399d941a2ab7": {
     "views": []
    },
    "0806644e8b104a9390f4407cd452a3bc": {
     "views": []
    },
    "080d8ac6171e4ab7bf0c5f9f692ac18a": {
     "views": []
    },
    "081a7f789d56466eb12d4130abe745db": {
     "views": []
    },
    "0849d237e0984a5daf3100993ab6186f": {
     "views": [
      {
       "cell_index": 6
      }
     ]
    },
    "0896f8b926104111852a0c3934316de6": {
     "views": []
    },
    "08b285c1b82640bcba046c38e3846382": {
     "views": []
    },
    "08e0c7f8b3674bf4a6daa12c0da158ba": {
     "views": []
    },
    "0999c6a991b2416f88dbe2631b786d8a": {
     "views": []
    },
    "0b36dd31f431488b8534a04117d8ffa8": {
     "views": []
    },
    "0bb4d47ec78c4e9f900000016742c1cc": {
     "views": []
    },
    "0bfd9484f5a549cca7d1bf014db5951f": {
     "views": []
    },
    "0ca7f680f59b4bdda67e0044290bce22": {
     "views": []
    },
    "0cfd965c789e4dc9a9802e7969860017": {
     "views": []
    },
    "0d362eab0de0439fa6798c66b8861e6f": {
     "views": []
    },
    "0ef4f123e9104d8ba000842fcda03d24": {
     "views": []
    },
    "0f1746224e704269868e09a09eef1809": {
     "views": []
    },
    "0f4df3b13e3d4ca4899b1a4adceff4ce": {
     "views": []
    },
    "0f55274873874451b71b9c1220b7747e": {
     "views": []
    },
    "1019c52fd66944499fa7e277a969dcec": {
     "views": []
    },
    "105335ace6284e82b33d59a7be566499": {
     "views": [
      {
       "cell_index": 6
      }
     ]
    },
    "10663df3ca14445ea3629adb8db27baf": {
     "views": []
    },
    "10c323bbb9a14a57be07b6cbb6feebb5": {
     "views": []
    },
    "1166528c89f444c29935300352bbfeff": {
     "views": []
    },
    "11fd909ee8394b1aa36bd45c57af50bf": {
     "views": []
    },
    "135743a0852d4d8aa7a0a7d1f4e61000": {
     "views": []
    },
    "140558fd63a545ee9a4e84e2b2e37891": {
     "views": []
    },
    "14b5b311a9b04c0e96e0d2dd71401b90": {
     "views": []
    },
    "14cdd4b5604743cc87866d1849340b91": {
     "views": []
    },
    "16db76a72a97433c9b6caedf4fe8ea32": {
     "views": []
    },
    "172f85394ee5408f84b2e1799c952f23": {
     "views": []
    },
    "17bcf1e1e36f4aff8cd0d194a2ce778f": {
     "views": []
    },
    "17c7fa6118e54d8eb9c382671581310d": {
     "views": []
    },
    "1839cd825ef041ffb71f6867b1139709": {
     "views": []
    },
    "18a3ee64cd50494ba2e27402e46ff476": {
     "views": [
      {
       "cell_index": 6
      }
     ]
    },
    "1950a2e628c540508d09a609072c3fa4": {
     "views": []
    },
    "1a26362feb514caf93faf787bde7acfc": {
     "views": []
    },
    "1a6c1396d7014cfbbb0dbec5678c9b6d": {
     "views": []
    },
    "1aaa1dd0b1ac4b4e8ed247926fa803e6": {
     "views": []
    },
    "1ab2cc9a58fe4c33ab8569d2ade4d2ce": {
     "views": []
    },
    "1abd3de4bcc0490485fd14e568799614": {
     "views": []
    },
    "1ae952f5a11d47fb8bf78b7c97f1f1c1": {
     "views": []
    },
    "1afdf29c667d40c28df136a9b3066df5": {
     "views": []
    },
    "1b773bc65ff2409f8e59da16137bf402": {
     "views": []
    },
    "1b80ccd35e794a33874986b90329d902": {
     "views": [
      {
       "cell_index": 6
      }
     ]
    },
    "1c1bffb36113414b9d49404f12911187": {
     "views": []
    },
    "1c1ca501d85b464abdcaf105c79422f9": {
     "views": []
    },
    "1c41a6a9a00c4b6b8ed34c8d4769cb71": {
     "views": []
    },
    "1c92bab83f234789a535609d99c8a1e5": {
     "views": []
    },
    "1c95c9acfe894531adbd860aa63c8f0c": {
     "views": []
    },
    "1cac815a64284e718823be74ce47f873": {
     "views": [
      {
       "cell_index": 6
      }
     ]
    },
    "1ceda91bd0594839be28f516d2649307": {
     "views": []
    },
    "1d1ac3dde2274fc49612e4898a7842ab": {
     "views": []
    },
    "1d1f2c9871f041df8b4f1366ebae76bf": {
     "views": []
    },
    "1d1fc552450348ddaab9b3f358f19f8e": {
     "views": []
    },
    "1d357308a7094afe98cf1e6077bbc723": {
     "views": [
      {
       "cell_index": 6
      }
     ]
    },
    "1db4f97b90a54ba1bfde7ca1e95a7f7f": {
     "views": []
    },
    "1e06a4f780f54dfb877b2dbef3ffa830": {
     "views": []
    },
    "20c893de4c5244bf817f4e807d413c68": {
     "views": []
    },
    "2130fe59b5af4bbfbeb18add61ecbd0b": {
     "views": []
    },
    "21f079cfabcd4bd4bc8f43779faa59c6": {
     "views": []
    },
    "21fc9c3988be4a23ac1743ac5bd8b02a": {
     "views": []
    },
    "21fe554ba76e4d9c8d0d3e5b3b3964c3": {
     "views": []
    },
    "233493117ec844c1801efc8a4ff5ac2f": {
     "views": []
    },
    "23e65e5f89af48fb9d52960549bc788d": {
     "views": []
    },
    "24c52ba3e5ab49bf98caa2344a9ff3b4": {
     "views": []
    },
    "24c65d90cf27412c9068ee1d68bedf47": {
     "views": []
    },
    "250d1f786eab4477a539cedfa5d09669": {
     "views": []
    },
    "2695b314fa9f492d953c8332856c63d8": {
     "views": [
      {
       "cell_index": 6
      }
     ]
    },
    "269e602d117e4b469b3bce78c0d18b4c": {
     "views": []
    },
    "26cde75cda8e4afdb4a133bffa234491": {
     "views": []
    },
    "277706df876a486a90fe7e8deb83ce2c": {
     "views": []
    },
    "287ace239aba4d79a5fcb959c7425bff": {
     "views": []
    },
    "28a08fe7d1234615a86267b231090b48": {
     "views": []
    },
    "28da22a08e444a7a933d4eae229078a6": {
     "views": []
    },
    "28dd79f7373243c4aab1daee46f37b80": {
     "views": []
    },
    "2900695633604d6fabbcd476076b1e90": {
     "views": []
    },
    "298565c04c9a49f4a5758629fa82deea": {
     "views": [
      {
       "cell_index": 6
      }
     ]
    },
    "2a5c7ad4c05347ba976da3b99d225c8c": {
     "views": []
    },
    "2a9259a0bb234b15ae7ed9557c3969e4": {
     "views": []
    },
    "2aaabcc5eecb4f79ba029bc93bf5557c": {
     "views": []
    },
    "2aab53c43cae4ba58cbfe314b1fe5c36": {
     "views": []
    },
    "2afd29a5ac0f43c09582db9ac6b4d82c": {
     "views": []
    },
    "2b13d0b53d3544878acf91ad5a2c003c": {
     "views": []
    },
    "2c2f1ed026204df5b9e2c5a67b07d47e": {
     "views": []
    },
    "2c69554d93bb4bf3a161c7da8cc2ae97": {
     "views": []
    },
    "2cc4f3cebff94faca984522e3da81b21": {
     "views": []
    },
    "2d146dfdf86f4283b4459d19d1c12107": {
     "views": []
    },
    "2d1590e719574e8aa433404cfafd2d24": {
     "views": []
    },
    "2e3b3373b680406fa54b7ee9b57fd0b6": {
     "views": []
    },
    "2f1eacd5c4264a21bc654cf4b2df4989": {
     "views": []
    },
    "2f363ba6524a45f1b93b893070bec0a2": {
     "views": []
    },
    "3039f5e73f084c4da4f4316bc6ee9ec5": {
     "views": []
    },
    "31116c659f3c4bf698e54a680b20206a": {
     "views": []
    },
    "311f13868c0044ed98d1c70bfd89f305": {
     "views": [
      {
       "cell_index": 6
      }
     ]
    },
    "3154429b5ce64746b844ab9977d27789": {
     "views": []
    },
    "3208afe613b541d4a474b61eb93d23b3": {
     "views": []
    },
    "32219cf95e0741639524ab8e2ffef5d6": {
     "views": []
    },
    "3269b2145d0c47888865e2074d2b0fbb": {
     "views": []
    },
    "3320b350b9294c40a674d0de39ff4a50": {
     "views": []
    },
    "3389adc17f91424888c5cb8509e804a3": {
     "views": []
    },
    "33c9c67a73a442cb93648f52274f1fe0": {
     "views": []
    },
    "33f806fdedf7428bb3b4308fb09c2809": {
     "views": []
    },
    "34666cdf379c49d3afa6e88f7d167faa": {
     "views": []
    },
    "355a2ad7cf2a48aaa6c5bb80d2d7c07e": {
     "views": []
    },
    "35606fd482fb4517a66349d96bf48b5f": {
     "views": []
    },
    "35ca920909b348369847b2a08e7def69": {
     "views": []
    },
    "35f8c1b5e3a14ca090ca5e3807031a4f": {
     "views": []
    },
    "36298c0949b3456dae1ae4ab2cc029c0": {
     "views": []
    },
    "3645e01dbaf9413ca84fbe1044208f15": {
     "views": []
    },
    "368f8a921f324c83b7823fa7aa7f0485": {
     "views": []
    },
    "3707c50c32e34b74a8bf2e4cf0e118b9": {
     "views": []
    },
    "3807bb3cb65d4940ac4051c792580b22": {
     "views": []
    },
    "3818d7ab43864ea4a95b0f2802db20d9": {
     "views": []
    },
    "389991f2cb084a4d863e20f1bc765066": {
     "views": []
    },
    "38d36192befd4d3183a474628abae050": {
     "views": []
    },
    "397db822487443449515a8917102d016": {
     "views": []
    },
    "3a19f2a2568a4b00a9252a7f6bbc9629": {
     "views": []
    },
    "3b4d57a6a9944175bf06685506207f4e": {
     "views": []
    },
    "3baf0d60f11d4db59ee82a7bf2b104f0": {
     "views": []
    },
    "3c359976758d436e8f8bbb6f044a59fc": {
     "views": []
    },
    "3cb41a59114c47cd80dd7a50eb91a225": {
     "views": []
    },
    "3cce1d92198249ada99451e546f52780": {
     "views": []
    },
    "3cf8f9669a8241d0b92c86782f7e0edf": {
     "views": []
    },
    "3d39c3b514904010aa5d8331decd4786": {
     "views": []
    },
    "3d49a4e0aabb441198172a0930b224aa": {
     "views": []
    },
    "3d6c74f971754a7fb334d32c15ddb08d": {
     "views": []
    },
    "3d78a68c29ee443e915be72b0cb4a828": {
     "views": []
    },
    "3fe90721905b403fa976926af0ed9bc2": {
     "views": []
    },
    "4019fa9fec0a49659f40c119d61747ff": {
     "views": []
    },
    "40990c9dd9204717beb7c44a9cd981f5": {
     "views": []
    },
    "423aae4f0edc49c887e1e7d85b2b2863": {
     "views": []
    },
    "429d5db4502a4fee924374058567a7f4": {
     "views": []
    },
    "436f0a13159c46939fd25da985a2258b": {
     "views": []
    },
    "437f66d0415a40a2b228766fa459fe66": {
     "views": []
    },
    "43de5258f0c14cb6a6fdcbb19e2dc9bd": {
     "views": []
    },
    "445e4c7ce9324c8b9bef97a3f27001e6": {
     "views": []
    },
    "451eab614278445da4ab72822b6e25c2": {
     "views": []
    },
    "453a61b37b6544a6a22b9270d3fe723d": {
     "views": []
    },
    "4570792f3c364d45bd18ed85262e02ba": {
     "views": []
    },
    "459f119169184781b460791a0c968e1f": {
     "views": []
    },
    "4683078cf2b240ba8f41c8798d962ac0": {
     "views": []
    },
    "4777c4e2bcfb45919c6d92fa9c6dbd62": {
     "views": []
    },
    "479a12c081904364bf19c7912110017e": {
     "views": []
    },
    "47d5b10ddb734aea8a27380f41747c7f": {
     "views": []
    },
    "48133c9e83434b8697825bc992572985": {
     "views": []
    },
    "4892097a212e4f2cbea1c9b43109b6ee": {
     "views": []
    },
    "48a2a36ffa5d497192fec45a644f747a": {
     "views": []
    },
    "48e15ec8869f4e288d2f4385a0966f8a": {
     "views": []
    },
    "4984f86a9aab488780e09be9cdba0048": {
     "views": []
    },
    "49b3ae6e06d24be3b25ba722c55446e3": {
     "views": []
    },
    "49f6b32925d744569f39f1e6e314f3a6": {
     "views": []
    },
    "4a32343e392c4f5a8c0c62887fea8225": {
     "views": []
    },
    "4aae8510400841ef81994427491dd4c3": {
     "views": []
    },
    "4ae6828ee6d442bfbdf08184f5419981": {
     "views": []
    },
    "4afc55314c16488698813df97515d7cc": {
     "views": []
    },
    "4b5b759203d44e05a57d85716293fa31": {
     "views": []
    },
    "4bc35d93704c4edfb634c08131ed1d8d": {
     "views": []
    },
    "4be6ebf2da7b42519f945a17b83834df": {
     "views": []
    },
    "4c1040b38f5a4ffab246e0ab6557a48c": {
     "views": []
    },
    "4cfbc87c9483433ab39f2a5b6c64a334": {
     "views": []
    },
    "4d521786441a443d919aa86953e903a9": {
     "views": []
    },
    "4d67a74a497d4898ac2f67be2147cc2f": {
     "views": []
    },
    "4dc2e145cee9450ca0da1d0b05c549d0": {
     "views": []
    },
    "4dfb206d3f914f0789b347d2f53c341a": {
     "views": []
    },
    "4e0acddf41be481aa90922ca10a871d5": {
     "views": []
    },
    "4e51d6665b0e43c0b7e622cf5217aa54": {
     "views": []
    },
    "4e7554e3f3314ca2b65dfeea436c12ab": {
     "views": []
    },
    "4e820eccaed74003b51b55b27961baf4": {
     "views": []
    },
    "502500f927c74562a67dae3c1d502c43": {
     "views": []
    },
    "50950b3db6dc429b9f37ba5f4c03489a": {
     "views": [
      {
       "cell_index": 6
      }
     ]
    },
    "50bb84a3ffd244ff9e956291396b5e6a": {
     "views": []
    },
    "519e2da5e0094494bec13a3bd191de63": {
     "views": [
      {
       "cell_index": 6
      }
     ]
    },
    "51ccf71cd8154fdb83d03cec601ad96f": {
     "views": []
    },
    "523e799e594d487ab131b9acc254d9b4": {
     "views": []
    },
    "5250a43bc8b3405298f02e1a54ca7ae5": {
     "views": []
    },
    "52ac50e21bca46ea92dfc0e6f0263bef": {
     "views": []
    },
    "536f1e225c66439cb1f1a756e9d0f73a": {
     "views": []
    },
    "541ecd7221c94662863356d4af79865c": {
     "views": []
    },
    "55988428e10e4558b0a63e226b1442f7": {
     "views": []
    },
    "55a83a92774846f9ad5a2317376b4442": {
     "views": []
    },
    "55bd92f4e78444ec880ed61fecd8970d": {
     "views": []
    },
    "55d479c08bed4befad1891b194f51f68": {
     "views": []
    },
    "5667b8979c7b4ff7a21cd9ccc41e18ef": {
     "views": [
      {
       "cell_index": 6
      }
     ]
    },
    "575d01e1144741709782ec526534fadc": {
     "views": []
    },
    "57f0b623d4484b3482565abfe9d47cf9": {
     "views": []
    },
    "58cfc2776c294f10b9a2a64b80a00e09": {
     "views": []
    },
    "58d7ca53bd934918ab3b186e30cd3678": {
     "views": []
    },
    "5912e0d88ba94c29afe80916511a3c60": {
     "views": []
    },
    "597ba7346fdc44d39be1935624360be4": {
     "views": []
    },
    "59b577e654ee43c89630eaf27f39d3ff": {
     "views": [
      {
       "cell_index": 6
      }
     ]
    },
    "59f628ce141d47f48b2d286437d8be92": {
     "views": []
    },
    "5a6e6dcb93be45b29a90ef7a5f08ecc6": {
     "views": []
    },
    "5a930be33d1440b18026228c8247b403": {
     "views": []
    },
    "5b2fc9cee2d54adeb531c4122310c85b": {
     "views": []
    },
    "5b5b797c29344ac5bbca12d163cbf3a8": {
     "views": []
    },
    "5b72fc575b2f4e9caf5174de84d36024": {
     "views": []
    },
    "5ca8ab770ebf449983f6da23d7d35f97": {
     "views": []
    },
    "5d75dc4cbdbc4739b813a744be47e983": {
     "views": []
    },
    "5dcd3a2d34a54b388576b33714f9ddf8": {
     "views": []
    },
    "5e0727c5366e4f7eae8c2cacd3e4d7a7": {
     "views": []
    },
    "5ec996ea5eba4d55ab8439ca45ece9de": {
     "views": []
    },
    "5f142fd9f4184262a4136209eb82d80b": {
     "views": []
    },
    "5f4d8d67a33c49ad83fcab6ff3037cba": {
     "views": []
    },
    "5f9456e1b0604912a59fd6b896001aa1": {
     "views": []
    },
    "5fcdd84f56634bc5a82b165b29eff235": {
     "views": []
    },
    "5fd22dfa973b4748b35d81c27f5e45fd": {
     "views": []
    },
    "6031c275477a4d279f1b1711c3428549": {
     "views": []
    },
    "607a221206aa46548ac3f086ac2fb75b": {
     "views": []
    },
    "607d357496094f28abb7ca603f1d1bf7": {
     "views": []
    },
    "60ad2c401a1546829dca3ee2c2ab15af": {
     "views": []
    },
    "6124cbaf63a54e958c512f81b085af27": {
     "views": []
    },
    "613f10b47cf048b1a409bd47245229f3": {
     "views": []
    },
    "6223c17d3ce944d0be2ef5877b29d026": {
     "views": []
    },
    "6239e390c0d844b7a4767af43d4a86bc": {
     "views": []
    },
    "62688f5c47d349d68662877b43c58256": {
     "views": []
    },
    "6370b2866f9c4931a2d665aeaabd74f1": {
     "views": []
    },
    "63fe3db25a82443088c34283a35f560f": {
     "views": []
    },
    "646805ca9c9c4a2ca9f7ec0de71a8191": {
     "views": [
      {
       "cell_index": 6
      }
     ]
    },
    "652c8f47568f4655afe21012b3913e54": {
     "views": []
    },
    "65b3294a32cd44f3b03e5dd5f2a365a5": {
     "views": []
    },
    "669c1a1ebecb445188527812095c539f": {
     "views": []
    },
    "66e565a98c8a4ce78e0530ed61d8b686": {
     "views": []
    },
    "66f710f672e945eda5e80a1dd18d4fb5": {
     "views": []
    },
    "67237ac46c804f3e9e94c2490499d617": {
     "views": []
    },
    "6728f43c11cd4a62b1c2756d6dc7d539": {
     "views": []
    },
    "67b5414716564aa28bc01dbae794ac5a": {
     "views": []
    },
    "68ca3906e3dd4c9388632ac01dcff381": {
     "views": []
    },
    "695f61f83f9d439bbb526396ae42bcd0": {
     "views": []
    },
    "6967f0160f2a4f3592cde28a72893ca6": {
     "views": []
    },
    "6b0c044259e5450c999aa736723951b6": {
     "views": []
    },
    "6cb330f97aa64a7aa69f08790f1e37ba": {
     "views": []
    },
    "6feb81fa0d6e4b858030bca1eba7fd88": {
     "views": []
    },
    "6fedd24b52974a5ba6cfb520e705d26e": {
     "views": [
      {
       "cell_index": 6
      }
     ]
    },
    "702270cfa9e84adbaf15d6f72465a8af": {
     "views": []
    },
    "70507ab812fd48519a59661c721a3d7e": {
     "views": []
    },
    "70dcc5714bdc47cc9a0867e46a7e5902": {
     "views": []
    },
    "7196ccd183e745a092fcf7004be1c145": {
     "views": []
    },
    "71ca823b76224ee7ad770740854a7415": {
     "views": [
      {
       "cell_index": 6
      }
     ]
    },
    "71d8d812814641bd9ccd9bb3415547a5": {
     "views": []
    },
    "7269676e68834abb9e91940b6d7dcd84": {
     "views": []
    },
    "727698471f284e52922822c10761cedb": {
     "views": []
    },
    "748b552797a24061be1c299a78ed6b15": {
     "views": []
    },
    "75093f13607241d2a78ca089aa0d0a77": {
     "views": []
    },
    "750fd790121240f8b07ec3a9be6b1c1d": {
     "views": []
    },
    "75c8d8dbd75a4e0997f9077f1d7965c2": {
     "views": []
    },
    "75faa52f9e9345db93adef5b21cf03dc": {
     "views": []
    },
    "76b0474bf1e74855981ab21d5e0f423e": {
     "views": []
    },
    "770bf4830e734a929e2c08fd2599c83e": {
     "views": []
    },
    "773939fc54d041388dbc421aef1f5651": {
     "views": []
    },
    "77c708d463164ce9901990bb07041c6a": {
     "views": []
    },
    "77f7367e0da240d190f6e88b1ff774e2": {
     "views": []
    },
    "780267eb56d14d039fc96cca3ce7a1f9": {
     "views": []
    },
    "78560bbbc5004a329033f904769ebc5d": {
     "views": []
    },
    "786b6216c738432cb58f32193d1d8bc4": {
     "views": [
      {
       "cell_index": 6
      }
     ]
    },
    "78e72df68560495ab4712c2c727b54fc": {
     "views": []
    },
    "794aaf4fb94c4e20a31192ec70475b26": {
     "views": []
    },
    "797b73b8b64d4e139bf9e360d6432ec2": {
     "views": []
    },
    "7994872a27c74d2d9c68b9c54999ad24": {
     "views": []
    },
    "79d66901e9ca4fb98175d6e4b423b779": {
     "views": []
    },
    "79f6bc71b4e64686b07a9be6fa1ff98e": {
     "views": []
    },
    "7a2f9524f0d0429d9d8c642fe7e02c74": {
     "views": [
      {
       "cell_index": 6
      }
     ]
    },
    "7a4298cf828048a583548e56055b9262": {
     "views": []
    },
    "7a4ae3994453407397787e7253ebf69e": {
     "views": []
    },
    "7a6254ce16234722b54c163fd5296280": {
     "views": [
      {
       "cell_index": 6
      }
     ]
    },
    "7a83b994d0ae4ef98b0eb58aa4e21320": {
     "views": []
    },
    "7af456b34b6d4f84b4ea2e21298c1c6f": {
     "views": []
    },
    "7b5421f35a564b7781fa9680318f443b": {
     "views": []
    },
    "7baa1ee24142443d8d50a53b2200e360": {
     "views": []
    },
    "7c20a292e6a847048021b9efbd390db3": {
     "views": []
    },
    "7d529e2a170c4625a6010778fa349c55": {
     "views": []
    },
    "7d7e3abe19824e2584be4b814b66d069": {
     "views": []
    },
    "7dde75895dc94af097ffe701836142c5": {
     "views": []
    },
    "7e199dc10f524a9b8d383ecd0d77381a": {
     "views": []
    },
    "7f7857d094c9463db9fa71d674d6c074": {
     "views": []
    },
    "7fa157e0a99f4713a1cb2b80fb5d7808": {
     "views": []
    },
    "7fa9668257694394867f0e10c0d52e0c": {
     "views": []
    },
    "804c0916273c495b8d0efbd04ab616e1": {
     "views": []
    },
    "817afa20c223462abaa98c5f5d65c30a": {
     "views": []
    },
    "81f73f2366d840088c13286d68b0e91f": {
     "views": [
      {
       "cell_index": 6
      }
     ]
    },
    "82414990883d4a108b9dab23bb07d4f0": {
     "views": [
      {
       "cell_index": 6
      }
     ]
    },
    "824515e291414422a7eb5de0611817d7": {
     "views": []
    },
    "829d933a7ce0439b886c948b16aa5316": {
     "views": []
    },
    "82c2e5fb831a42b1960b5dc5be5f78a8": {
     "views": []
    },
    "82d362395a2d4f20928a849af6e15b3c": {
     "views": []
    },
    "832024638da14ef58cc350e2655626c1": {
     "views": []
    },
    "836ab4a5207a43ba8a511e70b36e8178": {
     "views": []
    },
    "837df2fcc35a49c8a3c5ae86c0362708": {
     "views": []
    },
    "838c1552b96d481b993f4adc50020d4d": {
     "views": []
    },
    "83e39d542b5c4d2e819989dd149c4f86": {
     "views": []
    },
    "8426cc52a6e2447eab59eddaa7ccd735": {
     "views": []
    },
    "842be28355c64700856736cd4110d960": {
     "views": []
    },
    "845e94003d6f4bf6a769b3685fa08294": {
     "views": []
    },
    "84a52dac89ca49628daada790e9247ec": {
     "views": []
    },
    "84c21293b310451da39c879ec7a6f789": {
     "views": [
      {
       "cell_index": 6
      }
     ]
    },
    "84c7d091e7ba4209b72faa4b0688f0a4": {
     "views": []
    },
    "84d1e093a90e44398570ecbce8544247": {
     "views": []
    },
    "8552ab511b01480aa7c5e52522c0ecc7": {
     "views": []
    },
    "86992288af8347d285a3f5d2b0beb8f4": {
     "views": [
      {
       "cell_index": 6
      }
     ]
    },
    "87284dd62392422abca50eaf924f2b2d": {
     "views": []
    },
    "8791b969aafd4f65827b120005264970": {
     "views": []
    },
    "8815f1ec3b084159810076767d6b51d2": {
     "views": []
    },
    "88371a0b00b2452992f0414a2696cc32": {
     "views": []
    },
    "88c4428ede6f4d56b732479f16107e0a": {
     "views": []
    },
    "88f1d3f30f0a4793a030dea552ba1e94": {
     "views": []
    },
    "89968f0b10bc4e1ebceaec38c8bd7609": {
     "views": []
    },
    "89ee16bdaf4b4910a2f07d805da2b1d3": {
     "views": []
    },
    "8a8234ce307d4e878fec1d1eef0ce01d": {
     "views": []
    },
    "8bd71b1cce2942b7b5d839fb6f6a91ea": {
     "views": []
    },
    "8c1a01d6e7fd4bb08cc0aa5ba8a73381": {
     "views": []
    },
    "8c28a5feed184a059ee4faafd8e14181": {
     "views": []
    },
    "8c719b99cb504d6a9127830033867e1c": {
     "views": []
    },
    "8e14b1411b8e4e3aa69e44f7d5c7eb09": {
     "views": []
    },
    "8f303533f18647d69e87bdadf669911c": {
     "views": []
    },
    "8f5dd76baf004a69b61c44073c1c6e33": {
     "views": []
    },
    "8f7ac164e1b84afebb0d9f1dc807a0a7": {
     "views": []
    },
    "9003fbfadebd4fc1bc620d3508590cc5": {
     "views": []
    },
    "90077322657e4681831a9d4a8d310659": {
     "views": [
      {
       "cell_index": 6
      }
     ]
    },
    "9064a51ffc14419b9b0319af00e378c3": {
     "views": []
    },
    "917e0f734bf049378b95bcfc67cb487b": {
     "views": []
    },
    "9188b393d2e94c7b921229974cb344b8": {
     "views": []
    },
    "91e56c4d427b41c79d110442f2f48d8e": {
     "views": []
    },
    "930d048603bc4857964d48ed397543ba": {
     "views": []
    },
    "93627180ffe24eaf8dbd91f17417549d": {
     "views": []
    },
    "93a274c33783489d890a91c4bfd2f596": {
     "views": []
    },
    "940d2adeccb645fa80aa424a90274fc3": {
     "views": []
    },
    "9589dc9e73f74a2ca5b933cbdc44825f": {
     "views": []
    },
    "9595e76cba2749d6aca3d972b5d1ff70": {
     "views": []
    },
    "95cccef6ba8f4ac2b25749ed4f6790b4": {
     "views": []
    },
    "95d100fa639a478db4678b40c3a27af7": {
     "views": []
    },
    "969e7e0b81ca427abb0820fac19e7482": {
     "views": []
    },
    "97d9c478982347ac91902db0ec6c6cb0": {
     "views": []
    },
    "982d3cf4ca98401a9d9f2ea8bf99d41c": {
     "views": []
    },
    "9869f598850d4fd68026a10033205e2e": {
     "views": []
    },
    "99ad7f1092d34ee4a3670d2001ef2ff8": {
     "views": []
    },
    "9aedbfa13db44c72b0915fe55c335f5c": {
     "views": []
    },
    "9af9e7d960b849078097c51642e63a5a": {
     "views": []
    },
    "9aff468d9a4a41f28bb994acac2418f9": {
     "views": []
    },
    "9b5bdd5f57254529a4e2c6c416b26853": {
     "views": []
    },
    "9b5d82f08323415d82a904009c160f3f": {
     "views": []
    },
    "9bcab285907646ee8ef2ff323fd66af6": {
     "views": []
    },
    "9cfe56f5960f41ee94ef821e7a0e86d5": {
     "views": []
    },
    "9d1e16ba3b2d44a0b66dc623f949d98f": {
     "views": []
    },
    "9dda679f756e400fa34360e9a401a732": {
     "views": []
    },
    "9e62559a6e6e45749e153705e585d8e2": {
     "views": []
    },
    "9e6d1894d9014e27a74cf9040ff5a7c6": {
     "views": []
    },
    "9f2dd23243594ec4813df46656d3a75b": {
     "views": []
    },
    "9fa1925bef2b420696850c183a26d8ea": {
     "views": []
    },
    "9fa648618f9b4a1a95d735c7bc7dbe7f": {
     "views": []
    },
    "9fcad095ca084b568012de6af6af60be": {
     "views": []
    },
    "9fced6bbb9f040f69a73a340b48fef0d": {
     "views": []
    },
    "a0a8a4042d954bf2986902b6a9c15be8": {
     "views": []
    },
    "a0c48a789a264edebb8d4addefb5ca47": {
     "views": []
    },
    "a0f9cc7f7c984e96accb125717f7294d": {
     "views": []
    },
    "a2927e3448544b0a9e3cab5aa935e055": {
     "views": []
    },
    "a2fdec3244cb4466a39fa7e8abcb74ca": {
     "views": []
    },
    "a37391c1061740a89a957a427c222bb8": {
     "views": []
    },
    "a427b7c048204dc7aea20f1e748f1fb3": {
     "views": []
    },
    "a4750cdcd0d74a45b5f52262545bd2f2": {
     "views": []
    },
    "a4c79b22bd044eff8067e175052d940f": {
     "views": []
    },
    "a4ca55f5332a456ab4d11bf24cbb656f": {
     "views": [
      {
       "cell_index": 6
      }
     ]
    },
    "a56e601322bf407085daee93ffd7e3b3": {
     "views": []
    },
    "a6173b1064d84a0b94130ad6e87ba146": {
     "views": []
    },
    "a630192a2e82424a8ad7178ca02f0390": {
     "views": [
      {
       "cell_index": 6
      }
     ]
    },
    "a646e5ec187346dc9c31ee00a4a8e27e": {
     "views": []
    },
    "a7fac4d0ca18483f8934a4feeea42dce": {
     "views": []
    },
    "a81b44c9b99e4484949e05775ece22ed": {
     "views": []
    },
    "a8b2a001c9e34e70ba3dcbad48873a5b": {
     "views": []
    },
    "a91802b2e82947269794a43031cef950": {
     "views": []
    },
    "a93cc36fb87644688796360733b46517": {
     "views": []
    },
    "a979d1627da04453a11ccbbd18fc6c37": {
     "views": []
    },
    "aa525459f76a4f43ad15dc14841c0b48": {
     "views": []
    },
    "aa65218933694cc8a8ebab9518ea2bd8": {
     "views": []
    },
    "aa7b85c3807546319addbb250f87ae0b": {
     "views": []
    },
    "aaeab0fa7c044876b8a19b4e92c077ad": {
     "views": []
    },
    "abe8129e2cee4f349f0c16aba7b89273": {
     "views": []
    },
    "abecf56abb8843e0b0918701d1d5199f": {
     "views": []
    },
    "ac0a17aadace410b8600ea5ad2311ed3": {
     "views": []
    },
    "ac9254e4e57a44c6827dda4f5115b06e": {
     "views": []
    },
    "acc9e00dfa9944c885369396a8640442": {
     "views": []
    },
    "ad4c5966257b4623a217ea246a9294b3": {
     "views": []
    },
    "ad62418b26c344918196e773047badb2": {
     "views": [
      {
       "cell_index": 6
      }
     ]
    },
    "ad673b7afe304b93b560b3d455873291": {
     "views": []
    },
    "ad8a5e691d004c3cbb4d724187397987": {
     "views": []
    },
    "ae089d9777ac41dfa00f1c732f4988a4": {
     "views": []
    },
    "ae2e66c4ca7740ffa15fe0973156aca2": {
     "views": []
    },
    "aece7a78c4ca40fcadeffd23d1d7a169": {
     "views": []
    },
    "aecf6026f5f3484aa390444790d0a86e": {
     "views": []
    },
    "aedc8388cc944736aeb6681df6cadb79": {
     "views": []
    },
    "aee57bfd520340f99a7a9b8807dcba32": {
     "views": []
    },
    "aeff5d0ff9d24b05906f6f202a7d38ab": {
     "views": []
    },
    "afbd5ca7d87f493a888b683e402806bd": {
     "views": []
    },
    "b0530bdcc23a43aba55e8d8310ac7007": {
     "views": [
      {
       "cell_index": 6
      }
     ]
    },
    "b085e5f9cf744fda896279ef1b432e39": {
     "views": []
    },
    "b08c180d147a46fc91475bdbdbbc5190": {
     "views": []
    },
    "b0ac7578f6f1481b979f46b09d2baad2": {
     "views": []
    },
    "b159839aa86e47eb9f37dd6371f317e8": {
     "views": []
    },
    "b16b647bc9ee4f50ac21e7963f1ceeb4": {
     "views": []
    },
    "b1e3dddff9744374aa3dd80680266efb": {
     "views": []
    },
    "b2016699a6524f2db5df7a8bd000c34b": {
     "views": []
    },
    "b205e6c3a2334741aacc9233bedad106": {
     "views": []
    },
    "b235f8321eb548688ce435bd287860f2": {
     "views": []
    },
    "b2611bd1861848db86eddbcce8821171": {
     "views": []
    },
    "b29d3acd65cb4558a1ed0b0a4860b339": {
     "views": []
    },
    "b2a4809bd9234946b2742271c4f83bcd": {
     "views": [
      {
       "cell_index": 3
      }
     ]
    },
    "b2d6db35ff444bf793c4a634489b5c37": {
     "views": []
    },
    "b2e9cc9ead464b2aa688106ccc0afda3": {
     "views": []
    },
    "b38b580740b241e79d4a299c14b30c58": {
     "views": [
      {
       "cell_index": 6
      }
     ]
    },
    "b40bb000e50e4db5b31a0693bcdbcb9e": {
     "views": []
    },
    "b42a3df3dd364700b44c7d0c0266ccec": {
     "views": []
    },
    "b4683bd52f68424fab47c1a851ae9a2d": {
     "views": []
    },
    "b4dd25b11486407f9017dbdc6e4a3e2a": {
     "views": [
      {
       "cell_index": 6
      }
     ]
    },
    "b5049f3121b04ee5b5c0144944497b7d": {
     "views": []
    },
    "b5f1cc25a05d4db28b81ee93072631ce": {
     "views": []
    },
    "b6c645d402e8466e90321a0dcf137b89": {
     "views": []
    },
    "b7a24fefaead47df9e17eab3ae3f2b02": {
     "views": []
    },
    "b82be1c681b645a2a0efcc1f2be06b17": {
     "views": []
    },
    "b97c2b3eee714a5189459b89b15fbaf4": {
     "views": []
    },
    "ba13eeec065847c090233ee27176c276": {
     "views": []
    },
    "ba28b5fba6604432bc0a286e7d8296ec": {
     "views": []
    },
    "bc723ef8d63942b492aa1331c777124e": {
     "views": []
    },
    "bd74458c36f14240b79d597cac4b60e1": {
     "views": []
    },
    "bdf3b61284f249418a332e43c830a456": {
     "views": []
    },
    "be8c1edc084c45d0b485129b4051cd08": {
     "views": []
    },
    "be917f75a9c94a0c91417ab2cf47f636": {
     "views": []
    },
    "bed7edf9b6394f228d3e05a634e93f49": {
     "views": []
    },
    "c015be31fb7a4b57adf7b07c5593ff55": {
     "views": []
    },
    "c04ca2050b354c0792f47c7f8a0a2245": {
     "views": []
    },
    "c0560cfb757a41dda93d9d722efb57a1": {
     "views": []
    },
    "c0bbdaaeb95c489fadcc4e45c8b6b17e": {
     "views": []
    },
    "c0e34a5f9c344e7aa220cdd9891013d5": {
     "views": []
    },
    "c16c04975de741e485a7574517859ca3": {
     "views": []
    },
    "c20a7151d4bd48319dfaf919c75a5277": {
     "views": []
    },
    "c31f85e0ef304fdca531c0404f92d1c7": {
     "views": []
    },
    "c36aa4c475fb4f0a97648ea9486da479": {
     "views": []
    },
    "c3b59264ca554d21b882326967f98a56": {
     "views": []
    },
    "c3c68f34c08b43c48f230c6c77728b00": {
     "views": []
    },
    "c3ebc6a6263741698d3f869f1494e565": {
     "views": []
    },
    "c41a150c36a04a4a92227bfb5661e581": {
     "views": []
    },
    "c46d8ceb23fb4576b6036ac4084c629c": {
     "views": [
      {
       "cell_index": 6
      }
     ]
    },
    "c4ba011c78d04d78b5190eb1b3cfb11d": {
     "views": []
    },
    "c4e7aca07f99488c9fdfffaab7c4e6dd": {
     "views": []
    },
    "c5e112038c3e4436bd498a48d20cfa78": {
     "views": []
    },
    "c60cd2fe9edb4ded9cc60752ee2a5727": {
     "views": []
    },
    "c65e3e9b71464f65910fde1d0b2ed353": {
     "views": []
    },
    "c6c6c861ed8d4ccf816eeb4edfb18201": {
     "views": []
    },
    "c76f1b9708c248338907278589ccfcc7": {
     "views": []
    },
    "c7f108e03b0d45729ee6a7a81775bc91": {
     "views": []
    },
    "c7fd19a0aa5641bfb90575a292aa7cef": {
     "views": []
    },
    "ca2afe9a7b794107a78a1175d89bd530": {
     "views": []
    },
    "ca62cccb0cdf48f9afd0059abd70e59e": {
     "views": []
    },
    "ca64f683176b468b84fd4bffe4effe20": {
     "views": []
    },
    "ca7f07c956ff4f86b837821a0317cdc1": {
     "views": []
    },
    "cae08787c25b483991ffa60acee27d41": {
     "views": []
    },
    "cb3b7127198249919eaa6059cb0dc6c9": {
     "views": []
    },
    "cb82015af4f0400cb4e7046d653c2600": {
     "views": []
    },
    "cba42369f34c4f36aecb41bdaf1e3520": {
     "views": []
    },
    "cbd439bf71834687b75fec317df6d0f8": {
     "views": []
    },
    "cc7e184b727a4a11bea1e36df82d48bd": {
     "views": []
    },
    "ccb52eec057d4fc1898691e30d912350": {
     "views": []
    },
    "cce0861a5afc4d609a86831d616b2e20": {
     "views": []
    },
    "cd9948ef2b144554a44c413a5de8f598": {
     "views": []
    },
    "ce067be6750c4ef49cb86e88fc429264": {
     "views": []
    },
    "cec0291653aa4d9e97d03f533d517b7d": {
     "views": []
    },
    "cf7c378c6baf494bb9069c0caec1dd45": {
     "views": [
      {
       "cell_index": 6
      }
     ]
    },
    "cf8ec7af44f04639b579b6e9ef7f9a4d": {
     "views": []
    },
    "cf905391ee534830a076cec5d0cfc785": {
     "views": []
    },
    "d163fdeb59ae4d92a8978e4b44223228": {
     "views": []
    },
    "d16b685fd84b45b984e316071b98b16c": {
     "views": []
    },
    "d1aad26a41b444f79152e30d93b63466": {
     "views": []
    },
    "d1c54e4c2a2544968dd0c0427be1a640": {
     "views": []
    },
    "d24703afd3c84e42bb92f4bbec352ad5": {
     "views": []
    },
    "d2df1ae2fe9244d0b9368d09038fdb7b": {
     "views": []
    },
    "d38c66f7d3174fb1b450514df1621df1": {
     "views": []
    },
    "d4f8d0b033d946b3aa7dfec3410b880f": {
     "views": []
    },
    "d662a23e64a34501bfcae0772916b062": {
     "views": []
    },
    "d6878bf913c048638d97d62082070c6f": {
     "views": []
    },
    "d68c018182bd4f5d989a294f73fca6b2": {
     "views": []
    },
    "d77b48b3deab45628b97eb672306c37c": {
     "views": []
    },
    "d86975681a7b40a49fd9d3eb67b5c8f0": {
     "views": []
    },
    "d86d1d5859f54b2d86e30dcea38ef948": {
     "views": []
    },
    "d903b0ddcae0444a94b3abfabf42b70b": {
     "views": []
    },
    "dd1641f0ba5a4e26bb1235f48bd1985e": {
     "views": []
    },
    "dda10841bde74bcf944ecca9759734a0": {
     "views": []
    },
    "de32969865a04df8bc2ac0b50b0ada82": {
     "views": []
    },
    "de696c4abdbd4f31b294857611332d74": {
     "views": []
    },
    "deaebbb19d4249a996243788dde725d6": {
     "views": []
    },
    "df67e7521e384678be189158354f0e2d": {
     "views": []
    },
    "df886145a10e407fa80f89c572a30c32": {
     "views": []
    },
    "df8f58d8fd914361ae5fcb126fb21eea": {
     "views": []
    },
    "e06badc0dc9a477b8ee73090a7d829f5": {
     "views": []
    },
    "e097a5532cdb45e4bdb11c7b4ba17131": {
     "views": [
      {
       "cell_index": 6
      }
     ]
    },
    "e098d1fb88fb46aba63dda010f84177a": {
     "views": []
    },
    "e0bfd54fe8334fe4b0340317d21d05d5": {
     "views": []
    },
    "e0f9aa76816047bb8377dfb319015948": {
     "views": []
    },
    "e15164afa0d44125ae5bdaa5ddbf7222": {
     "views": []
    },
    "e1b0b6192b8b457fb926735ab018c1a1": {
     "views": [
      {
       "cell_index": 6
      }
     ]
    },
    "e1e973348e6c495dad6bed176500b855": {
     "views": []
    },
    "e24b550194534e878316936074432c4c": {
     "views": []
    },
    "e250c1818ff04ee68b61a71c3fc0b2c3": {
     "views": []
    },
    "e418508bcc8441b68c5d6af5483b8c1b": {
     "views": []
    },
    "e49ec4d5ed604488bbc9ea146536aa0b": {
     "views": []
    },
    "e50627b008804d96ba62a824e36696a7": {
     "views": []
    },
    "e5bb6766b9f84fe9af90bcd8bc32bf9f": {
     "views": []
    },
    "e6129ba9b1a64156a563fa23dc1b517e": {
     "views": [
      {
       "cell_index": 6
      }
     ]
    },
    "e6727c1be9df45df82f79ca7c6dfe8f6": {
     "views": []
    },
    "e6cd6f800f1745588dcc833bdb6b13f2": {
     "views": []
    },
    "e78f6ea173434591bc29ded9ae52f0ce": {
     "views": []
    },
    "e81ba0dcafa54028b688733f0a9e1b6a": {
     "views": []
    },
    "e8977fe4828647e5b12f731bcb2b2cd5": {
     "views": []
    },
    "e8a83a631a544d88b89f68dbab708c29": {
     "views": []
    },
    "e91ddd4f27bc4a00804bf7b44ec36f7c": {
     "views": []
    },
    "e97e28e2e1764b13b65b428631e33ad6": {
     "views": []
    },
    "ea31da2a93d845c9ad3413fa5ed0e36a": {
     "views": []
    },
    "ea756660c27442609350054221280caf": {
     "views": [
      {
       "cell_index": 9
      }
     ]
    },
    "eada611f6dc0472d99ecd5f328050858": {
     "views": []
    },
    "eafff8837acb4df6add48a9ea448765a": {
     "views": []
    },
    "eb62c914bf5a4bdd833c971749e632e6": {
     "views": []
    },
    "ec4b9eb2f4864b4ea939d37153883c1b": {
     "views": []
    },
    "ec88606b21ad48f6857dbe4e767c3818": {
     "views": []
    },
    "ecd0fb2cb08f46feb79ceeff0b521ab1": {
     "views": []
    },
    "ecd9e8efddc04900be36114979d36a36": {
     "views": []
    },
    "eeb159540a90421eb40060b0545d9d21": {
     "views": [
      {
       "cell_index": 6
      }
     ]
    },
    "ef8740b8c16a4f36a00d2fb9105e1c26": {
     "views": []
    },
    "ef923bebe9dd4e31a6fccb23a5107fc2": {
     "views": []
    },
    "efe809cadf934ca082ac085e709eccac": {
     "views": []
    },
    "f0576dbdd8874b4a92d4ab313c52df64": {
     "views": []
    },
    "f141080e27e34887a575f90828329648": {
     "views": []
    },
    "f186103b170544f1a0707194511ed722": {
     "views": []
    },
    "f26f233622dd420eb827523964a4f59b": {
     "views": []
    },
    "f2a3832033224cf9ae8e3068d17295bb": {
     "views": []
    },
    "f326349d4431416c9b289afc80b3fd06": {
     "views": []
    },
    "f329b05982044317916d640ab86ca993": {
     "views": []
    },
    "f3814691f30f47408ef1a0fa842d0fa9": {
     "views": []
    },
    "f5bbea2094e440ce9b3b0b0a11cdeadc": {
     "views": []
    },
    "f62cec11ff8b4101b8edc2b4edde9b0d": {
     "views": []
    },
    "f700fc6f31504b0289d0c2e01ee69597": {
     "views": []
    },
    "f7bc578bbdad4b22bad7f14ffaa2ac26": {
     "views": []
    },
    "f84b7ac01ad74092acee8b5937fe6d9f": {
     "views": []
    },
    "f8583a4839c54d8abc66340072724ca3": {
     "views": []
    },
    "f8e2f516b7c6419dbf5cb6d1a78c0a3f": {
     "views": []
    },
    "f933afc106e04b8bbd2dcd636936d697": {
     "views": []
    },
    "fa6a2894a73c44eb9d77f75ecf84ca82": {
     "views": []
    },
    "fad583b19e234e8bb6ac219c5ba759e4": {
     "views": []
    },
    "fb7bffd90e2f4c04ae30083098664ffa": {
     "views": []
    },
    "fb9db5ab8936496b87259516290386bc": {
     "views": [
      {
       "cell_index": 6
      }
     ]
    },
    "fc4236a117024f1aa5a44b58421bc3da": {
     "views": []
    },
    "fd6e133d548b4464836ce0ee1405bee4": {
     "views": []
    },
    "fdc13b9101264ebdb588615c1c112969": {
     "views": []
    },
    "fe044a6f96704e8cb77ed0332775c515": {
     "views": []
    },
    "fe37481f39844c11bc12a74398bc4968": {
     "views": []
    },
    "fea76d34cfaa41278cdb7295daafb20c": {
     "views": []
    },
    "fed3588f84914fc39f8be6042f154d5a": {
     "views": [
      {
       "cell_index": 6
      }
     ]
    },
    "fedaa85e5992416c93c178ab127395c1": {
     "views": []
    },
    "fefc0ed8758e43e69b7684d5d39afd90": {
     "views": []
    }
   },
   "version": "1.1.2"
  }
 },
 "nbformat": 4,
 "nbformat_minor": 0
}
