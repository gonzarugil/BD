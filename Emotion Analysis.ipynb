{
 "cells": [
  {
   "cell_type": "markdown",
   "metadata": {
    "slideshow": {
     "slide_type": "slide"
    }
   },
   "source": [
    "<h1 align=\"center\"> Emotion Analysis in RSS News <h1>"
   ]
  },
  {
   "cell_type": "code",
   "execution_count": 1,
   "metadata": {
    "collapsed": false,
    "hide_input": false,
    "scrolled": true,
    "slideshow": {
     "slide_type": "skip"
    }
   },
   "outputs": [
    {
     "data": {
      "text/html": [
       "<script>\n",
       "code_show=true; \n",
       "function code_toggle() {\n",
       " if (code_show){\n",
       " $('div.input').hide();\n",
       " } else {\n",
       " $('div.input').show();\n",
       " }\n",
       " code_show = !code_show\n",
       "} \n",
       "$( document ).ready(code_toggle);\n",
       "</script>\n",
       "The raw code for this IPython notebook is by default hidden for easier reading.\n",
       "To toggle on/off the raw code, click <a href=\"javascript:code_toggle()\">here</a>."
      ],
      "text/plain": [
       "<IPython.core.display.HTML object>"
      ]
     },
     "execution_count": 1,
     "metadata": {},
     "output_type": "execute_result"
    }
   ],
   "source": [
    "%matplotlib notebook\n",
    "%config InlineBackend.close_figures = False\n",
    "import main\n",
    "import ipywidgets as widgets\n",
    "from ipywidgets import *\n",
    "from IPython.display import display\n",
    "from IPython.display import clear_output\n",
    "from IPython.display import Javascript\n",
    "import matplotlib.pyplot as plt\n",
    "from IPython.core.display import HTML\n",
    "\n",
    "fig_size = []\n",
    "fig_size.append(9)\n",
    "fig_size.append(5)\n",
    "plt.rcParams[\"figure.figsize\"] = fig_size\n",
    "\n",
    "def css_styling():\n",
    "    styles = open(\"custom.css\", \"r\").read() #or edit path to custom.css\n",
    "    return HTML(styles)\n",
    "css_styling()\n",
    "\n",
    "HTML('''<script>\n",
    "code_show=true; \n",
    "function code_toggle() {\n",
    " if (code_show){\n",
    " $('div.input').hide();\n",
    " } else {\n",
    " $('div.input').show();\n",
    " }\n",
    " code_show = !code_show\n",
    "} \n",
    "$( document ).ready(code_toggle);\n",
    "</script>\n",
    "The raw code for this IPython notebook is by default hidden for easier reading.\n",
    "To toggle on/off the raw code, click <a href=\"javascript:code_toggle()\">here</a>.''')"
   ]
  },
  {
   "cell_type": "markdown",
   "metadata": {},
   "source": [
    "<h2 align=\"center\"> Selection of the days interval for the analysis <h2>"
   ]
  },
  {
   "cell_type": "code",
   "execution_count": 2,
   "metadata": {
    "collapsed": false
   },
   "outputs": [],
   "source": [
    "daystart = None\n",
    "dayend = None\n",
    "dayinterval = main.makelast30days(main.dayslist)\n",
    "\n",
    "def setstart(start):\n",
    "    global daystart\n",
    "    daystart = start\n",
    "\n",
    "def setend(end):\n",
    "    global dayend\n",
    "    dayend = end\n",
    "\n",
    "choosestart = widgets.Select(options=main.dayslist,value=main.dayslist[len(main.dayslist)-31])\n",
    "chooseend = widgets.Select(options=main.dayslist,value=main.dayslist[len(main.dayslist)-1])\n",
    "choosestart.layout.width='100%'\n",
    "chooseend.layout.width='100%'\n",
    "\n",
    "i = widgets.interactive(setstart,start=choosestart)\n",
    "j = widgets.interactive(setend,end=chooseend)\n",
    "\n",
    "n = HBox([VBox([i]),VBox([j])])\n",
    "display(n)\n",
    "\n",
    "\n"
   ]
  },
  {
   "cell_type": "code",
   "execution_count": 3,
   "metadata": {
    "collapsed": false
   },
   "outputs": [],
   "source": [
    "def set_interval(sender):\n",
    "    global daystart,dayend,dayinterval\n",
    "    dayinterval = main.makedayinterval(daystart,dayend)\n",
    "    main.setdayinterval(dayinterval)\n",
    "    display(Javascript('IPython.notebook.execute_cells_below()'))\n",
    "    clear_output()\n",
    "    print(\"Selected interval: \"+ daystart +\" to \"+dayend)\n",
    "\n",
    "intervalbutton = widgets.Button(description='Save Interval')\n",
    "intervalbutton.layout.width='90%'\n",
    "intervalbutton.on_click(set_interval)\n",
    "display(intervalbutton)"
   ]
  },
  {
   "cell_type": "markdown",
   "metadata": {
    "slideshow": {
     "slide_type": "slide"
    }
   },
   "source": [
    "<h2 align=\"center\"> Selection of the terms of the search <h2>"
   ]
  },
  {
   "cell_type": "code",
   "execution_count": 16,
   "metadata": {
    "collapsed": false,
    "slideshow": {
     "slide_type": "subslide"
    }
   },
   "outputs": [
    {
     "data": {
      "application/javascript": [
       "IPython.notebook.execute_cells_below()"
      ],
      "text/plain": [
       "<IPython.core.display.Javascript object>"
      ]
     },
     "metadata": {},
     "output_type": "display_data"
    }
   ],
   "source": [
    "text = widgets.Text(placeholder=\"Insert the CED words separated by commas\")\n",
    "text.layout.width='100%'\n",
    "display(text)\n",
    "def handle_submit(sender):\n",
    "    clear_output()\n",
    "    newced = main.parseinput(text.value)\n",
    "    main.setcedwords(newced)\n",
    "    print (\"the new CED is: \"+ str(newced))\n",
    "    display(Javascript('IPython.notebook.execute_cells_below()'))\n",
    "\n",
    "text.on_submit(handle_submit)"
   ]
  },
  {
   "cell_type": "markdown",
   "metadata": {
    "slideshow": {
     "slide_type": "slide"
    }
   },
   "source": [
    "<h2 align=\"center\"> Emotion Graph <h2>"
   ]
  },
  {
   "cell_type": "code",
   "execution_count": 17,
   "metadata": {
    "collapsed": false,
    "hide_input": true,
    "scrolled": false,
    "slideshow": {
     "slide_type": "subslide"
    }
   },
   "outputs": [
    {
     "data": {
      "application/javascript": [
       "/* Put everything inside the global mpl namespace */\n",
       "window.mpl = {};\n",
       "\n",
       "mpl.get_websocket_type = function() {\n",
       "    if (typeof(WebSocket) !== 'undefined') {\n",
       "        return WebSocket;\n",
       "    } else if (typeof(MozWebSocket) !== 'undefined') {\n",
       "        return MozWebSocket;\n",
       "    } else {\n",
       "        alert('Your browser does not have WebSocket support.' +\n",
       "              'Please try Chrome, Safari or Firefox ≥ 6. ' +\n",
       "              'Firefox 4 and 5 are also supported but you ' +\n",
       "              'have to enable WebSockets in about:config.');\n",
       "    };\n",
       "}\n",
       "\n",
       "mpl.figure = function(figure_id, websocket, ondownload, parent_element) {\n",
       "    this.id = figure_id;\n",
       "\n",
       "    this.ws = websocket;\n",
       "\n",
       "    this.supports_binary = (this.ws.binaryType != undefined);\n",
       "\n",
       "    if (!this.supports_binary) {\n",
       "        var warnings = document.getElementById(\"mpl-warnings\");\n",
       "        if (warnings) {\n",
       "            warnings.style.display = 'block';\n",
       "            warnings.textContent = (\n",
       "                \"This browser does not support binary websocket messages. \" +\n",
       "                    \"Performance may be slow.\");\n",
       "        }\n",
       "    }\n",
       "\n",
       "    this.imageObj = new Image();\n",
       "\n",
       "    this.context = undefined;\n",
       "    this.message = undefined;\n",
       "    this.canvas = undefined;\n",
       "    this.rubberband_canvas = undefined;\n",
       "    this.rubberband_context = undefined;\n",
       "    this.format_dropdown = undefined;\n",
       "\n",
       "    this.image_mode = 'full';\n",
       "\n",
       "    this.root = $('<div/>');\n",
       "    this._root_extra_style(this.root)\n",
       "    this.root.attr('style', 'display: inline-block');\n",
       "\n",
       "    $(parent_element).append(this.root);\n",
       "\n",
       "    this._init_header(this);\n",
       "    this._init_canvas(this);\n",
       "    this._init_toolbar(this);\n",
       "\n",
       "    var fig = this;\n",
       "\n",
       "    this.waiting = false;\n",
       "\n",
       "    this.ws.onopen =  function () {\n",
       "            fig.send_message(\"supports_binary\", {value: fig.supports_binary});\n",
       "            fig.send_message(\"send_image_mode\", {});\n",
       "            fig.send_message(\"refresh\", {});\n",
       "        }\n",
       "\n",
       "    this.imageObj.onload = function() {\n",
       "            if (fig.image_mode == 'full') {\n",
       "                // Full images could contain transparency (where diff images\n",
       "                // almost always do), so we need to clear the canvas so that\n",
       "                // there is no ghosting.\n",
       "                fig.context.clearRect(0, 0, fig.canvas.width, fig.canvas.height);\n",
       "            }\n",
       "            fig.context.drawImage(fig.imageObj, 0, 0);\n",
       "        };\n",
       "\n",
       "    this.imageObj.onunload = function() {\n",
       "        this.ws.close();\n",
       "    }\n",
       "\n",
       "    this.ws.onmessage = this._make_on_message_function(this);\n",
       "\n",
       "    this.ondownload = ondownload;\n",
       "}\n",
       "\n",
       "mpl.figure.prototype._init_header = function() {\n",
       "    var titlebar = $(\n",
       "        '<div class=\"ui-dialog-titlebar ui-widget-header ui-corner-all ' +\n",
       "        'ui-helper-clearfix\"/>');\n",
       "    var titletext = $(\n",
       "        '<div class=\"ui-dialog-title\" style=\"width: 100%; ' +\n",
       "        'text-align: center; padding: 3px;\"/>');\n",
       "    titlebar.append(titletext)\n",
       "    this.root.append(titlebar);\n",
       "    this.header = titletext[0];\n",
       "}\n",
       "\n",
       "\n",
       "\n",
       "mpl.figure.prototype._canvas_extra_style = function(canvas_div) {\n",
       "\n",
       "}\n",
       "\n",
       "\n",
       "mpl.figure.prototype._root_extra_style = function(canvas_div) {\n",
       "\n",
       "}\n",
       "\n",
       "mpl.figure.prototype._init_canvas = function() {\n",
       "    var fig = this;\n",
       "\n",
       "    var canvas_div = $('<div/>');\n",
       "\n",
       "    canvas_div.attr('style', 'position: relative; clear: both; outline: 0');\n",
       "\n",
       "    function canvas_keyboard_event(event) {\n",
       "        return fig.key_event(event, event['data']);\n",
       "    }\n",
       "\n",
       "    canvas_div.keydown('key_press', canvas_keyboard_event);\n",
       "    canvas_div.keyup('key_release', canvas_keyboard_event);\n",
       "    this.canvas_div = canvas_div\n",
       "    this._canvas_extra_style(canvas_div)\n",
       "    this.root.append(canvas_div);\n",
       "\n",
       "    var canvas = $('<canvas/>');\n",
       "    canvas.addClass('mpl-canvas');\n",
       "    canvas.attr('style', \"left: 0; top: 0; z-index: 0; outline: 0\")\n",
       "\n",
       "    this.canvas = canvas[0];\n",
       "    this.context = canvas[0].getContext(\"2d\");\n",
       "\n",
       "    var rubberband = $('<canvas/>');\n",
       "    rubberband.attr('style', \"position: absolute; left: 0; top: 0; z-index: 1;\")\n",
       "\n",
       "    var pass_mouse_events = true;\n",
       "\n",
       "    canvas_div.resizable({\n",
       "        start: function(event, ui) {\n",
       "            pass_mouse_events = false;\n",
       "        },\n",
       "        resize: function(event, ui) {\n",
       "            fig.request_resize(ui.size.width, ui.size.height);\n",
       "        },\n",
       "        stop: function(event, ui) {\n",
       "            pass_mouse_events = true;\n",
       "            fig.request_resize(ui.size.width, ui.size.height);\n",
       "        },\n",
       "    });\n",
       "\n",
       "    function mouse_event_fn(event) {\n",
       "        if (pass_mouse_events)\n",
       "            return fig.mouse_event(event, event['data']);\n",
       "    }\n",
       "\n",
       "    rubberband.mousedown('button_press', mouse_event_fn);\n",
       "    rubberband.mouseup('button_release', mouse_event_fn);\n",
       "    // Throttle sequential mouse events to 1 every 20ms.\n",
       "    rubberband.mousemove('motion_notify', mouse_event_fn);\n",
       "\n",
       "    rubberband.mouseenter('figure_enter', mouse_event_fn);\n",
       "    rubberband.mouseleave('figure_leave', mouse_event_fn);\n",
       "\n",
       "    canvas_div.on(\"wheel\", function (event) {\n",
       "        event = event.originalEvent;\n",
       "        event['data'] = 'scroll'\n",
       "        if (event.deltaY < 0) {\n",
       "            event.step = 1;\n",
       "        } else {\n",
       "            event.step = -1;\n",
       "        }\n",
       "        mouse_event_fn(event);\n",
       "    });\n",
       "\n",
       "    canvas_div.append(canvas);\n",
       "    canvas_div.append(rubberband);\n",
       "\n",
       "    this.rubberband = rubberband;\n",
       "    this.rubberband_canvas = rubberband[0];\n",
       "    this.rubberband_context = rubberband[0].getContext(\"2d\");\n",
       "    this.rubberband_context.strokeStyle = \"#000000\";\n",
       "\n",
       "    this._resize_canvas = function(width, height) {\n",
       "        // Keep the size of the canvas, canvas container, and rubber band\n",
       "        // canvas in synch.\n",
       "        canvas_div.css('width', width)\n",
       "        canvas_div.css('height', height)\n",
       "\n",
       "        canvas.attr('width', width);\n",
       "        canvas.attr('height', height);\n",
       "\n",
       "        rubberband.attr('width', width);\n",
       "        rubberband.attr('height', height);\n",
       "    }\n",
       "\n",
       "    // Set the figure to an initial 600x600px, this will subsequently be updated\n",
       "    // upon first draw.\n",
       "    this._resize_canvas(600, 600);\n",
       "\n",
       "    // Disable right mouse context menu.\n",
       "    $(this.rubberband_canvas).bind(\"contextmenu\",function(e){\n",
       "        return false;\n",
       "    });\n",
       "\n",
       "    function set_focus () {\n",
       "        canvas.focus();\n",
       "        canvas_div.focus();\n",
       "    }\n",
       "\n",
       "    window.setTimeout(set_focus, 100);\n",
       "}\n",
       "\n",
       "mpl.figure.prototype._init_toolbar = function() {\n",
       "    var fig = this;\n",
       "\n",
       "    var nav_element = $('<div/>')\n",
       "    nav_element.attr('style', 'width: 100%');\n",
       "    this.root.append(nav_element);\n",
       "\n",
       "    // Define a callback function for later on.\n",
       "    function toolbar_event(event) {\n",
       "        return fig.toolbar_button_onclick(event['data']);\n",
       "    }\n",
       "    function toolbar_mouse_event(event) {\n",
       "        return fig.toolbar_button_onmouseover(event['data']);\n",
       "    }\n",
       "\n",
       "    for(var toolbar_ind in mpl.toolbar_items) {\n",
       "        var name = mpl.toolbar_items[toolbar_ind][0];\n",
       "        var tooltip = mpl.toolbar_items[toolbar_ind][1];\n",
       "        var image = mpl.toolbar_items[toolbar_ind][2];\n",
       "        var method_name = mpl.toolbar_items[toolbar_ind][3];\n",
       "\n",
       "        if (!name) {\n",
       "            // put a spacer in here.\n",
       "            continue;\n",
       "        }\n",
       "        var button = $('<button/>');\n",
       "        button.addClass('ui-button ui-widget ui-state-default ui-corner-all ' +\n",
       "                        'ui-button-icon-only');\n",
       "        button.attr('role', 'button');\n",
       "        button.attr('aria-disabled', 'false');\n",
       "        button.click(method_name, toolbar_event);\n",
       "        button.mouseover(tooltip, toolbar_mouse_event);\n",
       "\n",
       "        var icon_img = $('<span/>');\n",
       "        icon_img.addClass('ui-button-icon-primary ui-icon');\n",
       "        icon_img.addClass(image);\n",
       "        icon_img.addClass('ui-corner-all');\n",
       "\n",
       "        var tooltip_span = $('<span/>');\n",
       "        tooltip_span.addClass('ui-button-text');\n",
       "        tooltip_span.html(tooltip);\n",
       "\n",
       "        button.append(icon_img);\n",
       "        button.append(tooltip_span);\n",
       "\n",
       "        nav_element.append(button);\n",
       "    }\n",
       "\n",
       "    var fmt_picker_span = $('<span/>');\n",
       "\n",
       "    var fmt_picker = $('<select/>');\n",
       "    fmt_picker.addClass('mpl-toolbar-option ui-widget ui-widget-content');\n",
       "    fmt_picker_span.append(fmt_picker);\n",
       "    nav_element.append(fmt_picker_span);\n",
       "    this.format_dropdown = fmt_picker[0];\n",
       "\n",
       "    for (var ind in mpl.extensions) {\n",
       "        var fmt = mpl.extensions[ind];\n",
       "        var option = $(\n",
       "            '<option/>', {selected: fmt === mpl.default_extension}).html(fmt);\n",
       "        fmt_picker.append(option)\n",
       "    }\n",
       "\n",
       "    // Add hover states to the ui-buttons\n",
       "    $( \".ui-button\" ).hover(\n",
       "        function() { $(this).addClass(\"ui-state-hover\");},\n",
       "        function() { $(this).removeClass(\"ui-state-hover\");}\n",
       "    );\n",
       "\n",
       "    var status_bar = $('<span class=\"mpl-message\"/>');\n",
       "    nav_element.append(status_bar);\n",
       "    this.message = status_bar[0];\n",
       "}\n",
       "\n",
       "mpl.figure.prototype.request_resize = function(x_pixels, y_pixels) {\n",
       "    // Request matplotlib to resize the figure. Matplotlib will then trigger a resize in the client,\n",
       "    // which will in turn request a refresh of the image.\n",
       "    this.send_message('resize', {'width': x_pixels, 'height': y_pixels});\n",
       "}\n",
       "\n",
       "mpl.figure.prototype.send_message = function(type, properties) {\n",
       "    properties['type'] = type;\n",
       "    properties['figure_id'] = this.id;\n",
       "    this.ws.send(JSON.stringify(properties));\n",
       "}\n",
       "\n",
       "mpl.figure.prototype.send_draw_message = function() {\n",
       "    if (!this.waiting) {\n",
       "        this.waiting = true;\n",
       "        this.ws.send(JSON.stringify({type: \"draw\", figure_id: this.id}));\n",
       "    }\n",
       "}\n",
       "\n",
       "\n",
       "mpl.figure.prototype.handle_save = function(fig, msg) {\n",
       "    var format_dropdown = fig.format_dropdown;\n",
       "    var format = format_dropdown.options[format_dropdown.selectedIndex].value;\n",
       "    fig.ondownload(fig, format);\n",
       "}\n",
       "\n",
       "\n",
       "mpl.figure.prototype.handle_resize = function(fig, msg) {\n",
       "    var size = msg['size'];\n",
       "    if (size[0] != fig.canvas.width || size[1] != fig.canvas.height) {\n",
       "        fig._resize_canvas(size[0], size[1]);\n",
       "        fig.send_message(\"refresh\", {});\n",
       "    };\n",
       "}\n",
       "\n",
       "mpl.figure.prototype.handle_rubberband = function(fig, msg) {\n",
       "    var x0 = msg['x0'];\n",
       "    var y0 = fig.canvas.height - msg['y0'];\n",
       "    var x1 = msg['x1'];\n",
       "    var y1 = fig.canvas.height - msg['y1'];\n",
       "    x0 = Math.floor(x0) + 0.5;\n",
       "    y0 = Math.floor(y0) + 0.5;\n",
       "    x1 = Math.floor(x1) + 0.5;\n",
       "    y1 = Math.floor(y1) + 0.5;\n",
       "    var min_x = Math.min(x0, x1);\n",
       "    var min_y = Math.min(y0, y1);\n",
       "    var width = Math.abs(x1 - x0);\n",
       "    var height = Math.abs(y1 - y0);\n",
       "\n",
       "    fig.rubberband_context.clearRect(\n",
       "        0, 0, fig.canvas.width, fig.canvas.height);\n",
       "\n",
       "    fig.rubberband_context.strokeRect(min_x, min_y, width, height);\n",
       "}\n",
       "\n",
       "mpl.figure.prototype.handle_figure_label = function(fig, msg) {\n",
       "    // Updates the figure title.\n",
       "    fig.header.textContent = msg['label'];\n",
       "}\n",
       "\n",
       "mpl.figure.prototype.handle_cursor = function(fig, msg) {\n",
       "    var cursor = msg['cursor'];\n",
       "    switch(cursor)\n",
       "    {\n",
       "    case 0:\n",
       "        cursor = 'pointer';\n",
       "        break;\n",
       "    case 1:\n",
       "        cursor = 'default';\n",
       "        break;\n",
       "    case 2:\n",
       "        cursor = 'crosshair';\n",
       "        break;\n",
       "    case 3:\n",
       "        cursor = 'move';\n",
       "        break;\n",
       "    }\n",
       "    fig.rubberband_canvas.style.cursor = cursor;\n",
       "}\n",
       "\n",
       "mpl.figure.prototype.handle_message = function(fig, msg) {\n",
       "    fig.message.textContent = msg['message'];\n",
       "}\n",
       "\n",
       "mpl.figure.prototype.handle_draw = function(fig, msg) {\n",
       "    // Request the server to send over a new figure.\n",
       "    fig.send_draw_message();\n",
       "}\n",
       "\n",
       "mpl.figure.prototype.handle_image_mode = function(fig, msg) {\n",
       "    fig.image_mode = msg['mode'];\n",
       "}\n",
       "\n",
       "mpl.figure.prototype.updated_canvas_event = function() {\n",
       "    // Called whenever the canvas gets updated.\n",
       "    this.send_message(\"ack\", {});\n",
       "}\n",
       "\n",
       "// A function to construct a web socket function for onmessage handling.\n",
       "// Called in the figure constructor.\n",
       "mpl.figure.prototype._make_on_message_function = function(fig) {\n",
       "    return function socket_on_message(evt) {\n",
       "        if (evt.data instanceof Blob) {\n",
       "            /* FIXME: We get \"Resource interpreted as Image but\n",
       "             * transferred with MIME type text/plain:\" errors on\n",
       "             * Chrome.  But how to set the MIME type?  It doesn't seem\n",
       "             * to be part of the websocket stream */\n",
       "            evt.data.type = \"image/png\";\n",
       "\n",
       "            /* Free the memory for the previous frames */\n",
       "            if (fig.imageObj.src) {\n",
       "                (window.URL || window.webkitURL).revokeObjectURL(\n",
       "                    fig.imageObj.src);\n",
       "            }\n",
       "\n",
       "            fig.imageObj.src = (window.URL || window.webkitURL).createObjectURL(\n",
       "                evt.data);\n",
       "            fig.updated_canvas_event();\n",
       "            fig.waiting = false;\n",
       "            return;\n",
       "        }\n",
       "        else if (typeof evt.data === 'string' && evt.data.slice(0, 21) == \"data:image/png;base64\") {\n",
       "            fig.imageObj.src = evt.data;\n",
       "            fig.updated_canvas_event();\n",
       "            fig.waiting = false;\n",
       "            return;\n",
       "        }\n",
       "\n",
       "        var msg = JSON.parse(evt.data);\n",
       "        var msg_type = msg['type'];\n",
       "\n",
       "        // Call the  \"handle_{type}\" callback, which takes\n",
       "        // the figure and JSON message as its only arguments.\n",
       "        try {\n",
       "            var callback = fig[\"handle_\" + msg_type];\n",
       "        } catch (e) {\n",
       "            console.log(\"No handler for the '\" + msg_type + \"' message type: \", msg);\n",
       "            return;\n",
       "        }\n",
       "\n",
       "        if (callback) {\n",
       "            try {\n",
       "                // console.log(\"Handling '\" + msg_type + \"' message: \", msg);\n",
       "                callback(fig, msg);\n",
       "            } catch (e) {\n",
       "                console.log(\"Exception inside the 'handler_\" + msg_type + \"' callback:\", e, e.stack, msg);\n",
       "            }\n",
       "        }\n",
       "    };\n",
       "}\n",
       "\n",
       "// from http://stackoverflow.com/questions/1114465/getting-mouse-location-in-canvas\n",
       "mpl.findpos = function(e) {\n",
       "    //this section is from http://www.quirksmode.org/js/events_properties.html\n",
       "    var targ;\n",
       "    if (!e)\n",
       "        e = window.event;\n",
       "    if (e.target)\n",
       "        targ = e.target;\n",
       "    else if (e.srcElement)\n",
       "        targ = e.srcElement;\n",
       "    if (targ.nodeType == 3) // defeat Safari bug\n",
       "        targ = targ.parentNode;\n",
       "\n",
       "    // jQuery normalizes the pageX and pageY\n",
       "    // pageX,Y are the mouse positions relative to the document\n",
       "    // offset() returns the position of the element relative to the document\n",
       "    var x = e.pageX - $(targ).offset().left;\n",
       "    var y = e.pageY - $(targ).offset().top;\n",
       "\n",
       "    return {\"x\": x, \"y\": y};\n",
       "};\n",
       "\n",
       "/*\n",
       " * return a copy of an object with only non-object keys\n",
       " * we need this to avoid circular references\n",
       " * http://stackoverflow.com/a/24161582/3208463\n",
       " */\n",
       "function simpleKeys (original) {\n",
       "  return Object.keys(original).reduce(function (obj, key) {\n",
       "    if (typeof original[key] !== 'object')\n",
       "        obj[key] = original[key]\n",
       "    return obj;\n",
       "  }, {});\n",
       "}\n",
       "\n",
       "mpl.figure.prototype.mouse_event = function(event, name) {\n",
       "    var canvas_pos = mpl.findpos(event)\n",
       "\n",
       "    if (name === 'button_press')\n",
       "    {\n",
       "        this.canvas.focus();\n",
       "        this.canvas_div.focus();\n",
       "    }\n",
       "\n",
       "    var x = canvas_pos.x;\n",
       "    var y = canvas_pos.y;\n",
       "\n",
       "    this.send_message(name, {x: x, y: y, button: event.button,\n",
       "                             step: event.step,\n",
       "                             guiEvent: simpleKeys(event)});\n",
       "\n",
       "    /* This prevents the web browser from automatically changing to\n",
       "     * the text insertion cursor when the button is pressed.  We want\n",
       "     * to control all of the cursor setting manually through the\n",
       "     * 'cursor' event from matplotlib */\n",
       "    event.preventDefault();\n",
       "    return false;\n",
       "}\n",
       "\n",
       "mpl.figure.prototype._key_event_extra = function(event, name) {\n",
       "    // Handle any extra behaviour associated with a key event\n",
       "}\n",
       "\n",
       "mpl.figure.prototype.key_event = function(event, name) {\n",
       "\n",
       "    // Prevent repeat events\n",
       "    if (name == 'key_press')\n",
       "    {\n",
       "        if (event.which === this._key)\n",
       "            return;\n",
       "        else\n",
       "            this._key = event.which;\n",
       "    }\n",
       "    if (name == 'key_release')\n",
       "        this._key = null;\n",
       "\n",
       "    var value = '';\n",
       "    if (event.ctrlKey && event.which != 17)\n",
       "        value += \"ctrl+\";\n",
       "    if (event.altKey && event.which != 18)\n",
       "        value += \"alt+\";\n",
       "    if (event.shiftKey && event.which != 16)\n",
       "        value += \"shift+\";\n",
       "\n",
       "    value += 'k';\n",
       "    value += event.which.toString();\n",
       "\n",
       "    this._key_event_extra(event, name);\n",
       "\n",
       "    this.send_message(name, {key: value,\n",
       "                             guiEvent: simpleKeys(event)});\n",
       "    return false;\n",
       "}\n",
       "\n",
       "mpl.figure.prototype.toolbar_button_onclick = function(name) {\n",
       "    if (name == 'download') {\n",
       "        this.handle_save(this, null);\n",
       "    } else {\n",
       "        this.send_message(\"toolbar_button\", {name: name});\n",
       "    }\n",
       "};\n",
       "\n",
       "mpl.figure.prototype.toolbar_button_onmouseover = function(tooltip) {\n",
       "    this.message.textContent = tooltip;\n",
       "};\n",
       "mpl.toolbar_items = [[\"Home\", \"Reset original view\", \"fa fa-home icon-home\", \"home\"], [\"Back\", \"Back to  previous view\", \"fa fa-arrow-left icon-arrow-left\", \"back\"], [\"Forward\", \"Forward to next view\", \"fa fa-arrow-right icon-arrow-right\", \"forward\"], [\"\", \"\", \"\", \"\"], [\"Pan\", \"Pan axes with left mouse, zoom with right\", \"fa fa-arrows icon-move\", \"pan\"], [\"Zoom\", \"Zoom to rectangle\", \"fa fa-square-o icon-check-empty\", \"zoom\"], [\"\", \"\", \"\", \"\"], [\"Download\", \"Download plot\", \"fa fa-floppy-o icon-save\", \"download\"]];\n",
       "\n",
       "mpl.extensions = [\"eps\", \"pdf\", \"png\", \"ps\", \"raw\", \"svg\"];\n",
       "\n",
       "mpl.default_extension = \"png\";var comm_websocket_adapter = function(comm) {\n",
       "    // Create a \"websocket\"-like object which calls the given IPython comm\n",
       "    // object with the appropriate methods. Currently this is a non binary\n",
       "    // socket, so there is still some room for performance tuning.\n",
       "    var ws = {};\n",
       "\n",
       "    ws.close = function() {\n",
       "        comm.close()\n",
       "    };\n",
       "    ws.send = function(m) {\n",
       "        //console.log('sending', m);\n",
       "        comm.send(m);\n",
       "    };\n",
       "    // Register the callback with on_msg.\n",
       "    comm.on_msg(function(msg) {\n",
       "        //console.log('receiving', msg['content']['data'], msg);\n",
       "        // Pass the mpl event to the overriden (by mpl) onmessage function.\n",
       "        ws.onmessage(msg['content']['data'])\n",
       "    });\n",
       "    return ws;\n",
       "}\n",
       "\n",
       "mpl.mpl_figure_comm = function(comm, msg) {\n",
       "    // This is the function which gets called when the mpl process\n",
       "    // starts-up an IPython Comm through the \"matplotlib\" channel.\n",
       "\n",
       "    var id = msg.content.data.id;\n",
       "    // Get hold of the div created by the display call when the Comm\n",
       "    // socket was opened in Python.\n",
       "    var element = $(\"#\" + id);\n",
       "    var ws_proxy = comm_websocket_adapter(comm)\n",
       "\n",
       "    function ondownload(figure, format) {\n",
       "        window.open(figure.imageObj.src);\n",
       "    }\n",
       "\n",
       "    var fig = new mpl.figure(id, ws_proxy,\n",
       "                           ondownload,\n",
       "                           element.get(0));\n",
       "\n",
       "    // Call onopen now - mpl needs it, as it is assuming we've passed it a real\n",
       "    // web socket which is closed, not our websocket->open comm proxy.\n",
       "    ws_proxy.onopen();\n",
       "\n",
       "    fig.parent_element = element.get(0);\n",
       "    fig.cell_info = mpl.find_output_cell(\"<div id='\" + id + \"'></div>\");\n",
       "    if (!fig.cell_info) {\n",
       "        console.error(\"Failed to find cell for figure\", id, fig);\n",
       "        return;\n",
       "    }\n",
       "\n",
       "    var output_index = fig.cell_info[2]\n",
       "    var cell = fig.cell_info[0];\n",
       "\n",
       "};\n",
       "\n",
       "mpl.figure.prototype.handle_close = function(fig, msg) {\n",
       "    fig.root.unbind('remove')\n",
       "\n",
       "    // Update the output cell to use the data from the current canvas.\n",
       "    fig.push_to_output();\n",
       "    var dataURL = fig.canvas.toDataURL();\n",
       "    // Re-enable the keyboard manager in IPython - without this line, in FF,\n",
       "    // the notebook keyboard shortcuts fail.\n",
       "    IPython.keyboard_manager.enable()\n",
       "    $(fig.parent_element).html('<img src=\"' + dataURL + '\">');\n",
       "    fig.close_ws(fig, msg);\n",
       "}\n",
       "\n",
       "mpl.figure.prototype.close_ws = function(fig, msg){\n",
       "    fig.send_message('closing', msg);\n",
       "    // fig.ws.close()\n",
       "}\n",
       "\n",
       "mpl.figure.prototype.push_to_output = function(remove_interactive) {\n",
       "    // Turn the data on the canvas into data in the output cell.\n",
       "    var dataURL = this.canvas.toDataURL();\n",
       "    this.cell_info[1]['text/html'] = '<img src=\"' + dataURL + '\">';\n",
       "}\n",
       "\n",
       "mpl.figure.prototype.updated_canvas_event = function() {\n",
       "    // Tell IPython that the notebook contents must change.\n",
       "    IPython.notebook.set_dirty(true);\n",
       "    this.send_message(\"ack\", {});\n",
       "    var fig = this;\n",
       "    // Wait a second, then push the new image to the DOM so\n",
       "    // that it is saved nicely (might be nice to debounce this).\n",
       "    setTimeout(function () { fig.push_to_output() }, 1000);\n",
       "}\n",
       "\n",
       "mpl.figure.prototype._init_toolbar = function() {\n",
       "    var fig = this;\n",
       "\n",
       "    var nav_element = $('<div/>')\n",
       "    nav_element.attr('style', 'width: 100%');\n",
       "    this.root.append(nav_element);\n",
       "\n",
       "    // Define a callback function for later on.\n",
       "    function toolbar_event(event) {\n",
       "        return fig.toolbar_button_onclick(event['data']);\n",
       "    }\n",
       "    function toolbar_mouse_event(event) {\n",
       "        return fig.toolbar_button_onmouseover(event['data']);\n",
       "    }\n",
       "\n",
       "    for(var toolbar_ind in mpl.toolbar_items){\n",
       "        var name = mpl.toolbar_items[toolbar_ind][0];\n",
       "        var tooltip = mpl.toolbar_items[toolbar_ind][1];\n",
       "        var image = mpl.toolbar_items[toolbar_ind][2];\n",
       "        var method_name = mpl.toolbar_items[toolbar_ind][3];\n",
       "\n",
       "        if (!name) { continue; };\n",
       "\n",
       "        var button = $('<button class=\"btn btn-default\" href=\"#\" title=\"' + name + '\"><i class=\"fa ' + image + ' fa-lg\"></i></button>');\n",
       "        button.click(method_name, toolbar_event);\n",
       "        button.mouseover(tooltip, toolbar_mouse_event);\n",
       "        nav_element.append(button);\n",
       "    }\n",
       "\n",
       "    // Add the status bar.\n",
       "    var status_bar = $('<span class=\"mpl-message\" style=\"text-align:right; float: right;\"/>');\n",
       "    nav_element.append(status_bar);\n",
       "    this.message = status_bar[0];\n",
       "\n",
       "    // Add the close button to the window.\n",
       "    var buttongrp = $('<div class=\"btn-group inline pull-right\"></div>');\n",
       "    var button = $('<button class=\"btn btn-mini btn-primary\" href=\"#\" title=\"Stop Interaction\"><i class=\"fa fa-power-off icon-remove icon-large\"></i></button>');\n",
       "    button.click(function (evt) { fig.handle_close(fig, {}); } );\n",
       "    button.mouseover('Stop Interaction', toolbar_mouse_event);\n",
       "    buttongrp.append(button);\n",
       "    var titlebar = this.root.find($('.ui-dialog-titlebar'));\n",
       "    titlebar.prepend(buttongrp);\n",
       "}\n",
       "\n",
       "mpl.figure.prototype._root_extra_style = function(el){\n",
       "    var fig = this\n",
       "    el.on(\"remove\", function(){\n",
       "\tfig.close_ws(fig, {});\n",
       "    });\n",
       "}\n",
       "\n",
       "mpl.figure.prototype._canvas_extra_style = function(el){\n",
       "    // this is important to make the div 'focusable\n",
       "    el.attr('tabindex', 0)\n",
       "    // reach out to IPython and tell the keyboard manager to turn it's self\n",
       "    // off when our div gets focus\n",
       "\n",
       "    // location in version 3\n",
       "    if (IPython.notebook.keyboard_manager) {\n",
       "        IPython.notebook.keyboard_manager.register_events(el);\n",
       "    }\n",
       "    else {\n",
       "        // location in version 2\n",
       "        IPython.keyboard_manager.register_events(el);\n",
       "    }\n",
       "\n",
       "}\n",
       "\n",
       "mpl.figure.prototype._key_event_extra = function(event, name) {\n",
       "    var manager = IPython.notebook.keyboard_manager;\n",
       "    if (!manager)\n",
       "        manager = IPython.keyboard_manager;\n",
       "\n",
       "    // Check for shift+enter\n",
       "    if (event.shiftKey && event.which == 13) {\n",
       "        this.canvas_div.blur();\n",
       "        event.shiftKey = false;\n",
       "        // Send a \"J\" for go to next cell\n",
       "        event.which = 74;\n",
       "        event.keyCode = 74;\n",
       "        manager.command_mode();\n",
       "        manager.handle_keydown(event);\n",
       "    }\n",
       "}\n",
       "\n",
       "mpl.figure.prototype.handle_save = function(fig, msg) {\n",
       "    fig.ondownload(fig, null);\n",
       "}\n",
       "\n",
       "\n",
       "mpl.find_output_cell = function(html_output) {\n",
       "    // Return the cell and output element which can be found *uniquely* in the notebook.\n",
       "    // Note - this is a bit hacky, but it is done because the \"notebook_saving.Notebook\"\n",
       "    // IPython event is triggered only after the cells have been serialised, which for\n",
       "    // our purposes (turning an active figure into a static one), is too late.\n",
       "    var cells = IPython.notebook.get_cells();\n",
       "    var ncells = cells.length;\n",
       "    for (var i=0; i<ncells; i++) {\n",
       "        var cell = cells[i];\n",
       "        if (cell.cell_type === 'code'){\n",
       "            for (var j=0; j<cell.output_area.outputs.length; j++) {\n",
       "                var data = cell.output_area.outputs[j];\n",
       "                if (data.data) {\n",
       "                    // IPython >= 3 moved mimebundle to data attribute of output\n",
       "                    data = data.data;\n",
       "                }\n",
       "                if (data['text/html'] == html_output) {\n",
       "                    return [cell, data, j];\n",
       "                }\n",
       "            }\n",
       "        }\n",
       "    }\n",
       "}\n",
       "\n",
       "// Register the function which deals with the matplotlib target/channel.\n",
       "// The kernel may be null if the page has been refreshed.\n",
       "if (IPython.notebook.kernel != null) {\n",
       "    IPython.notebook.kernel.comm_manager.register_target('matplotlib', mpl.mpl_figure_comm);\n",
       "}\n"
      ],
      "text/plain": [
       "<IPython.core.display.Javascript object>"
      ]
     },
     "metadata": {},
     "output_type": "display_data"
    },
    {
     "data": {
      "text/html": [
       "<img src=\"data:image/png;base64,iVBORw0KGgoAAAANSUhEUgAAA4QAAAH0CAYAAABl8+PTAAAG6ElEQVR4nO3BAQ0AAADCoPdPbQ43oAAAAAAAAAAAAAAAAAAAAAAAAAAAAAAAAAAAAAAAAAAAAAAAAAAAAAAAAAAAAAAAAAAAAAAAAAAAAAAAAAAAAAAAAAAAAAAAAAAAAAAAAAAAAAAAAAAAAAAAAAAAAAAAAAAAAAAAAAAAAAAAAAAAAAAAAAAAAAAAAAAAAAAAAAAAAAAAAAAAAAAAAAAAAAAAAAAAAAAAAAAAAAAAAAAAAAAAAAAAAAAAAAAAAAAAAAAAAAAAAAAAAAAAAAAAAAAAAAAAAAAAAAAAAAAAAAAAAAAAAAAAAAAAAAAAAAAAAAAAAAAAAAAAAAAAAAAAAAAAAAAAAAAAAAAAAAAAAAAAAAAAAAAAAAAAAAAAAAAAAAAAAAAAAAAAAAAAAAAAAAAAAAAAAAAAAAAAAAAAAAAAAAAAAAAAAAAAAAAAAAAAAAAAAAAAAAAAAAAAAAAAAAAAAAAAAAAAAAAAAAAAAAAAAAAAAAAAAAAAAAAAAAAAAAAAAAAAAAAAAAAAAAAAAAAAAAAAAAAAAAAAAAAAAAAAAAAAAAAAAAAAAAAAAAAAAAAAAAAAAAAAAAAAAAAAAAAAAAAAAAAAAAAAAAAAAAAAAAAAAAAAAAAAAAAAAAAAAAAAAAAAAAAAAAAAAAAAAAAAAAAAAAAAAAAAAAAAAAAAAAAAAAAAAAAAAAAAAAAAAAAAAAAAAAAAAAAAAAAAAAAAAAAAAAAAAAAAAAAAAAAAAAAAAAAAAAAAAAAAAAAAAAAAAAAAAAAAAAAAAAAAAAAAAAAAAAAAAAAAAAAAAAAAAAAAAAAAAAAAAAAAAAAAAAAAAAAAAAAAAAAAAAAAAAAAAAAAAAAAAAAAAAAAAAAAAAAAAAAAAAAAAAAAAAAAAAAAAAAAAAAAAAAAAAAAAAAAAAAAAAAAAAAAAAAAAAAAAAAAAAAAAAAAAAAAAAAAAAAAAAAAAAAAAAAAAAAAAAAAAAAAAAAAAAAAAAAAAAAAAAAAAAAAAAAAAAAAAAAAAAAAAAAAAAAAAAAAAAAAAAAAAAAAAAAAAAAAAAAAAAAAAAAAAAAAAAAAAAAAAAAAAAAAAAAAAAAAAAAAAAAAAAAAAAAAAAAAAAAAAAAAAAAAAAAAAAAAAAAAAAAAAAAAAAAAAAAAAAAAAAAAAAAAAAAAAAAAAAAAAAAAAAAAAAAAAAAAAAAAAAAAAAAAAAAAAAAAAAAAAAAAAAAAAAAAAAAAAAAAAAAAAAAAAAAAAAAAAAAAAAAAAAAAAAAAAAAAAAAAAAAAAAAAAAAAAAAAAAAAAAAAAAAAAAAAAAAAAAAAAAAAAAAAAAAAAAAAAAAAAAAAAAAAAAAAAAAAAAAAAAAAAAAAAAAAAAAAAAAAAAAAAAAAAAAAAAAAAAAAAAAAAAAAAAAAAAAAAAAAAAAAAAAAAAAAAAAAAAAAAAAAAAAAAAAAAAAAAAAAAAAAAAAAAAAAAAAAAAAAAAAAAAAAAAAAAAAAAAAAAAAAAAAAAAAAAAAAAAAAAAAAAAAAAAAAAAAAAAAAAAAAAAAAAAAAAAAAAAAAAAAAAAAAAAAAAAAAAAAAAAAAAAAAAAAAAAAAAAAAAAAAAAAAAAAAAAAAAAAAAAAAAAAAAAAAAAAAAAAAAAAAAAAAAAAAAAAAAAAAAAAAAAAAAAAAAAAAAAAAAAAAAAAAAAAAAAAAAAAAAAAAAAAAAAAAAAAAAAAAAAAAAAAAAAAAAAAAAAAAAAAAAAAAAAAAAAAAAAAAAAAAAAAAAAAAAAAAAAAAAAAAAAAAAAAAAAAAAAAAAAAAAAAAAAAAAAAAAAAAAAAAAAAAAAAAAAAAAAAAAAAAAAAAAAAAAAAAAAAAAAAAAAAAAAAAAAAAAAAAAAAAAAAAAAAAAAAAAAAAAAAAAAAAAAAAAAAAAAAAAAAAAAAAAAAAAAAAAAAAAAAAAAAAAAAAAAAAAAAAAAAAAAAAAAAAAAAAAAAAAAAAAAAAAAAAAAAAAAAAAAAAAAAAAAAAAAAAAAAAAAAAAAAAAAAAAAAAAAAAAAAAAAAAAAAAAAAAAAAAAAAAAAAAAAAAAAAAAAAAAAAAAAAAAAAAAAAAAAAAAAAAAAAAAAAAAAAAAAAAAAAAAAAAAAAAAAAAAAAAAAAAAAAAAAAAAAAAAAAAAAAAAAAAAAAAAAAAAAAAAAAAAAAAAAAAAAAAAAAAAAAAAAAAAAAAAAAAAAAAAAAAAAAAAAAAAAAAAAAAAAAAAAAAAAAAAAAAAAAAAAAAAAAAAAAAAAAAAAAAAAAAAAAAAAAAAAAAAAAAAAAAAAAAAAAAAAAAAAAAAAAAAAAAAAAAAAAAAAAAAAAAAADgywB6yQABkH7O9gAAAABJRU5ErkJggg==\">"
      ],
      "text/plain": [
       "<IPython.core.display.HTML object>"
      ]
     },
     "metadata": {},
     "output_type": "display_data"
    }
   ],
   "source": [
    "e = 0.5\n",
    "emfig = plt.figure(\"Emotions\")\n",
    "\n",
    "def g(Epsilon):\n",
    "    global e\n",
    "    e = Epsilon\n",
    "    \n",
    "def on_button_clicked(b):\n",
    "    global e\n",
    "    main.EmotionAnalysis(e,emfig)"
   ]
  },
  {
   "cell_type": "code",
   "execution_count": 18,
   "metadata": {
    "collapsed": false,
    "slideshow": {
     "slide_type": "slide"
    }
   },
   "outputs": [],
   "source": [
    "b = interact(g,Epsilon = FloatSlider(min=0,max=1,step=0.001,width='100%',value=0.5))\n",
    "button = widgets.Button(description = \"DRAW!\")\n",
    "display(button)\n",
    "button.on_click(on_button_clicked)"
   ]
  },
  {
   "cell_type": "markdown",
   "metadata": {
    "hide_input": true,
    "slideshow": {
     "slide_type": "slide"
    }
   },
   "source": [
    "<h2 align=\"center\"> Relationship Graph <h2>"
   ]
  },
  {
   "cell_type": "code",
   "execution_count": 19,
   "metadata": {
    "collapsed": false,
    "hide_input": false,
    "slideshow": {
     "slide_type": "slide"
    }
   },
   "outputs": [
    {
     "data": {
      "application/javascript": [
       "/* Put everything inside the global mpl namespace */\n",
       "window.mpl = {};\n",
       "\n",
       "mpl.get_websocket_type = function() {\n",
       "    if (typeof(WebSocket) !== 'undefined') {\n",
       "        return WebSocket;\n",
       "    } else if (typeof(MozWebSocket) !== 'undefined') {\n",
       "        return MozWebSocket;\n",
       "    } else {\n",
       "        alert('Your browser does not have WebSocket support.' +\n",
       "              'Please try Chrome, Safari or Firefox ≥ 6. ' +\n",
       "              'Firefox 4 and 5 are also supported but you ' +\n",
       "              'have to enable WebSockets in about:config.');\n",
       "    };\n",
       "}\n",
       "\n",
       "mpl.figure = function(figure_id, websocket, ondownload, parent_element) {\n",
       "    this.id = figure_id;\n",
       "\n",
       "    this.ws = websocket;\n",
       "\n",
       "    this.supports_binary = (this.ws.binaryType != undefined);\n",
       "\n",
       "    if (!this.supports_binary) {\n",
       "        var warnings = document.getElementById(\"mpl-warnings\");\n",
       "        if (warnings) {\n",
       "            warnings.style.display = 'block';\n",
       "            warnings.textContent = (\n",
       "                \"This browser does not support binary websocket messages. \" +\n",
       "                    \"Performance may be slow.\");\n",
       "        }\n",
       "    }\n",
       "\n",
       "    this.imageObj = new Image();\n",
       "\n",
       "    this.context = undefined;\n",
       "    this.message = undefined;\n",
       "    this.canvas = undefined;\n",
       "    this.rubberband_canvas = undefined;\n",
       "    this.rubberband_context = undefined;\n",
       "    this.format_dropdown = undefined;\n",
       "\n",
       "    this.image_mode = 'full';\n",
       "\n",
       "    this.root = $('<div/>');\n",
       "    this._root_extra_style(this.root)\n",
       "    this.root.attr('style', 'display: inline-block');\n",
       "\n",
       "    $(parent_element).append(this.root);\n",
       "\n",
       "    this._init_header(this);\n",
       "    this._init_canvas(this);\n",
       "    this._init_toolbar(this);\n",
       "\n",
       "    var fig = this;\n",
       "\n",
       "    this.waiting = false;\n",
       "\n",
       "    this.ws.onopen =  function () {\n",
       "            fig.send_message(\"supports_binary\", {value: fig.supports_binary});\n",
       "            fig.send_message(\"send_image_mode\", {});\n",
       "            fig.send_message(\"refresh\", {});\n",
       "        }\n",
       "\n",
       "    this.imageObj.onload = function() {\n",
       "            if (fig.image_mode == 'full') {\n",
       "                // Full images could contain transparency (where diff images\n",
       "                // almost always do), so we need to clear the canvas so that\n",
       "                // there is no ghosting.\n",
       "                fig.context.clearRect(0, 0, fig.canvas.width, fig.canvas.height);\n",
       "            }\n",
       "            fig.context.drawImage(fig.imageObj, 0, 0);\n",
       "        };\n",
       "\n",
       "    this.imageObj.onunload = function() {\n",
       "        this.ws.close();\n",
       "    }\n",
       "\n",
       "    this.ws.onmessage = this._make_on_message_function(this);\n",
       "\n",
       "    this.ondownload = ondownload;\n",
       "}\n",
       "\n",
       "mpl.figure.prototype._init_header = function() {\n",
       "    var titlebar = $(\n",
       "        '<div class=\"ui-dialog-titlebar ui-widget-header ui-corner-all ' +\n",
       "        'ui-helper-clearfix\"/>');\n",
       "    var titletext = $(\n",
       "        '<div class=\"ui-dialog-title\" style=\"width: 100%; ' +\n",
       "        'text-align: center; padding: 3px;\"/>');\n",
       "    titlebar.append(titletext)\n",
       "    this.root.append(titlebar);\n",
       "    this.header = titletext[0];\n",
       "}\n",
       "\n",
       "\n",
       "\n",
       "mpl.figure.prototype._canvas_extra_style = function(canvas_div) {\n",
       "\n",
       "}\n",
       "\n",
       "\n",
       "mpl.figure.prototype._root_extra_style = function(canvas_div) {\n",
       "\n",
       "}\n",
       "\n",
       "mpl.figure.prototype._init_canvas = function() {\n",
       "    var fig = this;\n",
       "\n",
       "    var canvas_div = $('<div/>');\n",
       "\n",
       "    canvas_div.attr('style', 'position: relative; clear: both; outline: 0');\n",
       "\n",
       "    function canvas_keyboard_event(event) {\n",
       "        return fig.key_event(event, event['data']);\n",
       "    }\n",
       "\n",
       "    canvas_div.keydown('key_press', canvas_keyboard_event);\n",
       "    canvas_div.keyup('key_release', canvas_keyboard_event);\n",
       "    this.canvas_div = canvas_div\n",
       "    this._canvas_extra_style(canvas_div)\n",
       "    this.root.append(canvas_div);\n",
       "\n",
       "    var canvas = $('<canvas/>');\n",
       "    canvas.addClass('mpl-canvas');\n",
       "    canvas.attr('style', \"left: 0; top: 0; z-index: 0; outline: 0\")\n",
       "\n",
       "    this.canvas = canvas[0];\n",
       "    this.context = canvas[0].getContext(\"2d\");\n",
       "\n",
       "    var rubberband = $('<canvas/>');\n",
       "    rubberband.attr('style', \"position: absolute; left: 0; top: 0; z-index: 1;\")\n",
       "\n",
       "    var pass_mouse_events = true;\n",
       "\n",
       "    canvas_div.resizable({\n",
       "        start: function(event, ui) {\n",
       "            pass_mouse_events = false;\n",
       "        },\n",
       "        resize: function(event, ui) {\n",
       "            fig.request_resize(ui.size.width, ui.size.height);\n",
       "        },\n",
       "        stop: function(event, ui) {\n",
       "            pass_mouse_events = true;\n",
       "            fig.request_resize(ui.size.width, ui.size.height);\n",
       "        },\n",
       "    });\n",
       "\n",
       "    function mouse_event_fn(event) {\n",
       "        if (pass_mouse_events)\n",
       "            return fig.mouse_event(event, event['data']);\n",
       "    }\n",
       "\n",
       "    rubberband.mousedown('button_press', mouse_event_fn);\n",
       "    rubberband.mouseup('button_release', mouse_event_fn);\n",
       "    // Throttle sequential mouse events to 1 every 20ms.\n",
       "    rubberband.mousemove('motion_notify', mouse_event_fn);\n",
       "\n",
       "    rubberband.mouseenter('figure_enter', mouse_event_fn);\n",
       "    rubberband.mouseleave('figure_leave', mouse_event_fn);\n",
       "\n",
       "    canvas_div.on(\"wheel\", function (event) {\n",
       "        event = event.originalEvent;\n",
       "        event['data'] = 'scroll'\n",
       "        if (event.deltaY < 0) {\n",
       "            event.step = 1;\n",
       "        } else {\n",
       "            event.step = -1;\n",
       "        }\n",
       "        mouse_event_fn(event);\n",
       "    });\n",
       "\n",
       "    canvas_div.append(canvas);\n",
       "    canvas_div.append(rubberband);\n",
       "\n",
       "    this.rubberband = rubberband;\n",
       "    this.rubberband_canvas = rubberband[0];\n",
       "    this.rubberband_context = rubberband[0].getContext(\"2d\");\n",
       "    this.rubberband_context.strokeStyle = \"#000000\";\n",
       "\n",
       "    this._resize_canvas = function(width, height) {\n",
       "        // Keep the size of the canvas, canvas container, and rubber band\n",
       "        // canvas in synch.\n",
       "        canvas_div.css('width', width)\n",
       "        canvas_div.css('height', height)\n",
       "\n",
       "        canvas.attr('width', width);\n",
       "        canvas.attr('height', height);\n",
       "\n",
       "        rubberband.attr('width', width);\n",
       "        rubberband.attr('height', height);\n",
       "    }\n",
       "\n",
       "    // Set the figure to an initial 600x600px, this will subsequently be updated\n",
       "    // upon first draw.\n",
       "    this._resize_canvas(600, 600);\n",
       "\n",
       "    // Disable right mouse context menu.\n",
       "    $(this.rubberband_canvas).bind(\"contextmenu\",function(e){\n",
       "        return false;\n",
       "    });\n",
       "\n",
       "    function set_focus () {\n",
       "        canvas.focus();\n",
       "        canvas_div.focus();\n",
       "    }\n",
       "\n",
       "    window.setTimeout(set_focus, 100);\n",
       "}\n",
       "\n",
       "mpl.figure.prototype._init_toolbar = function() {\n",
       "    var fig = this;\n",
       "\n",
       "    var nav_element = $('<div/>')\n",
       "    nav_element.attr('style', 'width: 100%');\n",
       "    this.root.append(nav_element);\n",
       "\n",
       "    // Define a callback function for later on.\n",
       "    function toolbar_event(event) {\n",
       "        return fig.toolbar_button_onclick(event['data']);\n",
       "    }\n",
       "    function toolbar_mouse_event(event) {\n",
       "        return fig.toolbar_button_onmouseover(event['data']);\n",
       "    }\n",
       "\n",
       "    for(var toolbar_ind in mpl.toolbar_items) {\n",
       "        var name = mpl.toolbar_items[toolbar_ind][0];\n",
       "        var tooltip = mpl.toolbar_items[toolbar_ind][1];\n",
       "        var image = mpl.toolbar_items[toolbar_ind][2];\n",
       "        var method_name = mpl.toolbar_items[toolbar_ind][3];\n",
       "\n",
       "        if (!name) {\n",
       "            // put a spacer in here.\n",
       "            continue;\n",
       "        }\n",
       "        var button = $('<button/>');\n",
       "        button.addClass('ui-button ui-widget ui-state-default ui-corner-all ' +\n",
       "                        'ui-button-icon-only');\n",
       "        button.attr('role', 'button');\n",
       "        button.attr('aria-disabled', 'false');\n",
       "        button.click(method_name, toolbar_event);\n",
       "        button.mouseover(tooltip, toolbar_mouse_event);\n",
       "\n",
       "        var icon_img = $('<span/>');\n",
       "        icon_img.addClass('ui-button-icon-primary ui-icon');\n",
       "        icon_img.addClass(image);\n",
       "        icon_img.addClass('ui-corner-all');\n",
       "\n",
       "        var tooltip_span = $('<span/>');\n",
       "        tooltip_span.addClass('ui-button-text');\n",
       "        tooltip_span.html(tooltip);\n",
       "\n",
       "        button.append(icon_img);\n",
       "        button.append(tooltip_span);\n",
       "\n",
       "        nav_element.append(button);\n",
       "    }\n",
       "\n",
       "    var fmt_picker_span = $('<span/>');\n",
       "\n",
       "    var fmt_picker = $('<select/>');\n",
       "    fmt_picker.addClass('mpl-toolbar-option ui-widget ui-widget-content');\n",
       "    fmt_picker_span.append(fmt_picker);\n",
       "    nav_element.append(fmt_picker_span);\n",
       "    this.format_dropdown = fmt_picker[0];\n",
       "\n",
       "    for (var ind in mpl.extensions) {\n",
       "        var fmt = mpl.extensions[ind];\n",
       "        var option = $(\n",
       "            '<option/>', {selected: fmt === mpl.default_extension}).html(fmt);\n",
       "        fmt_picker.append(option)\n",
       "    }\n",
       "\n",
       "    // Add hover states to the ui-buttons\n",
       "    $( \".ui-button\" ).hover(\n",
       "        function() { $(this).addClass(\"ui-state-hover\");},\n",
       "        function() { $(this).removeClass(\"ui-state-hover\");}\n",
       "    );\n",
       "\n",
       "    var status_bar = $('<span class=\"mpl-message\"/>');\n",
       "    nav_element.append(status_bar);\n",
       "    this.message = status_bar[0];\n",
       "}\n",
       "\n",
       "mpl.figure.prototype.request_resize = function(x_pixels, y_pixels) {\n",
       "    // Request matplotlib to resize the figure. Matplotlib will then trigger a resize in the client,\n",
       "    // which will in turn request a refresh of the image.\n",
       "    this.send_message('resize', {'width': x_pixels, 'height': y_pixels});\n",
       "}\n",
       "\n",
       "mpl.figure.prototype.send_message = function(type, properties) {\n",
       "    properties['type'] = type;\n",
       "    properties['figure_id'] = this.id;\n",
       "    this.ws.send(JSON.stringify(properties));\n",
       "}\n",
       "\n",
       "mpl.figure.prototype.send_draw_message = function() {\n",
       "    if (!this.waiting) {\n",
       "        this.waiting = true;\n",
       "        this.ws.send(JSON.stringify({type: \"draw\", figure_id: this.id}));\n",
       "    }\n",
       "}\n",
       "\n",
       "\n",
       "mpl.figure.prototype.handle_save = function(fig, msg) {\n",
       "    var format_dropdown = fig.format_dropdown;\n",
       "    var format = format_dropdown.options[format_dropdown.selectedIndex].value;\n",
       "    fig.ondownload(fig, format);\n",
       "}\n",
       "\n",
       "\n",
       "mpl.figure.prototype.handle_resize = function(fig, msg) {\n",
       "    var size = msg['size'];\n",
       "    if (size[0] != fig.canvas.width || size[1] != fig.canvas.height) {\n",
       "        fig._resize_canvas(size[0], size[1]);\n",
       "        fig.send_message(\"refresh\", {});\n",
       "    };\n",
       "}\n",
       "\n",
       "mpl.figure.prototype.handle_rubberband = function(fig, msg) {\n",
       "    var x0 = msg['x0'];\n",
       "    var y0 = fig.canvas.height - msg['y0'];\n",
       "    var x1 = msg['x1'];\n",
       "    var y1 = fig.canvas.height - msg['y1'];\n",
       "    x0 = Math.floor(x0) + 0.5;\n",
       "    y0 = Math.floor(y0) + 0.5;\n",
       "    x1 = Math.floor(x1) + 0.5;\n",
       "    y1 = Math.floor(y1) + 0.5;\n",
       "    var min_x = Math.min(x0, x1);\n",
       "    var min_y = Math.min(y0, y1);\n",
       "    var width = Math.abs(x1 - x0);\n",
       "    var height = Math.abs(y1 - y0);\n",
       "\n",
       "    fig.rubberband_context.clearRect(\n",
       "        0, 0, fig.canvas.width, fig.canvas.height);\n",
       "\n",
       "    fig.rubberband_context.strokeRect(min_x, min_y, width, height);\n",
       "}\n",
       "\n",
       "mpl.figure.prototype.handle_figure_label = function(fig, msg) {\n",
       "    // Updates the figure title.\n",
       "    fig.header.textContent = msg['label'];\n",
       "}\n",
       "\n",
       "mpl.figure.prototype.handle_cursor = function(fig, msg) {\n",
       "    var cursor = msg['cursor'];\n",
       "    switch(cursor)\n",
       "    {\n",
       "    case 0:\n",
       "        cursor = 'pointer';\n",
       "        break;\n",
       "    case 1:\n",
       "        cursor = 'default';\n",
       "        break;\n",
       "    case 2:\n",
       "        cursor = 'crosshair';\n",
       "        break;\n",
       "    case 3:\n",
       "        cursor = 'move';\n",
       "        break;\n",
       "    }\n",
       "    fig.rubberband_canvas.style.cursor = cursor;\n",
       "}\n",
       "\n",
       "mpl.figure.prototype.handle_message = function(fig, msg) {\n",
       "    fig.message.textContent = msg['message'];\n",
       "}\n",
       "\n",
       "mpl.figure.prototype.handle_draw = function(fig, msg) {\n",
       "    // Request the server to send over a new figure.\n",
       "    fig.send_draw_message();\n",
       "}\n",
       "\n",
       "mpl.figure.prototype.handle_image_mode = function(fig, msg) {\n",
       "    fig.image_mode = msg['mode'];\n",
       "}\n",
       "\n",
       "mpl.figure.prototype.updated_canvas_event = function() {\n",
       "    // Called whenever the canvas gets updated.\n",
       "    this.send_message(\"ack\", {});\n",
       "}\n",
       "\n",
       "// A function to construct a web socket function for onmessage handling.\n",
       "// Called in the figure constructor.\n",
       "mpl.figure.prototype._make_on_message_function = function(fig) {\n",
       "    return function socket_on_message(evt) {\n",
       "        if (evt.data instanceof Blob) {\n",
       "            /* FIXME: We get \"Resource interpreted as Image but\n",
       "             * transferred with MIME type text/plain:\" errors on\n",
       "             * Chrome.  But how to set the MIME type?  It doesn't seem\n",
       "             * to be part of the websocket stream */\n",
       "            evt.data.type = \"image/png\";\n",
       "\n",
       "            /* Free the memory for the previous frames */\n",
       "            if (fig.imageObj.src) {\n",
       "                (window.URL || window.webkitURL).revokeObjectURL(\n",
       "                    fig.imageObj.src);\n",
       "            }\n",
       "\n",
       "            fig.imageObj.src = (window.URL || window.webkitURL).createObjectURL(\n",
       "                evt.data);\n",
       "            fig.updated_canvas_event();\n",
       "            fig.waiting = false;\n",
       "            return;\n",
       "        }\n",
       "        else if (typeof evt.data === 'string' && evt.data.slice(0, 21) == \"data:image/png;base64\") {\n",
       "            fig.imageObj.src = evt.data;\n",
       "            fig.updated_canvas_event();\n",
       "            fig.waiting = false;\n",
       "            return;\n",
       "        }\n",
       "\n",
       "        var msg = JSON.parse(evt.data);\n",
       "        var msg_type = msg['type'];\n",
       "\n",
       "        // Call the  \"handle_{type}\" callback, which takes\n",
       "        // the figure and JSON message as its only arguments.\n",
       "        try {\n",
       "            var callback = fig[\"handle_\" + msg_type];\n",
       "        } catch (e) {\n",
       "            console.log(\"No handler for the '\" + msg_type + \"' message type: \", msg);\n",
       "            return;\n",
       "        }\n",
       "\n",
       "        if (callback) {\n",
       "            try {\n",
       "                // console.log(\"Handling '\" + msg_type + \"' message: \", msg);\n",
       "                callback(fig, msg);\n",
       "            } catch (e) {\n",
       "                console.log(\"Exception inside the 'handler_\" + msg_type + \"' callback:\", e, e.stack, msg);\n",
       "            }\n",
       "        }\n",
       "    };\n",
       "}\n",
       "\n",
       "// from http://stackoverflow.com/questions/1114465/getting-mouse-location-in-canvas\n",
       "mpl.findpos = function(e) {\n",
       "    //this section is from http://www.quirksmode.org/js/events_properties.html\n",
       "    var targ;\n",
       "    if (!e)\n",
       "        e = window.event;\n",
       "    if (e.target)\n",
       "        targ = e.target;\n",
       "    else if (e.srcElement)\n",
       "        targ = e.srcElement;\n",
       "    if (targ.nodeType == 3) // defeat Safari bug\n",
       "        targ = targ.parentNode;\n",
       "\n",
       "    // jQuery normalizes the pageX and pageY\n",
       "    // pageX,Y are the mouse positions relative to the document\n",
       "    // offset() returns the position of the element relative to the document\n",
       "    var x = e.pageX - $(targ).offset().left;\n",
       "    var y = e.pageY - $(targ).offset().top;\n",
       "\n",
       "    return {\"x\": x, \"y\": y};\n",
       "};\n",
       "\n",
       "/*\n",
       " * return a copy of an object with only non-object keys\n",
       " * we need this to avoid circular references\n",
       " * http://stackoverflow.com/a/24161582/3208463\n",
       " */\n",
       "function simpleKeys (original) {\n",
       "  return Object.keys(original).reduce(function (obj, key) {\n",
       "    if (typeof original[key] !== 'object')\n",
       "        obj[key] = original[key]\n",
       "    return obj;\n",
       "  }, {});\n",
       "}\n",
       "\n",
       "mpl.figure.prototype.mouse_event = function(event, name) {\n",
       "    var canvas_pos = mpl.findpos(event)\n",
       "\n",
       "    if (name === 'button_press')\n",
       "    {\n",
       "        this.canvas.focus();\n",
       "        this.canvas_div.focus();\n",
       "    }\n",
       "\n",
       "    var x = canvas_pos.x;\n",
       "    var y = canvas_pos.y;\n",
       "\n",
       "    this.send_message(name, {x: x, y: y, button: event.button,\n",
       "                             step: event.step,\n",
       "                             guiEvent: simpleKeys(event)});\n",
       "\n",
       "    /* This prevents the web browser from automatically changing to\n",
       "     * the text insertion cursor when the button is pressed.  We want\n",
       "     * to control all of the cursor setting manually through the\n",
       "     * 'cursor' event from matplotlib */\n",
       "    event.preventDefault();\n",
       "    return false;\n",
       "}\n",
       "\n",
       "mpl.figure.prototype._key_event_extra = function(event, name) {\n",
       "    // Handle any extra behaviour associated with a key event\n",
       "}\n",
       "\n",
       "mpl.figure.prototype.key_event = function(event, name) {\n",
       "\n",
       "    // Prevent repeat events\n",
       "    if (name == 'key_press')\n",
       "    {\n",
       "        if (event.which === this._key)\n",
       "            return;\n",
       "        else\n",
       "            this._key = event.which;\n",
       "    }\n",
       "    if (name == 'key_release')\n",
       "        this._key = null;\n",
       "\n",
       "    var value = '';\n",
       "    if (event.ctrlKey && event.which != 17)\n",
       "        value += \"ctrl+\";\n",
       "    if (event.altKey && event.which != 18)\n",
       "        value += \"alt+\";\n",
       "    if (event.shiftKey && event.which != 16)\n",
       "        value += \"shift+\";\n",
       "\n",
       "    value += 'k';\n",
       "    value += event.which.toString();\n",
       "\n",
       "    this._key_event_extra(event, name);\n",
       "\n",
       "    this.send_message(name, {key: value,\n",
       "                             guiEvent: simpleKeys(event)});\n",
       "    return false;\n",
       "}\n",
       "\n",
       "mpl.figure.prototype.toolbar_button_onclick = function(name) {\n",
       "    if (name == 'download') {\n",
       "        this.handle_save(this, null);\n",
       "    } else {\n",
       "        this.send_message(\"toolbar_button\", {name: name});\n",
       "    }\n",
       "};\n",
       "\n",
       "mpl.figure.prototype.toolbar_button_onmouseover = function(tooltip) {\n",
       "    this.message.textContent = tooltip;\n",
       "};\n",
       "mpl.toolbar_items = [[\"Home\", \"Reset original view\", \"fa fa-home icon-home\", \"home\"], [\"Back\", \"Back to  previous view\", \"fa fa-arrow-left icon-arrow-left\", \"back\"], [\"Forward\", \"Forward to next view\", \"fa fa-arrow-right icon-arrow-right\", \"forward\"], [\"\", \"\", \"\", \"\"], [\"Pan\", \"Pan axes with left mouse, zoom with right\", \"fa fa-arrows icon-move\", \"pan\"], [\"Zoom\", \"Zoom to rectangle\", \"fa fa-square-o icon-check-empty\", \"zoom\"], [\"\", \"\", \"\", \"\"], [\"Download\", \"Download plot\", \"fa fa-floppy-o icon-save\", \"download\"]];\n",
       "\n",
       "mpl.extensions = [\"eps\", \"pdf\", \"png\", \"ps\", \"raw\", \"svg\"];\n",
       "\n",
       "mpl.default_extension = \"png\";var comm_websocket_adapter = function(comm) {\n",
       "    // Create a \"websocket\"-like object which calls the given IPython comm\n",
       "    // object with the appropriate methods. Currently this is a non binary\n",
       "    // socket, so there is still some room for performance tuning.\n",
       "    var ws = {};\n",
       "\n",
       "    ws.close = function() {\n",
       "        comm.close()\n",
       "    };\n",
       "    ws.send = function(m) {\n",
       "        //console.log('sending', m);\n",
       "        comm.send(m);\n",
       "    };\n",
       "    // Register the callback with on_msg.\n",
       "    comm.on_msg(function(msg) {\n",
       "        //console.log('receiving', msg['content']['data'], msg);\n",
       "        // Pass the mpl event to the overriden (by mpl) onmessage function.\n",
       "        ws.onmessage(msg['content']['data'])\n",
       "    });\n",
       "    return ws;\n",
       "}\n",
       "\n",
       "mpl.mpl_figure_comm = function(comm, msg) {\n",
       "    // This is the function which gets called when the mpl process\n",
       "    // starts-up an IPython Comm through the \"matplotlib\" channel.\n",
       "\n",
       "    var id = msg.content.data.id;\n",
       "    // Get hold of the div created by the display call when the Comm\n",
       "    // socket was opened in Python.\n",
       "    var element = $(\"#\" + id);\n",
       "    var ws_proxy = comm_websocket_adapter(comm)\n",
       "\n",
       "    function ondownload(figure, format) {\n",
       "        window.open(figure.imageObj.src);\n",
       "    }\n",
       "\n",
       "    var fig = new mpl.figure(id, ws_proxy,\n",
       "                           ondownload,\n",
       "                           element.get(0));\n",
       "\n",
       "    // Call onopen now - mpl needs it, as it is assuming we've passed it a real\n",
       "    // web socket which is closed, not our websocket->open comm proxy.\n",
       "    ws_proxy.onopen();\n",
       "\n",
       "    fig.parent_element = element.get(0);\n",
       "    fig.cell_info = mpl.find_output_cell(\"<div id='\" + id + \"'></div>\");\n",
       "    if (!fig.cell_info) {\n",
       "        console.error(\"Failed to find cell for figure\", id, fig);\n",
       "        return;\n",
       "    }\n",
       "\n",
       "    var output_index = fig.cell_info[2]\n",
       "    var cell = fig.cell_info[0];\n",
       "\n",
       "};\n",
       "\n",
       "mpl.figure.prototype.handle_close = function(fig, msg) {\n",
       "    fig.root.unbind('remove')\n",
       "\n",
       "    // Update the output cell to use the data from the current canvas.\n",
       "    fig.push_to_output();\n",
       "    var dataURL = fig.canvas.toDataURL();\n",
       "    // Re-enable the keyboard manager in IPython - without this line, in FF,\n",
       "    // the notebook keyboard shortcuts fail.\n",
       "    IPython.keyboard_manager.enable()\n",
       "    $(fig.parent_element).html('<img src=\"' + dataURL + '\">');\n",
       "    fig.close_ws(fig, msg);\n",
       "}\n",
       "\n",
       "mpl.figure.prototype.close_ws = function(fig, msg){\n",
       "    fig.send_message('closing', msg);\n",
       "    // fig.ws.close()\n",
       "}\n",
       "\n",
       "mpl.figure.prototype.push_to_output = function(remove_interactive) {\n",
       "    // Turn the data on the canvas into data in the output cell.\n",
       "    var dataURL = this.canvas.toDataURL();\n",
       "    this.cell_info[1]['text/html'] = '<img src=\"' + dataURL + '\">';\n",
       "}\n",
       "\n",
       "mpl.figure.prototype.updated_canvas_event = function() {\n",
       "    // Tell IPython that the notebook contents must change.\n",
       "    IPython.notebook.set_dirty(true);\n",
       "    this.send_message(\"ack\", {});\n",
       "    var fig = this;\n",
       "    // Wait a second, then push the new image to the DOM so\n",
       "    // that it is saved nicely (might be nice to debounce this).\n",
       "    setTimeout(function () { fig.push_to_output() }, 1000);\n",
       "}\n",
       "\n",
       "mpl.figure.prototype._init_toolbar = function() {\n",
       "    var fig = this;\n",
       "\n",
       "    var nav_element = $('<div/>')\n",
       "    nav_element.attr('style', 'width: 100%');\n",
       "    this.root.append(nav_element);\n",
       "\n",
       "    // Define a callback function for later on.\n",
       "    function toolbar_event(event) {\n",
       "        return fig.toolbar_button_onclick(event['data']);\n",
       "    }\n",
       "    function toolbar_mouse_event(event) {\n",
       "        return fig.toolbar_button_onmouseover(event['data']);\n",
       "    }\n",
       "\n",
       "    for(var toolbar_ind in mpl.toolbar_items){\n",
       "        var name = mpl.toolbar_items[toolbar_ind][0];\n",
       "        var tooltip = mpl.toolbar_items[toolbar_ind][1];\n",
       "        var image = mpl.toolbar_items[toolbar_ind][2];\n",
       "        var method_name = mpl.toolbar_items[toolbar_ind][3];\n",
       "\n",
       "        if (!name) { continue; };\n",
       "\n",
       "        var button = $('<button class=\"btn btn-default\" href=\"#\" title=\"' + name + '\"><i class=\"fa ' + image + ' fa-lg\"></i></button>');\n",
       "        button.click(method_name, toolbar_event);\n",
       "        button.mouseover(tooltip, toolbar_mouse_event);\n",
       "        nav_element.append(button);\n",
       "    }\n",
       "\n",
       "    // Add the status bar.\n",
       "    var status_bar = $('<span class=\"mpl-message\" style=\"text-align:right; float: right;\"/>');\n",
       "    nav_element.append(status_bar);\n",
       "    this.message = status_bar[0];\n",
       "\n",
       "    // Add the close button to the window.\n",
       "    var buttongrp = $('<div class=\"btn-group inline pull-right\"></div>');\n",
       "    var button = $('<button class=\"btn btn-mini btn-primary\" href=\"#\" title=\"Stop Interaction\"><i class=\"fa fa-power-off icon-remove icon-large\"></i></button>');\n",
       "    button.click(function (evt) { fig.handle_close(fig, {}); } );\n",
       "    button.mouseover('Stop Interaction', toolbar_mouse_event);\n",
       "    buttongrp.append(button);\n",
       "    var titlebar = this.root.find($('.ui-dialog-titlebar'));\n",
       "    titlebar.prepend(buttongrp);\n",
       "}\n",
       "\n",
       "mpl.figure.prototype._root_extra_style = function(el){\n",
       "    var fig = this\n",
       "    el.on(\"remove\", function(){\n",
       "\tfig.close_ws(fig, {});\n",
       "    });\n",
       "}\n",
       "\n",
       "mpl.figure.prototype._canvas_extra_style = function(el){\n",
       "    // this is important to make the div 'focusable\n",
       "    el.attr('tabindex', 0)\n",
       "    // reach out to IPython and tell the keyboard manager to turn it's self\n",
       "    // off when our div gets focus\n",
       "\n",
       "    // location in version 3\n",
       "    if (IPython.notebook.keyboard_manager) {\n",
       "        IPython.notebook.keyboard_manager.register_events(el);\n",
       "    }\n",
       "    else {\n",
       "        // location in version 2\n",
       "        IPython.keyboard_manager.register_events(el);\n",
       "    }\n",
       "\n",
       "}\n",
       "\n",
       "mpl.figure.prototype._key_event_extra = function(event, name) {\n",
       "    var manager = IPython.notebook.keyboard_manager;\n",
       "    if (!manager)\n",
       "        manager = IPython.keyboard_manager;\n",
       "\n",
       "    // Check for shift+enter\n",
       "    if (event.shiftKey && event.which == 13) {\n",
       "        this.canvas_div.blur();\n",
       "        event.shiftKey = false;\n",
       "        // Send a \"J\" for go to next cell\n",
       "        event.which = 74;\n",
       "        event.keyCode = 74;\n",
       "        manager.command_mode();\n",
       "        manager.handle_keydown(event);\n",
       "    }\n",
       "}\n",
       "\n",
       "mpl.figure.prototype.handle_save = function(fig, msg) {\n",
       "    fig.ondownload(fig, null);\n",
       "}\n",
       "\n",
       "\n",
       "mpl.find_output_cell = function(html_output) {\n",
       "    // Return the cell and output element which can be found *uniquely* in the notebook.\n",
       "    // Note - this is a bit hacky, but it is done because the \"notebook_saving.Notebook\"\n",
       "    // IPython event is triggered only after the cells have been serialised, which for\n",
       "    // our purposes (turning an active figure into a static one), is too late.\n",
       "    var cells = IPython.notebook.get_cells();\n",
       "    var ncells = cells.length;\n",
       "    for (var i=0; i<ncells; i++) {\n",
       "        var cell = cells[i];\n",
       "        if (cell.cell_type === 'code'){\n",
       "            for (var j=0; j<cell.output_area.outputs.length; j++) {\n",
       "                var data = cell.output_area.outputs[j];\n",
       "                if (data.data) {\n",
       "                    // IPython >= 3 moved mimebundle to data attribute of output\n",
       "                    data = data.data;\n",
       "                }\n",
       "                if (data['text/html'] == html_output) {\n",
       "                    return [cell, data, j];\n",
       "                }\n",
       "            }\n",
       "        }\n",
       "    }\n",
       "}\n",
       "\n",
       "// Register the function which deals with the matplotlib target/channel.\n",
       "// The kernel may be null if the page has been refreshed.\n",
       "if (IPython.notebook.kernel != null) {\n",
       "    IPython.notebook.kernel.comm_manager.register_target('matplotlib', mpl.mpl_figure_comm);\n",
       "}\n"
      ],
      "text/plain": [
       "<IPython.core.display.Javascript object>"
      ]
     },
     "metadata": {},
     "output_type": "display_data"
    },
    {
     "data": {
      "text/html": [
       "<img src=\"data:image/png;base64,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\">"
      ],
      "text/plain": [
       "<IPython.core.display.HTML object>"
      ]
     },
     "metadata": {},
     "output_type": "display_data"
    }
   ],
   "source": [
    "def dayrel(day):\n",
    "    global relfig,dayinterval\n",
    "    main.RelationDay(day,relfig)\n",
    "    print(dayinterval[day])\n",
    "relfig = plt.figure(\"Relations\")"
   ]
  },
  {
   "cell_type": "code",
   "execution_count": 20,
   "metadata": {
    "collapsed": false,
    "slideshow": {
     "slide_type": "subslide"
    }
   },
   "outputs": [
    {
     "name": "stdout",
     "output_type": "stream",
     "text": [
      "Current size: [9.0, 5.0]\n",
      "2017 - 03 - 24\n"
     ]
    }
   ],
   "source": [
    "interact(dayrel,day=IntSlider(min=0,max=len(main.relationsmatrixes)-1,step=1,value=0,width='100%'))"
   ]
  },
  {
   "cell_type": "markdown",
   "metadata": {},
   "source": [
    "<h2 align=\"center\"> Summary of Relations<h2>"
   ]
  },
  {
   "cell_type": "code",
   "execution_count": 21,
   "metadata": {
    "collapsed": false,
    "slideshow": {
     "slide_type": "skip"
    }
   },
   "outputs": [
    {
     "data": {
      "application/javascript": [
       "/* Put everything inside the global mpl namespace */\n",
       "window.mpl = {};\n",
       "\n",
       "mpl.get_websocket_type = function() {\n",
       "    if (typeof(WebSocket) !== 'undefined') {\n",
       "        return WebSocket;\n",
       "    } else if (typeof(MozWebSocket) !== 'undefined') {\n",
       "        return MozWebSocket;\n",
       "    } else {\n",
       "        alert('Your browser does not have WebSocket support.' +\n",
       "              'Please try Chrome, Safari or Firefox ≥ 6. ' +\n",
       "              'Firefox 4 and 5 are also supported but you ' +\n",
       "              'have to enable WebSockets in about:config.');\n",
       "    };\n",
       "}\n",
       "\n",
       "mpl.figure = function(figure_id, websocket, ondownload, parent_element) {\n",
       "    this.id = figure_id;\n",
       "\n",
       "    this.ws = websocket;\n",
       "\n",
       "    this.supports_binary = (this.ws.binaryType != undefined);\n",
       "\n",
       "    if (!this.supports_binary) {\n",
       "        var warnings = document.getElementById(\"mpl-warnings\");\n",
       "        if (warnings) {\n",
       "            warnings.style.display = 'block';\n",
       "            warnings.textContent = (\n",
       "                \"This browser does not support binary websocket messages. \" +\n",
       "                    \"Performance may be slow.\");\n",
       "        }\n",
       "    }\n",
       "\n",
       "    this.imageObj = new Image();\n",
       "\n",
       "    this.context = undefined;\n",
       "    this.message = undefined;\n",
       "    this.canvas = undefined;\n",
       "    this.rubberband_canvas = undefined;\n",
       "    this.rubberband_context = undefined;\n",
       "    this.format_dropdown = undefined;\n",
       "\n",
       "    this.image_mode = 'full';\n",
       "\n",
       "    this.root = $('<div/>');\n",
       "    this._root_extra_style(this.root)\n",
       "    this.root.attr('style', 'display: inline-block');\n",
       "\n",
       "    $(parent_element).append(this.root);\n",
       "\n",
       "    this._init_header(this);\n",
       "    this._init_canvas(this);\n",
       "    this._init_toolbar(this);\n",
       "\n",
       "    var fig = this;\n",
       "\n",
       "    this.waiting = false;\n",
       "\n",
       "    this.ws.onopen =  function () {\n",
       "            fig.send_message(\"supports_binary\", {value: fig.supports_binary});\n",
       "            fig.send_message(\"send_image_mode\", {});\n",
       "            fig.send_message(\"refresh\", {});\n",
       "        }\n",
       "\n",
       "    this.imageObj.onload = function() {\n",
       "            if (fig.image_mode == 'full') {\n",
       "                // Full images could contain transparency (where diff images\n",
       "                // almost always do), so we need to clear the canvas so that\n",
       "                // there is no ghosting.\n",
       "                fig.context.clearRect(0, 0, fig.canvas.width, fig.canvas.height);\n",
       "            }\n",
       "            fig.context.drawImage(fig.imageObj, 0, 0);\n",
       "        };\n",
       "\n",
       "    this.imageObj.onunload = function() {\n",
       "        this.ws.close();\n",
       "    }\n",
       "\n",
       "    this.ws.onmessage = this._make_on_message_function(this);\n",
       "\n",
       "    this.ondownload = ondownload;\n",
       "}\n",
       "\n",
       "mpl.figure.prototype._init_header = function() {\n",
       "    var titlebar = $(\n",
       "        '<div class=\"ui-dialog-titlebar ui-widget-header ui-corner-all ' +\n",
       "        'ui-helper-clearfix\"/>');\n",
       "    var titletext = $(\n",
       "        '<div class=\"ui-dialog-title\" style=\"width: 100%; ' +\n",
       "        'text-align: center; padding: 3px;\"/>');\n",
       "    titlebar.append(titletext)\n",
       "    this.root.append(titlebar);\n",
       "    this.header = titletext[0];\n",
       "}\n",
       "\n",
       "\n",
       "\n",
       "mpl.figure.prototype._canvas_extra_style = function(canvas_div) {\n",
       "\n",
       "}\n",
       "\n",
       "\n",
       "mpl.figure.prototype._root_extra_style = function(canvas_div) {\n",
       "\n",
       "}\n",
       "\n",
       "mpl.figure.prototype._init_canvas = function() {\n",
       "    var fig = this;\n",
       "\n",
       "    var canvas_div = $('<div/>');\n",
       "\n",
       "    canvas_div.attr('style', 'position: relative; clear: both; outline: 0');\n",
       "\n",
       "    function canvas_keyboard_event(event) {\n",
       "        return fig.key_event(event, event['data']);\n",
       "    }\n",
       "\n",
       "    canvas_div.keydown('key_press', canvas_keyboard_event);\n",
       "    canvas_div.keyup('key_release', canvas_keyboard_event);\n",
       "    this.canvas_div = canvas_div\n",
       "    this._canvas_extra_style(canvas_div)\n",
       "    this.root.append(canvas_div);\n",
       "\n",
       "    var canvas = $('<canvas/>');\n",
       "    canvas.addClass('mpl-canvas');\n",
       "    canvas.attr('style', \"left: 0; top: 0; z-index: 0; outline: 0\")\n",
       "\n",
       "    this.canvas = canvas[0];\n",
       "    this.context = canvas[0].getContext(\"2d\");\n",
       "\n",
       "    var rubberband = $('<canvas/>');\n",
       "    rubberband.attr('style', \"position: absolute; left: 0; top: 0; z-index: 1;\")\n",
       "\n",
       "    var pass_mouse_events = true;\n",
       "\n",
       "    canvas_div.resizable({\n",
       "        start: function(event, ui) {\n",
       "            pass_mouse_events = false;\n",
       "        },\n",
       "        resize: function(event, ui) {\n",
       "            fig.request_resize(ui.size.width, ui.size.height);\n",
       "        },\n",
       "        stop: function(event, ui) {\n",
       "            pass_mouse_events = true;\n",
       "            fig.request_resize(ui.size.width, ui.size.height);\n",
       "        },\n",
       "    });\n",
       "\n",
       "    function mouse_event_fn(event) {\n",
       "        if (pass_mouse_events)\n",
       "            return fig.mouse_event(event, event['data']);\n",
       "    }\n",
       "\n",
       "    rubberband.mousedown('button_press', mouse_event_fn);\n",
       "    rubberband.mouseup('button_release', mouse_event_fn);\n",
       "    // Throttle sequential mouse events to 1 every 20ms.\n",
       "    rubberband.mousemove('motion_notify', mouse_event_fn);\n",
       "\n",
       "    rubberband.mouseenter('figure_enter', mouse_event_fn);\n",
       "    rubberband.mouseleave('figure_leave', mouse_event_fn);\n",
       "\n",
       "    canvas_div.on(\"wheel\", function (event) {\n",
       "        event = event.originalEvent;\n",
       "        event['data'] = 'scroll'\n",
       "        if (event.deltaY < 0) {\n",
       "            event.step = 1;\n",
       "        } else {\n",
       "            event.step = -1;\n",
       "        }\n",
       "        mouse_event_fn(event);\n",
       "    });\n",
       "\n",
       "    canvas_div.append(canvas);\n",
       "    canvas_div.append(rubberband);\n",
       "\n",
       "    this.rubberband = rubberband;\n",
       "    this.rubberband_canvas = rubberband[0];\n",
       "    this.rubberband_context = rubberband[0].getContext(\"2d\");\n",
       "    this.rubberband_context.strokeStyle = \"#000000\";\n",
       "\n",
       "    this._resize_canvas = function(width, height) {\n",
       "        // Keep the size of the canvas, canvas container, and rubber band\n",
       "        // canvas in synch.\n",
       "        canvas_div.css('width', width)\n",
       "        canvas_div.css('height', height)\n",
       "\n",
       "        canvas.attr('width', width);\n",
       "        canvas.attr('height', height);\n",
       "\n",
       "        rubberband.attr('width', width);\n",
       "        rubberband.attr('height', height);\n",
       "    }\n",
       "\n",
       "    // Set the figure to an initial 600x600px, this will subsequently be updated\n",
       "    // upon first draw.\n",
       "    this._resize_canvas(600, 600);\n",
       "\n",
       "    // Disable right mouse context menu.\n",
       "    $(this.rubberband_canvas).bind(\"contextmenu\",function(e){\n",
       "        return false;\n",
       "    });\n",
       "\n",
       "    function set_focus () {\n",
       "        canvas.focus();\n",
       "        canvas_div.focus();\n",
       "    }\n",
       "\n",
       "    window.setTimeout(set_focus, 100);\n",
       "}\n",
       "\n",
       "mpl.figure.prototype._init_toolbar = function() {\n",
       "    var fig = this;\n",
       "\n",
       "    var nav_element = $('<div/>')\n",
       "    nav_element.attr('style', 'width: 100%');\n",
       "    this.root.append(nav_element);\n",
       "\n",
       "    // Define a callback function for later on.\n",
       "    function toolbar_event(event) {\n",
       "        return fig.toolbar_button_onclick(event['data']);\n",
       "    }\n",
       "    function toolbar_mouse_event(event) {\n",
       "        return fig.toolbar_button_onmouseover(event['data']);\n",
       "    }\n",
       "\n",
       "    for(var toolbar_ind in mpl.toolbar_items) {\n",
       "        var name = mpl.toolbar_items[toolbar_ind][0];\n",
       "        var tooltip = mpl.toolbar_items[toolbar_ind][1];\n",
       "        var image = mpl.toolbar_items[toolbar_ind][2];\n",
       "        var method_name = mpl.toolbar_items[toolbar_ind][3];\n",
       "\n",
       "        if (!name) {\n",
       "            // put a spacer in here.\n",
       "            continue;\n",
       "        }\n",
       "        var button = $('<button/>');\n",
       "        button.addClass('ui-button ui-widget ui-state-default ui-corner-all ' +\n",
       "                        'ui-button-icon-only');\n",
       "        button.attr('role', 'button');\n",
       "        button.attr('aria-disabled', 'false');\n",
       "        button.click(method_name, toolbar_event);\n",
       "        button.mouseover(tooltip, toolbar_mouse_event);\n",
       "\n",
       "        var icon_img = $('<span/>');\n",
       "        icon_img.addClass('ui-button-icon-primary ui-icon');\n",
       "        icon_img.addClass(image);\n",
       "        icon_img.addClass('ui-corner-all');\n",
       "\n",
       "        var tooltip_span = $('<span/>');\n",
       "        tooltip_span.addClass('ui-button-text');\n",
       "        tooltip_span.html(tooltip);\n",
       "\n",
       "        button.append(icon_img);\n",
       "        button.append(tooltip_span);\n",
       "\n",
       "        nav_element.append(button);\n",
       "    }\n",
       "\n",
       "    var fmt_picker_span = $('<span/>');\n",
       "\n",
       "    var fmt_picker = $('<select/>');\n",
       "    fmt_picker.addClass('mpl-toolbar-option ui-widget ui-widget-content');\n",
       "    fmt_picker_span.append(fmt_picker);\n",
       "    nav_element.append(fmt_picker_span);\n",
       "    this.format_dropdown = fmt_picker[0];\n",
       "\n",
       "    for (var ind in mpl.extensions) {\n",
       "        var fmt = mpl.extensions[ind];\n",
       "        var option = $(\n",
       "            '<option/>', {selected: fmt === mpl.default_extension}).html(fmt);\n",
       "        fmt_picker.append(option)\n",
       "    }\n",
       "\n",
       "    // Add hover states to the ui-buttons\n",
       "    $( \".ui-button\" ).hover(\n",
       "        function() { $(this).addClass(\"ui-state-hover\");},\n",
       "        function() { $(this).removeClass(\"ui-state-hover\");}\n",
       "    );\n",
       "\n",
       "    var status_bar = $('<span class=\"mpl-message\"/>');\n",
       "    nav_element.append(status_bar);\n",
       "    this.message = status_bar[0];\n",
       "}\n",
       "\n",
       "mpl.figure.prototype.request_resize = function(x_pixels, y_pixels) {\n",
       "    // Request matplotlib to resize the figure. Matplotlib will then trigger a resize in the client,\n",
       "    // which will in turn request a refresh of the image.\n",
       "    this.send_message('resize', {'width': x_pixels, 'height': y_pixels});\n",
       "}\n",
       "\n",
       "mpl.figure.prototype.send_message = function(type, properties) {\n",
       "    properties['type'] = type;\n",
       "    properties['figure_id'] = this.id;\n",
       "    this.ws.send(JSON.stringify(properties));\n",
       "}\n",
       "\n",
       "mpl.figure.prototype.send_draw_message = function() {\n",
       "    if (!this.waiting) {\n",
       "        this.waiting = true;\n",
       "        this.ws.send(JSON.stringify({type: \"draw\", figure_id: this.id}));\n",
       "    }\n",
       "}\n",
       "\n",
       "\n",
       "mpl.figure.prototype.handle_save = function(fig, msg) {\n",
       "    var format_dropdown = fig.format_dropdown;\n",
       "    var format = format_dropdown.options[format_dropdown.selectedIndex].value;\n",
       "    fig.ondownload(fig, format);\n",
       "}\n",
       "\n",
       "\n",
       "mpl.figure.prototype.handle_resize = function(fig, msg) {\n",
       "    var size = msg['size'];\n",
       "    if (size[0] != fig.canvas.width || size[1] != fig.canvas.height) {\n",
       "        fig._resize_canvas(size[0], size[1]);\n",
       "        fig.send_message(\"refresh\", {});\n",
       "    };\n",
       "}\n",
       "\n",
       "mpl.figure.prototype.handle_rubberband = function(fig, msg) {\n",
       "    var x0 = msg['x0'];\n",
       "    var y0 = fig.canvas.height - msg['y0'];\n",
       "    var x1 = msg['x1'];\n",
       "    var y1 = fig.canvas.height - msg['y1'];\n",
       "    x0 = Math.floor(x0) + 0.5;\n",
       "    y0 = Math.floor(y0) + 0.5;\n",
       "    x1 = Math.floor(x1) + 0.5;\n",
       "    y1 = Math.floor(y1) + 0.5;\n",
       "    var min_x = Math.min(x0, x1);\n",
       "    var min_y = Math.min(y0, y1);\n",
       "    var width = Math.abs(x1 - x0);\n",
       "    var height = Math.abs(y1 - y0);\n",
       "\n",
       "    fig.rubberband_context.clearRect(\n",
       "        0, 0, fig.canvas.width, fig.canvas.height);\n",
       "\n",
       "    fig.rubberband_context.strokeRect(min_x, min_y, width, height);\n",
       "}\n",
       "\n",
       "mpl.figure.prototype.handle_figure_label = function(fig, msg) {\n",
       "    // Updates the figure title.\n",
       "    fig.header.textContent = msg['label'];\n",
       "}\n",
       "\n",
       "mpl.figure.prototype.handle_cursor = function(fig, msg) {\n",
       "    var cursor = msg['cursor'];\n",
       "    switch(cursor)\n",
       "    {\n",
       "    case 0:\n",
       "        cursor = 'pointer';\n",
       "        break;\n",
       "    case 1:\n",
       "        cursor = 'default';\n",
       "        break;\n",
       "    case 2:\n",
       "        cursor = 'crosshair';\n",
       "        break;\n",
       "    case 3:\n",
       "        cursor = 'move';\n",
       "        break;\n",
       "    }\n",
       "    fig.rubberband_canvas.style.cursor = cursor;\n",
       "}\n",
       "\n",
       "mpl.figure.prototype.handle_message = function(fig, msg) {\n",
       "    fig.message.textContent = msg['message'];\n",
       "}\n",
       "\n",
       "mpl.figure.prototype.handle_draw = function(fig, msg) {\n",
       "    // Request the server to send over a new figure.\n",
       "    fig.send_draw_message();\n",
       "}\n",
       "\n",
       "mpl.figure.prototype.handle_image_mode = function(fig, msg) {\n",
       "    fig.image_mode = msg['mode'];\n",
       "}\n",
       "\n",
       "mpl.figure.prototype.updated_canvas_event = function() {\n",
       "    // Called whenever the canvas gets updated.\n",
       "    this.send_message(\"ack\", {});\n",
       "}\n",
       "\n",
       "// A function to construct a web socket function for onmessage handling.\n",
       "// Called in the figure constructor.\n",
       "mpl.figure.prototype._make_on_message_function = function(fig) {\n",
       "    return function socket_on_message(evt) {\n",
       "        if (evt.data instanceof Blob) {\n",
       "            /* FIXME: We get \"Resource interpreted as Image but\n",
       "             * transferred with MIME type text/plain:\" errors on\n",
       "             * Chrome.  But how to set the MIME type?  It doesn't seem\n",
       "             * to be part of the websocket stream */\n",
       "            evt.data.type = \"image/png\";\n",
       "\n",
       "            /* Free the memory for the previous frames */\n",
       "            if (fig.imageObj.src) {\n",
       "                (window.URL || window.webkitURL).revokeObjectURL(\n",
       "                    fig.imageObj.src);\n",
       "            }\n",
       "\n",
       "            fig.imageObj.src = (window.URL || window.webkitURL).createObjectURL(\n",
       "                evt.data);\n",
       "            fig.updated_canvas_event();\n",
       "            fig.waiting = false;\n",
       "            return;\n",
       "        }\n",
       "        else if (typeof evt.data === 'string' && evt.data.slice(0, 21) == \"data:image/png;base64\") {\n",
       "            fig.imageObj.src = evt.data;\n",
       "            fig.updated_canvas_event();\n",
       "            fig.waiting = false;\n",
       "            return;\n",
       "        }\n",
       "\n",
       "        var msg = JSON.parse(evt.data);\n",
       "        var msg_type = msg['type'];\n",
       "\n",
       "        // Call the  \"handle_{type}\" callback, which takes\n",
       "        // the figure and JSON message as its only arguments.\n",
       "        try {\n",
       "            var callback = fig[\"handle_\" + msg_type];\n",
       "        } catch (e) {\n",
       "            console.log(\"No handler for the '\" + msg_type + \"' message type: \", msg);\n",
       "            return;\n",
       "        }\n",
       "\n",
       "        if (callback) {\n",
       "            try {\n",
       "                // console.log(\"Handling '\" + msg_type + \"' message: \", msg);\n",
       "                callback(fig, msg);\n",
       "            } catch (e) {\n",
       "                console.log(\"Exception inside the 'handler_\" + msg_type + \"' callback:\", e, e.stack, msg);\n",
       "            }\n",
       "        }\n",
       "    };\n",
       "}\n",
       "\n",
       "// from http://stackoverflow.com/questions/1114465/getting-mouse-location-in-canvas\n",
       "mpl.findpos = function(e) {\n",
       "    //this section is from http://www.quirksmode.org/js/events_properties.html\n",
       "    var targ;\n",
       "    if (!e)\n",
       "        e = window.event;\n",
       "    if (e.target)\n",
       "        targ = e.target;\n",
       "    else if (e.srcElement)\n",
       "        targ = e.srcElement;\n",
       "    if (targ.nodeType == 3) // defeat Safari bug\n",
       "        targ = targ.parentNode;\n",
       "\n",
       "    // jQuery normalizes the pageX and pageY\n",
       "    // pageX,Y are the mouse positions relative to the document\n",
       "    // offset() returns the position of the element relative to the document\n",
       "    var x = e.pageX - $(targ).offset().left;\n",
       "    var y = e.pageY - $(targ).offset().top;\n",
       "\n",
       "    return {\"x\": x, \"y\": y};\n",
       "};\n",
       "\n",
       "/*\n",
       " * return a copy of an object with only non-object keys\n",
       " * we need this to avoid circular references\n",
       " * http://stackoverflow.com/a/24161582/3208463\n",
       " */\n",
       "function simpleKeys (original) {\n",
       "  return Object.keys(original).reduce(function (obj, key) {\n",
       "    if (typeof original[key] !== 'object')\n",
       "        obj[key] = original[key]\n",
       "    return obj;\n",
       "  }, {});\n",
       "}\n",
       "\n",
       "mpl.figure.prototype.mouse_event = function(event, name) {\n",
       "    var canvas_pos = mpl.findpos(event)\n",
       "\n",
       "    if (name === 'button_press')\n",
       "    {\n",
       "        this.canvas.focus();\n",
       "        this.canvas_div.focus();\n",
       "    }\n",
       "\n",
       "    var x = canvas_pos.x;\n",
       "    var y = canvas_pos.y;\n",
       "\n",
       "    this.send_message(name, {x: x, y: y, button: event.button,\n",
       "                             step: event.step,\n",
       "                             guiEvent: simpleKeys(event)});\n",
       "\n",
       "    /* This prevents the web browser from automatically changing to\n",
       "     * the text insertion cursor when the button is pressed.  We want\n",
       "     * to control all of the cursor setting manually through the\n",
       "     * 'cursor' event from matplotlib */\n",
       "    event.preventDefault();\n",
       "    return false;\n",
       "}\n",
       "\n",
       "mpl.figure.prototype._key_event_extra = function(event, name) {\n",
       "    // Handle any extra behaviour associated with a key event\n",
       "}\n",
       "\n",
       "mpl.figure.prototype.key_event = function(event, name) {\n",
       "\n",
       "    // Prevent repeat events\n",
       "    if (name == 'key_press')\n",
       "    {\n",
       "        if (event.which === this._key)\n",
       "            return;\n",
       "        else\n",
       "            this._key = event.which;\n",
       "    }\n",
       "    if (name == 'key_release')\n",
       "        this._key = null;\n",
       "\n",
       "    var value = '';\n",
       "    if (event.ctrlKey && event.which != 17)\n",
       "        value += \"ctrl+\";\n",
       "    if (event.altKey && event.which != 18)\n",
       "        value += \"alt+\";\n",
       "    if (event.shiftKey && event.which != 16)\n",
       "        value += \"shift+\";\n",
       "\n",
       "    value += 'k';\n",
       "    value += event.which.toString();\n",
       "\n",
       "    this._key_event_extra(event, name);\n",
       "\n",
       "    this.send_message(name, {key: value,\n",
       "                             guiEvent: simpleKeys(event)});\n",
       "    return false;\n",
       "}\n",
       "\n",
       "mpl.figure.prototype.toolbar_button_onclick = function(name) {\n",
       "    if (name == 'download') {\n",
       "        this.handle_save(this, null);\n",
       "    } else {\n",
       "        this.send_message(\"toolbar_button\", {name: name});\n",
       "    }\n",
       "};\n",
       "\n",
       "mpl.figure.prototype.toolbar_button_onmouseover = function(tooltip) {\n",
       "    this.message.textContent = tooltip;\n",
       "};\n",
       "mpl.toolbar_items = [[\"Home\", \"Reset original view\", \"fa fa-home icon-home\", \"home\"], [\"Back\", \"Back to  previous view\", \"fa fa-arrow-left icon-arrow-left\", \"back\"], [\"Forward\", \"Forward to next view\", \"fa fa-arrow-right icon-arrow-right\", \"forward\"], [\"\", \"\", \"\", \"\"], [\"Pan\", \"Pan axes with left mouse, zoom with right\", \"fa fa-arrows icon-move\", \"pan\"], [\"Zoom\", \"Zoom to rectangle\", \"fa fa-square-o icon-check-empty\", \"zoom\"], [\"\", \"\", \"\", \"\"], [\"Download\", \"Download plot\", \"fa fa-floppy-o icon-save\", \"download\"]];\n",
       "\n",
       "mpl.extensions = [\"eps\", \"pdf\", \"png\", \"ps\", \"raw\", \"svg\"];\n",
       "\n",
       "mpl.default_extension = \"png\";var comm_websocket_adapter = function(comm) {\n",
       "    // Create a \"websocket\"-like object which calls the given IPython comm\n",
       "    // object with the appropriate methods. Currently this is a non binary\n",
       "    // socket, so there is still some room for performance tuning.\n",
       "    var ws = {};\n",
       "\n",
       "    ws.close = function() {\n",
       "        comm.close()\n",
       "    };\n",
       "    ws.send = function(m) {\n",
       "        //console.log('sending', m);\n",
       "        comm.send(m);\n",
       "    };\n",
       "    // Register the callback with on_msg.\n",
       "    comm.on_msg(function(msg) {\n",
       "        //console.log('receiving', msg['content']['data'], msg);\n",
       "        // Pass the mpl event to the overriden (by mpl) onmessage function.\n",
       "        ws.onmessage(msg['content']['data'])\n",
       "    });\n",
       "    return ws;\n",
       "}\n",
       "\n",
       "mpl.mpl_figure_comm = function(comm, msg) {\n",
       "    // This is the function which gets called when the mpl process\n",
       "    // starts-up an IPython Comm through the \"matplotlib\" channel.\n",
       "\n",
       "    var id = msg.content.data.id;\n",
       "    // Get hold of the div created by the display call when the Comm\n",
       "    // socket was opened in Python.\n",
       "    var element = $(\"#\" + id);\n",
       "    var ws_proxy = comm_websocket_adapter(comm)\n",
       "\n",
       "    function ondownload(figure, format) {\n",
       "        window.open(figure.imageObj.src);\n",
       "    }\n",
       "\n",
       "    var fig = new mpl.figure(id, ws_proxy,\n",
       "                           ondownload,\n",
       "                           element.get(0));\n",
       "\n",
       "    // Call onopen now - mpl needs it, as it is assuming we've passed it a real\n",
       "    // web socket which is closed, not our websocket->open comm proxy.\n",
       "    ws_proxy.onopen();\n",
       "\n",
       "    fig.parent_element = element.get(0);\n",
       "    fig.cell_info = mpl.find_output_cell(\"<div id='\" + id + \"'></div>\");\n",
       "    if (!fig.cell_info) {\n",
       "        console.error(\"Failed to find cell for figure\", id, fig);\n",
       "        return;\n",
       "    }\n",
       "\n",
       "    var output_index = fig.cell_info[2]\n",
       "    var cell = fig.cell_info[0];\n",
       "\n",
       "};\n",
       "\n",
       "mpl.figure.prototype.handle_close = function(fig, msg) {\n",
       "    fig.root.unbind('remove')\n",
       "\n",
       "    // Update the output cell to use the data from the current canvas.\n",
       "    fig.push_to_output();\n",
       "    var dataURL = fig.canvas.toDataURL();\n",
       "    // Re-enable the keyboard manager in IPython - without this line, in FF,\n",
       "    // the notebook keyboard shortcuts fail.\n",
       "    IPython.keyboard_manager.enable()\n",
       "    $(fig.parent_element).html('<img src=\"' + dataURL + '\">');\n",
       "    fig.close_ws(fig, msg);\n",
       "}\n",
       "\n",
       "mpl.figure.prototype.close_ws = function(fig, msg){\n",
       "    fig.send_message('closing', msg);\n",
       "    // fig.ws.close()\n",
       "}\n",
       "\n",
       "mpl.figure.prototype.push_to_output = function(remove_interactive) {\n",
       "    // Turn the data on the canvas into data in the output cell.\n",
       "    var dataURL = this.canvas.toDataURL();\n",
       "    this.cell_info[1]['text/html'] = '<img src=\"' + dataURL + '\">';\n",
       "}\n",
       "\n",
       "mpl.figure.prototype.updated_canvas_event = function() {\n",
       "    // Tell IPython that the notebook contents must change.\n",
       "    IPython.notebook.set_dirty(true);\n",
       "    this.send_message(\"ack\", {});\n",
       "    var fig = this;\n",
       "    // Wait a second, then push the new image to the DOM so\n",
       "    // that it is saved nicely (might be nice to debounce this).\n",
       "    setTimeout(function () { fig.push_to_output() }, 1000);\n",
       "}\n",
       "\n",
       "mpl.figure.prototype._init_toolbar = function() {\n",
       "    var fig = this;\n",
       "\n",
       "    var nav_element = $('<div/>')\n",
       "    nav_element.attr('style', 'width: 100%');\n",
       "    this.root.append(nav_element);\n",
       "\n",
       "    // Define a callback function for later on.\n",
       "    function toolbar_event(event) {\n",
       "        return fig.toolbar_button_onclick(event['data']);\n",
       "    }\n",
       "    function toolbar_mouse_event(event) {\n",
       "        return fig.toolbar_button_onmouseover(event['data']);\n",
       "    }\n",
       "\n",
       "    for(var toolbar_ind in mpl.toolbar_items){\n",
       "        var name = mpl.toolbar_items[toolbar_ind][0];\n",
       "        var tooltip = mpl.toolbar_items[toolbar_ind][1];\n",
       "        var image = mpl.toolbar_items[toolbar_ind][2];\n",
       "        var method_name = mpl.toolbar_items[toolbar_ind][3];\n",
       "\n",
       "        if (!name) { continue; };\n",
       "\n",
       "        var button = $('<button class=\"btn btn-default\" href=\"#\" title=\"' + name + '\"><i class=\"fa ' + image + ' fa-lg\"></i></button>');\n",
       "        button.click(method_name, toolbar_event);\n",
       "        button.mouseover(tooltip, toolbar_mouse_event);\n",
       "        nav_element.append(button);\n",
       "    }\n",
       "\n",
       "    // Add the status bar.\n",
       "    var status_bar = $('<span class=\"mpl-message\" style=\"text-align:right; float: right;\"/>');\n",
       "    nav_element.append(status_bar);\n",
       "    this.message = status_bar[0];\n",
       "\n",
       "    // Add the close button to the window.\n",
       "    var buttongrp = $('<div class=\"btn-group inline pull-right\"></div>');\n",
       "    var button = $('<button class=\"btn btn-mini btn-primary\" href=\"#\" title=\"Stop Interaction\"><i class=\"fa fa-power-off icon-remove icon-large\"></i></button>');\n",
       "    button.click(function (evt) { fig.handle_close(fig, {}); } );\n",
       "    button.mouseover('Stop Interaction', toolbar_mouse_event);\n",
       "    buttongrp.append(button);\n",
       "    var titlebar = this.root.find($('.ui-dialog-titlebar'));\n",
       "    titlebar.prepend(buttongrp);\n",
       "}\n",
       "\n",
       "mpl.figure.prototype._root_extra_style = function(el){\n",
       "    var fig = this\n",
       "    el.on(\"remove\", function(){\n",
       "\tfig.close_ws(fig, {});\n",
       "    });\n",
       "}\n",
       "\n",
       "mpl.figure.prototype._canvas_extra_style = function(el){\n",
       "    // this is important to make the div 'focusable\n",
       "    el.attr('tabindex', 0)\n",
       "    // reach out to IPython and tell the keyboard manager to turn it's self\n",
       "    // off when our div gets focus\n",
       "\n",
       "    // location in version 3\n",
       "    if (IPython.notebook.keyboard_manager) {\n",
       "        IPython.notebook.keyboard_manager.register_events(el);\n",
       "    }\n",
       "    else {\n",
       "        // location in version 2\n",
       "        IPython.keyboard_manager.register_events(el);\n",
       "    }\n",
       "\n",
       "}\n",
       "\n",
       "mpl.figure.prototype._key_event_extra = function(event, name) {\n",
       "    var manager = IPython.notebook.keyboard_manager;\n",
       "    if (!manager)\n",
       "        manager = IPython.keyboard_manager;\n",
       "\n",
       "    // Check for shift+enter\n",
       "    if (event.shiftKey && event.which == 13) {\n",
       "        this.canvas_div.blur();\n",
       "        event.shiftKey = false;\n",
       "        // Send a \"J\" for go to next cell\n",
       "        event.which = 74;\n",
       "        event.keyCode = 74;\n",
       "        manager.command_mode();\n",
       "        manager.handle_keydown(event);\n",
       "    }\n",
       "}\n",
       "\n",
       "mpl.figure.prototype.handle_save = function(fig, msg) {\n",
       "    fig.ondownload(fig, null);\n",
       "}\n",
       "\n",
       "\n",
       "mpl.find_output_cell = function(html_output) {\n",
       "    // Return the cell and output element which can be found *uniquely* in the notebook.\n",
       "    // Note - this is a bit hacky, but it is done because the \"notebook_saving.Notebook\"\n",
       "    // IPython event is triggered only after the cells have been serialised, which for\n",
       "    // our purposes (turning an active figure into a static one), is too late.\n",
       "    var cells = IPython.notebook.get_cells();\n",
       "    var ncells = cells.length;\n",
       "    for (var i=0; i<ncells; i++) {\n",
       "        var cell = cells[i];\n",
       "        if (cell.cell_type === 'code'){\n",
       "            for (var j=0; j<cell.output_area.outputs.length; j++) {\n",
       "                var data = cell.output_area.outputs[j];\n",
       "                if (data.data) {\n",
       "                    // IPython >= 3 moved mimebundle to data attribute of output\n",
       "                    data = data.data;\n",
       "                }\n",
       "                if (data['text/html'] == html_output) {\n",
       "                    return [cell, data, j];\n",
       "                }\n",
       "            }\n",
       "        }\n",
       "    }\n",
       "}\n",
       "\n",
       "// Register the function which deals with the matplotlib target/channel.\n",
       "// The kernel may be null if the page has been refreshed.\n",
       "if (IPython.notebook.kernel != null) {\n",
       "    IPython.notebook.kernel.comm_manager.register_target('matplotlib', mpl.mpl_figure_comm);\n",
       "}\n"
      ],
      "text/plain": [
       "<IPython.core.display.Javascript object>"
      ]
     },
     "metadata": {},
     "output_type": "display_data"
    },
    {
     "data": {
      "text/html": [
       "<img src=\"data:image/png;base64,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\">"
      ],
      "text/plain": [
       "<IPython.core.display.HTML object>"
      ]
     },
     "metadata": {},
     "output_type": "display_data"
    },
    {
     "name": "stdout",
     "output_type": "stream",
     "text": [
      "Current size: [9.0, 5.0]\n"
     ]
    }
   ],
   "source": [
    "sumfig = plt.figure(\"Summary of Relations\")\n",
    "main.RelationSummary(sumfig)"
   ]
  }
 ],
 "metadata": {
  "hide_input": true,
  "kernelspec": {
   "display_name": "Python 3",
   "language": "python",
   "name": "python3"
  },
  "language_info": {
   "codemirror_mode": {
    "name": "ipython",
    "version": 3
   },
   "file_extension": ".py",
   "mimetype": "text/x-python",
   "name": "python",
   "nbconvert_exporter": "python",
   "pygments_lexer": "ipython3",
   "version": "3.5.2"
  },
  "widgets": {
   "state": {
    "002cca0577e440c5bdd0d8adc010b093": {
     "views": []
    },
    "005d3b69161048bbb167a4fe579b5f67": {
     "views": []
    },
    "0088231348f249dab609a13fe58a53fe": {
     "views": []
    },
    "009a0a81d77c46abad23d26535b3018a": {
     "views": []
    },
    "00a9b58f5a524f06835b97b80cd44732": {
     "views": []
    },
    "00f366d8f0a54a16b886d6b9ad66465d": {
     "views": []
    },
    "015477d74ac345f5bc306f929e3cc221": {
     "views": [
      {
       "cell_index": 9
      }
     ]
    },
    "0188d6b82d9d43b0a456e20e937f442e": {
     "views": []
    },
    "020d23eb21ba4e978f1bc1db61322e4f": {
     "views": []
    },
    "026ed948225f44b58fb43887a222ad9a": {
     "views": []
    },
    "0282e4b984ce421eb37f94e5a42d6642": {
     "views": []
    },
    "02f7d199f6164f4881b03c13d7f14ad0": {
     "views": []
    },
    "033343dbff304f6fa923fade1c0772f6": {
     "views": []
    },
    "033a75ed41934e6f8bb3730a747820d5": {
     "views": []
    },
    "039df7748cbe48cab3af7ecf6ce09e0e": {
     "views": []
    },
    "045af938e8a14114baf5b7535ad40b27": {
     "views": [
      {
       "cell_index": 9
      }
     ]
    },
    "04fa13fda5c2468e91d5e4d4dacc3b55": {
     "views": []
    },
    "050d322c4db84006b1d9acdf08b99e76": {
     "views": []
    },
    "0548e0a0150c4c75acc1f80cff4bfe4a": {
     "views": []
    },
    "0666adb06d72400a8f864f6b5ff04b2e": {
     "views": []
    },
    "0735bc94d78e465fab309fe6f558ad02": {
     "views": []
    },
    "0737ed987ccc458fb6655a6abb3ecca7": {
     "views": []
    },
    "073be7c86dc444fba48b4a6665e6de25": {
     "views": []
    },
    "07834a7e73084325aa3ce358df339281": {
     "views": []
    },
    "07e24ab8dbff4927b24a889ee68969c0": {
     "views": []
    },
    "07ec2fdaaad2411092bb9c41977f06db": {
     "views": []
    },
    "080c767032314daf8c6cda95b9eb194a": {
     "views": []
    },
    "08186a0822014993bc1333ba5629a0b4": {
     "views": [
      {
       "cell_index": 9
      }
     ]
    },
    "093ab78c38c640bf9bd452888ddb8ab2": {
     "views": []
    },
    "093aedf44fc84d7681de927009829aaa": {
     "views": []
    },
    "0ae79d9020de4dce989a8be8bdf5a97c": {
     "views": []
    },
    "0b01ae09cc1d4f4e8416a8948917c704": {
     "views": []
    },
    "0b1e1505759d4ed08447b05b6e6891f2": {
     "views": []
    },
    "0b6fd1f74cdd41089abc4ae60b337e6b": {
     "views": []
    },
    "0bba417633654993a07ff911239a80b7": {
     "views": []
    },
    "0c4a4cbf499b47d4b83af5c360f46b3e": {
     "views": []
    },
    "0c69729836854b789c0bf81efcf7e7c5": {
     "views": []
    },
    "0c9105a17b684a089721dfc68968e926": {
     "views": []
    },
    "0cf32cdea7b74f86a89053ee031ea10d": {
     "views": []
    },
    "0d632ec82c064ea5b0fadfd663a1ef03": {
     "views": []
    },
    "0d674d3b5f4742469cb6fca3a17fd20e": {
     "views": []
    },
    "0e0ba4a5c23e499fb9e0086ee6463519": {
     "views": []
    },
    "0e2c2710a8c646e68a6ddb8d97e35099": {
     "views": []
    },
    "0ed749d32a444cf9bc51094b99cfac3c": {
     "views": []
    },
    "0ee607afdbfd4e7381f57bd6372fcfed": {
     "views": []
    },
    "0eeb4b259d2343e489b395f445778898": {
     "views": []
    },
    "0f5ec59adce449138821b3c22d946fc3": {
     "views": []
    },
    "0f70c41701de467bb4798033ca543b2f": {
     "views": []
    },
    "103f34d9ca564e01bfae6283b0b5349e": {
     "views": []
    },
    "108cb195db5b422c9c013983d6744cc0": {
     "views": []
    },
    "11131a61186d4304acdc794c0999a896": {
     "views": []
    },
    "113446a3db0d42abba6adc07ed689d0f": {
     "views": []
    },
    "113a52df2f4c449c90ca21809246f87c": {
     "views": []
    },
    "11f5554a27c34430a240ff7b4f3aca98": {
     "views": []
    },
    "121744e3ec224824b0bd2a5dcdc702a3": {
     "views": []
    },
    "127ddbffea8040258cee74e9e009bfea": {
     "views": []
    },
    "12b1cb0c6a5a4ceb924088d44e501555": {
     "views": []
    },
    "13044c3a3e6e44b5939807fa897c07d4": {
     "views": []
    },
    "14320c92be1344a583ac4bd773f63ceb": {
     "views": []
    },
    "143261739cac410da695fa4e731e2b58": {
     "views": []
    },
    "145b731040b24d7fbc18d3a7439481b9": {
     "views": []
    },
    "146b4a8e1e4945c7beb01be423066d68": {
     "views": []
    },
    "148a1ea4f0494944b4425f86863f5e24": {
     "views": []
    },
    "1624718b73cf4745a3617c4a0e901368": {
     "views": []
    },
    "16ff4cd2896449a0823912536138201a": {
     "views": []
    },
    "172d00644acc4f30a681c10dc396c244": {
     "views": []
    },
    "17d1769253704287a08775e9a7017ce4": {
     "views": []
    },
    "17e1206eccee43fc82aff07ffed53954": {
     "views": []
    },
    "17e2ba3c101348daaa2c6d6be1dc8232": {
     "views": []
    },
    "1869de80896242f2b979ced3ae37f3a8": {
     "views": []
    },
    "1910b249fe504e7fa42318f3b44873bd": {
     "views": [
      {
       "cell_index": 9
      }
     ]
    },
    "191a5b1b9d7546e9aa808858d98ac779": {
     "views": []
    },
    "19abd3a1dd6448d09ac2d9315d36e898": {
     "views": []
    },
    "1a30cc743a404220a03a846ba2c017be": {
     "views": []
    },
    "1a73cd212f1544369620520d154aeafd": {
     "views": []
    },
    "1af6a0cb345f40f182287ae6e2876464": {
     "views": []
    },
    "1b8ee4ac430645b2967fc12a9551fe43": {
     "views": []
    },
    "1c33cd2a6bbf45b6b2e8321f38bdd813": {
     "views": []
    },
    "1c570d4b0e2746259fe73085157cfaaa": {
     "views": []
    },
    "1cad0897ab364cf1804ef78b5ad0bbc0": {
     "views": []
    },
    "1cbb3e4a0ad144b78b49a9cafa8a941c": {
     "views": []
    },
    "1ccf7c45fb34409c82914c48efe5d436": {
     "views": []
    },
    "1d2c4430761643b79af07a133ede9fa8": {
     "views": []
    },
    "1d3e03d022c44ee0a4362b7b3b81b9ef": {
     "views": []
    },
    "1d9c0c5702cb46b38282f9e66966235a": {
     "views": []
    },
    "1e0f01a527ff436991ae925b25233fd5": {
     "views": []
    },
    "1e952b9a220d431d939bd6a371f28fc8": {
     "views": [
      {
       "cell_index": 9
      }
     ]
    },
    "1f4a93b263f64a41b0cd29e3bb0003f2": {
     "views": []
    },
    "1fad81d9ea554519b6331d0ece0819be": {
     "views": []
    },
    "20ba91b932f94f079275f8db909fd920": {
     "views": []
    },
    "20eea067aff24d538eb6ee79f73c0cfc": {
     "views": []
    },
    "213e7c4d3cb6452684a36074bc0efa10": {
     "views": []
    },
    "21903ef54c2a481fb0b3da8f1d27ba8e": {
     "views": []
    },
    "21963e85bc9745f587b6e4d7cd827678": {
     "views": []
    },
    "21d16fc5a5554207b492cd9b413da956": {
     "views": []
    },
    "2282e3b2b6834e28899fce921711f201": {
     "views": []
    },
    "22afb751f81d4a3ba6ad27553754e065": {
     "views": []
    },
    "22dc2755c6a64a97970cd910df5e8c63": {
     "views": []
    },
    "23071af6d6414d3082167fbb8b31e9bf": {
     "views": []
    },
    "241d6c0a2a974e50a59b92be0c948f7f": {
     "views": []
    },
    "2435c8be24ad41e6a295612f48e043d9": {
     "views": []
    },
    "2481bfbc25b744b4bb719337f553ff9b": {
     "views": []
    },
    "24a7283f01e24680a8b3e5f590e54e4c": {
     "views": []
    },
    "26686849241440d98462536c18f698ae": {
     "views": []
    },
    "270eae187d534e09a9d45889b9a8ad80": {
     "views": []
    },
    "2738dd5264144feda5cd8c24b1e5c245": {
     "views": []
    },
    "27850d731f9c4794a0a90a5883183913": {
     "views": []
    },
    "27d0045b22d04d23a6f962e2d745391f": {
     "views": []
    },
    "28034cf984ec4613a780b771a654a93e": {
     "views": []
    },
    "2859f7dc468148ef9979aa5fe0b526cf": {
     "views": []
    },
    "28a16c255fb44c2f8e0db79ae7ee4d90": {
     "views": []
    },
    "2934d876d718498398f1fc2cbd19611d": {
     "views": []
    },
    "29bcd19afffc446180cd4a616aca1300": {
     "views": []
    },
    "2ab5afda86584545b58ebb35a8b2a6ba": {
     "views": []
    },
    "2ada77681fcc428bb50c06888b49780e": {
     "views": []
    },
    "2ae53d1f9c8f42d5a1bb1c06a0a87ad4": {
     "views": []
    },
    "2ae640a0d1b1461baea3fc8264b5738e": {
     "views": []
    },
    "2c52e299359a4237a98e851f7b22cc89": {
     "views": []
    },
    "2c5e918ccd6b4760a0b90e71565d1615": {
     "views": []
    },
    "2ca79c8756d64f10b47a785830ea8488": {
     "views": []
    },
    "2cf8d21b2bc6486d869c7248e10b6274": {
     "views": []
    },
    "2d142b00172c4997ad75e90ec4eb382a": {
     "views": []
    },
    "2d5d4b2d4e9748a2947786164b792f64": {
     "views": []
    },
    "2d8a0021ee36465abf4a14676a08d553": {
     "views": []
    },
    "2da0186011b84ad6bcf916b3e36fe3d8": {
     "views": []
    },
    "2df514f8c61540b5aba6b55a002aa036": {
     "views": []
    },
    "2e03ca2ebdcb4a1d86c8a3ac576acbc3": {
     "views": []
    },
    "2e5e27fbe41e4bdb82ec557df0fe4a68": {
     "views": []
    },
    "2ed964e4ff3e4ad68cb6e66aa5a00e85": {
     "views": []
    },
    "2eedc4b1bd7d49629a3a163d11623270": {
     "views": []
    },
    "2f2b901d9a8c4a4695ef9202cdf02eb5": {
     "views": [
      {
       "cell_index": 9
      }
     ]
    },
    "2fbe73aa0df24dd196706b11317f7f07": {
     "views": []
    },
    "2fd16b7163d642028bf088dde5c16376": {
     "views": []
    },
    "2feb4d6287be4f6fbfb74b351e2cb897": {
     "views": []
    },
    "303aa47155544506b5b2231d1592e849": {
     "views": []
    },
    "3090a150a5c446ee948fa117c37b1d77": {
     "views": []
    },
    "30c2782c865a4f2c9e183a17f5cf8305": {
     "views": []
    },
    "30f3c8fc735e41f9a8bd5261c75ad7a0": {
     "views": []
    },
    "30fb8eb5b1014ede8566c2e38db038cc": {
     "views": []
    },
    "3108c5974d6149159587bef26598c9df": {
     "views": []
    },
    "3114d542196243a68ed164596ac27ae1": {
     "views": []
    },
    "311ad3c42be148d6bac1ae0fa7c4a3cf": {
     "views": []
    },
    "318633f2161e4cd7a8d4c75a2f2e0bba": {
     "views": []
    },
    "31dba6c3a63447f1bf4df3e8dc55b1d2": {
     "views": []
    },
    "31f2860bc7964e3288e63b0ceef91e85": {
     "views": []
    },
    "3219a2e92f0c430d837ac901b6caf6a8": {
     "views": []
    },
    "32445724618341fc898892f33cdfcde4": {
     "views": []
    },
    "336ce534aa59453981d353a62031c0b8": {
     "views": []
    },
    "3389b581267d4229a8efcdbe295e6f4d": {
     "views": []
    },
    "34078c8feb6d4f3c9f6ed3081eff0d6c": {
     "views": []
    },
    "34403d563dbd41829a4b4a1e38db7223": {
     "views": []
    },
    "3476e999bfa645439ca427154a491bc1": {
     "views": [
      {
       "cell_index": 9
      }
     ]
    },
    "34cb08f0d89c4e3e81e421c0a6dd12d0": {
     "views": []
    },
    "34d01f1c607647e6b144ceb46ee7c119": {
     "views": []
    },
    "34d829c96e5b43fe994b5044ab9448bc": {
     "views": []
    },
    "34ee510c2de14bdbabb105898e26e79e": {
     "views": [
      {
       "cell_index": 9
      }
     ]
    },
    "34f9c8f60e184babad41c76d1885066a": {
     "views": []
    },
    "350466514c8b4dd38c36afe297fa8390": {
     "views": []
    },
    "35cc955a509148d3ad6c9f13de313ce2": {
     "views": []
    },
    "35f4935d0519446c94c2b4b3d295d195": {
     "views": [
      {
       "cell_index": 9
      }
     ]
    },
    "364b988cb8f244c3b71837ae61fe18f8": {
     "views": []
    },
    "368f556440904083bdd4683abde99acd": {
     "views": []
    },
    "375799c955904b698767962ce67a8faf": {
     "views": [
      {
       "cell_index": 9
      }
     ]
    },
    "381348f0f7fb4751bbb65d8da1cefb5e": {
     "views": []
    },
    "399cc33884d44462a58abeb9dc4d08ec": {
     "views": []
    },
    "39b342363df440569b947063e78b1712": {
     "views": []
    },
    "3a718f45217147fb86be76ffa9e65981": {
     "views": []
    },
    "3bb3cffbd17e4386a25cbdea45cea0a5": {
     "views": []
    },
    "3c6759c98c6e47f384b1c1f994ed44e3": {
     "views": []
    },
    "3c9964975aed4c9c906cc4c992633aa2": {
     "views": []
    },
    "3cd048c83a4a472cadd36c57f55b5b97": {
     "views": []
    },
    "3cd597d66790484e97f8440a9444d0ab": {
     "views": []
    },
    "3d17127e375f4e2e9bf0e05e0d7dc65c": {
     "views": []
    },
    "3d5dca372e404f42888751eaf091a9d9": {
     "views": []
    },
    "3dbe837decc448ebb04759289d78dfc2": {
     "views": []
    },
    "3e2aac2e74b04e4cb809bb68418615a6": {
     "views": []
    },
    "3e375082448b482fa55450b7f2d24cc1": {
     "views": []
    },
    "3e494e9fc76d4cac9d91c14970a361a7": {
     "views": [
      {
       "cell_index": 9
      }
     ]
    },
    "3f8228fcb6094eeab8fbaa2c409f8a15": {
     "views": []
    },
    "3f89ffc0a60a47adac41d80410fcdc85": {
     "views": [
      {
       "cell_index": 9
      }
     ]
    },
    "3fc2f09c73404fee972d39b65d0da96b": {
     "views": []
    },
    "3fcd78f5a2ae42ceae82d775dbffbc45": {
     "views": []
    },
    "3ffa19c6baa040a082c9cf66219f49fb": {
     "views": []
    },
    "4129971ca3224859837335bd729e2ad2": {
     "views": []
    },
    "41bc3d04e16849c7b17e294c820d122a": {
     "views": []
    },
    "41c98de9101642f29a4d392b55f83404": {
     "views": []
    },
    "42f2d20685504f1fb6f8daa14eb69ee5": {
     "views": []
    },
    "42fb43fc8e034c1c9f98a562a12afb7c": {
     "views": []
    },
    "4309319f88094622b42bf2c8c3d98f7d": {
     "views": []
    },
    "440252f6f3bf4858982f46baa1e3fdaf": {
     "views": []
    },
    "4411839acb1e4a398d3a9168cedf9f22": {
     "views": []
    },
    "44229a99dfb540789640fe52749c177f": {
     "views": []
    },
    "445198949906436e886ec8c7ef64fe0f": {
     "views": []
    },
    "4456f60e6ef54c4dbae42d47587c119f": {
     "views": []
    },
    "4489d8bd2a1f49cb85ba971cf8d8d40c": {
     "views": []
    },
    "469d5d0000d946e9a28c66903cd3c307": {
     "views": []
    },
    "47811570fdba402db8638fb5b3624051": {
     "views": []
    },
    "47d40f2afb75458dbde2f2425d0ad2bd": {
     "views": []
    },
    "47f7c649b904429eae12e0de3c091f39": {
     "views": []
    },
    "488e664e8f27499887b4a08c74f23f1a": {
     "views": []
    },
    "48b198a3856c455cb1773a85297fc67e": {
     "views": []
    },
    "48bbf3d0b51f4d1a9b3cc00f3dbb0239": {
     "views": []
    },
    "48c6d4a88981484889a7a3fab78ae509": {
     "views": [
      {
       "cell_index": 6
      }
     ]
    },
    "48cd80c16f614942be235991255201bd": {
     "views": []
    },
    "4a1d06d3966b47789cc419f086a2edb2": {
     "views": []
    },
    "4b3cef24bcb04dd5ad8357db4b7fa589": {
     "views": []
    },
    "4bfd92b8dc204b3db852f16221f4549c": {
     "views": []
    },
    "4c2b79492dd349009a85b0fbb919475e": {
     "views": []
    },
    "4c6db9e5a0bb41f2b11ce0a7c369826c": {
     "views": []
    },
    "4c7cf2b302894594a152a4dad948fb47": {
     "views": []
    },
    "4c89d57c9ea14043964e8ec0becd3ca5": {
     "views": []
    },
    "4ccc34d041874960bf426f4c51c7483f": {
     "views": []
    },
    "4d3c135adbf94e9888b5eceea2b2d510": {
     "views": []
    },
    "4e7eb0c3238b494a92dbfd5d721b8cc7": {
     "views": []
    },
    "4eed920e2ac841558af7a47a1633e3fd": {
     "views": []
    },
    "4f1abb7939ad43cf898322afff9246e7": {
     "views": []
    },
    "4ffa0a92641b4a778f8d26b3b20358af": {
     "views": []
    },
    "501327eed46542569d77895b0d826a90": {
     "views": []
    },
    "5046ce07354d4592906ac27ca472cccd": {
     "views": []
    },
    "5168b3ef5a28479dbbf4e2a502947192": {
     "views": []
    },
    "521e457d32e34c8f9653fd7bae352a98": {
     "views": []
    },
    "5234e2b8781d40a18c041b3790820544": {
     "views": []
    },
    "52ef48050ab7464c8bce80696943b740": {
     "views": []
    },
    "539ac563b9354572a0c63fe3ccef8d4a": {
     "views": []
    },
    "53f2989d3b824c7fb1d15c018e34729e": {
     "views": []
    },
    "548e2d541d384615a4dfa0e0b49e11e4": {
     "views": []
    },
    "54911caadbcc4d879e645b1f72be42fd": {
     "views": []
    },
    "5495daeef7d74f7282113f7b8be85a59": {
     "views": []
    },
    "54b9265179234d7cafb5d49ddd90f33a": {
     "views": []
    },
    "55c039909b5d48e0b9bdc949821192cf": {
     "views": []
    },
    "56a801bbf083467b83344da6f1554248": {
     "views": []
    },
    "56c6e4c3dad74024aaba2361ee59e678": {
     "views": []
    },
    "584e7dfa123f44369bb1c08a60ea162a": {
     "views": []
    },
    "58a9c650f3a143d2afcabedf08cdc2dc": {
     "views": []
    },
    "590932f17b8f4004b23b51cc2b4e88de": {
     "views": []
    },
    "595c18ab13da4861abc1a101ed63c001": {
     "views": []
    },
    "599e17fd71fe4778b55f7e741d3d545f": {
     "views": []
    },
    "59a43d04e4434981a867cd5799ce6d6f": {
     "views": []
    },
    "59f25bcb15fa47bf88aa388c1a7d8d04": {
     "views": []
    },
    "5b27d1bf5b6348259bfd07413f006d4d": {
     "views": []
    },
    "5b5da6b821b24057b5c74907e285ae2a": {
     "views": []
    },
    "5b8450fe78d74764b6780be866e42508": {
     "views": []
    },
    "5bb0a9e63afc4a5bbfd744785d41eb3a": {
     "views": []
    },
    "5be85078946e4e4d996c63906c2c3816": {
     "views": []
    },
    "5c784b48f0924b0b8a1009e5b8010303": {
     "views": []
    },
    "5ccc990330a64c489f5f9690cf5630ce": {
     "views": []
    },
    "5ccd79a177b5443a8325af27197dee0e": {
     "views": []
    },
    "5d4f069ee8c2426eabc7ebe4b94475f2": {
     "views": [
      {
       "cell_index": 9
      }
     ]
    },
    "5d93044ac07a4bcda3a2d3a40591f5aa": {
     "views": []
    },
    "5d94d555273d4c259b667ec5158f38aa": {
     "views": []
    },
    "5dc94b509a4a42c5bcd4bf8e0f8a88c6": {
     "views": []
    },
    "5e5da3e13b68420bb9f31d8c67f44c1c": {
     "views": []
    },
    "5e9468efe020411694a0c09ff4e9a9f1": {
     "views": []
    },
    "5eb8ba3a6e30400194d4f12642ba5124": {
     "views": []
    },
    "5fa2d11af9994c26a1f2403b5a5ff7ef": {
     "views": []
    },
    "6042c8a187334fd5a5f28f504e891daa": {
     "views": []
    },
    "605ef22cbf1148649effbc6e4a9fdb5a": {
     "views": []
    },
    "607f2e8c09984ad9a18624fdd6dca8e1": {
     "views": []
    },
    "60983cae214b43d28264befcd4305fda": {
     "views": []
    },
    "60c684988955495a95ebf23f35bb1576": {
     "views": []
    },
    "6174c8ed37e34d8ba82f51957009dbd7": {
     "views": []
    },
    "620966d6d35e4039b535cc37a482ddf5": {
     "views": []
    },
    "62769a6560dd40f4a6d05a18909c48d5": {
     "views": []
    },
    "628022fb05db45d4becb2b433c1e098f": {
     "views": []
    },
    "628bc57faa834c92874f3f9bcd1605b8": {
     "views": []
    },
    "6344a9c33c154363b5b8d47b464a2bc5": {
     "views": []
    },
    "63955895f1ce49a6932c25a1b7bffdea": {
     "views": []
    },
    "63aff68624e74d9b95c0dfa7d3d95fad": {
     "views": [
      {
       "cell_index": 9
      }
     ]
    },
    "64405eed5d8c4fd291e5186a7845496e": {
     "views": []
    },
    "64577069c28e463fb3f1799f54bbee94": {
     "views": []
    },
    "65c3fdb6f2144f2bbc2eb2537be92f69": {
     "views": []
    },
    "663fd4cd352c42ee8ba49928bc5ae786": {
     "views": []
    },
    "666c18a22abc492691c1b79878333146": {
     "views": [
      {
       "cell_index": 9
      }
     ]
    },
    "672aad76993a4d4cad33525b6adb1afa": {
     "views": [
      {
       "cell_index": 9
      }
     ]
    },
    "6777ee1ac742409397b72830df4d9c87": {
     "views": []
    },
    "67f270fbc73e49bcb6b3669913404193": {
     "views": []
    },
    "683d3a981484441dbed65fd03719b565": {
     "views": []
    },
    "687822074dad4971a951aa9813bf5961": {
     "views": []
    },
    "68fc9c98e8eb4551925ac350c3fa7f4e": {
     "views": []
    },
    "69ef719f25cb4ebabe8f0688c9ea724c": {
     "views": []
    },
    "6a0f48d068da438b9e648043399d745d": {
     "views": []
    },
    "6a23f9fea89943b5973ef20c4d8d7be0": {
     "views": []
    },
    "6a3573bb7c954fd2a4e39bf08bd3afa5": {
     "views": [
      {
       "cell_index": 9
      }
     ]
    },
    "6a851b24aba4433fb2f171ec797ec2f2": {
     "views": []
    },
    "6acc3ac0549141b4a1c2b296429a4f6d": {
     "views": []
    },
    "6b092618c37b41e0bba8cbcf470e80df": {
     "views": []
    },
    "6b2a0e0f0b584aa283c306797fbfc78f": {
     "views": []
    },
    "6b44033c1a534e999cd5a98125691745": {
     "views": []
    },
    "6b99eb8bdd4a46cea810d7952114e2b6": {
     "views": []
    },
    "6bebd69731c141ed88c0e8ee7d0d3863": {
     "views": []
    },
    "6cf8aca811694f62a2d0020eb8c51e97": {
     "views": []
    },
    "6da8f3da1bc64c989de1bbd2e5447a9f": {
     "views": []
    },
    "6db1a3adfad54161857ca7335f712ae6": {
     "views": []
    },
    "6dfb4728e45f4d999319d54e43bb7b20": {
     "views": []
    },
    "6e118502f1054e00a74dac9bd95879dc": {
     "views": [
      {
       "cell_index": 12
      }
     ]
    },
    "6e26d0f5636e44d78fd920c5a001f6c9": {
     "views": []
    },
    "6ebaa7a1c5b64286aff080857fc23f72": {
     "views": []
    },
    "6ee517fa5d4f44fa904a63e4eae9b59b": {
     "views": []
    },
    "6f03e0d5c30d47f780b007f43482a074": {
     "views": []
    },
    "6f408d3dccd044ca910a9d0d99b4f6c8": {
     "views": []
    },
    "6f78bb8d62204d319f9fb3b868583d25": {
     "views": []
    },
    "6fb53d3c5e594890813f8d33603e6407": {
     "views": []
    },
    "7003330c8ffe49f3b2ce10ee9c5afee3": {
     "views": []
    },
    "7003f5629cea4bbb86bd5cf22ad7e1fc": {
     "views": []
    },
    "707449e4beaf48aa9302e4adcbd77af8": {
     "views": []
    },
    "70da8a9c50a648a7b6b8755e0e23127d": {
     "views": []
    },
    "70fef407c0d44420bfb5de462e591590": {
     "views": [
      {
       "cell_index": 9
      }
     ]
    },
    "71990930acd74a1b8029bf4062bf7eba": {
     "views": []
    },
    "71b0cb907a104585884d1dca3c56b462": {
     "views": []
    },
    "7221c60e1fd14f38bb3bd4795cc493e0": {
     "views": []
    },
    "726126ec7762410aaf8b4769084b2746": {
     "views": []
    },
    "727a7663971e4443a1147e2d753cff10": {
     "views": []
    },
    "72cf3d819ba649f5bdb431872f90cb8f": {
     "views": []
    },
    "730212c2837c4c6d89d3db5b6dcf9c00": {
     "views": []
    },
    "732ef7c76e174fefb8010f892d1432f3": {
     "views": []
    },
    "73751b837de046a7bda1b2458ccd7d1d": {
     "views": []
    },
    "737c4c1a9fdb426daa8d320451223482": {
     "views": []
    },
    "7381f56095ac4762a31b7f9b73be6381": {
     "views": []
    },
    "7387ac7154834bb88af26d7c1b6a550a": {
     "views": []
    },
    "743f5060f0934d24b51f115495afcdf7": {
     "views": []
    },
    "7468b227433c4babbe0821f32256a79e": {
     "views": []
    },
    "749b7777489e41a390be70f05f09eb6e": {
     "views": []
    },
    "74cd9d100f9a446baf7184a0a2f941c9": {
     "views": []
    },
    "7577bfae491d45189b7a43c8172bca29": {
     "views": []
    },
    "75c0cab6afca412bb873abb62e149dd3": {
     "views": []
    },
    "76a9471506fb4bbd9d066bea762fd309": {
     "views": []
    },
    "76c2eb38fd9449cf9a553cc2b5f5926b": {
     "views": []
    },
    "76ca7da35e544769bf02963fda128de8": {
     "views": []
    },
    "771fbc1152f7456894e0d271c12f7df9": {
     "views": []
    },
    "77606e5f06c44839afb73e1594a2ac4b": {
     "views": []
    },
    "77697fc04d504a67bf358d2fd60aa5d8": {
     "views": []
    },
    "77ac0e5c94cd44ad9ad64ee6dd5809bb": {
     "views": [
      {
       "cell_index": 9
      }
     ]
    },
    "77f759c1bee541de9d0e4ae07036b2b5": {
     "views": []
    },
    "79b0d2688a42413a8d47bcc78cd7599c": {
     "views": []
    },
    "79e4b45118a2427c91940a02a4857c45": {
     "views": []
    },
    "7a282dcd2be049388696d93f86dcff00": {
     "views": []
    },
    "7afe4f9e582244e49a50ec44c87ce96c": {
     "views": []
    },
    "7b2c2ea0ea4743758f171d573cfaac30": {
     "views": []
    },
    "7b3c4709391946fcaf5e7148ee4de88e": {
     "views": []
    },
    "7b48ef31006048c9a4275f8162f1bb33": {
     "views": []
    },
    "7b53441090da48558935e7683c6ec841": {
     "views": []
    },
    "7bf2aec2389540f594f7086bbf9602e3": {
     "views": []
    },
    "7c0be9bd9c0d478abe12885bcb864d0c": {
     "views": [
      {
       "cell_index": 9
      }
     ]
    },
    "7c289c02619b45909d668f39a9b014f1": {
     "views": []
    },
    "7c354949099840959d8c95ca46534dd1": {
     "views": []
    },
    "7cf734d8aa294323a784dd6a2b71989c": {
     "views": []
    },
    "7d200f5e7b804a89a25cb11456492a42": {
     "views": []
    },
    "7d23021cc45f4297960beacd7879f138": {
     "views": []
    },
    "7d2a985478544932a975ae57011100fc": {
     "views": []
    },
    "7d8d080e23e44ffe8a0049d6a8fbb1bb": {
     "views": []
    },
    "7de131fa54f4433ba1398117ed9d47dd": {
     "views": []
    },
    "7e2f033d1f734e05b60e1c7f38581bd4": {
     "views": []
    },
    "7ea68d6fbe9f4f6e973ea73024ed441f": {
     "views": [
      {
       "cell_index": 9
      }
     ]
    },
    "7f0ce0b36ce54dfe8fbe65fa0ea46c05": {
     "views": []
    },
    "7f38a8932b524a8989e779f8931b160d": {
     "views": []
    },
    "7fdb1355719a42b5aef54d08bb494009": {
     "views": []
    },
    "8027a9e8c51a4ddcbe74c5f56be26307": {
     "views": []
    },
    "802d8de821d141cc844ed69ecf7cebcb": {
     "views": []
    },
    "80519280c5c2447b86430497409e4332": {
     "views": []
    },
    "808979a7268f4c2d8e9452016db17dd1": {
     "views": []
    },
    "8157049f7eb6406f9d07a83b5dd33588": {
     "views": []
    },
    "81a7eba47bb3423cbf64902c6d4348bc": {
     "views": []
    },
    "81e973fbf719468784e74f762db56d72": {
     "views": []
    },
    "82a5a364c9404b40a80dad91c584f254": {
     "views": []
    },
    "834ee5e8c6b04b1fbfdd1d0d3989cbeb": {
     "views": []
    },
    "836ca16b89574e5f9051ca8b7b8f6721": {
     "views": []
    },
    "83898ef7122a46da902e4f2256b6dfea": {
     "views": []
    },
    "839fb0a0ca4f40e6a46e24da8ce87714": {
     "views": []
    },
    "83ae148e3ee34ad4814408560626aea1": {
     "views": []
    },
    "84c04bd0432742d3a252be39c0af1090": {
     "views": []
    },
    "8687c440189f433fadd2f05f09644abc": {
     "views": []
    },
    "86bb6ddbabc6437db4a8aaa23592e967": {
     "views": []
    },
    "86d406683acd40c3bbcd0fb5dc53a5f6": {
     "views": []
    },
    "87108380dee74648a0e39ce714f6e932": {
     "views": []
    },
    "87519ef094784297ac59c7b1503cb595": {
     "views": []
    },
    "8830aa21f1cf44a49840072e7f2df2c3": {
     "views": []
    },
    "88d8b47032a94eb8942b12eaaa485661": {
     "views": []
    },
    "8990803f439d4e719aadd12108b6db1f": {
     "views": []
    },
    "8a25ab4a017c4c06860a5f3b1ca4266a": {
     "views": []
    },
    "8aa3a6a11de842dc9c63f087d013afe3": {
     "views": []
    },
    "8adc2c05d73242018e0718ea3dead2f9": {
     "views": []
    },
    "8b0e8bbbe3824b3fba4994db880273a9": {
     "views": []
    },
    "8c81010f5e914a249e3ccea7d50ff002": {
     "views": []
    },
    "8d0d5eb0bc3f4d209dac377ba46dc6c8": {
     "views": []
    },
    "8d480e8585eb4ab6b0a86b34bcab5925": {
     "views": []
    },
    "8d4a6f843362409eb98148654a9cd131": {
     "views": []
    },
    "8db1f2aacd5348708cc5a0d86500cd7e": {
     "views": []
    },
    "8e117e8e676e4b18bbbacb2e38e1b559": {
     "views": []
    },
    "8eaad45bb64f4a539f65bbdedb370b91": {
     "views": []
    },
    "8ec0383c429f40ca9dcd0c8e195989be": {
     "views": [
      {
       "cell_index": 9
      }
     ]
    },
    "8ef8a0b503e14c62a530051244fddf63": {
     "views": []
    },
    "8efdf485d08343d9a802d25c28fc6312": {
     "views": []
    },
    "8f85f64425854302b866c7a7449d5a03": {
     "views": []
    },
    "912559446e554621b317efbe899ea385": {
     "views": []
    },
    "915be6e351684852a043687c146c5561": {
     "views": []
    },
    "918295ab577d43f4bb05a40c944d9dc5": {
     "views": []
    },
    "91b803bd5df14d4ca47b19d5d7f94a8d": {
     "views": []
    },
    "91b98613022146d9abab93e64b5bae25": {
     "views": []
    },
    "91fce2821f094040833af78acbaa6785": {
     "views": []
    },
    "92956fcf666948688200a7592d80745c": {
     "views": []
    },
    "92b88a90943e491cae8ffe40ca371011": {
     "views": []
    },
    "93c0b8fc5cbf4f37aed4479d79ded33f": {
     "views": []
    },
    "93e46144c05a4339bb1e3201587505ea": {
     "views": []
    },
    "9425f664ef2d47d6951b5ceca1907fa5": {
     "views": []
    },
    "942d8e9c330443ab8d010123a5c064ef": {
     "views": []
    },
    "9486c9a3d6d640b691bb3de0f7020b11": {
     "views": []
    },
    "949037d5a82943bd8e789f1aac1d5d9f": {
     "views": [
      {
       "cell_index": 9
      }
     ]
    },
    "950b31f219b54be98402d25f801fb190": {
     "views": []
    },
    "95161922c6684917a9e05b36ce7d8564": {
     "views": []
    },
    "95304abce0104aa0a011b2d02e6d4727": {
     "views": []
    },
    "956a742016d2490197d5e6822c9ad8ab": {
     "views": []
    },
    "9590ed6665ec4bafb76c4626b78fe73f": {
     "views": []
    },
    "95b724ad6d2549f4b1d9edda544b90a1": {
     "views": []
    },
    "96da2f4f074547b28baecd50d313f9fb": {
     "views": []
    },
    "9700ec4ce3a040a2acccd60b72f9ce00": {
     "views": []
    },
    "974492b9183846d283c313302c3bf299": {
     "views": []
    },
    "97ad06bb0a744a83aa04b9745726fbf1": {
     "views": []
    },
    "97ebb26af2914310bee664fe68df4161": {
     "views": []
    },
    "980dc73e7f3643c08200c562935b9e97": {
     "views": []
    },
    "981bc69bd2f1446daf7a6af7471b6c29": {
     "views": []
    },
    "987bdd9d0233457981965bfcb27cfeba": {
     "views": []
    },
    "99092a74610242749ceec2d454b103bc": {
     "views": []
    },
    "993bdced21e540729d466dfa2b0aaf80": {
     "views": []
    },
    "995daa0c18214fe1b3f6906aa78157ac": {
     "views": []
    },
    "9a74dbd587bc46a8ac31dc732ea62bee": {
     "views": []
    },
    "9b6d6d770f6f412c88b3c6a6eadb0813": {
     "views": []
    },
    "9bdff6f5d2d2406e8a5af18eee527c7c": {
     "views": []
    },
    "9be4a613892d4cc7ae4f0e18f907cc2c": {
     "views": []
    },
    "9ce02bfe236243c687c2e646c2be048a": {
     "views": []
    },
    "9d58778133a242e9b81de6f9b168534a": {
     "views": []
    },
    "9d99d45363864494a5eb6f1ea526ccff": {
     "views": []
    },
    "9ecc6aad38044408afac56ec5019ea56": {
     "views": []
    },
    "9eefdd3c315c405ea04be567beefedc5": {
     "views": []
    },
    "9ffc09f8dd664a10acaebd4f5f705851": {
     "views": []
    },
    "a0299fa0f06148fc865c35e6f267a9b1": {
     "views": []
    },
    "a0396d718599435386de95bac8786449": {
     "views": [
      {
       "cell_index": 9
      }
     ]
    },
    "a071f16ebed545a4b1384bca1810b9a4": {
     "views": []
    },
    "a0d84e1b2fa64b09852b31b59653ed17": {
     "views": []
    },
    "a0e64af8fb8f42439d9db6d508774cb4": {
     "views": []
    },
    "a15218a3a62d47a9b94f9924b84272d7": {
     "views": []
    },
    "a1f6b0ed323240eb8b0486199efd7647": {
     "views": [
      {
       "cell_index": 9
      }
     ]
    },
    "a33be63c4dd549f88926b1328a8c411d": {
     "views": []
    },
    "a36773894fba4c7abb8e7b0fb413f87d": {
     "views": []
    },
    "a36a3b64dee34a0b89623c040d01cf93": {
     "views": []
    },
    "a3f591e6ca4d4e2983adf8a41f66be17": {
     "views": []
    },
    "a3fd7358bcfa4bb9b4b7dc8d74a2cc00": {
     "views": []
    },
    "a448d24d1fbe491cba4cdcc35c6bc5a4": {
     "views": []
    },
    "a4922d78b38643588bb5bf18e5ab0a3d": {
     "views": []
    },
    "a5a91475c56547d8be9855559b000802": {
     "views": [
      {
       "cell_index": 9
      }
     ]
    },
    "a5e6b08edcbf4b0c84287287632d774a": {
     "views": []
    },
    "a5ec1c7a16e24968a895b5a83d60309b": {
     "views": []
    },
    "a67a45549d364c39b2598d2772b9f06b": {
     "views": []
    },
    "a724e7319cdf4e1597836dcca22e7f1f": {
     "views": []
    },
    "a73fd28c97d64ba58558fdb6626133a9": {
     "views": []
    },
    "a7d858a82a834928bda96897bbb9c058": {
     "views": []
    },
    "a9c9f7a87b1f478fb63d1621541e9ef0": {
     "views": []
    },
    "a9d178f7edde4b48b4a44d1d0e85bc1d": {
     "views": []
    },
    "a9ff8baca02a4453a4251ff1b58199d4": {
     "views": []
    },
    "aa0ea99f198e4587a86576abb1fa6b73": {
     "views": []
    },
    "aa86e40fe9874e33adde6e449c0c7b9e": {
     "views": []
    },
    "aab709bdef834309b0f1be8e910386b2": {
     "views": []
    },
    "aaf239222ee0484d900dffde30f68ab5": {
     "views": []
    },
    "ab2b4a771fff43229a9243784e40ff63": {
     "views": []
    },
    "ab421ffcee2049f6b58481e8144d4b21": {
     "views": []
    },
    "ab7d06ba55c0496189adf78b094a2eea": {
     "views": [
      {
       "cell_index": 4
      }
     ]
    },
    "abb1bd0b16334f06b5a12e5aa96e4e67": {
     "views": []
    },
    "ac20d7787c7b4389a51a72f55e5cba2d": {
     "views": []
    },
    "accb68f23444435f8a1b0777fa766ce9": {
     "views": []
    },
    "ada918de41f249788c9ad6baea2ea063": {
     "views": []
    },
    "adb1bbf88fe04e1e8e4a925ab35db62e": {
     "views": []
    },
    "adda221d23614ac2bc7f89c1e9a18905": {
     "views": []
    },
    "adeac9caa2684c35a676c184c4a4e01d": {
     "views": [
      {
       "cell_index": 9
      }
     ]
    },
    "ae28feba914342dbac3a11e174da2928": {
     "views": []
    },
    "ae515485fe084e7486ef4f2085ad893e": {
     "views": []
    },
    "aef448ff07c1458f82b661b520c1c015": {
     "views": []
    },
    "af16cd5c23a94426a741f079ba4f5048": {
     "views": []
    },
    "b0c9d6d44fa34b4fb7978975c231334c": {
     "views": []
    },
    "b1b9fe1ae9464f27b9d32933110cf478": {
     "views": []
    },
    "b23f3bfdd13a4173a40f797f2ec219ea": {
     "views": []
    },
    "b28769e745534c818657bbadea3b057e": {
     "views": []
    },
    "b2880dcd77334903bb2853a4976968a7": {
     "views": [
      {
       "cell_index": 9
      }
     ]
    },
    "b29bb920bbee43c5860f1d518be956be": {
     "views": []
    },
    "b29d767fc766483faedae2d8de80673b": {
     "views": []
    },
    "b2a00e01dc0945d99404cce49113cdc6": {
     "views": []
    },
    "b2f3b45eb6de435b9a852f8c5444697d": {
     "views": []
    },
    "b3255748dae3465fa198025217e13fe9": {
     "views": []
    },
    "b3501584bb3f42d6a6d8bd47f212cf9a": {
     "views": []
    },
    "b392e3b7027d4d08a9041357fc54697b": {
     "views": []
    },
    "b3a918ad522f4023b6358a9105431592": {
     "views": []
    },
    "b45333c0c94a446e853887023e198566": {
     "views": []
    },
    "b4ebe0df30fb4c22a03365da4c80a84b": {
     "views": []
    },
    "b54dbb8ed7ff4f6484a7525af01c522c": {
     "views": []
    },
    "b58d673b5d804cf1874b7cb9e88dcdae": {
     "views": []
    },
    "b5caa12558214371b4893807d05c3302": {
     "views": []
    },
    "b60cbba1282c4f2ea30a81512a9ed39a": {
     "views": []
    },
    "b66c0d67eef2434fb36a9160d9dec924": {
     "views": []
    },
    "b700b486e1ab499384481191baa7af02": {
     "views": []
    },
    "b717e3a36bf344e5949d19382373166b": {
     "views": []
    },
    "b74ce68b9348497ebf558bee242b0426": {
     "views": []
    },
    "b79ceda0d9e44641b1a2851e518227eb": {
     "views": []
    },
    "b802842076de424d90c296adddff1aba": {
     "views": []
    },
    "b8b20be9f6bc432ebb5eb515f3d5dfc2": {
     "views": []
    },
    "b8d6b5b71e7148329f61ae7d804f776c": {
     "views": []
    },
    "b9adddc9cfca454c97a7cdaf9543a221": {
     "views": []
    },
    "b9e738f7c77c4b0e8a29389034be852d": {
     "views": []
    },
    "b9fb46b0218d41609b5810c8235f2d14": {
     "views": []
    },
    "ba19ded0ed12435ca84edd8f6c2fb4c8": {
     "views": []
    },
    "ba2a1731ffd8447dac40455078c8296e": {
     "views": []
    },
    "ba8f7999a6f8403d9ccdd2144e49455b": {
     "views": []
    },
    "bba3f4ef087949ad952a835fada28f4a": {
     "views": []
    },
    "bbd3cf9ddab140409a53f9d03695c8a0": {
     "views": []
    },
    "bc1ab71cb88747918e3689ac37eacbed": {
     "views": []
    },
    "bc406a740ae14348879ccbe831840574": {
     "views": []
    },
    "bccfcfb250294fcb8cddccf246989e25": {
     "views": []
    },
    "bcd3eda6753f453ba014a515a26505b8": {
     "views": []
    },
    "bcfd20a9eaea4c67b9b6e8b6b1445584": {
     "views": []
    },
    "bd948ab3d8ac4df19ce3d96246c8fa37": {
     "views": []
    },
    "be86fecebb794616a4488300b10dfa54": {
     "views": []
    },
    "bea37c59f61d48e8b14fa21586ec1b33": {
     "views": [
      {
       "cell_index": 9
      }
     ]
    },
    "bee74f3cbe50461aaaf5a9e0277c847e": {
     "views": []
    },
    "bf00363a7dea40c1a93aef1c71f254b4": {
     "views": []
    },
    "bf744840a2aa452cbd0b000a600329c0": {
     "views": []
    },
    "bf85197069344e8faf3a4adbc2d51b6f": {
     "views": []
    },
    "bf9e40852432402d966d35f458109dec": {
     "views": []
    },
    "bfe9d79b2d744782841c4694cec5c872": {
     "views": []
    },
    "c05659bb8e2443b08fbda7c0a42eb072": {
     "views": []
    },
    "c063193f48e348ddb876e2eeaf626ff8": {
     "views": []
    },
    "c0bdad3c3a5b4a0da00b319fce1d6557": {
     "views": []
    },
    "c0d3f681845646fabbac5c00ef24960c": {
     "views": []
    },
    "c1c0b7e25e76405c9458af02f0b66ecc": {
     "views": []
    },
    "c2fe80fbb86541e5bae84ce9b90788b8": {
     "views": []
    },
    "c33b7697e8ec41a2a855188ac48efdf2": {
     "views": []
    },
    "c3501934be214d07bb60722d88ade2e4": {
     "views": []
    },
    "c39d8b2577324652a7abd7ac73151910": {
     "views": []
    },
    "c3d16a1f2d314e59bcebf58b73de71e1": {
     "views": []
    },
    "c3e7018c2cbe440a815bf00218b13a97": {
     "views": []
    },
    "c3fe911b03c84b909ab564aebe0eb347": {
     "views": []
    },
    "c441d3671fdb4b48b507a55876d6d9d6": {
     "views": []
    },
    "c4632a6de65f4af084097f07f888e882": {
     "views": []
    },
    "c48bea12923742688dbbf1744cbc7d86": {
     "views": []
    },
    "c57ec11f53fe4b7e8983ba5e65e050db": {
     "views": []
    },
    "c5836c0130da46fdadd99a6d0aab88e1": {
     "views": [
      {
       "cell_index": 3
      }
     ]
    },
    "c5ff1246f14f4706ad6e3e5b1bb112be": {
     "views": []
    },
    "c61f358d83b94b30a85ea9d808f95cfc": {
     "views": []
    },
    "c6d02a91a857483cbbb97e1f22f7ecb3": {
     "views": []
    },
    "c7428c5496134d2c914df64f856da134": {
     "views": []
    },
    "c758c7bbc1a042649beca60d1e15cd7f": {
     "views": []
    },
    "c82d5ac4243a44438df8e2f16b659787": {
     "views": []
    },
    "c8951efe42c742afa7bc0b62acf3f69c": {
     "views": []
    },
    "c8b17b762e6248b3b660e3eb93e37449": {
     "views": []
    },
    "c947cbfb7b4a4d08a4a4b031d22f1f17": {
     "views": []
    },
    "c9fd80473e16439383d7275c4faf6661": {
     "views": []
    },
    "ca0aba40d3b1487f87ed4b7cde8204e0": {
     "views": []
    },
    "ca8a24edf2f042a89907e46877f1a87e": {
     "views": []
    },
    "cb2f25d740394869a3e50fa2fd8e685f": {
     "views": []
    },
    "ccfaca4b8e0a4a9e95b0879ddb09000d": {
     "views": []
    },
    "cd1edb3f07f44d9ea83883648c5950f4": {
     "views": []
    },
    "ce182d79c55b459080603532f413a766": {
     "views": []
    },
    "cea28a70085d4b2e84f66fabe0bfb18e": {
     "views": []
    },
    "cedfe081fdd54ed989611826d846e09f": {
     "views": []
    },
    "cf384a3a98704af78f242746e8e97f18": {
     "views": []
    },
    "cf6d55aacbbf4f038f9286e7866c2bbf": {
     "views": []
    },
    "cf77f2e53ce6482198e06f93815cb3f3": {
     "views": []
    },
    "cf7bc6879f894585a8df7d48cc80de73": {
     "views": []
    },
    "cfb0febe083a4521abaf683251e0a997": {
     "views": []
    },
    "cfcd5c340c2c4908969b634501c8082e": {
     "views": []
    },
    "cffc6fd89b7d4867b4d518610976dd0b": {
     "views": []
    },
    "d00b1f676b6241d7aad97730cc198fa7": {
     "views": []
    },
    "d064f31642774182a290f679baa986fe": {
     "views": []
    },
    "d08b8f3a04b845609d1a6bd093c4b4b1": {
     "views": []
    },
    "d19636ed78fa4994a325f4ea45117e00": {
     "views": []
    },
    "d1cfcc7e53b84257aac1d08dd0970e48": {
     "views": []
    },
    "d1e6d8b9ff6c4d028979dec9448925d2": {
     "views": []
    },
    "d27acf5c59a64435b7449cbdc5c9953c": {
     "views": []
    },
    "d286292d8e42411886f09eb062e9f394": {
     "views": []
    },
    "d2998fd52b814a2093f502f8ee4fe82e": {
     "views": []
    },
    "d421d45590e149fd8d6c0819d53dc079": {
     "views": []
    },
    "d4a13f661c4a485aa915650db7a63c7f": {
     "views": []
    },
    "d5d54af4ac7b470982a93f953493b932": {
     "views": []
    },
    "d6c2a4158ea540d781a1d7161c6f1b38": {
     "views": []
    },
    "d7524f05001544838fa1e0340493e35f": {
     "views": []
    },
    "d796d0e1c12f49a387f165362dc807fc": {
     "views": []
    },
    "d798ef6f619e43e6a881255303c74d39": {
     "views": []
    },
    "d8c5357ab28946d3bcf20f062bc533d7": {
     "views": []
    },
    "d8e8e3e72b664d219da3719f4aeaf417": {
     "views": []
    },
    "d968a547b3e64705a1232cd9c3ace9b9": {
     "views": []
    },
    "d97fbd7214d2498ea5f6654ebaf351b9": {
     "views": []
    },
    "d98a3b31cb444c749cfdf1d3ace32061": {
     "views": [
      {
       "cell_index": 9
      }
     ]
    },
    "d9addd90af124443a6e6f7f6e041a07b": {
     "views": []
    },
    "da7b71e792c847ebaabcc37c6d768447": {
     "views": []
    },
    "dae31be510234f44839ec777ec55677f": {
     "views": []
    },
    "dca1171dfa4043e9b3a429ff4e8140e0": {
     "views": []
    },
    "dca78beb9952482c86cb243fef3283b3": {
     "views": []
    },
    "dd37e96dd1534bfbaaa6184e2c573ec7": {
     "views": []
    },
    "dd6a1a19bed64d53ad77b6f826b45d0f": {
     "views": []
    },
    "ddac9f5480134b91b58a52ce186bcb31": {
     "views": []
    },
    "ddc0c66121524d20990595f8a8339ca9": {
     "views": []
    },
    "de4bd880d3c54b73872a74f3068874d1": {
     "views": []
    },
    "de5b351ec6564601a431a27b2aaee0d6": {
     "views": []
    },
    "de65e1df78ff49f781f0b76f8dd813ee": {
     "views": []
    },
    "de693acc978d4df9b56298f079955882": {
     "views": []
    },
    "de9c44575ceb4a0da5a67e3551ef54e6": {
     "views": []
    },
    "df1331841f0342f7a68d229ec708440b": {
     "views": []
    },
    "df4fc779b22848a396f34c20a38094bd": {
     "views": []
    },
    "df5779bf9a8f4d4dbd9c15aaa7a81310": {
     "views": []
    },
    "dff32ab389ba4fb295e9d070aed1a5da": {
     "views": []
    },
    "e005c5e5a25e466d963ae2d64bbaeada": {
     "views": []
    },
    "e054b479d6f54631a357bf54a156f6e2": {
     "views": []
    },
    "e06655b9e44e4600aca95d632bfb0843": {
     "views": []
    },
    "e08774fae4cf46a7b89ca26dc96d0aac": {
     "views": []
    },
    "e0afd7afd162476d85d8c883a81a9e24": {
     "views": []
    },
    "e0ddfa04b06f4fb8aba8bbddb2d677c6": {
     "views": []
    },
    "e0e311bd7c4a452491b98e87fdd27dc1": {
     "views": []
    },
    "e0eaae6e53c24f108ef590e8837819ae": {
     "views": []
    },
    "e145723412de447ebc7cd826c74a3427": {
     "views": []
    },
    "e1a113f20b1d475791d526d646c7b461": {
     "views": []
    },
    "e204a4551ae64ce9a2568190905ee6a2": {
     "views": []
    },
    "e20e7ac0e116403683f3d966ce8973e0": {
     "views": []
    },
    "e2c1bfbd366e4074ac7273915390ad4f": {
     "views": []
    },
    "e3885538435d4631888982dc987f8185": {
     "views": []
    },
    "e461d52e17a54c9b81c3ad244704026a": {
     "views": []
    },
    "e4ad508bd60d4ee098d3f179ed2ac682": {
     "views": []
    },
    "e513acb25d4743f9b95ff6af7851da55": {
     "views": []
    },
    "e53ddac5f4f849f4a996e9ca78d27da4": {
     "views": []
    },
    "e566c783795d4a0fb6002fbb52f23add": {
     "views": []
    },
    "e60a7846278844c8ae993f79ae4de389": {
     "views": [
      {
       "cell_index": 9
      }
     ]
    },
    "e6f328f77d124471969beaaa8a43c2e2": {
     "views": []
    },
    "e6f93e8166b145d49db3bb8286f1b036": {
     "views": []
    },
    "e7581b57cbca404db4bbd358d0875094": {
     "views": []
    },
    "e7b2e486952241629f2c3945d93a8c65": {
     "views": []
    },
    "e7bb15882c2f424496a165ff5d83c330": {
     "views": []
    },
    "e7c3d52091c14626adf8a04fea46659a": {
     "views": []
    },
    "e7e097afb01143c98d296bc288d6f3e8": {
     "views": []
    },
    "e864d1bd5a404593911185799480b460": {
     "views": []
    },
    "e8ba5167f2784fa0b6f125013d4a86fa": {
     "views": []
    },
    "e8bcbc44727145e0870c06b2d6d7a0b4": {
     "views": []
    },
    "e96a8ba218f34b72b42f83322236d9c7": {
     "views": []
    },
    "e9c764b3aaaf4813ae143878a7d538ab": {
     "views": []
    },
    "e9c93e7fd78149c09ad808234f58f594": {
     "views": []
    },
    "ea9b20df17e64085b9633f2c6fc90e28": {
     "views": []
    },
    "eade3721b83c43f98a8cf7d351af6127": {
     "views": []
    },
    "eb4e2af3015243168807922f587fcedb": {
     "views": []
    },
    "eb5ab40df9024f10a56467eb83f5979c": {
     "views": []
    },
    "ebf09a61f11449b0a22fb0ab89913223": {
     "views": []
    },
    "ebfe7f51dd7c48a98f5c0cc1382f575a": {
     "views": []
    },
    "ec2d04b438bb41698cc71baaec10f764": {
     "views": [
      {
       "cell_index": 9
      }
     ]
    },
    "ec429b1c9af547f7bd8e47cf047c63f3": {
     "views": []
    },
    "eca032f3fec34eb5866272ccccb6e7ed": {
     "views": []
    },
    "ecebc4b8542043d597861e5519816df6": {
     "views": []
    },
    "ed120b0b78c946728083c051866749e3": {
     "views": []
    },
    "ed152cba7a654abea26ad7e7be7a0632": {
     "views": []
    },
    "ed18d962d3344478b9b3b9db364d7eda": {
     "views": []
    },
    "ed9dcd35d30b4e8bb513b471fbafee9d": {
     "views": []
    },
    "ede576a4f2e444098d89462037eb580f": {
     "views": []
    },
    "ee12b338d53b4176b213f6f733eb6e5d": {
     "views": []
    },
    "ee7666c92f1a4d8b8d093c18281e8338": {
     "views": [
      {
       "cell_index": 9
      }
     ]
    },
    "ef046431bdab434dad4230576bf93881": {
     "views": []
    },
    "ef5e3a34d7b4476bb42672e7688df90e": {
     "views": []
    },
    "ef655981e29d423b999b9d5e1c1df563": {
     "views": []
    },
    "ef6949601f1e44208591e600b806dc92": {
     "views": []
    },
    "f0360e5da34d4d54bf4942fa86aab3cd": {
     "views": []
    },
    "f06bc254a49f425fa104edc594aa91cb": {
     "views": []
    },
    "f209f5d05f4649c7899b54aefe29c5a6": {
     "views": []
    },
    "f22465ea385a437c9398412a20f9b48c": {
     "views": []
    },
    "f255d031d2fd43579bc6fbd064bf2875": {
     "views": []
    },
    "f29d9172c1ee4009ad55ff361c33cb67": {
     "views": []
    },
    "f2fc988854074069b496cc058f89bbdd": {
     "views": []
    },
    "f3217d1401ed4c1b8ab59d85fd87badd": {
     "views": []
    },
    "f369346f7f0944a0a2a6c470c95b6053": {
     "views": []
    },
    "f36c0e8e4b1f47658526a639f597fd6f": {
     "views": []
    },
    "f3b8240fd22e4aa99f658600e0589aac": {
     "views": []
    },
    "f490a8727591489ebe7f039312f922f3": {
     "views": []
    },
    "f4f74a6b1af64223970b389d99dd0804": {
     "views": []
    },
    "f5883fbc8530464690efcf056c74108b": {
     "views": []
    },
    "f6c8b4b183ae4a2598864e3640af03a2": {
     "views": [
      {
       "cell_index": 9
      }
     ]
    },
    "f77b406c5c33471ca03b7e0f2a8a18c5": {
     "views": []
    },
    "f796f182ff4e4b8aae4ee01ef1e99c24": {
     "views": []
    },
    "f7e50dddc4414aca895de61a199641d0": {
     "views": []
    },
    "f7f98f322bce419ea191b27c520d6590": {
     "views": []
    },
    "f8aaedc421e14f5481fd05065da64409": {
     "views": []
    },
    "f8f889e37b3444fc86d6cecba65e1957": {
     "views": []
    },
    "f91e65a0f8d8482f8530ccca8c9cd2b6": {
     "views": []
    },
    "f99ab603b1ec4e598471c3e51a094747": {
     "views": []
    },
    "f9e354512eca4c79910e8e037c03192a": {
     "views": []
    },
    "f9f0824501af4ce3aa7bee6070bf9a1b": {
     "views": []
    },
    "f9f1685d8dd04165bd1089fe1fef6dcc": {
     "views": []
    },
    "fb1ccd4458044fe0a870bee7b03678b9": {
     "views": []
    },
    "fc46e55a3d2f47dc83b1b67c6e8d6034": {
     "views": []
    },
    "fcb1206fe1cc4517a21f96d47cf58bc7": {
     "views": []
    },
    "fcb7b9f7b60d4394b5d472bd976e3cdb": {
     "views": []
    },
    "fcc8177c5bb9416aa36f14a5182e73fb": {
     "views": []
    },
    "fd1d269f306a4f9e909f2108e0e59f1d": {
     "views": []
    },
    "fd34cf94d07c4b1c90c41741b3e51e23": {
     "views": []
    },
    "fd3e75d5abf94fe9b1bc5510168e9f75": {
     "views": []
    },
    "fdefc06582914b0a9f1bd921ae191990": {
     "views": []
    },
    "fe0b37fc90c1449c80645bbdc0dc2f76": {
     "views": [
      {
       "cell_index": 9
      }
     ]
    },
    "fe4f790b4c274e59ac561e44783176f2": {
     "views": []
    },
    "fefb2721cf1942a78a5a6998282e90ed": {
     "views": [
      {
       "cell_index": 9
      }
     ]
    },
    "ff43b603c6dd418498a033a976e3f93f": {
     "views": []
    },
    "ff5af0e0526b4c658bb00e4b5fa424e7": {
     "views": []
    }
   },
   "version": "1.1.2"
  }
 },
 "nbformat": 4,
 "nbformat_minor": 0
}
