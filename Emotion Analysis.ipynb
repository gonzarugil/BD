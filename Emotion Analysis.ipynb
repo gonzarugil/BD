{
 "cells": [
  {
   "cell_type": "markdown",
   "metadata": {
    "slideshow": {
     "slide_type": "slide"
    }
   },
   "source": [
    "<h1 align=\"center\"> Emotion Analysis in RSS News <h1>"
   ]
  },
  {
   "cell_type": "code",
   "execution_count": 1,
   "metadata": {
    "collapsed": false,
    "hide_input": false,
    "scrolled": true,
    "slideshow": {
     "slide_type": "skip"
    }
   },
   "outputs": [
    {
     "data": {
      "text/html": [
       "<script>\n",
       "code_show=true; \n",
       "function code_toggle() {\n",
       " if (code_show){\n",
       " $('div.input').hide();\n",
       " } else {\n",
       " $('div.input').show();\n",
       " }\n",
       " code_show = !code_show\n",
       "} \n",
       "$( document ).ready(code_toggle);\n",
       "</script>\n",
       "The raw code for this IPython notebook is by default hidden for easier reading.\n",
       "To toggle on/off the raw code, click <a href=\"javascript:code_toggle()\">here</a>."
      ],
      "text/plain": [
       "<IPython.core.display.HTML object>"
      ]
     },
     "execution_count": 1,
     "metadata": {},
     "output_type": "execute_result"
    }
   ],
   "source": [
    "%matplotlib notebook\n",
    "%config InlineBackend.close_figures = False\n",
    "import main\n",
    "import ipywidgets as widgets\n",
    "from ipywidgets import *\n",
    "from IPython.display import display\n",
    "from IPython.display import clear_output\n",
    "from IPython.display import Javascript\n",
    "import matplotlib.pyplot as plt\n",
    "from IPython.core.display import HTML\n",
    "\n",
    "fig_size = []\n",
    "fig_size.append(9)\n",
    "fig_size.append(5)\n",
    "plt.rcParams[\"figure.figsize\"] = fig_size\n",
    "\n",
    "def css_styling():\n",
    "    styles = open(\"custom.css\", \"r\").read() #or edit path to custom.css\n",
    "    return HTML(styles)\n",
    "css_styling()\n",
    "\n",
    "HTML('''<script>\n",
    "code_show=true; \n",
    "function code_toggle() {\n",
    " if (code_show){\n",
    " $('div.input').hide();\n",
    " } else {\n",
    " $('div.input').show();\n",
    " }\n",
    " code_show = !code_show\n",
    "} \n",
    "$( document ).ready(code_toggle);\n",
    "</script>\n",
    "The raw code for this IPython notebook is by default hidden for easier reading.\n",
    "To toggle on/off the raw code, click <a href=\"javascript:code_toggle()\">here</a>.''')"
   ]
  },
  {
   "cell_type": "markdown",
   "metadata": {},
   "source": [
    "<h2 align=\"center\"> Selection of the days interval for the analysis <h2>"
   ]
  },
  {
   "cell_type": "code",
   "execution_count": 2,
   "metadata": {
    "collapsed": false
   },
   "outputs": [],
   "source": [
    "daystart = None\n",
    "dayend = None\n",
    "dayinterval = main.makelast30days(main.dayslist)\n",
    "\n",
    "def setstart(start):\n",
    "    global daystart\n",
    "    daystart = start\n",
    "\n",
    "def setend(end):\n",
    "    global dayend\n",
    "    dayend = end\n",
    "\n",
    "choosestart = widgets.Select(options=main.dayslist,value=main.dayslist[len(main.dayslist)-31])\n",
    "chooseend = widgets.Select(options=main.dayslist,value=main.dayslist[len(main.dayslist)-1])\n",
    "choosestart.layout.width='100%'\n",
    "chooseend.layout.width='100%'\n",
    "\n",
    "i = widgets.interactive(setstart,start=choosestart)\n",
    "j = widgets.interactive(setend,end=chooseend)\n",
    "\n",
    "n = HBox([VBox([i]),VBox([j])])\n",
    "display(n)\n",
    "\n",
    "\n"
   ]
  },
  {
   "cell_type": "code",
   "execution_count": 3,
   "metadata": {
    "collapsed": false
   },
   "outputs": [
    {
     "name": "stdout",
     "output_type": "stream",
     "text": [
      "Selected interval: 2017 - 02 - 28 to 2017 - 04 - 03\n"
     ]
    }
   ],
   "source": [
    "def set_interval(sender):\n",
    "    global daystart,dayend,dayinterval\n",
    "    dayinterval = main.makedayinterval(daystart,dayend)\n",
    "    main.setdayinterval(dayinterval)\n",
    "    display(Javascript('IPython.notebook.execute_cells_below()'))\n",
    "    clear_output()\n",
    "    print(\"Selected interval: \"+ daystart +\" to \"+dayend)\n",
    "\n",
    "intervalbutton = widgets.Button(description='Save Interval')\n",
    "intervalbutton.layout.width='90%'\n",
    "intervalbutton.on_click(set_interval)\n",
    "display(intervalbutton)"
   ]
  },
  {
   "cell_type": "markdown",
   "metadata": {
    "slideshow": {
     "slide_type": "slide"
    }
   },
   "source": [
    "<h2 align=\"center\"> Selection of the terms of the search <h2>"
   ]
  },
  {
   "cell_type": "code",
   "execution_count": 16,
   "metadata": {
    "collapsed": false,
    "slideshow": {
     "slide_type": "subslide"
    }
   },
   "outputs": [
    {
     "data": {
      "application/javascript": [
       "IPython.notebook.execute_cells_below()"
      ],
      "text/plain": [
       "<IPython.core.display.Javascript object>"
      ]
     },
     "metadata": {},
     "output_type": "display_data"
    }
   ],
   "source": [
    "text = widgets.Text(placeholder=\"Insert the CED words separated by commas\")\n",
    "text.layout.width='100%'\n",
    "display(text)\n",
    "def handle_submit(sender):\n",
    "    clear_output()\n",
    "    newced = main.parseinput(text.value)\n",
    "    main.setcedwords(newced)\n",
    "    print (\"the new CED is: \"+ str(newced))\n",
    "    display(Javascript('IPython.notebook.execute_cells_below()'))\n",
    "\n",
    "text.on_submit(handle_submit)"
   ]
  },
  {
   "cell_type": "markdown",
   "metadata": {
    "slideshow": {
     "slide_type": "slide"
    }
   },
   "source": [
    "<h2 align=\"center\"> Emotion Graph <h2>"
   ]
  },
  {
   "cell_type": "code",
   "execution_count": 17,
   "metadata": {
    "collapsed": false,
    "hide_input": true,
    "scrolled": false,
    "slideshow": {
     "slide_type": "subslide"
    }
   },
   "outputs": [
    {
     "data": {
      "application/javascript": [
       "/* Put everything inside the global mpl namespace */\n",
       "window.mpl = {};\n",
       "\n",
       "mpl.get_websocket_type = function() {\n",
       "    if (typeof(WebSocket) !== 'undefined') {\n",
       "        return WebSocket;\n",
       "    } else if (typeof(MozWebSocket) !== 'undefined') {\n",
       "        return MozWebSocket;\n",
       "    } else {\n",
       "        alert('Your browser does not have WebSocket support.' +\n",
       "              'Please try Chrome, Safari or Firefox ≥ 6. ' +\n",
       "              'Firefox 4 and 5 are also supported but you ' +\n",
       "              'have to enable WebSockets in about:config.');\n",
       "    };\n",
       "}\n",
       "\n",
       "mpl.figure = function(figure_id, websocket, ondownload, parent_element) {\n",
       "    this.id = figure_id;\n",
       "\n",
       "    this.ws = websocket;\n",
       "\n",
       "    this.supports_binary = (this.ws.binaryType != undefined);\n",
       "\n",
       "    if (!this.supports_binary) {\n",
       "        var warnings = document.getElementById(\"mpl-warnings\");\n",
       "        if (warnings) {\n",
       "            warnings.style.display = 'block';\n",
       "            warnings.textContent = (\n",
       "                \"This browser does not support binary websocket messages. \" +\n",
       "                    \"Performance may be slow.\");\n",
       "        }\n",
       "    }\n",
       "\n",
       "    this.imageObj = new Image();\n",
       "\n",
       "    this.context = undefined;\n",
       "    this.message = undefined;\n",
       "    this.canvas = undefined;\n",
       "    this.rubberband_canvas = undefined;\n",
       "    this.rubberband_context = undefined;\n",
       "    this.format_dropdown = undefined;\n",
       "\n",
       "    this.image_mode = 'full';\n",
       "\n",
       "    this.root = $('<div/>');\n",
       "    this._root_extra_style(this.root)\n",
       "    this.root.attr('style', 'display: inline-block');\n",
       "\n",
       "    $(parent_element).append(this.root);\n",
       "\n",
       "    this._init_header(this);\n",
       "    this._init_canvas(this);\n",
       "    this._init_toolbar(this);\n",
       "\n",
       "    var fig = this;\n",
       "\n",
       "    this.waiting = false;\n",
       "\n",
       "    this.ws.onopen =  function () {\n",
       "            fig.send_message(\"supports_binary\", {value: fig.supports_binary});\n",
       "            fig.send_message(\"send_image_mode\", {});\n",
       "            fig.send_message(\"refresh\", {});\n",
       "        }\n",
       "\n",
       "    this.imageObj.onload = function() {\n",
       "            if (fig.image_mode == 'full') {\n",
       "                // Full images could contain transparency (where diff images\n",
       "                // almost always do), so we need to clear the canvas so that\n",
       "                // there is no ghosting.\n",
       "                fig.context.clearRect(0, 0, fig.canvas.width, fig.canvas.height);\n",
       "            }\n",
       "            fig.context.drawImage(fig.imageObj, 0, 0);\n",
       "        };\n",
       "\n",
       "    this.imageObj.onunload = function() {\n",
       "        this.ws.close();\n",
       "    }\n",
       "\n",
       "    this.ws.onmessage = this._make_on_message_function(this);\n",
       "\n",
       "    this.ondownload = ondownload;\n",
       "}\n",
       "\n",
       "mpl.figure.prototype._init_header = function() {\n",
       "    var titlebar = $(\n",
       "        '<div class=\"ui-dialog-titlebar ui-widget-header ui-corner-all ' +\n",
       "        'ui-helper-clearfix\"/>');\n",
       "    var titletext = $(\n",
       "        '<div class=\"ui-dialog-title\" style=\"width: 100%; ' +\n",
       "        'text-align: center; padding: 3px;\"/>');\n",
       "    titlebar.append(titletext)\n",
       "    this.root.append(titlebar);\n",
       "    this.header = titletext[0];\n",
       "}\n",
       "\n",
       "\n",
       "\n",
       "mpl.figure.prototype._canvas_extra_style = function(canvas_div) {\n",
       "\n",
       "}\n",
       "\n",
       "\n",
       "mpl.figure.prototype._root_extra_style = function(canvas_div) {\n",
       "\n",
       "}\n",
       "\n",
       "mpl.figure.prototype._init_canvas = function() {\n",
       "    var fig = this;\n",
       "\n",
       "    var canvas_div = $('<div/>');\n",
       "\n",
       "    canvas_div.attr('style', 'position: relative; clear: both; outline: 0');\n",
       "\n",
       "    function canvas_keyboard_event(event) {\n",
       "        return fig.key_event(event, event['data']);\n",
       "    }\n",
       "\n",
       "    canvas_div.keydown('key_press', canvas_keyboard_event);\n",
       "    canvas_div.keyup('key_release', canvas_keyboard_event);\n",
       "    this.canvas_div = canvas_div\n",
       "    this._canvas_extra_style(canvas_div)\n",
       "    this.root.append(canvas_div);\n",
       "\n",
       "    var canvas = $('<canvas/>');\n",
       "    canvas.addClass('mpl-canvas');\n",
       "    canvas.attr('style', \"left: 0; top: 0; z-index: 0; outline: 0\")\n",
       "\n",
       "    this.canvas = canvas[0];\n",
       "    this.context = canvas[0].getContext(\"2d\");\n",
       "\n",
       "    var rubberband = $('<canvas/>');\n",
       "    rubberband.attr('style', \"position: absolute; left: 0; top: 0; z-index: 1;\")\n",
       "\n",
       "    var pass_mouse_events = true;\n",
       "\n",
       "    canvas_div.resizable({\n",
       "        start: function(event, ui) {\n",
       "            pass_mouse_events = false;\n",
       "        },\n",
       "        resize: function(event, ui) {\n",
       "            fig.request_resize(ui.size.width, ui.size.height);\n",
       "        },\n",
       "        stop: function(event, ui) {\n",
       "            pass_mouse_events = true;\n",
       "            fig.request_resize(ui.size.width, ui.size.height);\n",
       "        },\n",
       "    });\n",
       "\n",
       "    function mouse_event_fn(event) {\n",
       "        if (pass_mouse_events)\n",
       "            return fig.mouse_event(event, event['data']);\n",
       "    }\n",
       "\n",
       "    rubberband.mousedown('button_press', mouse_event_fn);\n",
       "    rubberband.mouseup('button_release', mouse_event_fn);\n",
       "    // Throttle sequential mouse events to 1 every 20ms.\n",
       "    rubberband.mousemove('motion_notify', mouse_event_fn);\n",
       "\n",
       "    rubberband.mouseenter('figure_enter', mouse_event_fn);\n",
       "    rubberband.mouseleave('figure_leave', mouse_event_fn);\n",
       "\n",
       "    canvas_div.on(\"wheel\", function (event) {\n",
       "        event = event.originalEvent;\n",
       "        event['data'] = 'scroll'\n",
       "        if (event.deltaY < 0) {\n",
       "            event.step = 1;\n",
       "        } else {\n",
       "            event.step = -1;\n",
       "        }\n",
       "        mouse_event_fn(event);\n",
       "    });\n",
       "\n",
       "    canvas_div.append(canvas);\n",
       "    canvas_div.append(rubberband);\n",
       "\n",
       "    this.rubberband = rubberband;\n",
       "    this.rubberband_canvas = rubberband[0];\n",
       "    this.rubberband_context = rubberband[0].getContext(\"2d\");\n",
       "    this.rubberband_context.strokeStyle = \"#000000\";\n",
       "\n",
       "    this._resize_canvas = function(width, height) {\n",
       "        // Keep the size of the canvas, canvas container, and rubber band\n",
       "        // canvas in synch.\n",
       "        canvas_div.css('width', width)\n",
       "        canvas_div.css('height', height)\n",
       "\n",
       "        canvas.attr('width', width);\n",
       "        canvas.attr('height', height);\n",
       "\n",
       "        rubberband.attr('width', width);\n",
       "        rubberband.attr('height', height);\n",
       "    }\n",
       "\n",
       "    // Set the figure to an initial 600x600px, this will subsequently be updated\n",
       "    // upon first draw.\n",
       "    this._resize_canvas(600, 600);\n",
       "\n",
       "    // Disable right mouse context menu.\n",
       "    $(this.rubberband_canvas).bind(\"contextmenu\",function(e){\n",
       "        return false;\n",
       "    });\n",
       "\n",
       "    function set_focus () {\n",
       "        canvas.focus();\n",
       "        canvas_div.focus();\n",
       "    }\n",
       "\n",
       "    window.setTimeout(set_focus, 100);\n",
       "}\n",
       "\n",
       "mpl.figure.prototype._init_toolbar = function() {\n",
       "    var fig = this;\n",
       "\n",
       "    var nav_element = $('<div/>')\n",
       "    nav_element.attr('style', 'width: 100%');\n",
       "    this.root.append(nav_element);\n",
       "\n",
       "    // Define a callback function for later on.\n",
       "    function toolbar_event(event) {\n",
       "        return fig.toolbar_button_onclick(event['data']);\n",
       "    }\n",
       "    function toolbar_mouse_event(event) {\n",
       "        return fig.toolbar_button_onmouseover(event['data']);\n",
       "    }\n",
       "\n",
       "    for(var toolbar_ind in mpl.toolbar_items) {\n",
       "        var name = mpl.toolbar_items[toolbar_ind][0];\n",
       "        var tooltip = mpl.toolbar_items[toolbar_ind][1];\n",
       "        var image = mpl.toolbar_items[toolbar_ind][2];\n",
       "        var method_name = mpl.toolbar_items[toolbar_ind][3];\n",
       "\n",
       "        if (!name) {\n",
       "            // put a spacer in here.\n",
       "            continue;\n",
       "        }\n",
       "        var button = $('<button/>');\n",
       "        button.addClass('ui-button ui-widget ui-state-default ui-corner-all ' +\n",
       "                        'ui-button-icon-only');\n",
       "        button.attr('role', 'button');\n",
       "        button.attr('aria-disabled', 'false');\n",
       "        button.click(method_name, toolbar_event);\n",
       "        button.mouseover(tooltip, toolbar_mouse_event);\n",
       "\n",
       "        var icon_img = $('<span/>');\n",
       "        icon_img.addClass('ui-button-icon-primary ui-icon');\n",
       "        icon_img.addClass(image);\n",
       "        icon_img.addClass('ui-corner-all');\n",
       "\n",
       "        var tooltip_span = $('<span/>');\n",
       "        tooltip_span.addClass('ui-button-text');\n",
       "        tooltip_span.html(tooltip);\n",
       "\n",
       "        button.append(icon_img);\n",
       "        button.append(tooltip_span);\n",
       "\n",
       "        nav_element.append(button);\n",
       "    }\n",
       "\n",
       "    var fmt_picker_span = $('<span/>');\n",
       "\n",
       "    var fmt_picker = $('<select/>');\n",
       "    fmt_picker.addClass('mpl-toolbar-option ui-widget ui-widget-content');\n",
       "    fmt_picker_span.append(fmt_picker);\n",
       "    nav_element.append(fmt_picker_span);\n",
       "    this.format_dropdown = fmt_picker[0];\n",
       "\n",
       "    for (var ind in mpl.extensions) {\n",
       "        var fmt = mpl.extensions[ind];\n",
       "        var option = $(\n",
       "            '<option/>', {selected: fmt === mpl.default_extension}).html(fmt);\n",
       "        fmt_picker.append(option)\n",
       "    }\n",
       "\n",
       "    // Add hover states to the ui-buttons\n",
       "    $( \".ui-button\" ).hover(\n",
       "        function() { $(this).addClass(\"ui-state-hover\");},\n",
       "        function() { $(this).removeClass(\"ui-state-hover\");}\n",
       "    );\n",
       "\n",
       "    var status_bar = $('<span class=\"mpl-message\"/>');\n",
       "    nav_element.append(status_bar);\n",
       "    this.message = status_bar[0];\n",
       "}\n",
       "\n",
       "mpl.figure.prototype.request_resize = function(x_pixels, y_pixels) {\n",
       "    // Request matplotlib to resize the figure. Matplotlib will then trigger a resize in the client,\n",
       "    // which will in turn request a refresh of the image.\n",
       "    this.send_message('resize', {'width': x_pixels, 'height': y_pixels});\n",
       "}\n",
       "\n",
       "mpl.figure.prototype.send_message = function(type, properties) {\n",
       "    properties['type'] = type;\n",
       "    properties['figure_id'] = this.id;\n",
       "    this.ws.send(JSON.stringify(properties));\n",
       "}\n",
       "\n",
       "mpl.figure.prototype.send_draw_message = function() {\n",
       "    if (!this.waiting) {\n",
       "        this.waiting = true;\n",
       "        this.ws.send(JSON.stringify({type: \"draw\", figure_id: this.id}));\n",
       "    }\n",
       "}\n",
       "\n",
       "\n",
       "mpl.figure.prototype.handle_save = function(fig, msg) {\n",
       "    var format_dropdown = fig.format_dropdown;\n",
       "    var format = format_dropdown.options[format_dropdown.selectedIndex].value;\n",
       "    fig.ondownload(fig, format);\n",
       "}\n",
       "\n",
       "\n",
       "mpl.figure.prototype.handle_resize = function(fig, msg) {\n",
       "    var size = msg['size'];\n",
       "    if (size[0] != fig.canvas.width || size[1] != fig.canvas.height) {\n",
       "        fig._resize_canvas(size[0], size[1]);\n",
       "        fig.send_message(\"refresh\", {});\n",
       "    };\n",
       "}\n",
       "\n",
       "mpl.figure.prototype.handle_rubberband = function(fig, msg) {\n",
       "    var x0 = msg['x0'];\n",
       "    var y0 = fig.canvas.height - msg['y0'];\n",
       "    var x1 = msg['x1'];\n",
       "    var y1 = fig.canvas.height - msg['y1'];\n",
       "    x0 = Math.floor(x0) + 0.5;\n",
       "    y0 = Math.floor(y0) + 0.5;\n",
       "    x1 = Math.floor(x1) + 0.5;\n",
       "    y1 = Math.floor(y1) + 0.5;\n",
       "    var min_x = Math.min(x0, x1);\n",
       "    var min_y = Math.min(y0, y1);\n",
       "    var width = Math.abs(x1 - x0);\n",
       "    var height = Math.abs(y1 - y0);\n",
       "\n",
       "    fig.rubberband_context.clearRect(\n",
       "        0, 0, fig.canvas.width, fig.canvas.height);\n",
       "\n",
       "    fig.rubberband_context.strokeRect(min_x, min_y, width, height);\n",
       "}\n",
       "\n",
       "mpl.figure.prototype.handle_figure_label = function(fig, msg) {\n",
       "    // Updates the figure title.\n",
       "    fig.header.textContent = msg['label'];\n",
       "}\n",
       "\n",
       "mpl.figure.prototype.handle_cursor = function(fig, msg) {\n",
       "    var cursor = msg['cursor'];\n",
       "    switch(cursor)\n",
       "    {\n",
       "    case 0:\n",
       "        cursor = 'pointer';\n",
       "        break;\n",
       "    case 1:\n",
       "        cursor = 'default';\n",
       "        break;\n",
       "    case 2:\n",
       "        cursor = 'crosshair';\n",
       "        break;\n",
       "    case 3:\n",
       "        cursor = 'move';\n",
       "        break;\n",
       "    }\n",
       "    fig.rubberband_canvas.style.cursor = cursor;\n",
       "}\n",
       "\n",
       "mpl.figure.prototype.handle_message = function(fig, msg) {\n",
       "    fig.message.textContent = msg['message'];\n",
       "}\n",
       "\n",
       "mpl.figure.prototype.handle_draw = function(fig, msg) {\n",
       "    // Request the server to send over a new figure.\n",
       "    fig.send_draw_message();\n",
       "}\n",
       "\n",
       "mpl.figure.prototype.handle_image_mode = function(fig, msg) {\n",
       "    fig.image_mode = msg['mode'];\n",
       "}\n",
       "\n",
       "mpl.figure.prototype.updated_canvas_event = function() {\n",
       "    // Called whenever the canvas gets updated.\n",
       "    this.send_message(\"ack\", {});\n",
       "}\n",
       "\n",
       "// A function to construct a web socket function for onmessage handling.\n",
       "// Called in the figure constructor.\n",
       "mpl.figure.prototype._make_on_message_function = function(fig) {\n",
       "    return function socket_on_message(evt) {\n",
       "        if (evt.data instanceof Blob) {\n",
       "            /* FIXME: We get \"Resource interpreted as Image but\n",
       "             * transferred with MIME type text/plain:\" errors on\n",
       "             * Chrome.  But how to set the MIME type?  It doesn't seem\n",
       "             * to be part of the websocket stream */\n",
       "            evt.data.type = \"image/png\";\n",
       "\n",
       "            /* Free the memory for the previous frames */\n",
       "            if (fig.imageObj.src) {\n",
       "                (window.URL || window.webkitURL).revokeObjectURL(\n",
       "                    fig.imageObj.src);\n",
       "            }\n",
       "\n",
       "            fig.imageObj.src = (window.URL || window.webkitURL).createObjectURL(\n",
       "                evt.data);\n",
       "            fig.updated_canvas_event();\n",
       "            fig.waiting = false;\n",
       "            return;\n",
       "        }\n",
       "        else if (typeof evt.data === 'string' && evt.data.slice(0, 21) == \"data:image/png;base64\") {\n",
       "            fig.imageObj.src = evt.data;\n",
       "            fig.updated_canvas_event();\n",
       "            fig.waiting = false;\n",
       "            return;\n",
       "        }\n",
       "\n",
       "        var msg = JSON.parse(evt.data);\n",
       "        var msg_type = msg['type'];\n",
       "\n",
       "        // Call the  \"handle_{type}\" callback, which takes\n",
       "        // the figure and JSON message as its only arguments.\n",
       "        try {\n",
       "            var callback = fig[\"handle_\" + msg_type];\n",
       "        } catch (e) {\n",
       "            console.log(\"No handler for the '\" + msg_type + \"' message type: \", msg);\n",
       "            return;\n",
       "        }\n",
       "\n",
       "        if (callback) {\n",
       "            try {\n",
       "                // console.log(\"Handling '\" + msg_type + \"' message: \", msg);\n",
       "                callback(fig, msg);\n",
       "            } catch (e) {\n",
       "                console.log(\"Exception inside the 'handler_\" + msg_type + \"' callback:\", e, e.stack, msg);\n",
       "            }\n",
       "        }\n",
       "    };\n",
       "}\n",
       "\n",
       "// from http://stackoverflow.com/questions/1114465/getting-mouse-location-in-canvas\n",
       "mpl.findpos = function(e) {\n",
       "    //this section is from http://www.quirksmode.org/js/events_properties.html\n",
       "    var targ;\n",
       "    if (!e)\n",
       "        e = window.event;\n",
       "    if (e.target)\n",
       "        targ = e.target;\n",
       "    else if (e.srcElement)\n",
       "        targ = e.srcElement;\n",
       "    if (targ.nodeType == 3) // defeat Safari bug\n",
       "        targ = targ.parentNode;\n",
       "\n",
       "    // jQuery normalizes the pageX and pageY\n",
       "    // pageX,Y are the mouse positions relative to the document\n",
       "    // offset() returns the position of the element relative to the document\n",
       "    var x = e.pageX - $(targ).offset().left;\n",
       "    var y = e.pageY - $(targ).offset().top;\n",
       "\n",
       "    return {\"x\": x, \"y\": y};\n",
       "};\n",
       "\n",
       "/*\n",
       " * return a copy of an object with only non-object keys\n",
       " * we need this to avoid circular references\n",
       " * http://stackoverflow.com/a/24161582/3208463\n",
       " */\n",
       "function simpleKeys (original) {\n",
       "  return Object.keys(original).reduce(function (obj, key) {\n",
       "    if (typeof original[key] !== 'object')\n",
       "        obj[key] = original[key]\n",
       "    return obj;\n",
       "  }, {});\n",
       "}\n",
       "\n",
       "mpl.figure.prototype.mouse_event = function(event, name) {\n",
       "    var canvas_pos = mpl.findpos(event)\n",
       "\n",
       "    if (name === 'button_press')\n",
       "    {\n",
       "        this.canvas.focus();\n",
       "        this.canvas_div.focus();\n",
       "    }\n",
       "\n",
       "    var x = canvas_pos.x;\n",
       "    var y = canvas_pos.y;\n",
       "\n",
       "    this.send_message(name, {x: x, y: y, button: event.button,\n",
       "                             step: event.step,\n",
       "                             guiEvent: simpleKeys(event)});\n",
       "\n",
       "    /* This prevents the web browser from automatically changing to\n",
       "     * the text insertion cursor when the button is pressed.  We want\n",
       "     * to control all of the cursor setting manually through the\n",
       "     * 'cursor' event from matplotlib */\n",
       "    event.preventDefault();\n",
       "    return false;\n",
       "}\n",
       "\n",
       "mpl.figure.prototype._key_event_extra = function(event, name) {\n",
       "    // Handle any extra behaviour associated with a key event\n",
       "}\n",
       "\n",
       "mpl.figure.prototype.key_event = function(event, name) {\n",
       "\n",
       "    // Prevent repeat events\n",
       "    if (name == 'key_press')\n",
       "    {\n",
       "        if (event.which === this._key)\n",
       "            return;\n",
       "        else\n",
       "            this._key = event.which;\n",
       "    }\n",
       "    if (name == 'key_release')\n",
       "        this._key = null;\n",
       "\n",
       "    var value = '';\n",
       "    if (event.ctrlKey && event.which != 17)\n",
       "        value += \"ctrl+\";\n",
       "    if (event.altKey && event.which != 18)\n",
       "        value += \"alt+\";\n",
       "    if (event.shiftKey && event.which != 16)\n",
       "        value += \"shift+\";\n",
       "\n",
       "    value += 'k';\n",
       "    value += event.which.toString();\n",
       "\n",
       "    this._key_event_extra(event, name);\n",
       "\n",
       "    this.send_message(name, {key: value,\n",
       "                             guiEvent: simpleKeys(event)});\n",
       "    return false;\n",
       "}\n",
       "\n",
       "mpl.figure.prototype.toolbar_button_onclick = function(name) {\n",
       "    if (name == 'download') {\n",
       "        this.handle_save(this, null);\n",
       "    } else {\n",
       "        this.send_message(\"toolbar_button\", {name: name});\n",
       "    }\n",
       "};\n",
       "\n",
       "mpl.figure.prototype.toolbar_button_onmouseover = function(tooltip) {\n",
       "    this.message.textContent = tooltip;\n",
       "};\n",
       "mpl.toolbar_items = [[\"Home\", \"Reset original view\", \"fa fa-home icon-home\", \"home\"], [\"Back\", \"Back to  previous view\", \"fa fa-arrow-left icon-arrow-left\", \"back\"], [\"Forward\", \"Forward to next view\", \"fa fa-arrow-right icon-arrow-right\", \"forward\"], [\"\", \"\", \"\", \"\"], [\"Pan\", \"Pan axes with left mouse, zoom with right\", \"fa fa-arrows icon-move\", \"pan\"], [\"Zoom\", \"Zoom to rectangle\", \"fa fa-square-o icon-check-empty\", \"zoom\"], [\"\", \"\", \"\", \"\"], [\"Download\", \"Download plot\", \"fa fa-floppy-o icon-save\", \"download\"]];\n",
       "\n",
       "mpl.extensions = [\"eps\", \"pdf\", \"png\", \"ps\", \"raw\", \"svg\"];\n",
       "\n",
       "mpl.default_extension = \"png\";var comm_websocket_adapter = function(comm) {\n",
       "    // Create a \"websocket\"-like object which calls the given IPython comm\n",
       "    // object with the appropriate methods. Currently this is a non binary\n",
       "    // socket, so there is still some room for performance tuning.\n",
       "    var ws = {};\n",
       "\n",
       "    ws.close = function() {\n",
       "        comm.close()\n",
       "    };\n",
       "    ws.send = function(m) {\n",
       "        //console.log('sending', m);\n",
       "        comm.send(m);\n",
       "    };\n",
       "    // Register the callback with on_msg.\n",
       "    comm.on_msg(function(msg) {\n",
       "        //console.log('receiving', msg['content']['data'], msg);\n",
       "        // Pass the mpl event to the overriden (by mpl) onmessage function.\n",
       "        ws.onmessage(msg['content']['data'])\n",
       "    });\n",
       "    return ws;\n",
       "}\n",
       "\n",
       "mpl.mpl_figure_comm = function(comm, msg) {\n",
       "    // This is the function which gets called when the mpl process\n",
       "    // starts-up an IPython Comm through the \"matplotlib\" channel.\n",
       "\n",
       "    var id = msg.content.data.id;\n",
       "    // Get hold of the div created by the display call when the Comm\n",
       "    // socket was opened in Python.\n",
       "    var element = $(\"#\" + id);\n",
       "    var ws_proxy = comm_websocket_adapter(comm)\n",
       "\n",
       "    function ondownload(figure, format) {\n",
       "        window.open(figure.imageObj.src);\n",
       "    }\n",
       "\n",
       "    var fig = new mpl.figure(id, ws_proxy,\n",
       "                           ondownload,\n",
       "                           element.get(0));\n",
       "\n",
       "    // Call onopen now - mpl needs it, as it is assuming we've passed it a real\n",
       "    // web socket which is closed, not our websocket->open comm proxy.\n",
       "    ws_proxy.onopen();\n",
       "\n",
       "    fig.parent_element = element.get(0);\n",
       "    fig.cell_info = mpl.find_output_cell(\"<div id='\" + id + \"'></div>\");\n",
       "    if (!fig.cell_info) {\n",
       "        console.error(\"Failed to find cell for figure\", id, fig);\n",
       "        return;\n",
       "    }\n",
       "\n",
       "    var output_index = fig.cell_info[2]\n",
       "    var cell = fig.cell_info[0];\n",
       "\n",
       "};\n",
       "\n",
       "mpl.figure.prototype.handle_close = function(fig, msg) {\n",
       "    fig.root.unbind('remove')\n",
       "\n",
       "    // Update the output cell to use the data from the current canvas.\n",
       "    fig.push_to_output();\n",
       "    var dataURL = fig.canvas.toDataURL();\n",
       "    // Re-enable the keyboard manager in IPython - without this line, in FF,\n",
       "    // the notebook keyboard shortcuts fail.\n",
       "    IPython.keyboard_manager.enable()\n",
       "    $(fig.parent_element).html('<img src=\"' + dataURL + '\">');\n",
       "    fig.close_ws(fig, msg);\n",
       "}\n",
       "\n",
       "mpl.figure.prototype.close_ws = function(fig, msg){\n",
       "    fig.send_message('closing', msg);\n",
       "    // fig.ws.close()\n",
       "}\n",
       "\n",
       "mpl.figure.prototype.push_to_output = function(remove_interactive) {\n",
       "    // Turn the data on the canvas into data in the output cell.\n",
       "    var dataURL = this.canvas.toDataURL();\n",
       "    this.cell_info[1]['text/html'] = '<img src=\"' + dataURL + '\">';\n",
       "}\n",
       "\n",
       "mpl.figure.prototype.updated_canvas_event = function() {\n",
       "    // Tell IPython that the notebook contents must change.\n",
       "    IPython.notebook.set_dirty(true);\n",
       "    this.send_message(\"ack\", {});\n",
       "    var fig = this;\n",
       "    // Wait a second, then push the new image to the DOM so\n",
       "    // that it is saved nicely (might be nice to debounce this).\n",
       "    setTimeout(function () { fig.push_to_output() }, 1000);\n",
       "}\n",
       "\n",
       "mpl.figure.prototype._init_toolbar = function() {\n",
       "    var fig = this;\n",
       "\n",
       "    var nav_element = $('<div/>')\n",
       "    nav_element.attr('style', 'width: 100%');\n",
       "    this.root.append(nav_element);\n",
       "\n",
       "    // Define a callback function for later on.\n",
       "    function toolbar_event(event) {\n",
       "        return fig.toolbar_button_onclick(event['data']);\n",
       "    }\n",
       "    function toolbar_mouse_event(event) {\n",
       "        return fig.toolbar_button_onmouseover(event['data']);\n",
       "    }\n",
       "\n",
       "    for(var toolbar_ind in mpl.toolbar_items){\n",
       "        var name = mpl.toolbar_items[toolbar_ind][0];\n",
       "        var tooltip = mpl.toolbar_items[toolbar_ind][1];\n",
       "        var image = mpl.toolbar_items[toolbar_ind][2];\n",
       "        var method_name = mpl.toolbar_items[toolbar_ind][3];\n",
       "\n",
       "        if (!name) { continue; };\n",
       "\n",
       "        var button = $('<button class=\"btn btn-default\" href=\"#\" title=\"' + name + '\"><i class=\"fa ' + image + ' fa-lg\"></i></button>');\n",
       "        button.click(method_name, toolbar_event);\n",
       "        button.mouseover(tooltip, toolbar_mouse_event);\n",
       "        nav_element.append(button);\n",
       "    }\n",
       "\n",
       "    // Add the status bar.\n",
       "    var status_bar = $('<span class=\"mpl-message\" style=\"text-align:right; float: right;\"/>');\n",
       "    nav_element.append(status_bar);\n",
       "    this.message = status_bar[0];\n",
       "\n",
       "    // Add the close button to the window.\n",
       "    var buttongrp = $('<div class=\"btn-group inline pull-right\"></div>');\n",
       "    var button = $('<button class=\"btn btn-mini btn-primary\" href=\"#\" title=\"Stop Interaction\"><i class=\"fa fa-power-off icon-remove icon-large\"></i></button>');\n",
       "    button.click(function (evt) { fig.handle_close(fig, {}); } );\n",
       "    button.mouseover('Stop Interaction', toolbar_mouse_event);\n",
       "    buttongrp.append(button);\n",
       "    var titlebar = this.root.find($('.ui-dialog-titlebar'));\n",
       "    titlebar.prepend(buttongrp);\n",
       "}\n",
       "\n",
       "mpl.figure.prototype._root_extra_style = function(el){\n",
       "    var fig = this\n",
       "    el.on(\"remove\", function(){\n",
       "\tfig.close_ws(fig, {});\n",
       "    });\n",
       "}\n",
       "\n",
       "mpl.figure.prototype._canvas_extra_style = function(el){\n",
       "    // this is important to make the div 'focusable\n",
       "    el.attr('tabindex', 0)\n",
       "    // reach out to IPython and tell the keyboard manager to turn it's self\n",
       "    // off when our div gets focus\n",
       "\n",
       "    // location in version 3\n",
       "    if (IPython.notebook.keyboard_manager) {\n",
       "        IPython.notebook.keyboard_manager.register_events(el);\n",
       "    }\n",
       "    else {\n",
       "        // location in version 2\n",
       "        IPython.keyboard_manager.register_events(el);\n",
       "    }\n",
       "\n",
       "}\n",
       "\n",
       "mpl.figure.prototype._key_event_extra = function(event, name) {\n",
       "    var manager = IPython.notebook.keyboard_manager;\n",
       "    if (!manager)\n",
       "        manager = IPython.keyboard_manager;\n",
       "\n",
       "    // Check for shift+enter\n",
       "    if (event.shiftKey && event.which == 13) {\n",
       "        this.canvas_div.blur();\n",
       "        event.shiftKey = false;\n",
       "        // Send a \"J\" for go to next cell\n",
       "        event.which = 74;\n",
       "        event.keyCode = 74;\n",
       "        manager.command_mode();\n",
       "        manager.handle_keydown(event);\n",
       "    }\n",
       "}\n",
       "\n",
       "mpl.figure.prototype.handle_save = function(fig, msg) {\n",
       "    fig.ondownload(fig, null);\n",
       "}\n",
       "\n",
       "\n",
       "mpl.find_output_cell = function(html_output) {\n",
       "    // Return the cell and output element which can be found *uniquely* in the notebook.\n",
       "    // Note - this is a bit hacky, but it is done because the \"notebook_saving.Notebook\"\n",
       "    // IPython event is triggered only after the cells have been serialised, which for\n",
       "    // our purposes (turning an active figure into a static one), is too late.\n",
       "    var cells = IPython.notebook.get_cells();\n",
       "    var ncells = cells.length;\n",
       "    for (var i=0; i<ncells; i++) {\n",
       "        var cell = cells[i];\n",
       "        if (cell.cell_type === 'code'){\n",
       "            for (var j=0; j<cell.output_area.outputs.length; j++) {\n",
       "                var data = cell.output_area.outputs[j];\n",
       "                if (data.data) {\n",
       "                    // IPython >= 3 moved mimebundle to data attribute of output\n",
       "                    data = data.data;\n",
       "                }\n",
       "                if (data['text/html'] == html_output) {\n",
       "                    return [cell, data, j];\n",
       "                }\n",
       "            }\n",
       "        }\n",
       "    }\n",
       "}\n",
       "\n",
       "// Register the function which deals with the matplotlib target/channel.\n",
       "// The kernel may be null if the page has been refreshed.\n",
       "if (IPython.notebook.kernel != null) {\n",
       "    IPython.notebook.kernel.comm_manager.register_target('matplotlib', mpl.mpl_figure_comm);\n",
       "}\n"
      ],
      "text/plain": [
       "<IPython.core.display.Javascript object>"
      ]
     },
     "metadata": {},
     "output_type": "display_data"
    },
    {
     "data": {
      "text/html": [
       "<img src=\"data:image/png;base64,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\">"
      ],
      "text/plain": [
       "<IPython.core.display.HTML object>"
      ]
     },
     "metadata": {},
     "output_type": "display_data"
    }
   ],
   "source": [
    "e = 0.5\n",
    "emfig = plt.figure(\"Emotions\")\n",
    "\n",
    "def g(Epsilon):\n",
    "    global e\n",
    "    e = Epsilon\n",
    "    \n",
    "def on_button_clicked(b):\n",
    "    global e\n",
    "    main.EmotionAnalysis(e,emfig)"
   ]
  },
  {
   "cell_type": "code",
   "execution_count": 18,
   "metadata": {
    "collapsed": false,
    "slideshow": {
     "slide_type": "slide"
    }
   },
   "outputs": [],
   "source": [
    "b = interact(g,Epsilon = FloatSlider(min=0,max=1,step=0.001,width='100%',value=0.5))\n",
    "button = widgets.Button(description = \"DRAW!\")\n",
    "display(button)\n",
    "button.on_click(on_button_clicked)"
   ]
  },
  {
   "cell_type": "markdown",
   "metadata": {
    "hide_input": true,
    "slideshow": {
     "slide_type": "slide"
    }
   },
   "source": [
    "<h2 align=\"center\"> Relationship Graph <h2>"
   ]
  },
  {
   "cell_type": "code",
   "execution_count": 19,
   "metadata": {
    "collapsed": false,
    "hide_input": false,
    "slideshow": {
     "slide_type": "slide"
    }
   },
   "outputs": [
    {
     "data": {
      "application/javascript": [
       "/* Put everything inside the global mpl namespace */\n",
       "window.mpl = {};\n",
       "\n",
       "mpl.get_websocket_type = function() {\n",
       "    if (typeof(WebSocket) !== 'undefined') {\n",
       "        return WebSocket;\n",
       "    } else if (typeof(MozWebSocket) !== 'undefined') {\n",
       "        return MozWebSocket;\n",
       "    } else {\n",
       "        alert('Your browser does not have WebSocket support.' +\n",
       "              'Please try Chrome, Safari or Firefox ≥ 6. ' +\n",
       "              'Firefox 4 and 5 are also supported but you ' +\n",
       "              'have to enable WebSockets in about:config.');\n",
       "    };\n",
       "}\n",
       "\n",
       "mpl.figure = function(figure_id, websocket, ondownload, parent_element) {\n",
       "    this.id = figure_id;\n",
       "\n",
       "    this.ws = websocket;\n",
       "\n",
       "    this.supports_binary = (this.ws.binaryType != undefined);\n",
       "\n",
       "    if (!this.supports_binary) {\n",
       "        var warnings = document.getElementById(\"mpl-warnings\");\n",
       "        if (warnings) {\n",
       "            warnings.style.display = 'block';\n",
       "            warnings.textContent = (\n",
       "                \"This browser does not support binary websocket messages. \" +\n",
       "                    \"Performance may be slow.\");\n",
       "        }\n",
       "    }\n",
       "\n",
       "    this.imageObj = new Image();\n",
       "\n",
       "    this.context = undefined;\n",
       "    this.message = undefined;\n",
       "    this.canvas = undefined;\n",
       "    this.rubberband_canvas = undefined;\n",
       "    this.rubberband_context = undefined;\n",
       "    this.format_dropdown = undefined;\n",
       "\n",
       "    this.image_mode = 'full';\n",
       "\n",
       "    this.root = $('<div/>');\n",
       "    this._root_extra_style(this.root)\n",
       "    this.root.attr('style', 'display: inline-block');\n",
       "\n",
       "    $(parent_element).append(this.root);\n",
       "\n",
       "    this._init_header(this);\n",
       "    this._init_canvas(this);\n",
       "    this._init_toolbar(this);\n",
       "\n",
       "    var fig = this;\n",
       "\n",
       "    this.waiting = false;\n",
       "\n",
       "    this.ws.onopen =  function () {\n",
       "            fig.send_message(\"supports_binary\", {value: fig.supports_binary});\n",
       "            fig.send_message(\"send_image_mode\", {});\n",
       "            fig.send_message(\"refresh\", {});\n",
       "        }\n",
       "\n",
       "    this.imageObj.onload = function() {\n",
       "            if (fig.image_mode == 'full') {\n",
       "                // Full images could contain transparency (where diff images\n",
       "                // almost always do), so we need to clear the canvas so that\n",
       "                // there is no ghosting.\n",
       "                fig.context.clearRect(0, 0, fig.canvas.width, fig.canvas.height);\n",
       "            }\n",
       "            fig.context.drawImage(fig.imageObj, 0, 0);\n",
       "        };\n",
       "\n",
       "    this.imageObj.onunload = function() {\n",
       "        this.ws.close();\n",
       "    }\n",
       "\n",
       "    this.ws.onmessage = this._make_on_message_function(this);\n",
       "\n",
       "    this.ondownload = ondownload;\n",
       "}\n",
       "\n",
       "mpl.figure.prototype._init_header = function() {\n",
       "    var titlebar = $(\n",
       "        '<div class=\"ui-dialog-titlebar ui-widget-header ui-corner-all ' +\n",
       "        'ui-helper-clearfix\"/>');\n",
       "    var titletext = $(\n",
       "        '<div class=\"ui-dialog-title\" style=\"width: 100%; ' +\n",
       "        'text-align: center; padding: 3px;\"/>');\n",
       "    titlebar.append(titletext)\n",
       "    this.root.append(titlebar);\n",
       "    this.header = titletext[0];\n",
       "}\n",
       "\n",
       "\n",
       "\n",
       "mpl.figure.prototype._canvas_extra_style = function(canvas_div) {\n",
       "\n",
       "}\n",
       "\n",
       "\n",
       "mpl.figure.prototype._root_extra_style = function(canvas_div) {\n",
       "\n",
       "}\n",
       "\n",
       "mpl.figure.prototype._init_canvas = function() {\n",
       "    var fig = this;\n",
       "\n",
       "    var canvas_div = $('<div/>');\n",
       "\n",
       "    canvas_div.attr('style', 'position: relative; clear: both; outline: 0');\n",
       "\n",
       "    function canvas_keyboard_event(event) {\n",
       "        return fig.key_event(event, event['data']);\n",
       "    }\n",
       "\n",
       "    canvas_div.keydown('key_press', canvas_keyboard_event);\n",
       "    canvas_div.keyup('key_release', canvas_keyboard_event);\n",
       "    this.canvas_div = canvas_div\n",
       "    this._canvas_extra_style(canvas_div)\n",
       "    this.root.append(canvas_div);\n",
       "\n",
       "    var canvas = $('<canvas/>');\n",
       "    canvas.addClass('mpl-canvas');\n",
       "    canvas.attr('style', \"left: 0; top: 0; z-index: 0; outline: 0\")\n",
       "\n",
       "    this.canvas = canvas[0];\n",
       "    this.context = canvas[0].getContext(\"2d\");\n",
       "\n",
       "    var rubberband = $('<canvas/>');\n",
       "    rubberband.attr('style', \"position: absolute; left: 0; top: 0; z-index: 1;\")\n",
       "\n",
       "    var pass_mouse_events = true;\n",
       "\n",
       "    canvas_div.resizable({\n",
       "        start: function(event, ui) {\n",
       "            pass_mouse_events = false;\n",
       "        },\n",
       "        resize: function(event, ui) {\n",
       "            fig.request_resize(ui.size.width, ui.size.height);\n",
       "        },\n",
       "        stop: function(event, ui) {\n",
       "            pass_mouse_events = true;\n",
       "            fig.request_resize(ui.size.width, ui.size.height);\n",
       "        },\n",
       "    });\n",
       "\n",
       "    function mouse_event_fn(event) {\n",
       "        if (pass_mouse_events)\n",
       "            return fig.mouse_event(event, event['data']);\n",
       "    }\n",
       "\n",
       "    rubberband.mousedown('button_press', mouse_event_fn);\n",
       "    rubberband.mouseup('button_release', mouse_event_fn);\n",
       "    // Throttle sequential mouse events to 1 every 20ms.\n",
       "    rubberband.mousemove('motion_notify', mouse_event_fn);\n",
       "\n",
       "    rubberband.mouseenter('figure_enter', mouse_event_fn);\n",
       "    rubberband.mouseleave('figure_leave', mouse_event_fn);\n",
       "\n",
       "    canvas_div.on(\"wheel\", function (event) {\n",
       "        event = event.originalEvent;\n",
       "        event['data'] = 'scroll'\n",
       "        if (event.deltaY < 0) {\n",
       "            event.step = 1;\n",
       "        } else {\n",
       "            event.step = -1;\n",
       "        }\n",
       "        mouse_event_fn(event);\n",
       "    });\n",
       "\n",
       "    canvas_div.append(canvas);\n",
       "    canvas_div.append(rubberband);\n",
       "\n",
       "    this.rubberband = rubberband;\n",
       "    this.rubberband_canvas = rubberband[0];\n",
       "    this.rubberband_context = rubberband[0].getContext(\"2d\");\n",
       "    this.rubberband_context.strokeStyle = \"#000000\";\n",
       "\n",
       "    this._resize_canvas = function(width, height) {\n",
       "        // Keep the size of the canvas, canvas container, and rubber band\n",
       "        // canvas in synch.\n",
       "        canvas_div.css('width', width)\n",
       "        canvas_div.css('height', height)\n",
       "\n",
       "        canvas.attr('width', width);\n",
       "        canvas.attr('height', height);\n",
       "\n",
       "        rubberband.attr('width', width);\n",
       "        rubberband.attr('height', height);\n",
       "    }\n",
       "\n",
       "    // Set the figure to an initial 600x600px, this will subsequently be updated\n",
       "    // upon first draw.\n",
       "    this._resize_canvas(600, 600);\n",
       "\n",
       "    // Disable right mouse context menu.\n",
       "    $(this.rubberband_canvas).bind(\"contextmenu\",function(e){\n",
       "        return false;\n",
       "    });\n",
       "\n",
       "    function set_focus () {\n",
       "        canvas.focus();\n",
       "        canvas_div.focus();\n",
       "    }\n",
       "\n",
       "    window.setTimeout(set_focus, 100);\n",
       "}\n",
       "\n",
       "mpl.figure.prototype._init_toolbar = function() {\n",
       "    var fig = this;\n",
       "\n",
       "    var nav_element = $('<div/>')\n",
       "    nav_element.attr('style', 'width: 100%');\n",
       "    this.root.append(nav_element);\n",
       "\n",
       "    // Define a callback function for later on.\n",
       "    function toolbar_event(event) {\n",
       "        return fig.toolbar_button_onclick(event['data']);\n",
       "    }\n",
       "    function toolbar_mouse_event(event) {\n",
       "        return fig.toolbar_button_onmouseover(event['data']);\n",
       "    }\n",
       "\n",
       "    for(var toolbar_ind in mpl.toolbar_items) {\n",
       "        var name = mpl.toolbar_items[toolbar_ind][0];\n",
       "        var tooltip = mpl.toolbar_items[toolbar_ind][1];\n",
       "        var image = mpl.toolbar_items[toolbar_ind][2];\n",
       "        var method_name = mpl.toolbar_items[toolbar_ind][3];\n",
       "\n",
       "        if (!name) {\n",
       "            // put a spacer in here.\n",
       "            continue;\n",
       "        }\n",
       "        var button = $('<button/>');\n",
       "        button.addClass('ui-button ui-widget ui-state-default ui-corner-all ' +\n",
       "                        'ui-button-icon-only');\n",
       "        button.attr('role', 'button');\n",
       "        button.attr('aria-disabled', 'false');\n",
       "        button.click(method_name, toolbar_event);\n",
       "        button.mouseover(tooltip, toolbar_mouse_event);\n",
       "\n",
       "        var icon_img = $('<span/>');\n",
       "        icon_img.addClass('ui-button-icon-primary ui-icon');\n",
       "        icon_img.addClass(image);\n",
       "        icon_img.addClass('ui-corner-all');\n",
       "\n",
       "        var tooltip_span = $('<span/>');\n",
       "        tooltip_span.addClass('ui-button-text');\n",
       "        tooltip_span.html(tooltip);\n",
       "\n",
       "        button.append(icon_img);\n",
       "        button.append(tooltip_span);\n",
       "\n",
       "        nav_element.append(button);\n",
       "    }\n",
       "\n",
       "    var fmt_picker_span = $('<span/>');\n",
       "\n",
       "    var fmt_picker = $('<select/>');\n",
       "    fmt_picker.addClass('mpl-toolbar-option ui-widget ui-widget-content');\n",
       "    fmt_picker_span.append(fmt_picker);\n",
       "    nav_element.append(fmt_picker_span);\n",
       "    this.format_dropdown = fmt_picker[0];\n",
       "\n",
       "    for (var ind in mpl.extensions) {\n",
       "        var fmt = mpl.extensions[ind];\n",
       "        var option = $(\n",
       "            '<option/>', {selected: fmt === mpl.default_extension}).html(fmt);\n",
       "        fmt_picker.append(option)\n",
       "    }\n",
       "\n",
       "    // Add hover states to the ui-buttons\n",
       "    $( \".ui-button\" ).hover(\n",
       "        function() { $(this).addClass(\"ui-state-hover\");},\n",
       "        function() { $(this).removeClass(\"ui-state-hover\");}\n",
       "    );\n",
       "\n",
       "    var status_bar = $('<span class=\"mpl-message\"/>');\n",
       "    nav_element.append(status_bar);\n",
       "    this.message = status_bar[0];\n",
       "}\n",
       "\n",
       "mpl.figure.prototype.request_resize = function(x_pixels, y_pixels) {\n",
       "    // Request matplotlib to resize the figure. Matplotlib will then trigger a resize in the client,\n",
       "    // which will in turn request a refresh of the image.\n",
       "    this.send_message('resize', {'width': x_pixels, 'height': y_pixels});\n",
       "}\n",
       "\n",
       "mpl.figure.prototype.send_message = function(type, properties) {\n",
       "    properties['type'] = type;\n",
       "    properties['figure_id'] = this.id;\n",
       "    this.ws.send(JSON.stringify(properties));\n",
       "}\n",
       "\n",
       "mpl.figure.prototype.send_draw_message = function() {\n",
       "    if (!this.waiting) {\n",
       "        this.waiting = true;\n",
       "        this.ws.send(JSON.stringify({type: \"draw\", figure_id: this.id}));\n",
       "    }\n",
       "}\n",
       "\n",
       "\n",
       "mpl.figure.prototype.handle_save = function(fig, msg) {\n",
       "    var format_dropdown = fig.format_dropdown;\n",
       "    var format = format_dropdown.options[format_dropdown.selectedIndex].value;\n",
       "    fig.ondownload(fig, format);\n",
       "}\n",
       "\n",
       "\n",
       "mpl.figure.prototype.handle_resize = function(fig, msg) {\n",
       "    var size = msg['size'];\n",
       "    if (size[0] != fig.canvas.width || size[1] != fig.canvas.height) {\n",
       "        fig._resize_canvas(size[0], size[1]);\n",
       "        fig.send_message(\"refresh\", {});\n",
       "    };\n",
       "}\n",
       "\n",
       "mpl.figure.prototype.handle_rubberband = function(fig, msg) {\n",
       "    var x0 = msg['x0'];\n",
       "    var y0 = fig.canvas.height - msg['y0'];\n",
       "    var x1 = msg['x1'];\n",
       "    var y1 = fig.canvas.height - msg['y1'];\n",
       "    x0 = Math.floor(x0) + 0.5;\n",
       "    y0 = Math.floor(y0) + 0.5;\n",
       "    x1 = Math.floor(x1) + 0.5;\n",
       "    y1 = Math.floor(y1) + 0.5;\n",
       "    var min_x = Math.min(x0, x1);\n",
       "    var min_y = Math.min(y0, y1);\n",
       "    var width = Math.abs(x1 - x0);\n",
       "    var height = Math.abs(y1 - y0);\n",
       "\n",
       "    fig.rubberband_context.clearRect(\n",
       "        0, 0, fig.canvas.width, fig.canvas.height);\n",
       "\n",
       "    fig.rubberband_context.strokeRect(min_x, min_y, width, height);\n",
       "}\n",
       "\n",
       "mpl.figure.prototype.handle_figure_label = function(fig, msg) {\n",
       "    // Updates the figure title.\n",
       "    fig.header.textContent = msg['label'];\n",
       "}\n",
       "\n",
       "mpl.figure.prototype.handle_cursor = function(fig, msg) {\n",
       "    var cursor = msg['cursor'];\n",
       "    switch(cursor)\n",
       "    {\n",
       "    case 0:\n",
       "        cursor = 'pointer';\n",
       "        break;\n",
       "    case 1:\n",
       "        cursor = 'default';\n",
       "        break;\n",
       "    case 2:\n",
       "        cursor = 'crosshair';\n",
       "        break;\n",
       "    case 3:\n",
       "        cursor = 'move';\n",
       "        break;\n",
       "    }\n",
       "    fig.rubberband_canvas.style.cursor = cursor;\n",
       "}\n",
       "\n",
       "mpl.figure.prototype.handle_message = function(fig, msg) {\n",
       "    fig.message.textContent = msg['message'];\n",
       "}\n",
       "\n",
       "mpl.figure.prototype.handle_draw = function(fig, msg) {\n",
       "    // Request the server to send over a new figure.\n",
       "    fig.send_draw_message();\n",
       "}\n",
       "\n",
       "mpl.figure.prototype.handle_image_mode = function(fig, msg) {\n",
       "    fig.image_mode = msg['mode'];\n",
       "}\n",
       "\n",
       "mpl.figure.prototype.updated_canvas_event = function() {\n",
       "    // Called whenever the canvas gets updated.\n",
       "    this.send_message(\"ack\", {});\n",
       "}\n",
       "\n",
       "// A function to construct a web socket function for onmessage handling.\n",
       "// Called in the figure constructor.\n",
       "mpl.figure.prototype._make_on_message_function = function(fig) {\n",
       "    return function socket_on_message(evt) {\n",
       "        if (evt.data instanceof Blob) {\n",
       "            /* FIXME: We get \"Resource interpreted as Image but\n",
       "             * transferred with MIME type text/plain:\" errors on\n",
       "             * Chrome.  But how to set the MIME type?  It doesn't seem\n",
       "             * to be part of the websocket stream */\n",
       "            evt.data.type = \"image/png\";\n",
       "\n",
       "            /* Free the memory for the previous frames */\n",
       "            if (fig.imageObj.src) {\n",
       "                (window.URL || window.webkitURL).revokeObjectURL(\n",
       "                    fig.imageObj.src);\n",
       "            }\n",
       "\n",
       "            fig.imageObj.src = (window.URL || window.webkitURL).createObjectURL(\n",
       "                evt.data);\n",
       "            fig.updated_canvas_event();\n",
       "            fig.waiting = false;\n",
       "            return;\n",
       "        }\n",
       "        else if (typeof evt.data === 'string' && evt.data.slice(0, 21) == \"data:image/png;base64\") {\n",
       "            fig.imageObj.src = evt.data;\n",
       "            fig.updated_canvas_event();\n",
       "            fig.waiting = false;\n",
       "            return;\n",
       "        }\n",
       "\n",
       "        var msg = JSON.parse(evt.data);\n",
       "        var msg_type = msg['type'];\n",
       "\n",
       "        // Call the  \"handle_{type}\" callback, which takes\n",
       "        // the figure and JSON message as its only arguments.\n",
       "        try {\n",
       "            var callback = fig[\"handle_\" + msg_type];\n",
       "        } catch (e) {\n",
       "            console.log(\"No handler for the '\" + msg_type + \"' message type: \", msg);\n",
       "            return;\n",
       "        }\n",
       "\n",
       "        if (callback) {\n",
       "            try {\n",
       "                // console.log(\"Handling '\" + msg_type + \"' message: \", msg);\n",
       "                callback(fig, msg);\n",
       "            } catch (e) {\n",
       "                console.log(\"Exception inside the 'handler_\" + msg_type + \"' callback:\", e, e.stack, msg);\n",
       "            }\n",
       "        }\n",
       "    };\n",
       "}\n",
       "\n",
       "// from http://stackoverflow.com/questions/1114465/getting-mouse-location-in-canvas\n",
       "mpl.findpos = function(e) {\n",
       "    //this section is from http://www.quirksmode.org/js/events_properties.html\n",
       "    var targ;\n",
       "    if (!e)\n",
       "        e = window.event;\n",
       "    if (e.target)\n",
       "        targ = e.target;\n",
       "    else if (e.srcElement)\n",
       "        targ = e.srcElement;\n",
       "    if (targ.nodeType == 3) // defeat Safari bug\n",
       "        targ = targ.parentNode;\n",
       "\n",
       "    // jQuery normalizes the pageX and pageY\n",
       "    // pageX,Y are the mouse positions relative to the document\n",
       "    // offset() returns the position of the element relative to the document\n",
       "    var x = e.pageX - $(targ).offset().left;\n",
       "    var y = e.pageY - $(targ).offset().top;\n",
       "\n",
       "    return {\"x\": x, \"y\": y};\n",
       "};\n",
       "\n",
       "/*\n",
       " * return a copy of an object with only non-object keys\n",
       " * we need this to avoid circular references\n",
       " * http://stackoverflow.com/a/24161582/3208463\n",
       " */\n",
       "function simpleKeys (original) {\n",
       "  return Object.keys(original).reduce(function (obj, key) {\n",
       "    if (typeof original[key] !== 'object')\n",
       "        obj[key] = original[key]\n",
       "    return obj;\n",
       "  }, {});\n",
       "}\n",
       "\n",
       "mpl.figure.prototype.mouse_event = function(event, name) {\n",
       "    var canvas_pos = mpl.findpos(event)\n",
       "\n",
       "    if (name === 'button_press')\n",
       "    {\n",
       "        this.canvas.focus();\n",
       "        this.canvas_div.focus();\n",
       "    }\n",
       "\n",
       "    var x = canvas_pos.x;\n",
       "    var y = canvas_pos.y;\n",
       "\n",
       "    this.send_message(name, {x: x, y: y, button: event.button,\n",
       "                             step: event.step,\n",
       "                             guiEvent: simpleKeys(event)});\n",
       "\n",
       "    /* This prevents the web browser from automatically changing to\n",
       "     * the text insertion cursor when the button is pressed.  We want\n",
       "     * to control all of the cursor setting manually through the\n",
       "     * 'cursor' event from matplotlib */\n",
       "    event.preventDefault();\n",
       "    return false;\n",
       "}\n",
       "\n",
       "mpl.figure.prototype._key_event_extra = function(event, name) {\n",
       "    // Handle any extra behaviour associated with a key event\n",
       "}\n",
       "\n",
       "mpl.figure.prototype.key_event = function(event, name) {\n",
       "\n",
       "    // Prevent repeat events\n",
       "    if (name == 'key_press')\n",
       "    {\n",
       "        if (event.which === this._key)\n",
       "            return;\n",
       "        else\n",
       "            this._key = event.which;\n",
       "    }\n",
       "    if (name == 'key_release')\n",
       "        this._key = null;\n",
       "\n",
       "    var value = '';\n",
       "    if (event.ctrlKey && event.which != 17)\n",
       "        value += \"ctrl+\";\n",
       "    if (event.altKey && event.which != 18)\n",
       "        value += \"alt+\";\n",
       "    if (event.shiftKey && event.which != 16)\n",
       "        value += \"shift+\";\n",
       "\n",
       "    value += 'k';\n",
       "    value += event.which.toString();\n",
       "\n",
       "    this._key_event_extra(event, name);\n",
       "\n",
       "    this.send_message(name, {key: value,\n",
       "                             guiEvent: simpleKeys(event)});\n",
       "    return false;\n",
       "}\n",
       "\n",
       "mpl.figure.prototype.toolbar_button_onclick = function(name) {\n",
       "    if (name == 'download') {\n",
       "        this.handle_save(this, null);\n",
       "    } else {\n",
       "        this.send_message(\"toolbar_button\", {name: name});\n",
       "    }\n",
       "};\n",
       "\n",
       "mpl.figure.prototype.toolbar_button_onmouseover = function(tooltip) {\n",
       "    this.message.textContent = tooltip;\n",
       "};\n",
       "mpl.toolbar_items = [[\"Home\", \"Reset original view\", \"fa fa-home icon-home\", \"home\"], [\"Back\", \"Back to  previous view\", \"fa fa-arrow-left icon-arrow-left\", \"back\"], [\"Forward\", \"Forward to next view\", \"fa fa-arrow-right icon-arrow-right\", \"forward\"], [\"\", \"\", \"\", \"\"], [\"Pan\", \"Pan axes with left mouse, zoom with right\", \"fa fa-arrows icon-move\", \"pan\"], [\"Zoom\", \"Zoom to rectangle\", \"fa fa-square-o icon-check-empty\", \"zoom\"], [\"\", \"\", \"\", \"\"], [\"Download\", \"Download plot\", \"fa fa-floppy-o icon-save\", \"download\"]];\n",
       "\n",
       "mpl.extensions = [\"eps\", \"pdf\", \"png\", \"ps\", \"raw\", \"svg\"];\n",
       "\n",
       "mpl.default_extension = \"png\";var comm_websocket_adapter = function(comm) {\n",
       "    // Create a \"websocket\"-like object which calls the given IPython comm\n",
       "    // object with the appropriate methods. Currently this is a non binary\n",
       "    // socket, so there is still some room for performance tuning.\n",
       "    var ws = {};\n",
       "\n",
       "    ws.close = function() {\n",
       "        comm.close()\n",
       "    };\n",
       "    ws.send = function(m) {\n",
       "        //console.log('sending', m);\n",
       "        comm.send(m);\n",
       "    };\n",
       "    // Register the callback with on_msg.\n",
       "    comm.on_msg(function(msg) {\n",
       "        //console.log('receiving', msg['content']['data'], msg);\n",
       "        // Pass the mpl event to the overriden (by mpl) onmessage function.\n",
       "        ws.onmessage(msg['content']['data'])\n",
       "    });\n",
       "    return ws;\n",
       "}\n",
       "\n",
       "mpl.mpl_figure_comm = function(comm, msg) {\n",
       "    // This is the function which gets called when the mpl process\n",
       "    // starts-up an IPython Comm through the \"matplotlib\" channel.\n",
       "\n",
       "    var id = msg.content.data.id;\n",
       "    // Get hold of the div created by the display call when the Comm\n",
       "    // socket was opened in Python.\n",
       "    var element = $(\"#\" + id);\n",
       "    var ws_proxy = comm_websocket_adapter(comm)\n",
       "\n",
       "    function ondownload(figure, format) {\n",
       "        window.open(figure.imageObj.src);\n",
       "    }\n",
       "\n",
       "    var fig = new mpl.figure(id, ws_proxy,\n",
       "                           ondownload,\n",
       "                           element.get(0));\n",
       "\n",
       "    // Call onopen now - mpl needs it, as it is assuming we've passed it a real\n",
       "    // web socket which is closed, not our websocket->open comm proxy.\n",
       "    ws_proxy.onopen();\n",
       "\n",
       "    fig.parent_element = element.get(0);\n",
       "    fig.cell_info = mpl.find_output_cell(\"<div id='\" + id + \"'></div>\");\n",
       "    if (!fig.cell_info) {\n",
       "        console.error(\"Failed to find cell for figure\", id, fig);\n",
       "        return;\n",
       "    }\n",
       "\n",
       "    var output_index = fig.cell_info[2]\n",
       "    var cell = fig.cell_info[0];\n",
       "\n",
       "};\n",
       "\n",
       "mpl.figure.prototype.handle_close = function(fig, msg) {\n",
       "    fig.root.unbind('remove')\n",
       "\n",
       "    // Update the output cell to use the data from the current canvas.\n",
       "    fig.push_to_output();\n",
       "    var dataURL = fig.canvas.toDataURL();\n",
       "    // Re-enable the keyboard manager in IPython - without this line, in FF,\n",
       "    // the notebook keyboard shortcuts fail.\n",
       "    IPython.keyboard_manager.enable()\n",
       "    $(fig.parent_element).html('<img src=\"' + dataURL + '\">');\n",
       "    fig.close_ws(fig, msg);\n",
       "}\n",
       "\n",
       "mpl.figure.prototype.close_ws = function(fig, msg){\n",
       "    fig.send_message('closing', msg);\n",
       "    // fig.ws.close()\n",
       "}\n",
       "\n",
       "mpl.figure.prototype.push_to_output = function(remove_interactive) {\n",
       "    // Turn the data on the canvas into data in the output cell.\n",
       "    var dataURL = this.canvas.toDataURL();\n",
       "    this.cell_info[1]['text/html'] = '<img src=\"' + dataURL + '\">';\n",
       "}\n",
       "\n",
       "mpl.figure.prototype.updated_canvas_event = function() {\n",
       "    // Tell IPython that the notebook contents must change.\n",
       "    IPython.notebook.set_dirty(true);\n",
       "    this.send_message(\"ack\", {});\n",
       "    var fig = this;\n",
       "    // Wait a second, then push the new image to the DOM so\n",
       "    // that it is saved nicely (might be nice to debounce this).\n",
       "    setTimeout(function () { fig.push_to_output() }, 1000);\n",
       "}\n",
       "\n",
       "mpl.figure.prototype._init_toolbar = function() {\n",
       "    var fig = this;\n",
       "\n",
       "    var nav_element = $('<div/>')\n",
       "    nav_element.attr('style', 'width: 100%');\n",
       "    this.root.append(nav_element);\n",
       "\n",
       "    // Define a callback function for later on.\n",
       "    function toolbar_event(event) {\n",
       "        return fig.toolbar_button_onclick(event['data']);\n",
       "    }\n",
       "    function toolbar_mouse_event(event) {\n",
       "        return fig.toolbar_button_onmouseover(event['data']);\n",
       "    }\n",
       "\n",
       "    for(var toolbar_ind in mpl.toolbar_items){\n",
       "        var name = mpl.toolbar_items[toolbar_ind][0];\n",
       "        var tooltip = mpl.toolbar_items[toolbar_ind][1];\n",
       "        var image = mpl.toolbar_items[toolbar_ind][2];\n",
       "        var method_name = mpl.toolbar_items[toolbar_ind][3];\n",
       "\n",
       "        if (!name) { continue; };\n",
       "\n",
       "        var button = $('<button class=\"btn btn-default\" href=\"#\" title=\"' + name + '\"><i class=\"fa ' + image + ' fa-lg\"></i></button>');\n",
       "        button.click(method_name, toolbar_event);\n",
       "        button.mouseover(tooltip, toolbar_mouse_event);\n",
       "        nav_element.append(button);\n",
       "    }\n",
       "\n",
       "    // Add the status bar.\n",
       "    var status_bar = $('<span class=\"mpl-message\" style=\"text-align:right; float: right;\"/>');\n",
       "    nav_element.append(status_bar);\n",
       "    this.message = status_bar[0];\n",
       "\n",
       "    // Add the close button to the window.\n",
       "    var buttongrp = $('<div class=\"btn-group inline pull-right\"></div>');\n",
       "    var button = $('<button class=\"btn btn-mini btn-primary\" href=\"#\" title=\"Stop Interaction\"><i class=\"fa fa-power-off icon-remove icon-large\"></i></button>');\n",
       "    button.click(function (evt) { fig.handle_close(fig, {}); } );\n",
       "    button.mouseover('Stop Interaction', toolbar_mouse_event);\n",
       "    buttongrp.append(button);\n",
       "    var titlebar = this.root.find($('.ui-dialog-titlebar'));\n",
       "    titlebar.prepend(buttongrp);\n",
       "}\n",
       "\n",
       "mpl.figure.prototype._root_extra_style = function(el){\n",
       "    var fig = this\n",
       "    el.on(\"remove\", function(){\n",
       "\tfig.close_ws(fig, {});\n",
       "    });\n",
       "}\n",
       "\n",
       "mpl.figure.prototype._canvas_extra_style = function(el){\n",
       "    // this is important to make the div 'focusable\n",
       "    el.attr('tabindex', 0)\n",
       "    // reach out to IPython and tell the keyboard manager to turn it's self\n",
       "    // off when our div gets focus\n",
       "\n",
       "    // location in version 3\n",
       "    if (IPython.notebook.keyboard_manager) {\n",
       "        IPython.notebook.keyboard_manager.register_events(el);\n",
       "    }\n",
       "    else {\n",
       "        // location in version 2\n",
       "        IPython.keyboard_manager.register_events(el);\n",
       "    }\n",
       "\n",
       "}\n",
       "\n",
       "mpl.figure.prototype._key_event_extra = function(event, name) {\n",
       "    var manager = IPython.notebook.keyboard_manager;\n",
       "    if (!manager)\n",
       "        manager = IPython.keyboard_manager;\n",
       "\n",
       "    // Check for shift+enter\n",
       "    if (event.shiftKey && event.which == 13) {\n",
       "        this.canvas_div.blur();\n",
       "        event.shiftKey = false;\n",
       "        // Send a \"J\" for go to next cell\n",
       "        event.which = 74;\n",
       "        event.keyCode = 74;\n",
       "        manager.command_mode();\n",
       "        manager.handle_keydown(event);\n",
       "    }\n",
       "}\n",
       "\n",
       "mpl.figure.prototype.handle_save = function(fig, msg) {\n",
       "    fig.ondownload(fig, null);\n",
       "}\n",
       "\n",
       "\n",
       "mpl.find_output_cell = function(html_output) {\n",
       "    // Return the cell and output element which can be found *uniquely* in the notebook.\n",
       "    // Note - this is a bit hacky, but it is done because the \"notebook_saving.Notebook\"\n",
       "    // IPython event is triggered only after the cells have been serialised, which for\n",
       "    // our purposes (turning an active figure into a static one), is too late.\n",
       "    var cells = IPython.notebook.get_cells();\n",
       "    var ncells = cells.length;\n",
       "    for (var i=0; i<ncells; i++) {\n",
       "        var cell = cells[i];\n",
       "        if (cell.cell_type === 'code'){\n",
       "            for (var j=0; j<cell.output_area.outputs.length; j++) {\n",
       "                var data = cell.output_area.outputs[j];\n",
       "                if (data.data) {\n",
       "                    // IPython >= 3 moved mimebundle to data attribute of output\n",
       "                    data = data.data;\n",
       "                }\n",
       "                if (data['text/html'] == html_output) {\n",
       "                    return [cell, data, j];\n",
       "                }\n",
       "            }\n",
       "        }\n",
       "    }\n",
       "}\n",
       "\n",
       "// Register the function which deals with the matplotlib target/channel.\n",
       "// The kernel may be null if the page has been refreshed.\n",
       "if (IPython.notebook.kernel != null) {\n",
       "    IPython.notebook.kernel.comm_manager.register_target('matplotlib', mpl.mpl_figure_comm);\n",
       "}\n"
      ],
      "text/plain": [
       "<IPython.core.display.Javascript object>"
      ]
     },
     "metadata": {},
     "output_type": "display_data"
    },
    {
     "data": {
      "text/html": [
       "<img src=\"data:image/png;base64,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\">"
      ],
      "text/plain": [
       "<IPython.core.display.HTML object>"
      ]
     },
     "metadata": {},
     "output_type": "display_data"
    }
   ],
   "source": [
    "def dayrel(day):\n",
    "    global relfig,dayinterval\n",
    "    main.RelationDay(day,relfig)\n",
    "    print(dayinterval[day])\n",
    "relfig = plt.figure(\"Relations\")"
   ]
  },
  {
   "cell_type": "code",
   "execution_count": 20,
   "metadata": {
    "collapsed": false,
    "slideshow": {
     "slide_type": "subslide"
    }
   },
   "outputs": [
    {
     "name": "stdout",
     "output_type": "stream",
     "text": [
      "(-0.65882100485411266, 0.63843436105051221, -0.56306213915711811, 0.68224484596433865)\n",
      "(-1.0, 1.0, -1.0, 1.0)\n",
      "2017 - 03 - 02\n"
     ]
    }
   ],
   "source": [
    "interact(dayrel,day=IntSlider(min=0,max=len(main.relationsmatrixes)-1,step=1,value=0,width='100%'))"
   ]
  },
  {
   "cell_type": "markdown",
   "metadata": {},
   "source": [
    "<h2 align=\"center\"> Summary of Relations<h2>"
   ]
  },
  {
   "cell_type": "code",
   "execution_count": 21,
   "metadata": {
    "collapsed": false,
    "slideshow": {
     "slide_type": "skip"
    }
   },
   "outputs": [
    {
     "data": {
      "application/javascript": [
       "/* Put everything inside the global mpl namespace */\n",
       "window.mpl = {};\n",
       "\n",
       "mpl.get_websocket_type = function() {\n",
       "    if (typeof(WebSocket) !== 'undefined') {\n",
       "        return WebSocket;\n",
       "    } else if (typeof(MozWebSocket) !== 'undefined') {\n",
       "        return MozWebSocket;\n",
       "    } else {\n",
       "        alert('Your browser does not have WebSocket support.' +\n",
       "              'Please try Chrome, Safari or Firefox ≥ 6. ' +\n",
       "              'Firefox 4 and 5 are also supported but you ' +\n",
       "              'have to enable WebSockets in about:config.');\n",
       "    };\n",
       "}\n",
       "\n",
       "mpl.figure = function(figure_id, websocket, ondownload, parent_element) {\n",
       "    this.id = figure_id;\n",
       "\n",
       "    this.ws = websocket;\n",
       "\n",
       "    this.supports_binary = (this.ws.binaryType != undefined);\n",
       "\n",
       "    if (!this.supports_binary) {\n",
       "        var warnings = document.getElementById(\"mpl-warnings\");\n",
       "        if (warnings) {\n",
       "            warnings.style.display = 'block';\n",
       "            warnings.textContent = (\n",
       "                \"This browser does not support binary websocket messages. \" +\n",
       "                    \"Performance may be slow.\");\n",
       "        }\n",
       "    }\n",
       "\n",
       "    this.imageObj = new Image();\n",
       "\n",
       "    this.context = undefined;\n",
       "    this.message = undefined;\n",
       "    this.canvas = undefined;\n",
       "    this.rubberband_canvas = undefined;\n",
       "    this.rubberband_context = undefined;\n",
       "    this.format_dropdown = undefined;\n",
       "\n",
       "    this.image_mode = 'full';\n",
       "\n",
       "    this.root = $('<div/>');\n",
       "    this._root_extra_style(this.root)\n",
       "    this.root.attr('style', 'display: inline-block');\n",
       "\n",
       "    $(parent_element).append(this.root);\n",
       "\n",
       "    this._init_header(this);\n",
       "    this._init_canvas(this);\n",
       "    this._init_toolbar(this);\n",
       "\n",
       "    var fig = this;\n",
       "\n",
       "    this.waiting = false;\n",
       "\n",
       "    this.ws.onopen =  function () {\n",
       "            fig.send_message(\"supports_binary\", {value: fig.supports_binary});\n",
       "            fig.send_message(\"send_image_mode\", {});\n",
       "            fig.send_message(\"refresh\", {});\n",
       "        }\n",
       "\n",
       "    this.imageObj.onload = function() {\n",
       "            if (fig.image_mode == 'full') {\n",
       "                // Full images could contain transparency (where diff images\n",
       "                // almost always do), so we need to clear the canvas so that\n",
       "                // there is no ghosting.\n",
       "                fig.context.clearRect(0, 0, fig.canvas.width, fig.canvas.height);\n",
       "            }\n",
       "            fig.context.drawImage(fig.imageObj, 0, 0);\n",
       "        };\n",
       "\n",
       "    this.imageObj.onunload = function() {\n",
       "        this.ws.close();\n",
       "    }\n",
       "\n",
       "    this.ws.onmessage = this._make_on_message_function(this);\n",
       "\n",
       "    this.ondownload = ondownload;\n",
       "}\n",
       "\n",
       "mpl.figure.prototype._init_header = function() {\n",
       "    var titlebar = $(\n",
       "        '<div class=\"ui-dialog-titlebar ui-widget-header ui-corner-all ' +\n",
       "        'ui-helper-clearfix\"/>');\n",
       "    var titletext = $(\n",
       "        '<div class=\"ui-dialog-title\" style=\"width: 100%; ' +\n",
       "        'text-align: center; padding: 3px;\"/>');\n",
       "    titlebar.append(titletext)\n",
       "    this.root.append(titlebar);\n",
       "    this.header = titletext[0];\n",
       "}\n",
       "\n",
       "\n",
       "\n",
       "mpl.figure.prototype._canvas_extra_style = function(canvas_div) {\n",
       "\n",
       "}\n",
       "\n",
       "\n",
       "mpl.figure.prototype._root_extra_style = function(canvas_div) {\n",
       "\n",
       "}\n",
       "\n",
       "mpl.figure.prototype._init_canvas = function() {\n",
       "    var fig = this;\n",
       "\n",
       "    var canvas_div = $('<div/>');\n",
       "\n",
       "    canvas_div.attr('style', 'position: relative; clear: both; outline: 0');\n",
       "\n",
       "    function canvas_keyboard_event(event) {\n",
       "        return fig.key_event(event, event['data']);\n",
       "    }\n",
       "\n",
       "    canvas_div.keydown('key_press', canvas_keyboard_event);\n",
       "    canvas_div.keyup('key_release', canvas_keyboard_event);\n",
       "    this.canvas_div = canvas_div\n",
       "    this._canvas_extra_style(canvas_div)\n",
       "    this.root.append(canvas_div);\n",
       "\n",
       "    var canvas = $('<canvas/>');\n",
       "    canvas.addClass('mpl-canvas');\n",
       "    canvas.attr('style', \"left: 0; top: 0; z-index: 0; outline: 0\")\n",
       "\n",
       "    this.canvas = canvas[0];\n",
       "    this.context = canvas[0].getContext(\"2d\");\n",
       "\n",
       "    var rubberband = $('<canvas/>');\n",
       "    rubberband.attr('style', \"position: absolute; left: 0; top: 0; z-index: 1;\")\n",
       "\n",
       "    var pass_mouse_events = true;\n",
       "\n",
       "    canvas_div.resizable({\n",
       "        start: function(event, ui) {\n",
       "            pass_mouse_events = false;\n",
       "        },\n",
       "        resize: function(event, ui) {\n",
       "            fig.request_resize(ui.size.width, ui.size.height);\n",
       "        },\n",
       "        stop: function(event, ui) {\n",
       "            pass_mouse_events = true;\n",
       "            fig.request_resize(ui.size.width, ui.size.height);\n",
       "        },\n",
       "    });\n",
       "\n",
       "    function mouse_event_fn(event) {\n",
       "        if (pass_mouse_events)\n",
       "            return fig.mouse_event(event, event['data']);\n",
       "    }\n",
       "\n",
       "    rubberband.mousedown('button_press', mouse_event_fn);\n",
       "    rubberband.mouseup('button_release', mouse_event_fn);\n",
       "    // Throttle sequential mouse events to 1 every 20ms.\n",
       "    rubberband.mousemove('motion_notify', mouse_event_fn);\n",
       "\n",
       "    rubberband.mouseenter('figure_enter', mouse_event_fn);\n",
       "    rubberband.mouseleave('figure_leave', mouse_event_fn);\n",
       "\n",
       "    canvas_div.on(\"wheel\", function (event) {\n",
       "        event = event.originalEvent;\n",
       "        event['data'] = 'scroll'\n",
       "        if (event.deltaY < 0) {\n",
       "            event.step = 1;\n",
       "        } else {\n",
       "            event.step = -1;\n",
       "        }\n",
       "        mouse_event_fn(event);\n",
       "    });\n",
       "\n",
       "    canvas_div.append(canvas);\n",
       "    canvas_div.append(rubberband);\n",
       "\n",
       "    this.rubberband = rubberband;\n",
       "    this.rubberband_canvas = rubberband[0];\n",
       "    this.rubberband_context = rubberband[0].getContext(\"2d\");\n",
       "    this.rubberband_context.strokeStyle = \"#000000\";\n",
       "\n",
       "    this._resize_canvas = function(width, height) {\n",
       "        // Keep the size of the canvas, canvas container, and rubber band\n",
       "        // canvas in synch.\n",
       "        canvas_div.css('width', width)\n",
       "        canvas_div.css('height', height)\n",
       "\n",
       "        canvas.attr('width', width);\n",
       "        canvas.attr('height', height);\n",
       "\n",
       "        rubberband.attr('width', width);\n",
       "        rubberband.attr('height', height);\n",
       "    }\n",
       "\n",
       "    // Set the figure to an initial 600x600px, this will subsequently be updated\n",
       "    // upon first draw.\n",
       "    this._resize_canvas(600, 600);\n",
       "\n",
       "    // Disable right mouse context menu.\n",
       "    $(this.rubberband_canvas).bind(\"contextmenu\",function(e){\n",
       "        return false;\n",
       "    });\n",
       "\n",
       "    function set_focus () {\n",
       "        canvas.focus();\n",
       "        canvas_div.focus();\n",
       "    }\n",
       "\n",
       "    window.setTimeout(set_focus, 100);\n",
       "}\n",
       "\n",
       "mpl.figure.prototype._init_toolbar = function() {\n",
       "    var fig = this;\n",
       "\n",
       "    var nav_element = $('<div/>')\n",
       "    nav_element.attr('style', 'width: 100%');\n",
       "    this.root.append(nav_element);\n",
       "\n",
       "    // Define a callback function for later on.\n",
       "    function toolbar_event(event) {\n",
       "        return fig.toolbar_button_onclick(event['data']);\n",
       "    }\n",
       "    function toolbar_mouse_event(event) {\n",
       "        return fig.toolbar_button_onmouseover(event['data']);\n",
       "    }\n",
       "\n",
       "    for(var toolbar_ind in mpl.toolbar_items) {\n",
       "        var name = mpl.toolbar_items[toolbar_ind][0];\n",
       "        var tooltip = mpl.toolbar_items[toolbar_ind][1];\n",
       "        var image = mpl.toolbar_items[toolbar_ind][2];\n",
       "        var method_name = mpl.toolbar_items[toolbar_ind][3];\n",
       "\n",
       "        if (!name) {\n",
       "            // put a spacer in here.\n",
       "            continue;\n",
       "        }\n",
       "        var button = $('<button/>');\n",
       "        button.addClass('ui-button ui-widget ui-state-default ui-corner-all ' +\n",
       "                        'ui-button-icon-only');\n",
       "        button.attr('role', 'button');\n",
       "        button.attr('aria-disabled', 'false');\n",
       "        button.click(method_name, toolbar_event);\n",
       "        button.mouseover(tooltip, toolbar_mouse_event);\n",
       "\n",
       "        var icon_img = $('<span/>');\n",
       "        icon_img.addClass('ui-button-icon-primary ui-icon');\n",
       "        icon_img.addClass(image);\n",
       "        icon_img.addClass('ui-corner-all');\n",
       "\n",
       "        var tooltip_span = $('<span/>');\n",
       "        tooltip_span.addClass('ui-button-text');\n",
       "        tooltip_span.html(tooltip);\n",
       "\n",
       "        button.append(icon_img);\n",
       "        button.append(tooltip_span);\n",
       "\n",
       "        nav_element.append(button);\n",
       "    }\n",
       "\n",
       "    var fmt_picker_span = $('<span/>');\n",
       "\n",
       "    var fmt_picker = $('<select/>');\n",
       "    fmt_picker.addClass('mpl-toolbar-option ui-widget ui-widget-content');\n",
       "    fmt_picker_span.append(fmt_picker);\n",
       "    nav_element.append(fmt_picker_span);\n",
       "    this.format_dropdown = fmt_picker[0];\n",
       "\n",
       "    for (var ind in mpl.extensions) {\n",
       "        var fmt = mpl.extensions[ind];\n",
       "        var option = $(\n",
       "            '<option/>', {selected: fmt === mpl.default_extension}).html(fmt);\n",
       "        fmt_picker.append(option)\n",
       "    }\n",
       "\n",
       "    // Add hover states to the ui-buttons\n",
       "    $( \".ui-button\" ).hover(\n",
       "        function() { $(this).addClass(\"ui-state-hover\");},\n",
       "        function() { $(this).removeClass(\"ui-state-hover\");}\n",
       "    );\n",
       "\n",
       "    var status_bar = $('<span class=\"mpl-message\"/>');\n",
       "    nav_element.append(status_bar);\n",
       "    this.message = status_bar[0];\n",
       "}\n",
       "\n",
       "mpl.figure.prototype.request_resize = function(x_pixels, y_pixels) {\n",
       "    // Request matplotlib to resize the figure. Matplotlib will then trigger a resize in the client,\n",
       "    // which will in turn request a refresh of the image.\n",
       "    this.send_message('resize', {'width': x_pixels, 'height': y_pixels});\n",
       "}\n",
       "\n",
       "mpl.figure.prototype.send_message = function(type, properties) {\n",
       "    properties['type'] = type;\n",
       "    properties['figure_id'] = this.id;\n",
       "    this.ws.send(JSON.stringify(properties));\n",
       "}\n",
       "\n",
       "mpl.figure.prototype.send_draw_message = function() {\n",
       "    if (!this.waiting) {\n",
       "        this.waiting = true;\n",
       "        this.ws.send(JSON.stringify({type: \"draw\", figure_id: this.id}));\n",
       "    }\n",
       "}\n",
       "\n",
       "\n",
       "mpl.figure.prototype.handle_save = function(fig, msg) {\n",
       "    var format_dropdown = fig.format_dropdown;\n",
       "    var format = format_dropdown.options[format_dropdown.selectedIndex].value;\n",
       "    fig.ondownload(fig, format);\n",
       "}\n",
       "\n",
       "\n",
       "mpl.figure.prototype.handle_resize = function(fig, msg) {\n",
       "    var size = msg['size'];\n",
       "    if (size[0] != fig.canvas.width || size[1] != fig.canvas.height) {\n",
       "        fig._resize_canvas(size[0], size[1]);\n",
       "        fig.send_message(\"refresh\", {});\n",
       "    };\n",
       "}\n",
       "\n",
       "mpl.figure.prototype.handle_rubberband = function(fig, msg) {\n",
       "    var x0 = msg['x0'];\n",
       "    var y0 = fig.canvas.height - msg['y0'];\n",
       "    var x1 = msg['x1'];\n",
       "    var y1 = fig.canvas.height - msg['y1'];\n",
       "    x0 = Math.floor(x0) + 0.5;\n",
       "    y0 = Math.floor(y0) + 0.5;\n",
       "    x1 = Math.floor(x1) + 0.5;\n",
       "    y1 = Math.floor(y1) + 0.5;\n",
       "    var min_x = Math.min(x0, x1);\n",
       "    var min_y = Math.min(y0, y1);\n",
       "    var width = Math.abs(x1 - x0);\n",
       "    var height = Math.abs(y1 - y0);\n",
       "\n",
       "    fig.rubberband_context.clearRect(\n",
       "        0, 0, fig.canvas.width, fig.canvas.height);\n",
       "\n",
       "    fig.rubberband_context.strokeRect(min_x, min_y, width, height);\n",
       "}\n",
       "\n",
       "mpl.figure.prototype.handle_figure_label = function(fig, msg) {\n",
       "    // Updates the figure title.\n",
       "    fig.header.textContent = msg['label'];\n",
       "}\n",
       "\n",
       "mpl.figure.prototype.handle_cursor = function(fig, msg) {\n",
       "    var cursor = msg['cursor'];\n",
       "    switch(cursor)\n",
       "    {\n",
       "    case 0:\n",
       "        cursor = 'pointer';\n",
       "        break;\n",
       "    case 1:\n",
       "        cursor = 'default';\n",
       "        break;\n",
       "    case 2:\n",
       "        cursor = 'crosshair';\n",
       "        break;\n",
       "    case 3:\n",
       "        cursor = 'move';\n",
       "        break;\n",
       "    }\n",
       "    fig.rubberband_canvas.style.cursor = cursor;\n",
       "}\n",
       "\n",
       "mpl.figure.prototype.handle_message = function(fig, msg) {\n",
       "    fig.message.textContent = msg['message'];\n",
       "}\n",
       "\n",
       "mpl.figure.prototype.handle_draw = function(fig, msg) {\n",
       "    // Request the server to send over a new figure.\n",
       "    fig.send_draw_message();\n",
       "}\n",
       "\n",
       "mpl.figure.prototype.handle_image_mode = function(fig, msg) {\n",
       "    fig.image_mode = msg['mode'];\n",
       "}\n",
       "\n",
       "mpl.figure.prototype.updated_canvas_event = function() {\n",
       "    // Called whenever the canvas gets updated.\n",
       "    this.send_message(\"ack\", {});\n",
       "}\n",
       "\n",
       "// A function to construct a web socket function for onmessage handling.\n",
       "// Called in the figure constructor.\n",
       "mpl.figure.prototype._make_on_message_function = function(fig) {\n",
       "    return function socket_on_message(evt) {\n",
       "        if (evt.data instanceof Blob) {\n",
       "            /* FIXME: We get \"Resource interpreted as Image but\n",
       "             * transferred with MIME type text/plain:\" errors on\n",
       "             * Chrome.  But how to set the MIME type?  It doesn't seem\n",
       "             * to be part of the websocket stream */\n",
       "            evt.data.type = \"image/png\";\n",
       "\n",
       "            /* Free the memory for the previous frames */\n",
       "            if (fig.imageObj.src) {\n",
       "                (window.URL || window.webkitURL).revokeObjectURL(\n",
       "                    fig.imageObj.src);\n",
       "            }\n",
       "\n",
       "            fig.imageObj.src = (window.URL || window.webkitURL).createObjectURL(\n",
       "                evt.data);\n",
       "            fig.updated_canvas_event();\n",
       "            fig.waiting = false;\n",
       "            return;\n",
       "        }\n",
       "        else if (typeof evt.data === 'string' && evt.data.slice(0, 21) == \"data:image/png;base64\") {\n",
       "            fig.imageObj.src = evt.data;\n",
       "            fig.updated_canvas_event();\n",
       "            fig.waiting = false;\n",
       "            return;\n",
       "        }\n",
       "\n",
       "        var msg = JSON.parse(evt.data);\n",
       "        var msg_type = msg['type'];\n",
       "\n",
       "        // Call the  \"handle_{type}\" callback, which takes\n",
       "        // the figure and JSON message as its only arguments.\n",
       "        try {\n",
       "            var callback = fig[\"handle_\" + msg_type];\n",
       "        } catch (e) {\n",
       "            console.log(\"No handler for the '\" + msg_type + \"' message type: \", msg);\n",
       "            return;\n",
       "        }\n",
       "\n",
       "        if (callback) {\n",
       "            try {\n",
       "                // console.log(\"Handling '\" + msg_type + \"' message: \", msg);\n",
       "                callback(fig, msg);\n",
       "            } catch (e) {\n",
       "                console.log(\"Exception inside the 'handler_\" + msg_type + \"' callback:\", e, e.stack, msg);\n",
       "            }\n",
       "        }\n",
       "    };\n",
       "}\n",
       "\n",
       "// from http://stackoverflow.com/questions/1114465/getting-mouse-location-in-canvas\n",
       "mpl.findpos = function(e) {\n",
       "    //this section is from http://www.quirksmode.org/js/events_properties.html\n",
       "    var targ;\n",
       "    if (!e)\n",
       "        e = window.event;\n",
       "    if (e.target)\n",
       "        targ = e.target;\n",
       "    else if (e.srcElement)\n",
       "        targ = e.srcElement;\n",
       "    if (targ.nodeType == 3) // defeat Safari bug\n",
       "        targ = targ.parentNode;\n",
       "\n",
       "    // jQuery normalizes the pageX and pageY\n",
       "    // pageX,Y are the mouse positions relative to the document\n",
       "    // offset() returns the position of the element relative to the document\n",
       "    var x = e.pageX - $(targ).offset().left;\n",
       "    var y = e.pageY - $(targ).offset().top;\n",
       "\n",
       "    return {\"x\": x, \"y\": y};\n",
       "};\n",
       "\n",
       "/*\n",
       " * return a copy of an object with only non-object keys\n",
       " * we need this to avoid circular references\n",
       " * http://stackoverflow.com/a/24161582/3208463\n",
       " */\n",
       "function simpleKeys (original) {\n",
       "  return Object.keys(original).reduce(function (obj, key) {\n",
       "    if (typeof original[key] !== 'object')\n",
       "        obj[key] = original[key]\n",
       "    return obj;\n",
       "  }, {});\n",
       "}\n",
       "\n",
       "mpl.figure.prototype.mouse_event = function(event, name) {\n",
       "    var canvas_pos = mpl.findpos(event)\n",
       "\n",
       "    if (name === 'button_press')\n",
       "    {\n",
       "        this.canvas.focus();\n",
       "        this.canvas_div.focus();\n",
       "    }\n",
       "\n",
       "    var x = canvas_pos.x;\n",
       "    var y = canvas_pos.y;\n",
       "\n",
       "    this.send_message(name, {x: x, y: y, button: event.button,\n",
       "                             step: event.step,\n",
       "                             guiEvent: simpleKeys(event)});\n",
       "\n",
       "    /* This prevents the web browser from automatically changing to\n",
       "     * the text insertion cursor when the button is pressed.  We want\n",
       "     * to control all of the cursor setting manually through the\n",
       "     * 'cursor' event from matplotlib */\n",
       "    event.preventDefault();\n",
       "    return false;\n",
       "}\n",
       "\n",
       "mpl.figure.prototype._key_event_extra = function(event, name) {\n",
       "    // Handle any extra behaviour associated with a key event\n",
       "}\n",
       "\n",
       "mpl.figure.prototype.key_event = function(event, name) {\n",
       "\n",
       "    // Prevent repeat events\n",
       "    if (name == 'key_press')\n",
       "    {\n",
       "        if (event.which === this._key)\n",
       "            return;\n",
       "        else\n",
       "            this._key = event.which;\n",
       "    }\n",
       "    if (name == 'key_release')\n",
       "        this._key = null;\n",
       "\n",
       "    var value = '';\n",
       "    if (event.ctrlKey && event.which != 17)\n",
       "        value += \"ctrl+\";\n",
       "    if (event.altKey && event.which != 18)\n",
       "        value += \"alt+\";\n",
       "    if (event.shiftKey && event.which != 16)\n",
       "        value += \"shift+\";\n",
       "\n",
       "    value += 'k';\n",
       "    value += event.which.toString();\n",
       "\n",
       "    this._key_event_extra(event, name);\n",
       "\n",
       "    this.send_message(name, {key: value,\n",
       "                             guiEvent: simpleKeys(event)});\n",
       "    return false;\n",
       "}\n",
       "\n",
       "mpl.figure.prototype.toolbar_button_onclick = function(name) {\n",
       "    if (name == 'download') {\n",
       "        this.handle_save(this, null);\n",
       "    } else {\n",
       "        this.send_message(\"toolbar_button\", {name: name});\n",
       "    }\n",
       "};\n",
       "\n",
       "mpl.figure.prototype.toolbar_button_onmouseover = function(tooltip) {\n",
       "    this.message.textContent = tooltip;\n",
       "};\n",
       "mpl.toolbar_items = [[\"Home\", \"Reset original view\", \"fa fa-home icon-home\", \"home\"], [\"Back\", \"Back to  previous view\", \"fa fa-arrow-left icon-arrow-left\", \"back\"], [\"Forward\", \"Forward to next view\", \"fa fa-arrow-right icon-arrow-right\", \"forward\"], [\"\", \"\", \"\", \"\"], [\"Pan\", \"Pan axes with left mouse, zoom with right\", \"fa fa-arrows icon-move\", \"pan\"], [\"Zoom\", \"Zoom to rectangle\", \"fa fa-square-o icon-check-empty\", \"zoom\"], [\"\", \"\", \"\", \"\"], [\"Download\", \"Download plot\", \"fa fa-floppy-o icon-save\", \"download\"]];\n",
       "\n",
       "mpl.extensions = [\"eps\", \"pdf\", \"png\", \"ps\", \"raw\", \"svg\"];\n",
       "\n",
       "mpl.default_extension = \"png\";var comm_websocket_adapter = function(comm) {\n",
       "    // Create a \"websocket\"-like object which calls the given IPython comm\n",
       "    // object with the appropriate methods. Currently this is a non binary\n",
       "    // socket, so there is still some room for performance tuning.\n",
       "    var ws = {};\n",
       "\n",
       "    ws.close = function() {\n",
       "        comm.close()\n",
       "    };\n",
       "    ws.send = function(m) {\n",
       "        //console.log('sending', m);\n",
       "        comm.send(m);\n",
       "    };\n",
       "    // Register the callback with on_msg.\n",
       "    comm.on_msg(function(msg) {\n",
       "        //console.log('receiving', msg['content']['data'], msg);\n",
       "        // Pass the mpl event to the overriden (by mpl) onmessage function.\n",
       "        ws.onmessage(msg['content']['data'])\n",
       "    });\n",
       "    return ws;\n",
       "}\n",
       "\n",
       "mpl.mpl_figure_comm = function(comm, msg) {\n",
       "    // This is the function which gets called when the mpl process\n",
       "    // starts-up an IPython Comm through the \"matplotlib\" channel.\n",
       "\n",
       "    var id = msg.content.data.id;\n",
       "    // Get hold of the div created by the display call when the Comm\n",
       "    // socket was opened in Python.\n",
       "    var element = $(\"#\" + id);\n",
       "    var ws_proxy = comm_websocket_adapter(comm)\n",
       "\n",
       "    function ondownload(figure, format) {\n",
       "        window.open(figure.imageObj.src);\n",
       "    }\n",
       "\n",
       "    var fig = new mpl.figure(id, ws_proxy,\n",
       "                           ondownload,\n",
       "                           element.get(0));\n",
       "\n",
       "    // Call onopen now - mpl needs it, as it is assuming we've passed it a real\n",
       "    // web socket which is closed, not our websocket->open comm proxy.\n",
       "    ws_proxy.onopen();\n",
       "\n",
       "    fig.parent_element = element.get(0);\n",
       "    fig.cell_info = mpl.find_output_cell(\"<div id='\" + id + \"'></div>\");\n",
       "    if (!fig.cell_info) {\n",
       "        console.error(\"Failed to find cell for figure\", id, fig);\n",
       "        return;\n",
       "    }\n",
       "\n",
       "    var output_index = fig.cell_info[2]\n",
       "    var cell = fig.cell_info[0];\n",
       "\n",
       "};\n",
       "\n",
       "mpl.figure.prototype.handle_close = function(fig, msg) {\n",
       "    fig.root.unbind('remove')\n",
       "\n",
       "    // Update the output cell to use the data from the current canvas.\n",
       "    fig.push_to_output();\n",
       "    var dataURL = fig.canvas.toDataURL();\n",
       "    // Re-enable the keyboard manager in IPython - without this line, in FF,\n",
       "    // the notebook keyboard shortcuts fail.\n",
       "    IPython.keyboard_manager.enable()\n",
       "    $(fig.parent_element).html('<img src=\"' + dataURL + '\">');\n",
       "    fig.close_ws(fig, msg);\n",
       "}\n",
       "\n",
       "mpl.figure.prototype.close_ws = function(fig, msg){\n",
       "    fig.send_message('closing', msg);\n",
       "    // fig.ws.close()\n",
       "}\n",
       "\n",
       "mpl.figure.prototype.push_to_output = function(remove_interactive) {\n",
       "    // Turn the data on the canvas into data in the output cell.\n",
       "    var dataURL = this.canvas.toDataURL();\n",
       "    this.cell_info[1]['text/html'] = '<img src=\"' + dataURL + '\">';\n",
       "}\n",
       "\n",
       "mpl.figure.prototype.updated_canvas_event = function() {\n",
       "    // Tell IPython that the notebook contents must change.\n",
       "    IPython.notebook.set_dirty(true);\n",
       "    this.send_message(\"ack\", {});\n",
       "    var fig = this;\n",
       "    // Wait a second, then push the new image to the DOM so\n",
       "    // that it is saved nicely (might be nice to debounce this).\n",
       "    setTimeout(function () { fig.push_to_output() }, 1000);\n",
       "}\n",
       "\n",
       "mpl.figure.prototype._init_toolbar = function() {\n",
       "    var fig = this;\n",
       "\n",
       "    var nav_element = $('<div/>')\n",
       "    nav_element.attr('style', 'width: 100%');\n",
       "    this.root.append(nav_element);\n",
       "\n",
       "    // Define a callback function for later on.\n",
       "    function toolbar_event(event) {\n",
       "        return fig.toolbar_button_onclick(event['data']);\n",
       "    }\n",
       "    function toolbar_mouse_event(event) {\n",
       "        return fig.toolbar_button_onmouseover(event['data']);\n",
       "    }\n",
       "\n",
       "    for(var toolbar_ind in mpl.toolbar_items){\n",
       "        var name = mpl.toolbar_items[toolbar_ind][0];\n",
       "        var tooltip = mpl.toolbar_items[toolbar_ind][1];\n",
       "        var image = mpl.toolbar_items[toolbar_ind][2];\n",
       "        var method_name = mpl.toolbar_items[toolbar_ind][3];\n",
       "\n",
       "        if (!name) { continue; };\n",
       "\n",
       "        var button = $('<button class=\"btn btn-default\" href=\"#\" title=\"' + name + '\"><i class=\"fa ' + image + ' fa-lg\"></i></button>');\n",
       "        button.click(method_name, toolbar_event);\n",
       "        button.mouseover(tooltip, toolbar_mouse_event);\n",
       "        nav_element.append(button);\n",
       "    }\n",
       "\n",
       "    // Add the status bar.\n",
       "    var status_bar = $('<span class=\"mpl-message\" style=\"text-align:right; float: right;\"/>');\n",
       "    nav_element.append(status_bar);\n",
       "    this.message = status_bar[0];\n",
       "\n",
       "    // Add the close button to the window.\n",
       "    var buttongrp = $('<div class=\"btn-group inline pull-right\"></div>');\n",
       "    var button = $('<button class=\"btn btn-mini btn-primary\" href=\"#\" title=\"Stop Interaction\"><i class=\"fa fa-power-off icon-remove icon-large\"></i></button>');\n",
       "    button.click(function (evt) { fig.handle_close(fig, {}); } );\n",
       "    button.mouseover('Stop Interaction', toolbar_mouse_event);\n",
       "    buttongrp.append(button);\n",
       "    var titlebar = this.root.find($('.ui-dialog-titlebar'));\n",
       "    titlebar.prepend(buttongrp);\n",
       "}\n",
       "\n",
       "mpl.figure.prototype._root_extra_style = function(el){\n",
       "    var fig = this\n",
       "    el.on(\"remove\", function(){\n",
       "\tfig.close_ws(fig, {});\n",
       "    });\n",
       "}\n",
       "\n",
       "mpl.figure.prototype._canvas_extra_style = function(el){\n",
       "    // this is important to make the div 'focusable\n",
       "    el.attr('tabindex', 0)\n",
       "    // reach out to IPython and tell the keyboard manager to turn it's self\n",
       "    // off when our div gets focus\n",
       "\n",
       "    // location in version 3\n",
       "    if (IPython.notebook.keyboard_manager) {\n",
       "        IPython.notebook.keyboard_manager.register_events(el);\n",
       "    }\n",
       "    else {\n",
       "        // location in version 2\n",
       "        IPython.keyboard_manager.register_events(el);\n",
       "    }\n",
       "\n",
       "}\n",
       "\n",
       "mpl.figure.prototype._key_event_extra = function(event, name) {\n",
       "    var manager = IPython.notebook.keyboard_manager;\n",
       "    if (!manager)\n",
       "        manager = IPython.keyboard_manager;\n",
       "\n",
       "    // Check for shift+enter\n",
       "    if (event.shiftKey && event.which == 13) {\n",
       "        this.canvas_div.blur();\n",
       "        event.shiftKey = false;\n",
       "        // Send a \"J\" for go to next cell\n",
       "        event.which = 74;\n",
       "        event.keyCode = 74;\n",
       "        manager.command_mode();\n",
       "        manager.handle_keydown(event);\n",
       "    }\n",
       "}\n",
       "\n",
       "mpl.figure.prototype.handle_save = function(fig, msg) {\n",
       "    fig.ondownload(fig, null);\n",
       "}\n",
       "\n",
       "\n",
       "mpl.find_output_cell = function(html_output) {\n",
       "    // Return the cell and output element which can be found *uniquely* in the notebook.\n",
       "    // Note - this is a bit hacky, but it is done because the \"notebook_saving.Notebook\"\n",
       "    // IPython event is triggered only after the cells have been serialised, which for\n",
       "    // our purposes (turning an active figure into a static one), is too late.\n",
       "    var cells = IPython.notebook.get_cells();\n",
       "    var ncells = cells.length;\n",
       "    for (var i=0; i<ncells; i++) {\n",
       "        var cell = cells[i];\n",
       "        if (cell.cell_type === 'code'){\n",
       "            for (var j=0; j<cell.output_area.outputs.length; j++) {\n",
       "                var data = cell.output_area.outputs[j];\n",
       "                if (data.data) {\n",
       "                    // IPython >= 3 moved mimebundle to data attribute of output\n",
       "                    data = data.data;\n",
       "                }\n",
       "                if (data['text/html'] == html_output) {\n",
       "                    return [cell, data, j];\n",
       "                }\n",
       "            }\n",
       "        }\n",
       "    }\n",
       "}\n",
       "\n",
       "// Register the function which deals with the matplotlib target/channel.\n",
       "// The kernel may be null if the page has been refreshed.\n",
       "if (IPython.notebook.kernel != null) {\n",
       "    IPython.notebook.kernel.comm_manager.register_target('matplotlib', mpl.mpl_figure_comm);\n",
       "}\n"
      ],
      "text/plain": [
       "<IPython.core.display.Javascript object>"
      ]
     },
     "metadata": {},
     "output_type": "display_data"
    },
    {
     "data": {
      "text/html": [
       "<img src=\"data:image/png;base64,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\">"
      ],
      "text/plain": [
       "<IPython.core.display.HTML object>"
      ]
     },
     "metadata": {},
     "output_type": "display_data"
    },
    {
     "name": "stdout",
     "output_type": "stream",
     "text": [
      "Current size: [9.0, 5.0]\n"
     ]
    }
   ],
   "source": [
    "sumfig = plt.figure(\"Summary of Relations\")\n",
    "main.RelationSummary(sumfig)"
   ]
  }
 ],
 "metadata": {
  "hide_input": true,
  "kernelspec": {
   "display_name": "Python 3",
   "language": "python",
   "name": "python3"
  },
  "language_info": {
   "codemirror_mode": {
    "name": "ipython",
    "version": 3
   },
   "file_extension": ".py",
   "mimetype": "text/x-python",
   "name": "python",
   "nbconvert_exporter": "python",
   "pygments_lexer": "ipython3",
   "version": "3.5.2"
  },
  "widgets": {
   "state": {
    "0329433392ca4c19a068b6fb66925828": {
     "views": []
    },
    "033a224ed482469e96e881988076d7ad": {
     "views": []
    },
    "03512d14f339400988f523ea45f71d80": {
     "views": []
    },
    "04556d23d25d4f23bab65d1013413cc7": {
     "views": []
    },
    "04c233b8ee98438d81159d17ee629aea": {
     "views": []
    },
    "053bad4696a54e9ebcda7d40dc25fb77": {
     "views": []
    },
    "0562dea3350d4da2ac3b91fd38f60446": {
     "views": []
    },
    "058c63706dd9407f893085ad9d5167e8": {
     "views": []
    },
    "06dc4eec86174a008923de9b6053e793": {
     "views": []
    },
    "09b0dd8e397644f0b159ff8f4cd7584e": {
     "views": []
    },
    "0a46d2d2edd144cab43c5d87707fb831": {
     "views": []
    },
    "0aee6e83bec441b78029ca99bed928f6": {
     "views": []
    },
    "0c5d3460763b41b89856400cb852eea9": {
     "views": []
    },
    "0c8bc6a9362b4289a5471b817fbc959c": {
     "views": [
      {
       "cell_index": 9
      }
     ]
    },
    "0e7f3038177e4f9c94af10f1aa879e6d": {
     "views": []
    },
    "0ebb9127d7b14ef2911246f9dd979419": {
     "views": [
      {
       "cell_index": 9
      }
     ]
    },
    "0f0b43f8abfd484494d685094b7ac3e2": {
     "views": []
    },
    "10634e6dce8f44368715adab9b79fa8e": {
     "views": []
    },
    "112d70e2d2954b338fd8fbb9a7b1e966": {
     "views": []
    },
    "119e236e0e144493b242121bd84533a4": {
     "views": []
    },
    "1216a248547749e1b6ced4874250c3ba": {
     "views": []
    },
    "1533b82c1efd4f34ba1b1e03f192f032": {
     "views": []
    },
    "159ee632ac8b4f6ca09edb3cfe2bb267": {
     "views": []
    },
    "15d7c123b560408dbb83e6602aafb0cf": {
     "views": []
    },
    "1629567149b14a92a7196f6e41da3633": {
     "views": []
    },
    "165d7006a5c649238c70ab6e9fc8b371": {
     "views": []
    },
    "1a862c52749741079fc6de3cd3c87c50": {
     "views": []
    },
    "1b5ff644e1f648438642122856e87150": {
     "views": [
      {
       "cell_index": 9
      }
     ]
    },
    "1c2e818167624aac94e2e6241ad08f7c": {
     "views": []
    },
    "1eea4d516f5744b39389b4c4e4ac982d": {
     "views": []
    },
    "1f99e45e571648ffb12ec32a3c51f3aa": {
     "views": []
    },
    "2179826520c240d297dea3e9ce74f83d": {
     "views": []
    },
    "21b03b53f33f46138b2fd2886404b9c1": {
     "views": []
    },
    "21c8ce4237bb4949aeb2a34aa188fb3a": {
     "views": []
    },
    "223063638c8742fbb09884fb705c9d51": {
     "views": []
    },
    "24afa18df86f416799c8a058dc2f2f72": {
     "views": []
    },
    "24d467da5cf34bbb9eb9a7e41c6a401b": {
     "views": [
      {
       "cell_index": 9
      }
     ]
    },
    "2576e2bfc97948d0bcd2bb44910052af": {
     "views": []
    },
    "25dc5efeeaa24673976b2bec8f8594ad": {
     "views": []
    },
    "264f9a8ea779459e9c76f2a7e90739be": {
     "views": []
    },
    "265074b73832498186b1d728680e99a7": {
     "views": []
    },
    "27d1c4fbc6b344de8b683baa1c748f6c": {
     "views": []
    },
    "29285f0e818c448c8d326f2d314fa86f": {
     "views": []
    },
    "2943fa657a51434688b591de0f189906": {
     "views": []
    },
    "2adf899ca86f4234a757bed3cded759a": {
     "views": []
    },
    "2b2507af389240d3a5b0c2e2191f24a2": {
     "views": []
    },
    "2c7bd84a896743b29e2bee5136d9d695": {
     "views": []
    },
    "2cd309c9011e4093ba75cd1e39b39202": {
     "views": []
    },
    "2f0a38e34a2142df966e12ad1830d539": {
     "views": []
    },
    "2f0fd608cec940b4a0ab358f806281ba": {
     "views": []
    },
    "2f5f0527f53b46cfa5fbdeac28bd9258": {
     "views": []
    },
    "2f69a5a79cf548f7b874bcde955c64d8": {
     "views": []
    },
    "31bc684acf1e40acb0bf8f94c293548a": {
     "views": []
    },
    "31f81937fbd84dbbab245614631b1af3": {
     "views": []
    },
    "32dde13943dc41e693ff633ef3fcfcce": {
     "views": []
    },
    "32eab7aee90e400888c0e4202a883912": {
     "views": []
    },
    "336cab0983e3436c860998818a8794db": {
     "views": []
    },
    "337ad3960671452cb66a4ce24cfcd129": {
     "views": []
    },
    "35160eceb5214f079a6a8cee272f3dc7": {
     "views": []
    },
    "359883525be74752a085c5b6fae0d385": {
     "views": []
    },
    "368b8ca5d49d49c7948fa1f08beab58a": {
     "views": []
    },
    "36e5a575622b43259c471ac21c6f505d": {
     "views": []
    },
    "39a43cd89f4a4c859eba5c58d9fe4277": {
     "views": []
    },
    "3a65142e88ec4fabb8078ae60ae63682": {
     "views": []
    },
    "3a7fd988c1f84c6e9971a9acafaa41df": {
     "views": []
    },
    "3b4c662fd1b7407db523ff4bb53a5fd5": {
     "views": []
    },
    "3c657ae55d3a49fc9c800a7ff8bf7f1c": {
     "views": []
    },
    "3c9d8169b0a741d9ad6833349b7a9cf8": {
     "views": []
    },
    "4051bd866d794486bf280a91aa3b6ab1": {
     "views": []
    },
    "4068a772c149402fb742268ade95d7d0": {
     "views": []
    },
    "41d88e1e2b5a4eaba43666b4b7cc2899": {
     "views": []
    },
    "429f9b1367864df79b8c2b89989f9640": {
     "views": []
    },
    "430feb34faa5458fb569a21bc4891a16": {
     "views": []
    },
    "439d0effe8b64d05baa0c5c7cdced1f1": {
     "views": []
    },
    "43e23e64b67e4686b6b6b5e3959a5ed1": {
     "views": []
    },
    "446dce76766b435aa59f287522dcd97c": {
     "views": []
    },
    "44cdc04eb7654d8eaa60bb55683573c7": {
     "views": [
      {
       "cell_index": 9
      }
     ]
    },
    "4632068addf6471f842d8650d75c3694": {
     "views": []
    },
    "47d29a58154a427aac37203255ad0293": {
     "views": [
      {
       "cell_index": 9
      }
     ]
    },
    "4a0aa2d209824480a825784ba1e8063a": {
     "views": []
    },
    "4a6718afb10442ba901785b923b69f31": {
     "views": []
    },
    "4abfd2c6df0c431eaea3d1c38f1d9808": {
     "views": []
    },
    "4bc21c28c17549d098a430a1de22a076": {
     "views": []
    },
    "4c0cead68c5f44c2b4488d06e3f25ee0": {
     "views": []
    },
    "4c95b0dabd7444e3897d2205518a94b1": {
     "views": []
    },
    "4caeb44780ab49b9b4aaa0c4de0cea90": {
     "views": []
    },
    "4cb039e3d3234d1e895fb48b5bcb1794": {
     "views": []
    },
    "4d74ccba84ee4df8b4c803d6aa15fa82": {
     "views": []
    },
    "4e0e70d68a234561bdef5e7bd3db9fad": {
     "views": []
    },
    "507602bbb70a497a878c4998211ccbb5": {
     "views": []
    },
    "54067676ef4b4aa188f65e37932f7223": {
     "views": []
    },
    "555cde32515b4802831a486b2a67abb4": {
     "views": [
      {
       "cell_index": 9
      }
     ]
    },
    "56373f236f374e48b5d1e3020c2dcd1a": {
     "views": []
    },
    "572eb5a370ab472d96fef275ddb20a94": {
     "views": []
    },
    "57dc150b3cee40ddbd8950a200933bd3": {
     "views": []
    },
    "580700509f48443a900a640db4865cad": {
     "views": []
    },
    "594d7178cf6f4bb184c8610f7c8e5d28": {
     "views": [
      {
       "cell_index": 9
      }
     ]
    },
    "5adf9f3d340b43db8df9ee10e6812317": {
     "views": []
    },
    "5b2afaa833094585b17f891c4b48b782": {
     "views": []
    },
    "5da6f799f1ba4e7782d723b2bec48acf": {
     "views": []
    },
    "5da78be243e144a194e403fa1808f0a2": {
     "views": []
    },
    "5f2493b3374440f2a476eb2c4bb737a1": {
     "views": []
    },
    "5f9ff84eb42845eaa16a45e44be5a62f": {
     "views": []
    },
    "5fbfe2d233034f71be6dc60fc1df512c": {
     "views": []
    },
    "5fd698572e654c34b2264e3f63424ff4": {
     "views": []
    },
    "60d47977dbd043619cb1055c45f94b13": {
     "views": []
    },
    "631d4569639641e089c6a49a4e83d314": {
     "views": []
    },
    "6740c36393a24b6b88bfefff7764a205": {
     "views": []
    },
    "680ba9fb5fe347a6884c8cea60c86eb3": {
     "views": []
    },
    "68dea00656ef472fb545482e369822ba": {
     "views": []
    },
    "6a302ef3d0ef49d7a834b67dd5be8bc8": {
     "views": []
    },
    "6af6a35b19e8434d8fb9fa71e19331b6": {
     "views": []
    },
    "6c3b0e28cd45492290a1bf094547af83": {
     "views": []
    },
    "6c64f615886c41b8980dc3cb82164ee7": {
     "views": []
    },
    "6d5299abe1424579a449ee6c35fdba79": {
     "views": []
    },
    "6e45f3ca5bef43d1993595f47b0281d7": {
     "views": []
    },
    "6eca453dcb1b443e8bfe6efb3607518d": {
     "views": []
    },
    "6f599df6904b4d0fb8cecbe0c67a1181": {
     "views": [
      {
       "cell_index": 9
      }
     ]
    },
    "70a9e2c18f6b4d138a20cd9111c8e67e": {
     "views": []
    },
    "716628b0e08e47498ecfa2b41ef73d9b": {
     "views": []
    },
    "71bff4023ff7431ca48f89e95bd52709": {
     "views": []
    },
    "7490b28683f8460aa6c68c0f9e98c478": {
     "views": []
    },
    "74b0476c55094b848e929793b535b8cd": {
     "views": []
    },
    "7528f63edee746a9aaacc97045495f95": {
     "views": []
    },
    "7620ddda6271497a9e680092b7fad7aa": {
     "views": []
    },
    "76b56fff108242a1ba8d9f185e694dd8": {
     "views": []
    },
    "78a6d8bdf53e439b9328dcb12f83b3f3": {
     "views": []
    },
    "790a9107051b44daa67ca3f80e48802f": {
     "views": []
    },
    "791e485ed9374fc9a9099d612ad502cc": {
     "views": []
    },
    "7a7148dede494dc783aaf04a66ce8bf9": {
     "views": []
    },
    "7b6e4099beb84a6d86b1838b2c9e324e": {
     "views": []
    },
    "7c8e1fba3bd64198840c37187126bb3d": {
     "views": []
    },
    "7d01498766734ab0838682c9be5b4b9b": {
     "views": []
    },
    "7d19ff55216746a990462782734d1ffa": {
     "views": []
    },
    "7e9ab07ef46c48e4a8075e0b649c3d4d": {
     "views": []
    },
    "7ec05c7177d2425d808dd909ff5d83dc": {
     "views": []
    },
    "7f86ae71718340d0aa3a879267671f85": {
     "views": []
    },
    "7fa0d45381434f43a1c4a1c9aab8a5ea": {
     "views": []
    },
    "80a8eff3de4d47919fac66206e4630c0": {
     "views": []
    },
    "816d5447abb44686969a095069eaf031": {
     "views": []
    },
    "8493332b1302456ebc4b2223d63fc2a0": {
     "views": []
    },
    "8727ac7f461d42e993f00161b26e98f2": {
     "views": []
    },
    "873434bc410a41668a168f4e7c92cf8b": {
     "views": [
      {
       "cell_index": 9
      }
     ]
    },
    "884b5aea828f454b8c964adddeda8070": {
     "views": []
    },
    "887ba324e04243da99373ecab0a8a37b": {
     "views": []
    },
    "8a7d2e47fb0e490dae3a32778e4c564f": {
     "views": []
    },
    "8ac373a11cc544f99d8edb0503e4f43d": {
     "views": [
      {
       "cell_index": 12
      }
     ]
    },
    "8b8d84cf530b4e1597fb8edffa65e238": {
     "views": []
    },
    "8bc07ff7e6364b24a894ed874de51bfc": {
     "views": []
    },
    "8bfcd13bc44a4986be24549f207207a4": {
     "views": []
    },
    "8c558902c7a643bd8541f267c6f275aa": {
     "views": []
    },
    "8c5c69245e114fb18e24867813f11675": {
     "views": []
    },
    "8da62107f57b4ee1bae8f845b3f1c68b": {
     "views": []
    },
    "8f9698775dde4adeaba6509f16dcefb4": {
     "views": []
    },
    "9002a06432e04a9186feec1fbe95b4c5": {
     "views": [
      {
       "cell_index": 6
      }
     ]
    },
    "9228599c81744b038bacb4a7747c1ce6": {
     "views": []
    },
    "928ef87281be459d9d06c976aa6191dd": {
     "views": []
    },
    "92d6b2625ee7460c92837a57f1bc4640": {
     "views": []
    },
    "96ecb0ca83994b808c21a220f6bcd614": {
     "views": []
    },
    "9792d58c16164c22b58e21404b68916c": {
     "views": []
    },
    "97ec21b5b665436db1fd65ca9092f613": {
     "views": []
    },
    "991e990a8ebb48f99f4f016e2c57d4d2": {
     "views": []
    },
    "994225054b4a4c77b8bb3ff42a912c02": {
     "views": []
    },
    "99cedf671c1947df985bba93cd1615a9": {
     "views": []
    },
    "9a36ee2631324015b431d36f1b8e2ef7": {
     "views": []
    },
    "9ab59226012846fc9d856147b3072937": {
     "views": []
    },
    "9b69982ea519477e975f194df96e7b16": {
     "views": [
      {
       "cell_index": 9
      }
     ]
    },
    "9c283c37e4314a85bddd1091ee10e7ea": {
     "views": []
    },
    "9c2fbddc6fdf44499ffb7023248f9665": {
     "views": []
    },
    "9ce705b0e084452983068d999b14bceb": {
     "views": []
    },
    "9da066e76f3e462e8fcf81458adbdef9": {
     "views": [
      {
       "cell_index": 9
      }
     ]
    },
    "9ede5a8ca0834212b555a0dc0245d4ec": {
     "views": []
    },
    "9eff64c6a9b44ff4b7bc764a4289dfc4": {
     "views": []
    },
    "a004a87cf6dd4abb92a1e12b976995a5": {
     "views": []
    },
    "a265db612e244d95b98ca7d0275f218b": {
     "views": []
    },
    "a28d3dbad3434e16b3311198fb1cb5c6": {
     "views": [
      {
       "cell_index": 9
      }
     ]
    },
    "a3712d298104407196846de3dda08522": {
     "views": []
    },
    "a393874fbcfa4a9aa8c31f43bbce8e41": {
     "views": []
    },
    "a3d2311230a44711b54f8fea124bdf73": {
     "views": []
    },
    "a3e7457a067146d28beb7bd25d4e24d1": {
     "views": []
    },
    "a4716b89270e4e4295fcd1860dbd0872": {
     "views": []
    },
    "a4a7963829d24f31bd26bbfac49dc9dd": {
     "views": []
    },
    "a4df6376654a4a338da3994796982549": {
     "views": []
    },
    "a56deecd915d489a9c5673acd4b59034": {
     "views": []
    },
    "a622e95a3ba146c1944d2b91703107ec": {
     "views": []
    },
    "a6ccedfad6bb4bfaab9aa976b8498cef": {
     "views": []
    },
    "a73e01609f89481085b3b3592f9d4205": {
     "views": []
    },
    "a751823fc9cf4b4ab4f8c16cda557079": {
     "views": []
    },
    "a84456b91e0f40488765a40cb7c234ce": {
     "views": []
    },
    "a896062553814c07909be6ce06356395": {
     "views": []
    },
    "aa6e10416d9d49579294d8f04ec3f0ce": {
     "views": []
    },
    "aace8d42f159478dabe31108d702c4b4": {
     "views": []
    },
    "ac0c0374e4f74e48ac158014e005deec": {
     "views": []
    },
    "ac8467fa784e4891b180eb3ed88e441f": {
     "views": []
    },
    "ac900a03225946c0881894c14bd2c50c": {
     "views": []
    },
    "ad1d81afc2fe42edbab7e525d36e033a": {
     "views": []
    },
    "ae08e3f993454be9926914a39437ea44": {
     "views": []
    },
    "aec217e9ad1d43918414f2c47729dc30": {
     "views": []
    },
    "aee47009bb964bb8b7fb4f2da7a440d3": {
     "views": []
    },
    "aee957ef81f84a909b816b72ab543937": {
     "views": []
    },
    "af167c2c7e1e49acab00bbc2723dd8d4": {
     "views": []
    },
    "afb501db9ec14738b42f30c8d2057f7a": {
     "views": [
      {
       "cell_index": 9
      }
     ]
    },
    "b00e6cab4fd842b085469bc73abf1419": {
     "views": []
    },
    "b097bb5a902a4a7593ad2778b28ddee2": {
     "views": []
    },
    "b0cc08e1d9bb4d15a87742d747dec9a6": {
     "views": []
    },
    "b24c2cb8d7404293b070e6b03c6eb18d": {
     "views": []
    },
    "b25e3609db9e492c97f20193c4f458a6": {
     "views": []
    },
    "b4806858343b48098b2ecdcd84409f3b": {
     "views": []
    },
    "b9658f3daffb4b81bd17e2ef3b19ae8c": {
     "views": []
    },
    "b98805200db94ac8997c79c2c71cd354": {
     "views": []
    },
    "ba2c1c04146b4a50ba6a880923abb873": {
     "views": []
    },
    "bb07097e2e3444898ce7edd277f9e810": {
     "views": []
    },
    "bb53603ffbe6491cad5cb1afff3d5017": {
     "views": []
    },
    "bbb2a0e686794f7bb57ca0e7a9c31957": {
     "views": [
      {
       "cell_index": 4
      }
     ]
    },
    "bf897dddff6045b1a678ed5c3ed7ffae": {
     "views": []
    },
    "bfc4f272782c45bcaa97e645c8832e97": {
     "views": []
    },
    "c055915673fb41908759d19b676d7bf6": {
     "views": []
    },
    "c1713807f03d4350a53b379dcd6b96cc": {
     "views": []
    },
    "c4c38b0e9ba04103a201dd7820658b61": {
     "views": []
    },
    "c5b27869039f4321b8e46451830eb021": {
     "views": []
    },
    "c95793874afb4463a2f281688881b7ce": {
     "views": []
    },
    "c96f4721862d46bd93e6d7bf6c3deeec": {
     "views": []
    },
    "c9b757d146a6443d91e541fdb01a9f57": {
     "views": []
    },
    "ca06de7b65ec421b91b33b6c3d9682eb": {
     "views": []
    },
    "ca3e8fe7206344a49d7d252bcdd8547f": {
     "views": []
    },
    "ccbe3746b0104722b8f6898314c3a890": {
     "views": []
    },
    "cded19efebe6493697893d74ce065d4d": {
     "views": []
    },
    "cf3a0f092c7b437f88a33e4d27db4f6e": {
     "views": []
    },
    "cf72321f457b4816ab8919f32707b868": {
     "views": []
    },
    "cf83ed6d1fc44a3c8b81d097960782ac": {
     "views": []
    },
    "cf95346d3895487c870a5b9415885c08": {
     "views": []
    },
    "d01c088c334f4b7eb3045ad7bf44e6bf": {
     "views": []
    },
    "d1bf71043d2c47568ffefc3148cb21fe": {
     "views": []
    },
    "d1d1b15d409c45389283d83140aa233e": {
     "views": []
    },
    "d28eb8e54016484ab695b6abe4219116": {
     "views": []
    },
    "d57e65f3f280451884b49342673b3856": {
     "views": []
    },
    "d61fd9adc2d7446fb3a1e7100edc0fb3": {
     "views": []
    },
    "d7de518af6284a238729b52f424fdc38": {
     "views": [
      {
       "cell_index": 9
      }
     ]
    },
    "d8bcefd4d3e9495ca54c080269c8fca7": {
     "views": []
    },
    "d8d1c2cb0509408998189cc59341bf0c": {
     "views": []
    },
    "d91ced68efeb41878fa8de6341c422f0": {
     "views": [
      {
       "cell_index": 3
      }
     ]
    },
    "d93292e2ac8c4b8b9d32c363a5b17f51": {
     "views": []
    },
    "db64d1598e00448f840d79ef465185c8": {
     "views": []
    },
    "dbbb5e7d82104f2bba12a9836cdcf366": {
     "views": []
    },
    "ddce1a74b8b943c5ab74c5fa1f566230": {
     "views": []
    },
    "de4cea0105914ae99e8d30b24ba872d3": {
     "views": []
    },
    "e26c42605b774251afc694ca283daf8b": {
     "views": []
    },
    "e29fa17ac1b247c1bc2ecbb71b8c4157": {
     "views": []
    },
    "e383fef2487040bda27203931a91b4ca": {
     "views": []
    },
    "e42d619a0ee64f6f974285b9646f637f": {
     "views": []
    },
    "e5096892a2a04938b923ca46cd0ea61e": {
     "views": []
    },
    "e510056f49f14d089b7f4c0f1e568e6b": {
     "views": []
    },
    "e84fe68607624b36984fe66db83ab6b1": {
     "views": []
    },
    "e87c4280d9ae408697b915a03bfa9290": {
     "views": []
    },
    "e959b94b887b47aab50ffc14434a4e38": {
     "views": []
    },
    "e95f4805b2654cea9ae441cf3ecc9217": {
     "views": []
    },
    "e9c33221b675443bb2509e349f70cb30": {
     "views": []
    },
    "e9d82aaef9e9481ba35cf757d6f63950": {
     "views": []
    },
    "ebf4613185dd4e66b0a5f069fac9358c": {
     "views": []
    },
    "ebf8dc1c95634550907d36adc3639a9f": {
     "views": []
    },
    "ec34457321074fa495689c3081283234": {
     "views": []
    },
    "ecadeb01097a4585b91fdff231cfcf8c": {
     "views": []
    },
    "ecbead608d064c06a3da8d51e36d2952": {
     "views": [
      {
       "cell_index": 9
      }
     ]
    },
    "ed52328da84c464aa5a6c709aa68abf7": {
     "views": []
    },
    "efd0faac02a74f3991b10a9895b6f463": {
     "views": []
    },
    "eff8035d6ac54425a9909ea3b964d34a": {
     "views": []
    },
    "f1287d06d2f644f6a2de3ff3eaf9e763": {
     "views": []
    },
    "f1556233bcde42019bb630bab5bf8fec": {
     "views": []
    },
    "f191f15da7c54df1ac9fe49fa584c0e1": {
     "views": []
    },
    "f1c64e46d5234dd2b418eca597c884ec": {
     "views": []
    },
    "f2105c5f0f4145c9b425df4d30b1c45f": {
     "views": []
    },
    "f2923dbeea0b476bb9c1ecc46aeb94c8": {
     "views": []
    },
    "f2cd970f26094872833f51a6d10e62b7": {
     "views": []
    },
    "f31a74a952ca40aeb0c201e23b2bb574": {
     "views": []
    },
    "f3fb16f75d244ee49a56164a07777796": {
     "views": []
    },
    "f46143a6adbf4df388ec4333441a1544": {
     "views": []
    },
    "f5613a5a4de84394956762588982af50": {
     "views": []
    },
    "f5b2989cffe8437d96996cb18a44ccc8": {
     "views": []
    },
    "f60a8e4bc1a34b998c79fb9603a83322": {
     "views": []
    },
    "f6182f7a6a9142a1b0ce3df39458f1cd": {
     "views": []
    },
    "f634ed65817f467a9ac8865cdaa0cb59": {
     "views": []
    },
    "f7577e190d814fcfbb1c2546df746963": {
     "views": []
    },
    "f75f8fb7246c4a6b9a9e05a3a2a0a201": {
     "views": []
    },
    "f83b090922ef4e0ba79b17dc17bf636c": {
     "views": []
    },
    "f8993acdf121438483885d602293cfba": {
     "views": []
    },
    "fad5614c7fa64a4db6de0708e0fe09a3": {
     "views": []
    },
    "fc8c5eabc17040caa81862ba79bb4261": {
     "views": []
    },
    "fd379479703c43668d9bd16f9176a6b0": {
     "views": []
    },
    "ffb6627b751c4ac1bddaac470b5380ea": {
     "views": []
    },
    "fff611554a444075a5bca031c49d1c3b": {
     "views": []
    }
   },
   "version": "1.1.2"
  }
 },
 "nbformat": 4,
 "nbformat_minor": 0
}
